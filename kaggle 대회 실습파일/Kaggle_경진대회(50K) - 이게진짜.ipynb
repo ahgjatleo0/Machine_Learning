{
 "cells": [
  {
   "cell_type": "code",
   "execution_count": 1,
   "id": "c712b9b5",
   "metadata": {
    "ExecuteTime": {
     "end_time": "2023-05-31T07:47:37.047758Z",
     "start_time": "2023-05-31T07:47:37.037778Z"
    }
   },
   "outputs": [],
   "source": [
    "import warnings\n",
    "warnings.filterwarnings('ignore')"
   ]
  },
  {
   "cell_type": "code",
   "execution_count": 16,
   "id": "ceba8328",
   "metadata": {
    "ExecuteTime": {
     "end_time": "2023-05-31T19:38:07.387223Z",
     "start_time": "2023-05-31T19:38:07.283337Z"
    }
   },
   "outputs": [],
   "source": [
    "import pandas as pd\n",
    "import numpy as np\n",
    "# train 변수 : 문제 가져오기\n",
    "train = pd.read_csv('data/kaggle/train.csv')\n",
    "# test 변수 : 정답 가져오기\n",
    "test = pd.read_csv('data/kaggle/test.csv')\n"
   ]
  },
  {
   "cell_type": "code",
   "execution_count": 17,
   "id": "0a7cf582",
   "metadata": {
    "ExecuteTime": {
     "end_time": "2023-05-31T19:38:08.096836Z",
     "start_time": "2023-05-31T19:38:08.081785Z"
    }
   },
   "outputs": [],
   "source": [
    "# 필요없는 컬럼 drop\n",
    "train = train.drop(['no','fnlwgt','capital-gain', 'capital-loss', 'education-num', 'income'],axis=1)\n",
    "test = test.drop(['no','fnlwgt','capital-gain', 'capital-loss', 'education-num'],axis=1)\n"
   ]
  },
  {
   "cell_type": "code",
   "execution_count": 18,
   "id": "0ea34883",
   "metadata": {
    "ExecuteTime": {
     "end_time": "2023-05-31T19:38:08.868133Z",
     "start_time": "2023-05-31T19:38:08.818253Z"
    }
   },
   "outputs": [
    {
     "name": "stdout",
     "output_type": "stream",
     "text": [
      "<class 'pandas.core.frame.DataFrame'>\n",
      "RangeIndex: 29305 entries, 0 to 29304\n",
      "Data columns (total 10 columns):\n",
      " #   Column          Non-Null Count  Dtype \n",
      "---  ------          --------------  ----- \n",
      " 0   age             29305 non-null  int64 \n",
      " 1   workclass       29305 non-null  object\n",
      " 2   education       29305 non-null  object\n",
      " 3   marital-status  29305 non-null  object\n",
      " 4   occupation      29305 non-null  object\n",
      " 5   relationship    29305 non-null  object\n",
      " 6   race            29305 non-null  object\n",
      " 7   sex             29305 non-null  object\n",
      " 8   hours-per-week  29305 non-null  int64 \n",
      " 9   native-country  29305 non-null  object\n",
      "dtypes: int64(2), object(8)\n",
      "memory usage: 2.2+ MB\n"
     ]
    }
   ],
   "source": [
    "train.info()"
   ]
  },
  {
   "cell_type": "code",
   "execution_count": 4,
   "id": "bd6ad499",
   "metadata": {
    "ExecuteTime": {
     "end_time": "2023-05-31T07:47:37.725992Z",
     "start_time": "2023-05-31T07:47:37.713002Z"
    }
   },
   "outputs": [],
   "source": [
    "# 전처리 되기 이전의 feature들 (전처리 되기전 문제들)\n",
    "features_raw = data_train.drop('income', axis = 1)\n",
    "\n",
    "skewed = ['capital-gain', 'capital-loss']\n",
    "features_log_transformed = pd.DataFrame(data = features_raw)\n",
    "features_log_transformed[skewed] = features_raw[skewed].apply(lambda x: np.log(x + 1))"
   ]
  },
  {
   "cell_type": "code",
   "execution_count": 5,
   "id": "74e4b709",
   "metadata": {
    "ExecuteTime": {
     "end_time": "2023-05-31T07:47:38.437781Z",
     "start_time": "2023-05-31T07:47:37.728001Z"
    }
   },
   "outputs": [],
   "source": [
    "# min max 스케일러를 이용하여 특징 벡터 (문제들) 스케일링 (최소 최대 정규화)\n",
    "from sklearn.preprocessing import MinMaxScaler\n",
    "\n",
    "scaler = MinMaxScaler() \n",
    "numerical = ['age', 'education-num', 'capital-gain', 'capital-loss', 'hours-per-week']\n",
    "\n",
    "features_log_minmax_transform = pd.DataFrame(data = features_log_transformed)\n",
    "features_log_minmax_transform[numerical] = scaler.fit_transform(features_log_transformed[numerical])"
   ]
  },
  {
   "cell_type": "code",
   "execution_count": 6,
   "id": "636215bd",
   "metadata": {
    "ExecuteTime": {
     "end_time": "2023-05-31T07:47:38.453666Z",
     "start_time": "2023-05-31T07:47:38.439741Z"
    }
   },
   "outputs": [],
   "source": [
    "\n",
    "# 자산이득액 에서 자산손해액을 뺴서 순이익을 구하기\n",
    "data_train['total_cap'] = data_train['capital-gain'] - data_train['capital-loss']\n",
    "data_test['total_cap'] = data_test['capital-gain'] - data_test['capital-loss']\n",
    "\n",
    "#  순이익 계산후 필요없어진 컬럼 삭제\n",
    "data_train = data_train.drop(['capital-gain','capital-loss'],axis=1)\n",
    "data_test = data_test.drop(['capital-gain','capital-loss'],axis=1)"
   ]
  },
  {
   "cell_type": "code",
   "execution_count": 7,
   "id": "9a6ef5a9",
   "metadata": {
    "ExecuteTime": {
     "end_time": "2023-05-31T07:47:38.516056Z",
     "start_time": "2023-05-31T07:47:38.455695Z"
    }
   },
   "outputs": [],
   "source": [
    "# 정답 데이터 분리\n",
    "y_train = data_train['income']\n",
    "data_train.drop('income',axis=1,inplace=True)\n",
    "#원 핫 인코딩  == object타입 정수형데이터로 변경\n",
    "OH = ['workclass','marital-status','relationship','race','sex']\n",
    "\n",
    "X_train = pd.get_dummies(data_train)\n",
    "X_test = pd.get_dummies(data_test)"
   ]
  },
  {
   "cell_type": "code",
   "execution_count": 8,
   "id": "0b51a465",
   "metadata": {
    "ExecuteTime": {
     "end_time": "2023-05-31T07:47:39.990437Z",
     "start_time": "2023-05-31T07:47:38.518022Z"
    }
   },
   "outputs": [],
   "source": [
    "# lgb 모델 사용하여 예측\n",
    "from lightgbm import LGBMClassifier\n",
    "\n",
    "lgb = LGBMClassifier(random_state=200, n_jobs=-1, reg_alpha=0.9, reg_lambda=0.2, n_estimators=200)\n",
    "\n",
    "# lgb 모델 훈련\n",
    "lgb.fit(X_train, y_train)\n",
    "\n",
    "# 훈련한 lgb 모델로 예측한 결과\n",
    "y_pred = lgb.predict(X_test)\n",
    "\n",
    "rs =  pd.read_csv('./data/kaggle/sample_submission.csv')\n",
    "rs['income'] = y_pred\n",
    "rs.to_csv('50K_01.csv', index=False)\n"
   ]
  },
  {
   "cell_type": "code",
   "execution_count": 9,
   "id": "288c24fa",
   "metadata": {
    "ExecuteTime": {
     "end_time": "2023-05-31T07:47:40.054267Z",
     "start_time": "2023-05-31T07:47:39.992432Z"
    }
   },
   "outputs": [
    {
     "data": {
      "text/html": [
       "<div>\n",
       "<style scoped>\n",
       "    .dataframe tbody tr th:only-of-type {\n",
       "        vertical-align: middle;\n",
       "    }\n",
       "\n",
       "    .dataframe tbody tr th {\n",
       "        vertical-align: top;\n",
       "    }\n",
       "\n",
       "    .dataframe thead th {\n",
       "        text-align: right;\n",
       "    }\n",
       "</style>\n",
       "<table border=\"1\" class=\"dataframe\">\n",
       "  <thead>\n",
       "    <tr style=\"text-align: right;\">\n",
       "      <th></th>\n",
       "      <th>age</th>\n",
       "      <th>education-num</th>\n",
       "      <th>hours-per-week</th>\n",
       "      <th>total_cap</th>\n",
       "      <th>workclass_ ?</th>\n",
       "      <th>workclass_ Federal-gov</th>\n",
       "      <th>workclass_ Local-gov</th>\n",
       "      <th>workclass_ Never-worked</th>\n",
       "      <th>workclass_ Private</th>\n",
       "      <th>workclass_ Self-emp-inc</th>\n",
       "      <th>...</th>\n",
       "      <th>relationship_ Own-child</th>\n",
       "      <th>relationship_ Unmarried</th>\n",
       "      <th>relationship_ Wife</th>\n",
       "      <th>race_ Amer-Indian-Eskimo</th>\n",
       "      <th>race_ Asian-Pac-Islander</th>\n",
       "      <th>race_ Black</th>\n",
       "      <th>race_ Other</th>\n",
       "      <th>race_ White</th>\n",
       "      <th>sex_ Female</th>\n",
       "      <th>sex_ Male</th>\n",
       "    </tr>\n",
       "  </thead>\n",
       "  <tbody>\n",
       "    <tr>\n",
       "      <th>0</th>\n",
       "      <td>25</td>\n",
       "      <td>7</td>\n",
       "      <td>40</td>\n",
       "      <td>0</td>\n",
       "      <td>0</td>\n",
       "      <td>0</td>\n",
       "      <td>0</td>\n",
       "      <td>0</td>\n",
       "      <td>1</td>\n",
       "      <td>0</td>\n",
       "      <td>...</td>\n",
       "      <td>0</td>\n",
       "      <td>0</td>\n",
       "      <td>0</td>\n",
       "      <td>0</td>\n",
       "      <td>0</td>\n",
       "      <td>0</td>\n",
       "      <td>0</td>\n",
       "      <td>1</td>\n",
       "      <td>0</td>\n",
       "      <td>1</td>\n",
       "    </tr>\n",
       "    <tr>\n",
       "      <th>1</th>\n",
       "      <td>39</td>\n",
       "      <td>10</td>\n",
       "      <td>55</td>\n",
       "      <td>-1721</td>\n",
       "      <td>0</td>\n",
       "      <td>0</td>\n",
       "      <td>0</td>\n",
       "      <td>0</td>\n",
       "      <td>1</td>\n",
       "      <td>0</td>\n",
       "      <td>...</td>\n",
       "      <td>0</td>\n",
       "      <td>0</td>\n",
       "      <td>0</td>\n",
       "      <td>0</td>\n",
       "      <td>0</td>\n",
       "      <td>0</td>\n",
       "      <td>0</td>\n",
       "      <td>1</td>\n",
       "      <td>1</td>\n",
       "      <td>0</td>\n",
       "    </tr>\n",
       "    <tr>\n",
       "      <th>2</th>\n",
       "      <td>35</td>\n",
       "      <td>13</td>\n",
       "      <td>50</td>\n",
       "      <td>0</td>\n",
       "      <td>0</td>\n",
       "      <td>0</td>\n",
       "      <td>0</td>\n",
       "      <td>0</td>\n",
       "      <td>1</td>\n",
       "      <td>0</td>\n",
       "      <td>...</td>\n",
       "      <td>0</td>\n",
       "      <td>0</td>\n",
       "      <td>0</td>\n",
       "      <td>0</td>\n",
       "      <td>1</td>\n",
       "      <td>0</td>\n",
       "      <td>0</td>\n",
       "      <td>0</td>\n",
       "      <td>1</td>\n",
       "      <td>0</td>\n",
       "    </tr>\n",
       "    <tr>\n",
       "      <th>3</th>\n",
       "      <td>64</td>\n",
       "      <td>11</td>\n",
       "      <td>40</td>\n",
       "      <td>0</td>\n",
       "      <td>0</td>\n",
       "      <td>0</td>\n",
       "      <td>0</td>\n",
       "      <td>0</td>\n",
       "      <td>1</td>\n",
       "      <td>0</td>\n",
       "      <td>...</td>\n",
       "      <td>0</td>\n",
       "      <td>0</td>\n",
       "      <td>0</td>\n",
       "      <td>0</td>\n",
       "      <td>0</td>\n",
       "      <td>0</td>\n",
       "      <td>0</td>\n",
       "      <td>1</td>\n",
       "      <td>1</td>\n",
       "      <td>0</td>\n",
       "    </tr>\n",
       "    <tr>\n",
       "      <th>4</th>\n",
       "      <td>24</td>\n",
       "      <td>10</td>\n",
       "      <td>70</td>\n",
       "      <td>0</td>\n",
       "      <td>0</td>\n",
       "      <td>0</td>\n",
       "      <td>0</td>\n",
       "      <td>0</td>\n",
       "      <td>1</td>\n",
       "      <td>0</td>\n",
       "      <td>...</td>\n",
       "      <td>0</td>\n",
       "      <td>0</td>\n",
       "      <td>0</td>\n",
       "      <td>0</td>\n",
       "      <td>0</td>\n",
       "      <td>0</td>\n",
       "      <td>0</td>\n",
       "      <td>1</td>\n",
       "      <td>0</td>\n",
       "      <td>1</td>\n",
       "    </tr>\n",
       "    <tr>\n",
       "      <th>...</th>\n",
       "      <td>...</td>\n",
       "      <td>...</td>\n",
       "      <td>...</td>\n",
       "      <td>...</td>\n",
       "      <td>...</td>\n",
       "      <td>...</td>\n",
       "      <td>...</td>\n",
       "      <td>...</td>\n",
       "      <td>...</td>\n",
       "      <td>...</td>\n",
       "      <td>...</td>\n",
       "      <td>...</td>\n",
       "      <td>...</td>\n",
       "      <td>...</td>\n",
       "      <td>...</td>\n",
       "      <td>...</td>\n",
       "      <td>...</td>\n",
       "      <td>...</td>\n",
       "      <td>...</td>\n",
       "      <td>...</td>\n",
       "      <td>...</td>\n",
       "    </tr>\n",
       "    <tr>\n",
       "      <th>19532</th>\n",
       "      <td>45</td>\n",
       "      <td>9</td>\n",
       "      <td>60</td>\n",
       "      <td>0</td>\n",
       "      <td>0</td>\n",
       "      <td>0</td>\n",
       "      <td>0</td>\n",
       "      <td>0</td>\n",
       "      <td>0</td>\n",
       "      <td>0</td>\n",
       "      <td>...</td>\n",
       "      <td>0</td>\n",
       "      <td>0</td>\n",
       "      <td>0</td>\n",
       "      <td>0</td>\n",
       "      <td>0</td>\n",
       "      <td>0</td>\n",
       "      <td>0</td>\n",
       "      <td>1</td>\n",
       "      <td>0</td>\n",
       "      <td>1</td>\n",
       "    </tr>\n",
       "    <tr>\n",
       "      <th>19533</th>\n",
       "      <td>48</td>\n",
       "      <td>9</td>\n",
       "      <td>50</td>\n",
       "      <td>0</td>\n",
       "      <td>0</td>\n",
       "      <td>0</td>\n",
       "      <td>0</td>\n",
       "      <td>0</td>\n",
       "      <td>1</td>\n",
       "      <td>0</td>\n",
       "      <td>...</td>\n",
       "      <td>0</td>\n",
       "      <td>0</td>\n",
       "      <td>0</td>\n",
       "      <td>0</td>\n",
       "      <td>0</td>\n",
       "      <td>0</td>\n",
       "      <td>0</td>\n",
       "      <td>1</td>\n",
       "      <td>1</td>\n",
       "      <td>0</td>\n",
       "    </tr>\n",
       "    <tr>\n",
       "      <th>19534</th>\n",
       "      <td>63</td>\n",
       "      <td>10</td>\n",
       "      <td>40</td>\n",
       "      <td>4386</td>\n",
       "      <td>0</td>\n",
       "      <td>0</td>\n",
       "      <td>0</td>\n",
       "      <td>0</td>\n",
       "      <td>1</td>\n",
       "      <td>0</td>\n",
       "      <td>...</td>\n",
       "      <td>0</td>\n",
       "      <td>0</td>\n",
       "      <td>0</td>\n",
       "      <td>0</td>\n",
       "      <td>0</td>\n",
       "      <td>0</td>\n",
       "      <td>0</td>\n",
       "      <td>1</td>\n",
       "      <td>0</td>\n",
       "      <td>1</td>\n",
       "    </tr>\n",
       "    <tr>\n",
       "      <th>19535</th>\n",
       "      <td>18</td>\n",
       "      <td>7</td>\n",
       "      <td>20</td>\n",
       "      <td>0</td>\n",
       "      <td>0</td>\n",
       "      <td>0</td>\n",
       "      <td>0</td>\n",
       "      <td>0</td>\n",
       "      <td>1</td>\n",
       "      <td>0</td>\n",
       "      <td>...</td>\n",
       "      <td>1</td>\n",
       "      <td>0</td>\n",
       "      <td>0</td>\n",
       "      <td>0</td>\n",
       "      <td>0</td>\n",
       "      <td>0</td>\n",
       "      <td>0</td>\n",
       "      <td>1</td>\n",
       "      <td>1</td>\n",
       "      <td>0</td>\n",
       "    </tr>\n",
       "    <tr>\n",
       "      <th>19536</th>\n",
       "      <td>31</td>\n",
       "      <td>12</td>\n",
       "      <td>46</td>\n",
       "      <td>0</td>\n",
       "      <td>0</td>\n",
       "      <td>0</td>\n",
       "      <td>0</td>\n",
       "      <td>0</td>\n",
       "      <td>1</td>\n",
       "      <td>0</td>\n",
       "      <td>...</td>\n",
       "      <td>0</td>\n",
       "      <td>0</td>\n",
       "      <td>0</td>\n",
       "      <td>0</td>\n",
       "      <td>0</td>\n",
       "      <td>1</td>\n",
       "      <td>0</td>\n",
       "      <td>0</td>\n",
       "      <td>0</td>\n",
       "      <td>1</td>\n",
       "    </tr>\n",
       "  </tbody>\n",
       "</table>\n",
       "<p>48842 rows × 64 columns</p>\n",
       "</div>"
      ],
      "text/plain": [
       "       age  education-num  hours-per-week  total_cap  workclass_ ?  \\\n",
       "0       25              7              40          0             0   \n",
       "1       39             10              55      -1721             0   \n",
       "2       35             13              50          0             0   \n",
       "3       64             11              40          0             0   \n",
       "4       24             10              70          0             0   \n",
       "...    ...            ...             ...        ...           ...   \n",
       "19532   45              9              60          0             0   \n",
       "19533   48              9              50          0             0   \n",
       "19534   63             10              40       4386             0   \n",
       "19535   18              7              20          0             0   \n",
       "19536   31             12              46          0             0   \n",
       "\n",
       "       workclass_ Federal-gov  workclass_ Local-gov  workclass_ Never-worked  \\\n",
       "0                           0                     0                        0   \n",
       "1                           0                     0                        0   \n",
       "2                           0                     0                        0   \n",
       "3                           0                     0                        0   \n",
       "4                           0                     0                        0   \n",
       "...                       ...                   ...                      ...   \n",
       "19532                       0                     0                        0   \n",
       "19533                       0                     0                        0   \n",
       "19534                       0                     0                        0   \n",
       "19535                       0                     0                        0   \n",
       "19536                       0                     0                        0   \n",
       "\n",
       "       workclass_ Private  workclass_ Self-emp-inc  ...  \\\n",
       "0                       1                        0  ...   \n",
       "1                       1                        0  ...   \n",
       "2                       1                        0  ...   \n",
       "3                       1                        0  ...   \n",
       "4                       1                        0  ...   \n",
       "...                   ...                      ...  ...   \n",
       "19532                   0                        0  ...   \n",
       "19533                   1                        0  ...   \n",
       "19534                   1                        0  ...   \n",
       "19535                   1                        0  ...   \n",
       "19536                   1                        0  ...   \n",
       "\n",
       "       relationship_ Own-child  relationship_ Unmarried  relationship_ Wife  \\\n",
       "0                            0                        0                   0   \n",
       "1                            0                        0                   0   \n",
       "2                            0                        0                   0   \n",
       "3                            0                        0                   0   \n",
       "4                            0                        0                   0   \n",
       "...                        ...                      ...                 ...   \n",
       "19532                        0                        0                   0   \n",
       "19533                        0                        0                   0   \n",
       "19534                        0                        0                   0   \n",
       "19535                        1                        0                   0   \n",
       "19536                        0                        0                   0   \n",
       "\n",
       "       race_ Amer-Indian-Eskimo  race_ Asian-Pac-Islander  race_ Black  \\\n",
       "0                             0                         0            0   \n",
       "1                             0                         0            0   \n",
       "2                             0                         1            0   \n",
       "3                             0                         0            0   \n",
       "4                             0                         0            0   \n",
       "...                         ...                       ...          ...   \n",
       "19532                         0                         0            0   \n",
       "19533                         0                         0            0   \n",
       "19534                         0                         0            0   \n",
       "19535                         0                         0            0   \n",
       "19536                         0                         0            1   \n",
       "\n",
       "       race_ Other  race_ White  sex_ Female  sex_ Male  \n",
       "0                0            1            0          1  \n",
       "1                0            1            1          0  \n",
       "2                0            0            1          0  \n",
       "3                0            1            1          0  \n",
       "4                0            1            0          1  \n",
       "...            ...          ...          ...        ...  \n",
       "19532            0            1            0          1  \n",
       "19533            0            1            1          0  \n",
       "19534            0            1            0          1  \n",
       "19535            0            1            1          0  \n",
       "19536            0            0            0          1  \n",
       "\n",
       "[48842 rows x 64 columns]"
      ]
     },
     "execution_count": 9,
     "metadata": {},
     "output_type": "execute_result"
    }
   ],
   "source": [
    "# 방식은 이거임 -> 테스트 데이터도 훈련 데이터로 이용하자 테스트 데이터에 존재 하지 않는 정답 데이터는 처음에 훈련 데이터로 예측한 테스트 데이터 값을 정답 데이터로 사용하자\n",
    "# 훈련 데이터와, 테스트 데이터 합치기 (테스트 데이터 정답은 훈련된 모델의 예측한 결과를 사용)\n",
    "X_train_2 = pd.concat([X_train,X_test])\n",
    "X_train_2"
   ]
  },
  {
   "cell_type": "code",
   "execution_count": 10,
   "id": "c5fcfb06",
   "metadata": {
    "ExecuteTime": {
     "end_time": "2023-05-31T07:47:40.070227Z",
     "start_time": "2023-05-31T07:47:40.058257Z"
    }
   },
   "outputs": [],
   "source": [
    "# 방식은 이거임 -> 테스트 데이터도 훈련 데이터로 이용하자 테스트 데이터에 존재 하지 않는 정답 데이터는 처음에 훈련 데이터로 예측한 테스트 데이터 값을 정답 데이터로 사용하자\n",
    "# 훈련 데이터와, 테스트 데이터 합치기 (테스트 데이터 정답은 훈련된 모델의 예측한 결과를 사용)\n",
    "X_train_2 = pd.concat([X_train,X_test])"
   ]
  },
  {
   "cell_type": "code",
   "execution_count": 11,
   "id": "0684bf12",
   "metadata": {
    "ExecuteTime": {
     "end_time": "2023-05-31T07:47:40.086182Z",
     "start_time": "2023-05-31T07:47:40.071221Z"
    }
   },
   "outputs": [
    {
     "data": {
      "text/plain": [
       "0        0\n",
       "1        0\n",
       "2        0\n",
       "3        0\n",
       "4        1\n",
       "        ..\n",
       "29300    0\n",
       "29301    0\n",
       "29302    0\n",
       "29303    0\n",
       "29304    0\n",
       "Name: income, Length: 29305, dtype: int64"
      ]
     },
     "execution_count": 11,
     "metadata": {},
     "output_type": "execute_result"
    }
   ],
   "source": [
    "y_train"
   ]
  },
  {
   "cell_type": "code",
   "execution_count": 12,
   "id": "7f31cc37",
   "metadata": {
    "ExecuteTime": {
     "end_time": "2023-05-31T07:47:40.102139Z",
     "start_time": "2023-05-31T07:47:40.088176Z"
    }
   },
   "outputs": [],
   "source": [
    "y_1=y_train.to_numpy()"
   ]
  },
  {
   "cell_type": "code",
   "execution_count": 13,
   "id": "e4ae542e",
   "metadata": {
    "ExecuteTime": {
     "end_time": "2023-05-31T07:47:40.118097Z",
     "start_time": "2023-05-31T07:47:40.104134Z"
    }
   },
   "outputs": [],
   "source": [
    "y_t = np.concatenate([y_1, y_pred])"
   ]
  },
  {
   "cell_type": "code",
   "execution_count": 14,
   "id": "83afd941",
   "metadata": {
    "ExecuteTime": {
     "end_time": "2023-05-31T07:47:40.134054Z",
     "start_time": "2023-05-31T07:47:40.120091Z"
    }
   },
   "outputs": [],
   "source": [
    "y_t = list(y_t)"
   ]
  },
  {
   "cell_type": "code",
   "execution_count": 15,
   "id": "8e7f765b",
   "metadata": {
    "ExecuteTime": {
     "end_time": "2023-05-31T07:47:40.164972Z",
     "start_time": "2023-05-31T07:47:40.136049Z"
    }
   },
   "outputs": [],
   "source": [
    "y_train_change=pd.Series(y_t)"
   ]
  },
  {
   "cell_type": "code",
   "execution_count": 16,
   "id": "10f51efd",
   "metadata": {
    "ExecuteTime": {
     "end_time": "2023-05-31T07:47:40.623747Z",
     "start_time": "2023-05-31T07:47:40.167964Z"
    }
   },
   "outputs": [
    {
     "data": {
      "text/plain": [
       "LGBMClassifier(n_estimators=200, random_state=200, reg_alpha=0.9,\n",
       "               reg_lambda=0.2)"
      ]
     },
     "execution_count": 16,
     "metadata": {},
     "output_type": "execute_result"
    }
   ],
   "source": [
    "### 모델 훈련\n",
    "lgb.fit(X_train_2,y_train_change)"
   ]
  },
  {
   "cell_type": "code",
   "execution_count": 17,
   "id": "6ee72b94",
   "metadata": {
    "ExecuteTime": {
     "end_time": "2023-05-31T07:47:40.763375Z",
     "start_time": "2023-05-31T07:47:40.626740Z"
    }
   },
   "outputs": [],
   "source": [
    "# lgb 모델로 예측한 결과\n",
    "pre1 = lgb.predict(X_test)\n",
    "# kaggle 양식 불러오기\n",
    "rs =  pd.read_csv('./data/kaggle/sample_submission.csv')\n",
    "rs['income'] = pre1 # 내 모델의 예측 결과를 양식에 넣기\n",
    "rs.to_csv('Test01.csv', index = False)"
   ]
  },
  {
   "cell_type": "code",
   "execution_count": 18,
   "id": "cea2e626",
   "metadata": {
    "ExecuteTime": {
     "end_time": "2023-05-31T07:47:41.395688Z",
     "start_time": "2023-05-31T07:47:40.765370Z"
    }
   },
   "outputs": [],
   "source": [
    "# 위 과정 반복 -> 모델 예측한 결과중 더 좋은 결과를 다시 테스트 데이터의 정답으로 활용 + 트레인 데이터와 다시 합치고 다시 모델 학습\n",
    "y_t = np.concatenate([y_1, pre1])\n",
    "y_t = list(y_t)\n",
    "y_train_change=pd.Series(y_t)\n",
    "\n",
    "lgb.fit(X_train_2,y_train_change)\n",
    "\n",
    "pre2 = lgb.predict(X_test)\n",
    "# kaggle 양식 불러오기\n",
    "rs =  pd.read_csv('./data/kaggle/sample_submission.csv')\n",
    "rs['income'] = pre2 # 내 모델의 예측 결과를 양식에 넣기\n",
    "rs.to_csv('Test02.csv', index = False)"
   ]
  },
  {
   "cell_type": "code",
   "execution_count": 19,
   "id": "ff3287d9",
   "metadata": {
    "ExecuteTime": {
     "end_time": "2023-05-31T07:47:42.041964Z",
     "start_time": "2023-05-31T07:47:41.398681Z"
    }
   },
   "outputs": [],
   "source": [
    "y_t = np.concatenate([y_1, pre2])\n",
    "y_t = list(y_t)\n",
    "y_train_change=pd.Series(y_t)\n",
    "\n",
    "lgb.fit(X_train_2,y_train_change)\n",
    "\n",
    "pre3 = lgb.predict(X_test)\n",
    "# kaggle 양식 불러오기\n",
    "rs =  pd.read_csv('./data/kaggle/sample_submission.csv')\n",
    "rs['income'] = pre3 # 내 모델의 예측 결과를 양식에 넣기\n",
    "rs.to_csv('Last01.csv', index = False)"
   ]
  },
  {
   "cell_type": "code",
   "execution_count": 20,
   "id": "5507c05c",
   "metadata": {
    "ExecuteTime": {
     "end_time": "2023-05-31T07:47:44.716829Z",
     "start_time": "2023-05-31T07:47:42.043959Z"
    }
   },
   "outputs": [
    {
     "name": "stdout",
     "output_type": "stream",
     "text": [
      "교차 검증 정확도: [0.88013103 0.88238305 0.87940213 0.97645373 0.99160524]\n",
      "평균 정확도: 0.9219950345193461\n"
     ]
    }
   ],
   "source": [
    "from sklearn.model_selection import cross_val_score\n",
    "\n",
    "scores = cross_val_score(lgb, X_train_2, y_train_change, cv=5, scoring='accuracy')\n",
    "\n",
    "# 교차 검증 결과 출력\n",
    "print(\"교차 검증 정확도:\", scores)\n",
    "print(\"평균 정확도:\", scores.mean())"
   ]
  },
  {
   "cell_type": "code",
   "execution_count": 21,
   "id": "df286fc4",
   "metadata": {
    "ExecuteTime": {
     "end_time": "2023-05-31T07:47:45.397015Z",
     "start_time": "2023-05-31T07:47:44.718824Z"
    }
   },
   "outputs": [],
   "source": [
    "y_t = np.concatenate([y_1, pre3])\n",
    "y_t = list(y_t)\n",
    "y_train_change=pd.Series(y_t)\n",
    "\n",
    "lgb.fit(X_train_2,y_train_change)\n",
    "\n",
    "pre4 = lgb.predict(X_test)\n",
    "# kaggle 양식 불러오기\n",
    "rs =  pd.read_csv('./data/kaggle/sample_submission.csv')\n",
    "rs['income'] = pre4 # 내 모델의 예측 결과를 양식에 넣기\n",
    "rs.to_csv('Test04.csv', index = False)\n"
   ]
  },
  {
   "cell_type": "code",
   "execution_count": 22,
   "id": "7cc322fc",
   "metadata": {
    "ExecuteTime": {
     "end_time": "2023-05-31T07:47:47.904327Z",
     "start_time": "2023-05-31T07:47:45.400007Z"
    }
   },
   "outputs": [
    {
     "name": "stdout",
     "output_type": "stream",
     "text": [
      "교차 검증 정확도: [0.88033576 0.87982393 0.88011876 0.97727273 0.99180999]\n",
      "평균 정확도: 0.9218722326026043\n"
     ]
    }
   ],
   "source": [
    "\n",
    "scores = cross_val_score(lgb, X_train_2, y_train_change, cv=5, scoring='accuracy')\n",
    "\n",
    "# 교차 검증 결과 출력\n",
    "print(\"교차 검증 정확도:\", scores)\n",
    "print(\"평균 정확도:\", scores.mean())"
   ]
  },
  {
   "cell_type": "code",
   "execution_count": 23,
   "id": "267c2b81",
   "metadata": {
    "ExecuteTime": {
     "end_time": "2023-05-31T07:47:51.062409Z",
     "start_time": "2023-05-31T07:47:47.906321Z"
    }
   },
   "outputs": [
    {
     "name": "stdout",
     "output_type": "stream",
     "text": [
      "교차 검증 정확도: [0.87982393 0.88054049 0.87970925 0.97757985 0.99283374]\n",
      "평균 정확도: 0.9220974536359939\n"
     ]
    }
   ],
   "source": [
    "y_t = np.concatenate([y_1, pre4])\n",
    "y_t = list(y_t)\n",
    "y_train_change=pd.Series(y_t)\n",
    "\n",
    "lgb.fit(X_train_2,y_train_change)\n",
    "\n",
    "pre5 = lgb.predict(X_test)\n",
    "# kaggle 양식 불러오기\n",
    "rs =  pd.read_csv('./data/kaggle/sample_submission.csv')\n",
    "rs['income'] = pre5 # 내 모델의 예측 결과를 양식에 넣기\n",
    "rs.to_csv('Test05.csv', index = False)\n",
    "\n",
    "scores = cross_val_score(lgb, X_train_2, y_train_change, cv=5, scoring='accuracy')\n",
    "\n",
    "# 교차 검증 결과 출력\n",
    "print(\"교차 검증 정확도:\", scores)\n",
    "print(\"평균 정확도:\", scores.mean())"
   ]
  },
  {
   "cell_type": "code",
   "execution_count": 24,
   "id": "928bd0dc",
   "metadata": {
    "ExecuteTime": {
     "end_time": "2023-05-31T07:47:54.189069Z",
     "start_time": "2023-05-31T07:47:51.064404Z"
    }
   },
   "outputs": [
    {
     "name": "stdout",
     "output_type": "stream",
     "text": [
      "교차 검증 정확도: [0.8796192  0.88074521 0.87940213 0.9781941  0.99232187]\n",
      "평균 정확도: 0.922056503595044\n"
     ]
    }
   ],
   "source": [
    "y_t = np.concatenate([y_1, pre5])\n",
    "y_t = list(y_t)\n",
    "y_train_change=pd.Series(y_t)\n",
    "\n",
    "lgb.fit(X_train_2,y_train_change)\n",
    "\n",
    "pre6 = lgb.predict(X_test)\n",
    "# kaggle 양식 불러오기\n",
    "rs =  pd.read_csv('./data/kaggle/sample_submission.csv')\n",
    "rs['income'] = pre6 # 내 모델의 예측 결과를 양식에 넣기\n",
    "rs.to_csv('Last06.csv', index = False)\n",
    "\n",
    "scores = cross_val_score(lgb, X_train_2, y_train_change, cv=5, scoring='accuracy')\n",
    "\n",
    "# 교차 검증 결과 출력\n",
    "print(\"교차 검증 정확도:\", scores)\n",
    "print(\"평균 정확도:\", scores.mean())"
   ]
  },
  {
   "cell_type": "code",
   "execution_count": 25,
   "id": "ee9fb22a",
   "metadata": {
    "ExecuteTime": {
     "end_time": "2023-05-31T07:47:57.154160Z",
     "start_time": "2023-05-31T07:47:54.191064Z"
    }
   },
   "outputs": [
    {
     "name": "stdout",
     "output_type": "stream",
     "text": [
      "교차 검증 정확도: [0.87920975 0.88033576 0.88032351 0.97809173 0.99150287]\n",
      "평균 정확도: 0.9218927201985856\n"
     ]
    }
   ],
   "source": [
    "y_t = np.concatenate([y_1, pre6])\n",
    "y_t = list(y_t)\n",
    "y_train_change=pd.Series(y_t)\n",
    "\n",
    "lgb.fit(X_train_2,y_train_change)\n",
    "\n",
    "pre7 = lgb.predict(X_test)\n",
    "# kaggle 양식 불러오기\n",
    "rs =  pd.read_csv('./data/kaggle/sample_submission.csv')\n",
    "rs['income'] = pre7 # 내 모델의 예측 결과를 양식에 넣기\n",
    "rs.to_csv('Last07.csv', index = False)\n",
    "\n",
    "scores = cross_val_score(lgb, X_train_2, y_train_change, cv=5, scoring='accuracy')\n",
    "\n",
    "# 교차 검증 결과 출력\n",
    "print(\"교차 검증 정확도:\", scores)\n",
    "print(\"평균 정확도:\", scores.mean())"
   ]
  },
  {
   "cell_type": "code",
   "execution_count": 26,
   "id": "b091a358",
   "metadata": {
    "ExecuteTime": {
     "end_time": "2023-05-31T07:48:00.107282Z",
     "start_time": "2023-05-31T07:47:57.156154Z"
    }
   },
   "outputs": [
    {
     "name": "stdout",
     "output_type": "stream",
     "text": [
      "교차 검증 정확도: [0.88002866 0.88084758 0.88011876 0.97850123 0.99150287]\n",
      "평균 정확도: 0.9221998182587802\n"
     ]
    }
   ],
   "source": [
    "y_t = np.concatenate([y_1, pre7])\n",
    "y_t = list(y_t)\n",
    "y_train_change=pd.Series(y_t)\n",
    "\n",
    "lgb.fit(X_train_2,y_train_change)\n",
    "\n",
    "pre8 = lgb.predict(X_test)\n",
    "# kaggle 양식 불러오기\n",
    "rs =  pd.read_csv('./data/kaggle/sample_submission.csv')\n",
    "rs['income'] = pre8 # 내 모델의 예측 결과를 양식에 넣기\n",
    "rs.to_csv('Last08.csv', index = False)\n",
    "\n",
    "scores = cross_val_score(lgb, X_train_2, y_train_change, cv=5, scoring='accuracy')\n",
    "\n",
    "# 교차 검증 결과 출력\n",
    "print(\"교차 검증 정확도:\", scores)\n",
    "print(\"평균 정확도:\", scores.mean())"
   ]
  },
  {
   "cell_type": "code",
   "execution_count": 27,
   "id": "539009b7",
   "metadata": {
    "ExecuteTime": {
     "end_time": "2023-05-31T07:48:03.052425Z",
     "start_time": "2023-05-31T07:48:00.109277Z"
    }
   },
   "outputs": [
    {
     "name": "stdout",
     "output_type": "stream",
     "text": [
      "교차 검증 정확도: [0.8796192  0.88043812 0.879095   0.97952498 0.99201474]\n",
      "평균 정확도: 0.9221384099646972\n"
     ]
    }
   ],
   "source": [
    "y_t = np.concatenate([y_1, pre8])\n",
    "y_t = list(y_t)\n",
    "y_train_change=pd.Series(y_t)\n",
    "\n",
    "lgb.fit(X_train_2,y_train_change)\n",
    "\n",
    "pre9 = lgb.predict(X_test)\n",
    "# kaggle 양식 불러오기\n",
    "rs =  pd.read_csv('./data/kaggle/sample_submission.csv')\n",
    "rs['income'] = pre9 # 내 모델의 예측 결과를 양식에 넣기\n",
    "rs.to_csv('Last09.csv', index = False)\n",
    "\n",
    "scores = cross_val_score(lgb, X_train_2, y_train_change, cv=5, scoring='accuracy')\n",
    "\n",
    "# 교차 검증 결과 출력\n",
    "print(\"교차 검증 정확도:\", scores)\n",
    "print(\"평균 정확도:\", scores.mean())"
   ]
  },
  {
   "cell_type": "code",
   "execution_count": 28,
   "id": "00de7013",
   "metadata": {
    "ExecuteTime": {
     "end_time": "2023-05-31T07:48:05.974630Z",
     "start_time": "2023-05-31T07:48:03.064394Z"
    }
   },
   "outputs": [
    {
     "name": "stdout",
     "output_type": "stream",
     "text": [
      "교차 검증 정확도: [0.88002866 0.88084758 0.879914   0.98013923 0.99037674]\n",
      "평균 정확도: 0.9222612433202053\n"
     ]
    }
   ],
   "source": [
    "y_t = np.concatenate([y_1, pre9])\n",
    "y_t = list(y_t)\n",
    "y_train_change=pd.Series(y_t)\n",
    "\n",
    "lgb.fit(X_train_2,y_train_change)\n",
    "\n",
    "pre10 = lgb.predict(X_test)\n",
    "# kaggle 양식 불러오기\n",
    "rs =  pd.read_csv('./data/kaggle/sample_submission.csv')\n",
    "rs['income'] = pre10 # 내 모델의 예측 결과를 양식에 넣기\n",
    "rs.to_csv('Last10.csv', index = False)\n",
    "\n",
    "scores = cross_val_score(lgb, X_train_2, y_train_change, cv=5, scoring='accuracy')\n",
    "\n",
    "# 교차 검증 결과 출력\n",
    "print(\"교차 검증 정확도:\", scores)\n",
    "print(\"평균 정확도:\", scores.mean())"
   ]
  },
  {
   "cell_type": "code",
   "execution_count": 29,
   "id": "0d7372d6",
   "metadata": {
    "ExecuteTime": {
     "end_time": "2023-05-31T07:48:08.835000Z",
     "start_time": "2023-05-31T07:48:05.976625Z"
    }
   },
   "outputs": [
    {
     "name": "stdout",
     "output_type": "stream",
     "text": [
      "교차 검증 정확도: [0.87951684 0.88094994 0.879095   0.97880835 0.99242424]\n",
      "평균 정확도: 0.9221588766015012\n"
     ]
    }
   ],
   "source": [
    "y_t = np.concatenate([y_1, pre10])\n",
    "y_t = list(y_t)\n",
    "y_train_change=pd.Series(y_t)\n",
    "\n",
    "lgb.fit(X_train_2,y_train_change)\n",
    "\n",
    "pre11 = lgb.predict(X_test)\n",
    "# kaggle 양식 불러오기\n",
    "rs =  pd.read_csv('./data/kaggle/sample_submission.csv')\n",
    "rs['income'] = pre11 # 내 모델의 예측 결과를 양식에 넣기\n",
    "rs.to_csv('Last11.csv', index = False)\n",
    "\n",
    "scores = cross_val_score(lgb, X_train_2, y_train_change, cv=5, scoring='accuracy')\n",
    "\n",
    "# 교차 검증 결과 출력\n",
    "print(\"교차 검증 정확도:\", scores)\n",
    "print(\"평균 정확도:\", scores.mean())"
   ]
  },
  {
   "cell_type": "code",
   "execution_count": 30,
   "id": "61343f0e",
   "metadata": {
    "ExecuteTime": {
     "end_time": "2023-05-31T07:48:11.780144Z",
     "start_time": "2023-05-31T07:48:08.836995Z"
    }
   },
   "outputs": [
    {
     "name": "stdout",
     "output_type": "stream",
     "text": [
      "교차 검증 정확도: [0.88023339 0.88064285 0.87970925 0.97921785 0.99088862]\n",
      "평균 정확도: 0.9221383931973552\n"
     ]
    }
   ],
   "source": [
    "y_t = np.concatenate([y_1, pre11])\n",
    "y_t = list(y_t)\n",
    "y_train_change=pd.Series(y_t)\n",
    "\n",
    "lgb.fit(X_train_2,y_train_change)\n",
    "\n",
    "pre12 = lgb.predict(X_test)\n",
    "# kaggle 양식 불러오기\n",
    "rs =  pd.read_csv('./data/kaggle/sample_submission.csv')\n",
    "rs['income'] = pre12 # 내 모델의 예측 결과를 양식에 넣기\n",
    "rs.to_csv('Last12.csv', index = False)\n",
    "\n",
    "scores = cross_val_score(lgb, X_train_2, y_train_change, cv=5, scoring='accuracy')\n",
    "\n",
    "# 교차 검증 결과 출력\n",
    "print(\"교차 검증 정확도:\", scores)\n",
    "print(\"평균 정확도:\", scores.mean())"
   ]
  },
  {
   "cell_type": "code",
   "execution_count": 31,
   "id": "23d8e1fe",
   "metadata": {
    "ExecuteTime": {
     "end_time": "2023-05-31T07:48:14.793107Z",
     "start_time": "2023-05-31T07:48:11.782139Z"
    }
   },
   "outputs": [
    {
     "name": "stdout",
     "output_type": "stream",
     "text": [
      "교차 검증 정확도: [0.88094994 0.87931211 0.88032351 0.97880835 0.99283374]\n",
      "평균 정확도: 0.9224455310799871\n"
     ]
    }
   ],
   "source": [
    "y_t = np.concatenate([y_1, pre12])\n",
    "y_t = list(y_t)\n",
    "y_train_change=pd.Series(y_t)\n",
    "\n",
    "lgb.fit(X_train_2,y_train_change)\n",
    "\n",
    "pre13 = lgb.predict(X_test)\n",
    "# kaggle 양식 불러오기\n",
    "rs =  pd.read_csv('./data/kaggle/sample_submission.csv')\n",
    "rs['income'] = pre13 # 내 모델의 예측 결과를 양식에 넣기\n",
    "rs.to_csv('Last13.csv', index = False)\n",
    "\n",
    "scores = cross_val_score(lgb, X_train_2, y_train_change, cv=5, scoring='accuracy')\n",
    "\n",
    "# 교차 검증 결과 출력\n",
    "print(\"교차 검증 정확도:\", scores)\n",
    "print(\"평균 정확도:\", scores.mean())"
   ]
  },
  {
   "cell_type": "code",
   "execution_count": 32,
   "id": "cea1e7a1",
   "metadata": {
    "ExecuteTime": {
     "end_time": "2023-05-31T07:48:17.749221Z",
     "start_time": "2023-05-31T07:48:14.795102Z"
    }
   },
   "outputs": [
    {
     "name": "stdout",
     "output_type": "stream",
     "text": [
      "교차 검증 정확도: [0.8799263  0.87890265 0.87940213 0.97921785 0.99221949]\n",
      "평균 정확도: 0.9219336849109598\n"
     ]
    }
   ],
   "source": [
    "y_t = np.concatenate([y_1, pre13])\n",
    "y_t = list(y_t)\n",
    "y_train_change=pd.Series(y_t)\n",
    "\n",
    "lgb.fit(X_train_2,y_train_change)\n",
    "\n",
    "pre14 = lgb.predict(X_test)\n",
    "# kaggle 양식 불러오기\n",
    "rs =  pd.read_csv('./data/kaggle/sample_submission.csv')\n",
    "rs['income'] = pre14 # 내 모델의 예측 결과를 양식에 넣기\n",
    "rs.to_csv('Last14.csv', index = False)\n",
    "\n",
    "scores = cross_val_score(lgb, X_train_2, y_train_change, cv=5, scoring='accuracy')\n",
    "\n",
    "# 교차 검증 결과 출력\n",
    "print(\"교차 검증 정확도:\", scores)\n",
    "print(\"평균 정확도:\", scores.mean())"
   ]
  },
  {
   "cell_type": "code",
   "execution_count": 33,
   "id": "668e153c",
   "metadata": {
    "ExecuteTime": {
     "end_time": "2023-05-31T07:48:20.662956Z",
     "start_time": "2023-05-31T07:48:17.751216Z"
    }
   },
   "outputs": [
    {
     "name": "stdout",
     "output_type": "stream",
     "text": [
      "교차 검증 정확도: [0.88033576 0.88054049 0.87940213 0.97788698 0.99211712]\n",
      "평균 정확도: 0.922056493115455\n"
     ]
    }
   ],
   "source": [
    "y_t = np.concatenate([y_1, pre14])\n",
    "y_t = list(y_t)\n",
    "y_train_change=pd.Series(y_t)\n",
    "\n",
    "lgb.fit(X_train_2,y_train_change)\n",
    "\n",
    "pre15 = lgb.predict(X_test)\n",
    "# kaggle 양식 불러오기\n",
    "rs =  pd.read_csv('./data/kaggle/sample_submission.csv')\n",
    "rs['income'] = pre15 # 내 모델의 예측 결과를 양식에 넣기\n",
    "rs.to_csv('Last15.csv', index = False)\n",
    "\n",
    "scores = cross_val_score(lgb, X_train_2, y_train_change, cv=5, scoring='accuracy')\n",
    "\n",
    "# 교차 검증 결과 출력\n",
    "print(\"교차 검증 정확도:\", scores)\n",
    "print(\"평균 정확도:\", scores.mean())"
   ]
  },
  {
   "cell_type": "code",
   "execution_count": 34,
   "id": "8ca1e5e4",
   "metadata": {
    "ExecuteTime": {
     "end_time": "2023-05-31T07:48:23.597129Z",
     "start_time": "2023-05-31T07:48:20.664951Z"
    }
   },
   "outputs": [
    {
     "name": "stdout",
     "output_type": "stream",
     "text": [
      "교차 검증 정확도: [0.88074521 0.87890265 0.87929975 0.97911548 0.99119574]\n",
      "평균 정확도: 0.9218517680617179\n"
     ]
    }
   ],
   "source": [
    "y_t = np.concatenate([y_1, pre15])\n",
    "y_t = list(y_t)\n",
    "y_train_change=pd.Series(y_t)\n",
    "\n",
    "lgb.fit(X_train_2,y_train_change)\n",
    "\n",
    "pre16 = lgb.predict(X_test)\n",
    "# kaggle 양식 불러오기\n",
    "rs =  pd.read_csv('./data/kaggle/sample_submission.csv')\n",
    "rs['income'] = pre16 # 내 모델의 예측 결과를 양식에 넣기\n",
    "rs.to_csv('Last16.csv', index = False)\n",
    "\n",
    "scores = cross_val_score(lgb, X_train_2, y_train_change, cv=5, scoring='accuracy')\n",
    "\n",
    "# 교차 검증 결과 출력\n",
    "print(\"교차 검증 정확도:\", scores)\n",
    "print(\"평균 정확도:\", scores.mean())"
   ]
  },
  {
   "cell_type": "code",
   "execution_count": 35,
   "id": "d399fe97",
   "metadata": {
    "ExecuteTime": {
     "end_time": "2023-05-31T07:48:26.581169Z",
     "start_time": "2023-05-31T07:48:23.599125Z"
    }
   },
   "outputs": [
    {
     "name": "stdout",
     "output_type": "stream",
     "text": [
      "교차 검증 정확도: [0.87982393 0.8799263  0.87929975 0.9794226  0.99283374]\n",
      "평균 정확도: 0.9222612663753006\n"
     ]
    }
   ],
   "source": [
    "y_t = np.concatenate([y_1, pre16])\n",
    "y_t = list(y_t)\n",
    "y_train_change=pd.Series(y_t)\n",
    "\n",
    "lgb.fit(X_train_2,y_train_change)\n",
    "\n",
    "pre17 = lgb.predict(X_test)\n",
    "# kaggle 양식 불러오기\n",
    "rs =  pd.read_csv('./data/kaggle/sample_submission.csv')\n",
    "rs['income'] = pre17 # 내 모델의 예측 결과를 양식에 넣기\n",
    "rs.to_csv('Last17.csv', index = False)\n",
    "\n",
    "scores = cross_val_score(lgb, X_train_2, y_train_change, cv=5, scoring='accuracy')\n",
    "\n",
    "# 교차 검증 결과 출력\n",
    "print(\"교차 검증 정확도:\", scores)\n",
    "print(\"평균 정확도:\", scores.mean())"
   ]
  },
  {
   "cell_type": "code",
   "execution_count": 36,
   "id": "7946a03c",
   "metadata": {
    "ExecuteTime": {
     "end_time": "2023-05-31T07:48:29.525315Z",
     "start_time": "2023-05-31T07:48:26.583164Z"
    }
   },
   "outputs": [
    {
     "name": "stdout",
     "output_type": "stream",
     "text": [
      "교차 검증 정확도: [0.88094994 0.88013103 0.87940213 0.97911548 0.99201474]\n",
      "평균 정확도: 0.9223226641897948\n"
     ]
    }
   ],
   "source": [
    "y_t = np.concatenate([y_1, pre17])\n",
    "y_t = list(y_t)\n",
    "y_train_change=pd.Series(y_t)\n",
    "\n",
    "lgb.fit(X_train_2,y_train_change)\n",
    "\n",
    "pre18 = lgb.predict(X_test)\n",
    "# kaggle 양식 불러오기\n",
    "rs =  pd.read_csv('./data/kaggle/sample_submission.csv')\n",
    "rs['income'] = pre18 # 내 모델의 예측 결과를 양식에 넣기\n",
    "rs.to_csv('Last18.csv', index = False)\n",
    "\n",
    "scores = cross_val_score(lgb, X_train_2, y_train_change, cv=5, scoring='accuracy')\n",
    "\n",
    "# 교차 검증 결과 출력\n",
    "print(\"교차 검증 정확도:\", scores)\n",
    "print(\"평균 정확도:\", scores.mean())"
   ]
  },
  {
   "cell_type": "code",
   "execution_count": 37,
   "id": "9c4c3602",
   "metadata": {
    "ExecuteTime": {
     "end_time": "2023-05-31T07:48:32.492401Z",
     "start_time": "2023-05-31T07:48:29.527311Z"
    }
   },
   "outputs": [
    {
     "name": "stdout",
     "output_type": "stream",
     "text": [
      "교차 검증 정확도: [0.87982393 0.87972157 0.87960688 0.98024161 0.99140049]\n",
      "평균 정확도: 0.9221588954647609\n"
     ]
    }
   ],
   "source": [
    "y_t = np.concatenate([y_1, pre18])\n",
    "y_t = list(y_t)\n",
    "y_train_change=pd.Series(y_t)\n",
    "\n",
    "lgb.fit(X_train_2,y_train_change)\n",
    "\n",
    "pre19 = lgb.predict(X_test)\n",
    "# kaggle 양식 불러오기\n",
    "rs =  pd.read_csv('./data/kaggle/sample_submission.csv')\n",
    "rs['income'] = pre19 # 내 모델의 예측 결과를 양식에 넣기\n",
    "rs.to_csv('Last19.csv', index = False)\n",
    "\n",
    "scores = cross_val_score(lgb, X_train_2, y_train_change, cv=5, scoring='accuracy')\n",
    "\n",
    "# 교차 검증 결과 출력\n",
    "print(\"교차 검증 정확도:\", scores)\n",
    "print(\"평균 정확도:\", scores.mean())"
   ]
  },
  {
   "cell_type": "code",
   "execution_count": 38,
   "id": "c8aba1c2",
   "metadata": {
    "ExecuteTime": {
     "end_time": "2023-05-31T07:48:35.496388Z",
     "start_time": "2023-05-31T07:48:32.494396Z"
    }
   },
   "outputs": [
    {
     "name": "stdout",
     "output_type": "stream",
     "text": [
      "교차 검증 정확도: [0.87982393 0.8799263  0.87899263 0.98085586 0.99191237]\n",
      "평균 정확도: 0.9223022164162507\n"
     ]
    }
   ],
   "source": [
    "y_t = np.concatenate([y_1, pre19])\n",
    "y_t = list(y_t)\n",
    "y_train_change=pd.Series(y_t)\n",
    "\n",
    "lgb.fit(X_train_2,y_train_change)\n",
    "\n",
    "pre20 = lgb.predict(X_test)\n",
    "# kaggle 양식 불러오기\n",
    "rs =  pd.read_csv('./data/kaggle/sample_submission.csv')\n",
    "rs['income'] = pre20 # 내 모델의 예측 결과를 양식에 넣기\n",
    "rs.to_csv('Last20.csv', index = False)\n",
    "\n",
    "scores = cross_val_score(lgb, X_train_2, y_train_change, cv=5, scoring='accuracy')\n",
    "\n",
    "# 교차 검증 결과 출력\n",
    "print(\"교차 검증 정확도:\", scores)\n",
    "print(\"평균 정확도:\", scores.mean())"
   ]
  },
  {
   "cell_type": "code",
   "execution_count": 39,
   "id": "c89b23d2",
   "metadata": {
    "ExecuteTime": {
     "end_time": "2023-05-31T07:48:38.238013Z",
     "start_time": "2023-05-31T07:48:35.498383Z"
    },
    "collapsed": true
   },
   "outputs": [
    {
     "ename": "KeyboardInterrupt",
     "evalue": "",
     "output_type": "error",
     "traceback": [
      "\u001b[1;31m---------------------------------------------------------------------------\u001b[0m",
      "\u001b[1;31mKeyboardInterrupt\u001b[0m                         Traceback (most recent call last)",
      "\u001b[1;32m~\\AppData\\Local\\Temp\\ipykernel_6488\\1917853572.py\u001b[0m in \u001b[0;36m<module>\u001b[1;34m\u001b[0m\n\u001b[0;32m     11\u001b[0m \u001b[0mrs\u001b[0m\u001b[1;33m.\u001b[0m\u001b[0mto_csv\u001b[0m\u001b[1;33m(\u001b[0m\u001b[1;34m'Last21.csv'\u001b[0m\u001b[1;33m,\u001b[0m \u001b[0mindex\u001b[0m \u001b[1;33m=\u001b[0m \u001b[1;32mFalse\u001b[0m\u001b[1;33m)\u001b[0m\u001b[1;33m\u001b[0m\u001b[1;33m\u001b[0m\u001b[0m\n\u001b[0;32m     12\u001b[0m \u001b[1;33m\u001b[0m\u001b[0m\n\u001b[1;32m---> 13\u001b[1;33m \u001b[0mscores\u001b[0m \u001b[1;33m=\u001b[0m \u001b[0mcross_val_score\u001b[0m\u001b[1;33m(\u001b[0m\u001b[0mlgb\u001b[0m\u001b[1;33m,\u001b[0m \u001b[0mX_train_2\u001b[0m\u001b[1;33m,\u001b[0m \u001b[0my_train_change\u001b[0m\u001b[1;33m,\u001b[0m \u001b[0mcv\u001b[0m\u001b[1;33m=\u001b[0m\u001b[1;36m5\u001b[0m\u001b[1;33m,\u001b[0m \u001b[0mscoring\u001b[0m\u001b[1;33m=\u001b[0m\u001b[1;34m'accuracy'\u001b[0m\u001b[1;33m)\u001b[0m\u001b[1;33m\u001b[0m\u001b[1;33m\u001b[0m\u001b[0m\n\u001b[0m\u001b[0;32m     14\u001b[0m \u001b[1;33m\u001b[0m\u001b[0m\n\u001b[0;32m     15\u001b[0m \u001b[1;31m# 교차 검증 결과 출력\u001b[0m\u001b[1;33m\u001b[0m\u001b[1;33m\u001b[0m\u001b[0m\n",
      "\u001b[1;32m~\\anaconda3\\lib\\site-packages\\sklearn\\model_selection\\_validation.py\u001b[0m in \u001b[0;36mcross_val_score\u001b[1;34m(estimator, X, y, groups, scoring, cv, n_jobs, verbose, fit_params, pre_dispatch, error_score)\u001b[0m\n\u001b[0;32m    507\u001b[0m     \u001b[0mscorer\u001b[0m \u001b[1;33m=\u001b[0m \u001b[0mcheck_scoring\u001b[0m\u001b[1;33m(\u001b[0m\u001b[0mestimator\u001b[0m\u001b[1;33m,\u001b[0m \u001b[0mscoring\u001b[0m\u001b[1;33m=\u001b[0m\u001b[0mscoring\u001b[0m\u001b[1;33m)\u001b[0m\u001b[1;33m\u001b[0m\u001b[1;33m\u001b[0m\u001b[0m\n\u001b[0;32m    508\u001b[0m \u001b[1;33m\u001b[0m\u001b[0m\n\u001b[1;32m--> 509\u001b[1;33m     cv_results = cross_validate(\n\u001b[0m\u001b[0;32m    510\u001b[0m         \u001b[0mestimator\u001b[0m\u001b[1;33m=\u001b[0m\u001b[0mestimator\u001b[0m\u001b[1;33m,\u001b[0m\u001b[1;33m\u001b[0m\u001b[1;33m\u001b[0m\u001b[0m\n\u001b[0;32m    511\u001b[0m         \u001b[0mX\u001b[0m\u001b[1;33m=\u001b[0m\u001b[0mX\u001b[0m\u001b[1;33m,\u001b[0m\u001b[1;33m\u001b[0m\u001b[1;33m\u001b[0m\u001b[0m\n",
      "\u001b[1;32m~\\anaconda3\\lib\\site-packages\\sklearn\\model_selection\\_validation.py\u001b[0m in \u001b[0;36mcross_validate\u001b[1;34m(estimator, X, y, groups, scoring, cv, n_jobs, verbose, fit_params, pre_dispatch, return_train_score, return_estimator, error_score)\u001b[0m\n\u001b[0;32m    265\u001b[0m     \u001b[1;31m# independent, and that it is pickle-able.\u001b[0m\u001b[1;33m\u001b[0m\u001b[1;33m\u001b[0m\u001b[0m\n\u001b[0;32m    266\u001b[0m     \u001b[0mparallel\u001b[0m \u001b[1;33m=\u001b[0m \u001b[0mParallel\u001b[0m\u001b[1;33m(\u001b[0m\u001b[0mn_jobs\u001b[0m\u001b[1;33m=\u001b[0m\u001b[0mn_jobs\u001b[0m\u001b[1;33m,\u001b[0m \u001b[0mverbose\u001b[0m\u001b[1;33m=\u001b[0m\u001b[0mverbose\u001b[0m\u001b[1;33m,\u001b[0m \u001b[0mpre_dispatch\u001b[0m\u001b[1;33m=\u001b[0m\u001b[0mpre_dispatch\u001b[0m\u001b[1;33m)\u001b[0m\u001b[1;33m\u001b[0m\u001b[1;33m\u001b[0m\u001b[0m\n\u001b[1;32m--> 267\u001b[1;33m     results = parallel(\n\u001b[0m\u001b[0;32m    268\u001b[0m         delayed(_fit_and_score)(\n\u001b[0;32m    269\u001b[0m             \u001b[0mclone\u001b[0m\u001b[1;33m(\u001b[0m\u001b[0mestimator\u001b[0m\u001b[1;33m)\u001b[0m\u001b[1;33m,\u001b[0m\u001b[1;33m\u001b[0m\u001b[1;33m\u001b[0m\u001b[0m\n",
      "\u001b[1;32m~\\anaconda3\\lib\\site-packages\\joblib\\parallel.py\u001b[0m in \u001b[0;36m__call__\u001b[1;34m(self, iterable)\u001b[0m\n\u001b[0;32m   1044\u001b[0m                 \u001b[0mself\u001b[0m\u001b[1;33m.\u001b[0m\u001b[0m_iterating\u001b[0m \u001b[1;33m=\u001b[0m \u001b[0mself\u001b[0m\u001b[1;33m.\u001b[0m\u001b[0m_original_iterator\u001b[0m \u001b[1;32mis\u001b[0m \u001b[1;32mnot\u001b[0m \u001b[1;32mNone\u001b[0m\u001b[1;33m\u001b[0m\u001b[1;33m\u001b[0m\u001b[0m\n\u001b[0;32m   1045\u001b[0m \u001b[1;33m\u001b[0m\u001b[0m\n\u001b[1;32m-> 1046\u001b[1;33m             \u001b[1;32mwhile\u001b[0m \u001b[0mself\u001b[0m\u001b[1;33m.\u001b[0m\u001b[0mdispatch_one_batch\u001b[0m\u001b[1;33m(\u001b[0m\u001b[0miterator\u001b[0m\u001b[1;33m)\u001b[0m\u001b[1;33m:\u001b[0m\u001b[1;33m\u001b[0m\u001b[1;33m\u001b[0m\u001b[0m\n\u001b[0m\u001b[0;32m   1047\u001b[0m                 \u001b[1;32mpass\u001b[0m\u001b[1;33m\u001b[0m\u001b[1;33m\u001b[0m\u001b[0m\n\u001b[0;32m   1048\u001b[0m \u001b[1;33m\u001b[0m\u001b[0m\n",
      "\u001b[1;32m~\\anaconda3\\lib\\site-packages\\joblib\\parallel.py\u001b[0m in \u001b[0;36mdispatch_one_batch\u001b[1;34m(self, iterator)\u001b[0m\n\u001b[0;32m    859\u001b[0m                 \u001b[1;32mreturn\u001b[0m \u001b[1;32mFalse\u001b[0m\u001b[1;33m\u001b[0m\u001b[1;33m\u001b[0m\u001b[0m\n\u001b[0;32m    860\u001b[0m             \u001b[1;32melse\u001b[0m\u001b[1;33m:\u001b[0m\u001b[1;33m\u001b[0m\u001b[1;33m\u001b[0m\u001b[0m\n\u001b[1;32m--> 861\u001b[1;33m                 \u001b[0mself\u001b[0m\u001b[1;33m.\u001b[0m\u001b[0m_dispatch\u001b[0m\u001b[1;33m(\u001b[0m\u001b[0mtasks\u001b[0m\u001b[1;33m)\u001b[0m\u001b[1;33m\u001b[0m\u001b[1;33m\u001b[0m\u001b[0m\n\u001b[0m\u001b[0;32m    862\u001b[0m                 \u001b[1;32mreturn\u001b[0m \u001b[1;32mTrue\u001b[0m\u001b[1;33m\u001b[0m\u001b[1;33m\u001b[0m\u001b[0m\n\u001b[0;32m    863\u001b[0m \u001b[1;33m\u001b[0m\u001b[0m\n",
      "\u001b[1;32m~\\anaconda3\\lib\\site-packages\\joblib\\parallel.py\u001b[0m in \u001b[0;36m_dispatch\u001b[1;34m(self, batch)\u001b[0m\n\u001b[0;32m    777\u001b[0m         \u001b[1;32mwith\u001b[0m \u001b[0mself\u001b[0m\u001b[1;33m.\u001b[0m\u001b[0m_lock\u001b[0m\u001b[1;33m:\u001b[0m\u001b[1;33m\u001b[0m\u001b[1;33m\u001b[0m\u001b[0m\n\u001b[0;32m    778\u001b[0m             \u001b[0mjob_idx\u001b[0m \u001b[1;33m=\u001b[0m \u001b[0mlen\u001b[0m\u001b[1;33m(\u001b[0m\u001b[0mself\u001b[0m\u001b[1;33m.\u001b[0m\u001b[0m_jobs\u001b[0m\u001b[1;33m)\u001b[0m\u001b[1;33m\u001b[0m\u001b[1;33m\u001b[0m\u001b[0m\n\u001b[1;32m--> 779\u001b[1;33m             \u001b[0mjob\u001b[0m \u001b[1;33m=\u001b[0m \u001b[0mself\u001b[0m\u001b[1;33m.\u001b[0m\u001b[0m_backend\u001b[0m\u001b[1;33m.\u001b[0m\u001b[0mapply_async\u001b[0m\u001b[1;33m(\u001b[0m\u001b[0mbatch\u001b[0m\u001b[1;33m,\u001b[0m \u001b[0mcallback\u001b[0m\u001b[1;33m=\u001b[0m\u001b[0mcb\u001b[0m\u001b[1;33m)\u001b[0m\u001b[1;33m\u001b[0m\u001b[1;33m\u001b[0m\u001b[0m\n\u001b[0m\u001b[0;32m    780\u001b[0m             \u001b[1;31m# A job can complete so quickly than its callback is\u001b[0m\u001b[1;33m\u001b[0m\u001b[1;33m\u001b[0m\u001b[0m\n\u001b[0;32m    781\u001b[0m             \u001b[1;31m# called before we get here, causing self._jobs to\u001b[0m\u001b[1;33m\u001b[0m\u001b[1;33m\u001b[0m\u001b[0m\n",
      "\u001b[1;32m~\\anaconda3\\lib\\site-packages\\joblib\\_parallel_backends.py\u001b[0m in \u001b[0;36mapply_async\u001b[1;34m(self, func, callback)\u001b[0m\n\u001b[0;32m    206\u001b[0m     \u001b[1;32mdef\u001b[0m \u001b[0mapply_async\u001b[0m\u001b[1;33m(\u001b[0m\u001b[0mself\u001b[0m\u001b[1;33m,\u001b[0m \u001b[0mfunc\u001b[0m\u001b[1;33m,\u001b[0m \u001b[0mcallback\u001b[0m\u001b[1;33m=\u001b[0m\u001b[1;32mNone\u001b[0m\u001b[1;33m)\u001b[0m\u001b[1;33m:\u001b[0m\u001b[1;33m\u001b[0m\u001b[1;33m\u001b[0m\u001b[0m\n\u001b[0;32m    207\u001b[0m         \u001b[1;34m\"\"\"Schedule a func to be run\"\"\"\u001b[0m\u001b[1;33m\u001b[0m\u001b[1;33m\u001b[0m\u001b[0m\n\u001b[1;32m--> 208\u001b[1;33m         \u001b[0mresult\u001b[0m \u001b[1;33m=\u001b[0m \u001b[0mImmediateResult\u001b[0m\u001b[1;33m(\u001b[0m\u001b[0mfunc\u001b[0m\u001b[1;33m)\u001b[0m\u001b[1;33m\u001b[0m\u001b[1;33m\u001b[0m\u001b[0m\n\u001b[0m\u001b[0;32m    209\u001b[0m         \u001b[1;32mif\u001b[0m \u001b[0mcallback\u001b[0m\u001b[1;33m:\u001b[0m\u001b[1;33m\u001b[0m\u001b[1;33m\u001b[0m\u001b[0m\n\u001b[0;32m    210\u001b[0m             \u001b[0mcallback\u001b[0m\u001b[1;33m(\u001b[0m\u001b[0mresult\u001b[0m\u001b[1;33m)\u001b[0m\u001b[1;33m\u001b[0m\u001b[1;33m\u001b[0m\u001b[0m\n",
      "\u001b[1;32m~\\anaconda3\\lib\\site-packages\\joblib\\_parallel_backends.py\u001b[0m in \u001b[0;36m__init__\u001b[1;34m(self, batch)\u001b[0m\n\u001b[0;32m    570\u001b[0m         \u001b[1;31m# Don't delay the application, to avoid keeping the input\u001b[0m\u001b[1;33m\u001b[0m\u001b[1;33m\u001b[0m\u001b[0m\n\u001b[0;32m    571\u001b[0m         \u001b[1;31m# arguments in memory\u001b[0m\u001b[1;33m\u001b[0m\u001b[1;33m\u001b[0m\u001b[0m\n\u001b[1;32m--> 572\u001b[1;33m         \u001b[0mself\u001b[0m\u001b[1;33m.\u001b[0m\u001b[0mresults\u001b[0m \u001b[1;33m=\u001b[0m \u001b[0mbatch\u001b[0m\u001b[1;33m(\u001b[0m\u001b[1;33m)\u001b[0m\u001b[1;33m\u001b[0m\u001b[1;33m\u001b[0m\u001b[0m\n\u001b[0m\u001b[0;32m    573\u001b[0m \u001b[1;33m\u001b[0m\u001b[0m\n\u001b[0;32m    574\u001b[0m     \u001b[1;32mdef\u001b[0m \u001b[0mget\u001b[0m\u001b[1;33m(\u001b[0m\u001b[0mself\u001b[0m\u001b[1;33m)\u001b[0m\u001b[1;33m:\u001b[0m\u001b[1;33m\u001b[0m\u001b[1;33m\u001b[0m\u001b[0m\n",
      "\u001b[1;32m~\\anaconda3\\lib\\site-packages\\joblib\\parallel.py\u001b[0m in \u001b[0;36m__call__\u001b[1;34m(self)\u001b[0m\n\u001b[0;32m    260\u001b[0m         \u001b[1;31m# change the default number of processes to -1\u001b[0m\u001b[1;33m\u001b[0m\u001b[1;33m\u001b[0m\u001b[0m\n\u001b[0;32m    261\u001b[0m         \u001b[1;32mwith\u001b[0m \u001b[0mparallel_backend\u001b[0m\u001b[1;33m(\u001b[0m\u001b[0mself\u001b[0m\u001b[1;33m.\u001b[0m\u001b[0m_backend\u001b[0m\u001b[1;33m,\u001b[0m \u001b[0mn_jobs\u001b[0m\u001b[1;33m=\u001b[0m\u001b[0mself\u001b[0m\u001b[1;33m.\u001b[0m\u001b[0m_n_jobs\u001b[0m\u001b[1;33m)\u001b[0m\u001b[1;33m:\u001b[0m\u001b[1;33m\u001b[0m\u001b[1;33m\u001b[0m\u001b[0m\n\u001b[1;32m--> 262\u001b[1;33m             return [func(*args, **kwargs)\n\u001b[0m\u001b[0;32m    263\u001b[0m                     for func, args, kwargs in self.items]\n\u001b[0;32m    264\u001b[0m \u001b[1;33m\u001b[0m\u001b[0m\n",
      "\u001b[1;32m~\\anaconda3\\lib\\site-packages\\joblib\\parallel.py\u001b[0m in \u001b[0;36m<listcomp>\u001b[1;34m(.0)\u001b[0m\n\u001b[0;32m    260\u001b[0m         \u001b[1;31m# change the default number of processes to -1\u001b[0m\u001b[1;33m\u001b[0m\u001b[1;33m\u001b[0m\u001b[0m\n\u001b[0;32m    261\u001b[0m         \u001b[1;32mwith\u001b[0m \u001b[0mparallel_backend\u001b[0m\u001b[1;33m(\u001b[0m\u001b[0mself\u001b[0m\u001b[1;33m.\u001b[0m\u001b[0m_backend\u001b[0m\u001b[1;33m,\u001b[0m \u001b[0mn_jobs\u001b[0m\u001b[1;33m=\u001b[0m\u001b[0mself\u001b[0m\u001b[1;33m.\u001b[0m\u001b[0m_n_jobs\u001b[0m\u001b[1;33m)\u001b[0m\u001b[1;33m:\u001b[0m\u001b[1;33m\u001b[0m\u001b[1;33m\u001b[0m\u001b[0m\n\u001b[1;32m--> 262\u001b[1;33m             return [func(*args, **kwargs)\n\u001b[0m\u001b[0;32m    263\u001b[0m                     for func, args, kwargs in self.items]\n\u001b[0;32m    264\u001b[0m \u001b[1;33m\u001b[0m\u001b[0m\n",
      "\u001b[1;32m~\\anaconda3\\lib\\site-packages\\sklearn\\utils\\fixes.py\u001b[0m in \u001b[0;36m__call__\u001b[1;34m(self, *args, **kwargs)\u001b[0m\n\u001b[0;32m    214\u001b[0m     \u001b[1;32mdef\u001b[0m \u001b[0m__call__\u001b[0m\u001b[1;33m(\u001b[0m\u001b[0mself\u001b[0m\u001b[1;33m,\u001b[0m \u001b[1;33m*\u001b[0m\u001b[0margs\u001b[0m\u001b[1;33m,\u001b[0m \u001b[1;33m**\u001b[0m\u001b[0mkwargs\u001b[0m\u001b[1;33m)\u001b[0m\u001b[1;33m:\u001b[0m\u001b[1;33m\u001b[0m\u001b[1;33m\u001b[0m\u001b[0m\n\u001b[0;32m    215\u001b[0m         \u001b[1;32mwith\u001b[0m \u001b[0mconfig_context\u001b[0m\u001b[1;33m(\u001b[0m\u001b[1;33m**\u001b[0m\u001b[0mself\u001b[0m\u001b[1;33m.\u001b[0m\u001b[0mconfig\u001b[0m\u001b[1;33m)\u001b[0m\u001b[1;33m:\u001b[0m\u001b[1;33m\u001b[0m\u001b[1;33m\u001b[0m\u001b[0m\n\u001b[1;32m--> 216\u001b[1;33m             \u001b[1;32mreturn\u001b[0m \u001b[0mself\u001b[0m\u001b[1;33m.\u001b[0m\u001b[0mfunction\u001b[0m\u001b[1;33m(\u001b[0m\u001b[1;33m*\u001b[0m\u001b[0margs\u001b[0m\u001b[1;33m,\u001b[0m \u001b[1;33m**\u001b[0m\u001b[0mkwargs\u001b[0m\u001b[1;33m)\u001b[0m\u001b[1;33m\u001b[0m\u001b[1;33m\u001b[0m\u001b[0m\n\u001b[0m\u001b[0;32m    217\u001b[0m \u001b[1;33m\u001b[0m\u001b[0m\n\u001b[0;32m    218\u001b[0m \u001b[1;33m\u001b[0m\u001b[0m\n",
      "\u001b[1;32m~\\anaconda3\\lib\\site-packages\\sklearn\\model_selection\\_validation.py\u001b[0m in \u001b[0;36m_fit_and_score\u001b[1;34m(estimator, X, y, scorer, train, test, verbose, parameters, fit_params, return_train_score, return_parameters, return_n_test_samples, return_times, return_estimator, split_progress, candidate_progress, error_score)\u001b[0m\n\u001b[0;32m    678\u001b[0m             \u001b[0mestimator\u001b[0m\u001b[1;33m.\u001b[0m\u001b[0mfit\u001b[0m\u001b[1;33m(\u001b[0m\u001b[0mX_train\u001b[0m\u001b[1;33m,\u001b[0m \u001b[1;33m**\u001b[0m\u001b[0mfit_params\u001b[0m\u001b[1;33m)\u001b[0m\u001b[1;33m\u001b[0m\u001b[1;33m\u001b[0m\u001b[0m\n\u001b[0;32m    679\u001b[0m         \u001b[1;32melse\u001b[0m\u001b[1;33m:\u001b[0m\u001b[1;33m\u001b[0m\u001b[1;33m\u001b[0m\u001b[0m\n\u001b[1;32m--> 680\u001b[1;33m             \u001b[0mestimator\u001b[0m\u001b[1;33m.\u001b[0m\u001b[0mfit\u001b[0m\u001b[1;33m(\u001b[0m\u001b[0mX_train\u001b[0m\u001b[1;33m,\u001b[0m \u001b[0my_train\u001b[0m\u001b[1;33m,\u001b[0m \u001b[1;33m**\u001b[0m\u001b[0mfit_params\u001b[0m\u001b[1;33m)\u001b[0m\u001b[1;33m\u001b[0m\u001b[1;33m\u001b[0m\u001b[0m\n\u001b[0m\u001b[0;32m    681\u001b[0m \u001b[1;33m\u001b[0m\u001b[0m\n\u001b[0;32m    682\u001b[0m     \u001b[1;32mexcept\u001b[0m \u001b[0mException\u001b[0m\u001b[1;33m:\u001b[0m\u001b[1;33m\u001b[0m\u001b[1;33m\u001b[0m\u001b[0m\n",
      "\u001b[1;32m~\\anaconda3\\lib\\site-packages\\lightgbm\\sklearn.py\u001b[0m in \u001b[0;36mfit\u001b[1;34m(self, X, y, sample_weight, init_score, eval_set, eval_names, eval_sample_weight, eval_class_weight, eval_init_score, eval_metric, early_stopping_rounds, verbose, feature_name, categorical_feature, callbacks, init_model)\u001b[0m\n\u001b[0;32m    965\u001b[0m                     \u001b[0mvalid_sets\u001b[0m\u001b[1;33m[\u001b[0m\u001b[0mi\u001b[0m\u001b[1;33m]\u001b[0m \u001b[1;33m=\u001b[0m \u001b[1;33m(\u001b[0m\u001b[0mvalid_x\u001b[0m\u001b[1;33m,\u001b[0m \u001b[0mself\u001b[0m\u001b[1;33m.\u001b[0m\u001b[0m_le\u001b[0m\u001b[1;33m.\u001b[0m\u001b[0mtransform\u001b[0m\u001b[1;33m(\u001b[0m\u001b[0mvalid_y\u001b[0m\u001b[1;33m)\u001b[0m\u001b[1;33m)\u001b[0m\u001b[1;33m\u001b[0m\u001b[1;33m\u001b[0m\u001b[0m\n\u001b[0;32m    966\u001b[0m \u001b[1;33m\u001b[0m\u001b[0m\n\u001b[1;32m--> 967\u001b[1;33m         super().fit(X, _y, sample_weight=sample_weight, init_score=init_score, eval_set=valid_sets,\n\u001b[0m\u001b[0;32m    968\u001b[0m                     \u001b[0meval_names\u001b[0m\u001b[1;33m=\u001b[0m\u001b[0meval_names\u001b[0m\u001b[1;33m,\u001b[0m \u001b[0meval_sample_weight\u001b[0m\u001b[1;33m=\u001b[0m\u001b[0meval_sample_weight\u001b[0m\u001b[1;33m,\u001b[0m\u001b[1;33m\u001b[0m\u001b[1;33m\u001b[0m\u001b[0m\n\u001b[0;32m    969\u001b[0m                     \u001b[0meval_class_weight\u001b[0m\u001b[1;33m=\u001b[0m\u001b[0meval_class_weight\u001b[0m\u001b[1;33m,\u001b[0m \u001b[0meval_init_score\u001b[0m\u001b[1;33m=\u001b[0m\u001b[0meval_init_score\u001b[0m\u001b[1;33m,\u001b[0m\u001b[1;33m\u001b[0m\u001b[1;33m\u001b[0m\u001b[0m\n",
      "\u001b[1;32m~\\anaconda3\\lib\\site-packages\\lightgbm\\sklearn.py\u001b[0m in \u001b[0;36mfit\u001b[1;34m(self, X, y, sample_weight, init_score, group, eval_set, eval_names, eval_sample_weight, eval_class_weight, eval_init_score, eval_group, eval_metric, early_stopping_rounds, verbose, feature_name, categorical_feature, callbacks, init_model)\u001b[0m\n\u001b[0;32m    746\u001b[0m         \u001b[0mcallbacks\u001b[0m\u001b[1;33m.\u001b[0m\u001b[0mappend\u001b[0m\u001b[1;33m(\u001b[0m\u001b[0mrecord_evaluation\u001b[0m\u001b[1;33m(\u001b[0m\u001b[0mevals_result\u001b[0m\u001b[1;33m)\u001b[0m\u001b[1;33m)\u001b[0m\u001b[1;33m\u001b[0m\u001b[1;33m\u001b[0m\u001b[0m\n\u001b[0;32m    747\u001b[0m \u001b[1;33m\u001b[0m\u001b[0m\n\u001b[1;32m--> 748\u001b[1;33m         self._Booster = train(\n\u001b[0m\u001b[0;32m    749\u001b[0m             \u001b[0mparams\u001b[0m\u001b[1;33m=\u001b[0m\u001b[0mparams\u001b[0m\u001b[1;33m,\u001b[0m\u001b[1;33m\u001b[0m\u001b[1;33m\u001b[0m\u001b[0m\n\u001b[0;32m    750\u001b[0m             \u001b[0mtrain_set\u001b[0m\u001b[1;33m=\u001b[0m\u001b[0mtrain_set\u001b[0m\u001b[1;33m,\u001b[0m\u001b[1;33m\u001b[0m\u001b[1;33m\u001b[0m\u001b[0m\n",
      "\u001b[1;32m~\\anaconda3\\lib\\site-packages\\lightgbm\\engine.py\u001b[0m in \u001b[0;36mtrain\u001b[1;34m(params, train_set, num_boost_round, valid_sets, valid_names, fobj, feval, init_model, feature_name, categorical_feature, early_stopping_rounds, evals_result, verbose_eval, learning_rates, keep_training_booster, callbacks)\u001b[0m\n\u001b[0;32m    290\u001b[0m                                     evaluation_result_list=None))\n\u001b[0;32m    291\u001b[0m \u001b[1;33m\u001b[0m\u001b[0m\n\u001b[1;32m--> 292\u001b[1;33m         \u001b[0mbooster\u001b[0m\u001b[1;33m.\u001b[0m\u001b[0mupdate\u001b[0m\u001b[1;33m(\u001b[0m\u001b[0mfobj\u001b[0m\u001b[1;33m=\u001b[0m\u001b[0mfobj\u001b[0m\u001b[1;33m)\u001b[0m\u001b[1;33m\u001b[0m\u001b[1;33m\u001b[0m\u001b[0m\n\u001b[0m\u001b[0;32m    293\u001b[0m \u001b[1;33m\u001b[0m\u001b[0m\n\u001b[0;32m    294\u001b[0m         \u001b[0mevaluation_result_list\u001b[0m \u001b[1;33m=\u001b[0m \u001b[1;33m[\u001b[0m\u001b[1;33m]\u001b[0m\u001b[1;33m\u001b[0m\u001b[1;33m\u001b[0m\u001b[0m\n",
      "\u001b[1;32m~\\anaconda3\\lib\\site-packages\\lightgbm\\basic.py\u001b[0m in \u001b[0;36mupdate\u001b[1;34m(self, train_set, fobj)\u001b[0m\n\u001b[0;32m   3019\u001b[0m             \u001b[1;32mif\u001b[0m \u001b[0mself\u001b[0m\u001b[1;33m.\u001b[0m\u001b[0m__set_objective_to_none\u001b[0m\u001b[1;33m:\u001b[0m\u001b[1;33m\u001b[0m\u001b[1;33m\u001b[0m\u001b[0m\n\u001b[0;32m   3020\u001b[0m                 \u001b[1;32mraise\u001b[0m \u001b[0mLightGBMError\u001b[0m\u001b[1;33m(\u001b[0m\u001b[1;34m'Cannot update due to null objective function.'\u001b[0m\u001b[1;33m)\u001b[0m\u001b[1;33m\u001b[0m\u001b[1;33m\u001b[0m\u001b[0m\n\u001b[1;32m-> 3021\u001b[1;33m             _safe_call(_LIB.LGBM_BoosterUpdateOneIter(\n\u001b[0m\u001b[0;32m   3022\u001b[0m                 \u001b[0mself\u001b[0m\u001b[1;33m.\u001b[0m\u001b[0mhandle\u001b[0m\u001b[1;33m,\u001b[0m\u001b[1;33m\u001b[0m\u001b[1;33m\u001b[0m\u001b[0m\n\u001b[0;32m   3023\u001b[0m                 ctypes.byref(is_finished)))\n",
      "\u001b[1;31mKeyboardInterrupt\u001b[0m: "
     ]
    }
   ],
   "source": [
    "y_t = np.concatenate([y_1, pre20])\n",
    "y_t = list(y_t)\n",
    "y_train_change=pd.Series(y_t)\n",
    "\n",
    "lgb.fit(X_train_2,y_train_change)\n",
    "\n",
    "pre21 = lgb.predict(X_test)\n",
    "# kaggle 양식 불러오기\n",
    "rs =  pd.read_csv('./data/kaggle/sample_submission.csv')\n",
    "rs['income'] = pre21 # 내 모델의 예측 결과를 양식에 넣기\n",
    "rs.to_csv('Last21.csv', index = False)\n",
    "\n",
    "scores = cross_val_score(lgb, X_train_2, y_train_change, cv=5, scoring='accuracy')\n",
    "\n",
    "# 교차 검증 결과 출력\n",
    "print(\"교차 검증 정확도:\", scores)\n",
    "print(\"평균 정확도:\", scores.mean())"
   ]
  },
  {
   "cell_type": "code",
   "execution_count": null,
   "id": "802927b9",
   "metadata": {
    "ExecuteTime": {
     "end_time": "2023-05-31T07:48:38.289849Z",
     "start_time": "2023-05-31T07:48:38.289849Z"
    }
   },
   "outputs": [],
   "source": [
    "y_t = np.concatenate([y_1, pre21])\n",
    "y_t = list(y_t)\n",
    "y_train_change=pd.Series(y_t)\n",
    "\n",
    "lgb.fit(X_train_2,y_train_change)\n",
    "\n",
    "pre22 = lgb.predict(X_test)\n",
    "# kaggle 양식 불러오기\n",
    "rs =  pd.read_csv('./data/kaggle/sample_submission.csv')\n",
    "rs['income'] = pre22 # 내 모델의 예측 결과를 양식에 넣기\n",
    "rs.to_csv('Last22.csv', index = False)\n",
    "\n",
    "scores = cross_val_score(lgb, X_train_2, y_train_change, cv=5, scoring='accuracy')\n",
    "\n",
    "# 교차 검증 결과 출력\n",
    "print(\"교차 검증 정확도:\", scores)\n",
    "print(\"평균 정확도:\", scores.mean())"
   ]
  },
  {
   "cell_type": "code",
   "execution_count": null,
   "id": "18f87d16",
   "metadata": {
    "ExecuteTime": {
     "end_time": "2023-05-31T07:48:38.291843Z",
     "start_time": "2023-05-31T07:48:38.291843Z"
    }
   },
   "outputs": [],
   "source": [
    "y_t = np.concatenate([y_1, pre22])\n",
    "y_t = list(y_t)\n",
    "y_train_change=pd.Series(y_t)\n",
    "\n",
    "lgb.fit(X_train_2,y_train_change)\n",
    "\n",
    "pre23 = lgb.predict(X_test)\n",
    "# kaggle 양식 불러오기\n",
    "rs =  pd.read_csv('./data/kaggle/sample_submission.csv')\n",
    "rs['income'] = pre23 # 내 모델의 예측 결과를 양식에 넣기\n",
    "rs.to_csv('Last23.csv', index = False)\n",
    "\n",
    "scores = cross_val_score(lgb, X_train_2, y_train_change, cv=5, scoring='accuracy')\n",
    "\n",
    "# 교차 검증 결과 출력\n",
    "print(\"교차 검증 정확도:\", scores)\n",
    "print(\"평균 정확도:\", scores.mean())"
   ]
  },
  {
   "cell_type": "code",
   "execution_count": null,
   "id": "ada757c7",
   "metadata": {
    "ExecuteTime": {
     "end_time": "2023-05-31T07:48:38.292841Z",
     "start_time": "2023-05-31T07:48:38.292841Z"
    }
   },
   "outputs": [],
   "source": [
    "y_t = np.concatenate([y_1, pre23])\n",
    "y_t = list(y_t)\n",
    "y_train_change=pd.Series(y_t)\n",
    "\n",
    "lgb.fit(X_train_2,y_train_change)\n",
    "\n",
    "pre24 = lgb.predict(X_test)\n",
    "# kaggle 양식 불러오기\n",
    "rs =  pd.read_csv('./data/kaggle/sample_submission.csv')\n",
    "rs['income'] = pre24 # 내 모델의 예측 결과를 양식에 넣기\n",
    "rs.to_csv('Last24.csv', index = False)\n",
    "\n",
    "scores = cross_val_score(lgb, X_train_2, y_train_change, cv=5, scoring='accuracy')\n",
    "\n",
    "# 교차 검증 결과 출력\n",
    "print(\"교차 검증 정확도:\", scores)\n",
    "print(\"평균 정확도:\", scores.mean())"
   ]
  },
  {
   "cell_type": "code",
   "execution_count": null,
   "id": "32875fcf",
   "metadata": {
    "ExecuteTime": {
     "end_time": "2023-05-31T07:48:38.294834Z",
     "start_time": "2023-05-31T07:48:38.294834Z"
    }
   },
   "outputs": [],
   "source": [
    "y_t = np.concatenate([y_1, pre24])\n",
    "y_t = list(y_t)\n",
    "y_train_change=pd.Series(y_t)\n",
    "\n",
    "lgb.fit(X_train_2,y_train_change)\n",
    "\n",
    "pre25 = lgb.predict(X_test)\n",
    "# kaggle 양식 불러오기\n",
    "rs =  pd.read_csv('./data/kaggle/sample_submission.csv')\n",
    "rs['income'] = pre25 # 내 모델의 예측 결과를 양식에 넣기\n",
    "rs.to_csv('Last25.csv', index = False)\n",
    "\n",
    "scores = cross_val_score(lgb, X_train_2, y_train_change, cv=5, scoring='accuracy')\n",
    "\n",
    "# 교차 검증 결과 출력\n",
    "print(\"교차 검증 정확도:\", scores)\n",
    "print(\"평균 정확도:\", scores.mean())"
   ]
  },
  {
   "cell_type": "code",
   "execution_count": null,
   "id": "5a1f854b",
   "metadata": {
    "ExecuteTime": {
     "end_time": "2023-05-31T07:48:38.296830Z",
     "start_time": "2023-05-31T07:48:38.296830Z"
    }
   },
   "outputs": [],
   "source": [
    "y_t = np.concatenate([y_1, pre25])\n",
    "y_t = list(y_t)\n",
    "y_train_change=pd.Series(y_t)\n",
    "\n",
    "lgb.fit(X_train_2,y_train_change)\n",
    "\n",
    "pre26 = lgb.predict(X_test)\n",
    "# kaggle 양식 불러오기\n",
    "rs =  pd.read_csv('./data/kaggle/sample_submission.csv')\n",
    "rs['income'] = pre26 # 내 모델의 예측 결과를 양식에 넣기\n",
    "rs.to_csv('Last26.csv', index = False)\n",
    "\n",
    "scores = cross_val_score(lgb, X_train_2, y_train_change, cv=5, scoring='accuracy')\n",
    "\n",
    "# 교차 검증 결과 출력\n",
    "print(\"교차 검증 정확도:\", scores)\n",
    "print(\"평균 정확도:\", scores.mean())"
   ]
  },
  {
   "cell_type": "code",
   "execution_count": null,
   "id": "71ea525e",
   "metadata": {},
   "outputs": [],
   "source": []
  },
  {
   "cell_type": "code",
   "execution_count": null,
   "id": "1583385f",
   "metadata": {},
   "outputs": [],
   "source": []
  },
  {
   "cell_type": "code",
   "execution_count": null,
   "id": "bccb8d36",
   "metadata": {},
   "outputs": [],
   "source": []
  }
 ],
 "metadata": {
  "kernelspec": {
   "display_name": "Python 3 (ipykernel)",
   "language": "python",
   "name": "python3"
  },
  "language_info": {
   "codemirror_mode": {
    "name": "ipython",
    "version": 3
   },
   "file_extension": ".py",
   "mimetype": "text/x-python",
   "name": "python",
   "nbconvert_exporter": "python",
   "pygments_lexer": "ipython3",
   "version": "3.9.13"
  },
  "toc": {
   "base_numbering": 1,
   "nav_menu": {},
   "number_sections": true,
   "sideBar": true,
   "skip_h1_title": false,
   "title_cell": "Table of Contents",
   "title_sidebar": "Contents",
   "toc_cell": false,
   "toc_position": {},
   "toc_section_display": true,
   "toc_window_display": false
  },
  "varInspector": {
   "cols": {
    "lenName": 16,
    "lenType": 16,
    "lenVar": 40
   },
   "kernels_config": {
    "python": {
     "delete_cmd_postfix": "",
     "delete_cmd_prefix": "del ",
     "library": "var_list.py",
     "varRefreshCmd": "print(var_dic_list())"
    },
    "r": {
     "delete_cmd_postfix": ") ",
     "delete_cmd_prefix": "rm(",
     "library": "var_list.r",
     "varRefreshCmd": "cat(var_dic_list()) "
    }
   },
   "types_to_exclude": [
    "module",
    "function",
    "builtin_function_or_method",
    "instance",
    "_Feature"
   ],
   "window_display": false
  }
 },
 "nbformat": 4,
 "nbformat_minor": 5
}
