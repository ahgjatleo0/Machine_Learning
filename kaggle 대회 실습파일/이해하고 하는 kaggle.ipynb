{
 "cells": [
  {
   "cell_type": "code",
   "execution_count": 77,
   "id": "d34b7d66",
   "metadata": {
    "ExecuteTime": {
     "end_time": "2023-05-31T13:43:36.719103Z",
     "start_time": "2023-05-31T13:43:36.616976Z"
    }
   },
   "outputs": [],
   "source": [
    "import pandas as pd\n",
    "import numpy as np\n",
    "import matplotlib.pyplot as plt\n",
    "import seaborn as sns\n",
    "import warnings \n",
    "import os\n",
    "# train 변수 : 문제 가져오기\n",
    "train = pd.read_csv('data/kaggle/train.csv')\n",
    "# test 변수 : 정답 가져오기\n",
    "test = pd.read_csv('data/kaggle/test.csv')\n"
   ]
  },
  {
   "cell_type": "code",
   "execution_count": 25,
   "id": "067c7255",
   "metadata": {
    "ExecuteTime": {
     "end_time": "2023-05-31T13:34:23.149622Z",
     "start_time": "2023-05-31T13:34:23.142643Z"
    }
   },
   "outputs": [
    {
     "name": "stdout",
     "output_type": "stream",
     "text": [
      "(29305, 16) (19537, 15)\n"
     ]
    }
   ],
   "source": [
    "print(train.shape, test.shape)"
   ]
  },
  {
   "cell_type": "code",
   "execution_count": 60,
   "id": "384c8c46",
   "metadata": {
    "ExecuteTime": {
     "end_time": "2023-05-31T13:41:22.565046Z",
     "start_time": "2023-05-31T13:41:22.496932Z"
    }
   },
   "outputs": [
    {
     "name": "stdout",
     "output_type": "stream",
     "text": [
      "no                0\n",
      "age               0\n",
      "workclass         0\n",
      "fnlwgt            0\n",
      "education         0\n",
      "education-num     0\n",
      "marital-status    0\n",
      "occupation        0\n",
      "relationship      0\n",
      "race              0\n",
      "sex               0\n",
      "capital-gain      0\n",
      "capital-loss      0\n",
      "hours-per-week    0\n",
      "native-country    0\n",
      "income            0\n",
      "dtype: int64\n",
      "no                0\n",
      "age               0\n",
      "workclass         0\n",
      "fnlwgt            0\n",
      "education         0\n",
      "education-num     0\n",
      "marital-status    0\n",
      "occupation        0\n",
      "relationship      0\n",
      "race              0\n",
      "sex               0\n",
      "capital-gain      0\n",
      "capital-loss      0\n",
      "hours-per-week    0\n",
      "native-country    0\n",
      "dtype: int64\n"
     ]
    }
   ],
   "source": [
    "# 결측치 확인\n",
    "print(train.isnull().sum())\n",
    "print(test.isnull().sum())"
   ]
  },
  {
   "cell_type": "code",
   "execution_count": 61,
   "id": "c9ac9975",
   "metadata": {
    "ExecuteTime": {
     "end_time": "2023-05-31T13:41:24.746180Z",
     "start_time": "2023-05-31T13:41:24.674343Z"
    }
   },
   "outputs": [
    {
     "name": "stdout",
     "output_type": "stream",
     "text": [
      "<class 'pandas.core.frame.DataFrame'>\n",
      "RangeIndex: 29305 entries, 0 to 29304\n",
      "Data columns (total 16 columns):\n",
      " #   Column          Non-Null Count  Dtype \n",
      "---  ------          --------------  ----- \n",
      " 0   no              29305 non-null  int64 \n",
      " 1   age             29305 non-null  int64 \n",
      " 2   workclass       29305 non-null  object\n",
      " 3   fnlwgt          29305 non-null  int64 \n",
      " 4   education       29305 non-null  object\n",
      " 5   education-num   29305 non-null  int64 \n",
      " 6   marital-status  29305 non-null  object\n",
      " 7   occupation      29305 non-null  object\n",
      " 8   relationship    29305 non-null  object\n",
      " 9   race            29305 non-null  object\n",
      " 10  sex             29305 non-null  object\n",
      " 11  capital-gain    29305 non-null  int64 \n",
      " 12  capital-loss    29305 non-null  int64 \n",
      " 13  hours-per-week  29305 non-null  int64 \n",
      " 14  native-country  29305 non-null  object\n",
      " 15  income          29305 non-null  int64 \n",
      "dtypes: int64(8), object(8)\n",
      "memory usage: 3.6+ MB\n",
      "None\n",
      "<class 'pandas.core.frame.DataFrame'>\n",
      "RangeIndex: 19537 entries, 0 to 19536\n",
      "Data columns (total 15 columns):\n",
      " #   Column          Non-Null Count  Dtype \n",
      "---  ------          --------------  ----- \n",
      " 0   no              19537 non-null  int64 \n",
      " 1   age             19537 non-null  int64 \n",
      " 2   workclass       19537 non-null  object\n",
      " 3   fnlwgt          19537 non-null  int64 \n",
      " 4   education       19537 non-null  object\n",
      " 5   education-num   19537 non-null  int64 \n",
      " 6   marital-status  19537 non-null  object\n",
      " 7   occupation      19537 non-null  object\n",
      " 8   relationship    19537 non-null  object\n",
      " 9   race            19537 non-null  object\n",
      " 10  sex             19537 non-null  object\n",
      " 11  capital-gain    19537 non-null  int64 \n",
      " 12  capital-loss    19537 non-null  int64 \n",
      " 13  hours-per-week  19537 non-null  int64 \n",
      " 14  native-country  19537 non-null  object\n",
      "dtypes: int64(7), object(8)\n",
      "memory usage: 2.2+ MB\n",
      "None\n"
     ]
    }
   ],
   "source": [
    "# 정보 확인\n",
    "print(train.info())\n",
    "print(test.info())"
   ]
  },
  {
   "cell_type": "code",
   "execution_count": 62,
   "id": "7713a031",
   "metadata": {
    "ExecuteTime": {
     "end_time": "2023-05-31T13:41:32.064673Z",
     "start_time": "2023-05-31T13:41:32.052541Z"
    }
   },
   "outputs": [
    {
     "data": {
      "text/plain": [
       "0    22260\n",
       "1     7045\n",
       "Name: income, dtype: int64"
      ]
     },
     "execution_count": 62,
     "metadata": {},
     "output_type": "execute_result"
    }
   ],
   "source": [
    "train['income'].value_counts()"
   ]
  },
  {
   "cell_type": "code",
   "execution_count": 78,
   "id": "30100e94",
   "metadata": {
    "ExecuteTime": {
     "end_time": "2023-05-31T13:43:47.350484Z",
     "start_time": "2023-05-31T13:43:47.335524Z"
    }
   },
   "outputs": [],
   "source": [
    "# all_data로 train + test 세트 합치기 (전처리 동시 진행)\n",
    "all_data = pd.concat([train, test], sort=False)"
   ]
  },
  {
   "cell_type": "code",
   "execution_count": 79,
   "id": "95541b2d",
   "metadata": {
    "ExecuteTime": {
     "end_time": "2023-05-31T13:43:50.161180Z",
     "start_time": "2023-05-31T13:43:50.143257Z"
    }
   },
   "outputs": [
    {
     "data": {
      "text/plain": [
       " Private             33906\n",
       " Self-emp-not-inc     3862\n",
       " Local-gov            3136\n",
       " ?                    2799\n",
       " State-gov            1981\n",
       " Self-emp-inc         1695\n",
       " Federal-gov          1432\n",
       " Without-pay            21\n",
       " Never-worked           10\n",
       "Name: workclass, dtype: int64"
      ]
     },
     "execution_count": 79,
     "metadata": {},
     "output_type": "execute_result"
    }
   ],
   "source": [
    "all_data['workclass'].value_counts()"
   ]
  },
  {
   "cell_type": "code",
   "execution_count": 65,
   "id": "5d8dc40c",
   "metadata": {
    "ExecuteTime": {
     "end_time": "2023-05-31T13:41:46.149482Z",
     "start_time": "2023-05-31T13:41:45.993955Z"
    }
   },
   "outputs": [
    {
     "data": {
      "text/plain": [
       "<AxesSubplot:xlabel='workclass'>"
      ]
     },
     "execution_count": 65,
     "metadata": {},
     "output_type": "execute_result"
    },
    {
     "data": {
      "image/png": "[encoded data removed]",
      "text/plain": [
       "<Figure size 640x480 with 1 Axes>"
      ]
     },
     "metadata": {},
     "output_type": "display_data"
    }
   ],
   "source": [
    "all_data.groupby('workclass')['income'].mean().sort_values().plot(kind='bar')"
   ]
  },
  {
   "cell_type": "code",
   "execution_count": 66,
   "id": "7ef138f0",
   "metadata": {
    "ExecuteTime": {
     "end_time": "2023-05-31T13:41:49.849824Z",
     "start_time": "2023-05-31T13:41:49.835849Z"
    }
   },
   "outputs": [],
   "source": [
    "workclass_other = ['Without-pay', 'Never-worked']\n",
    "all_data['workclass'] = all_data['workclass'].apply(lambda x: 'Other' if x in workclass_other else x)"
   ]
  },
  {
   "cell_type": "code",
   "execution_count": 67,
   "id": "7ce21634",
   "metadata": {
    "ExecuteTime": {
     "end_time": "2023-05-31T13:41:51.943703Z",
     "start_time": "2023-05-31T13:41:51.930754Z"
    }
   },
   "outputs": [
    {
     "data": {
      "text/plain": [
       " Private             33906\n",
       " Self-emp-not-inc     3862\n",
       " Local-gov            3136\n",
       " ?                    2799\n",
       " State-gov            1981\n",
       " Self-emp-inc         1695\n",
       " Federal-gov          1432\n",
       " Without-pay            21\n",
       " Never-worked           10\n",
       "Name: workclass, dtype: int64"
      ]
     },
     "execution_count": 67,
     "metadata": {},
     "output_type": "execute_result"
    }
   ],
   "source": [
    "all_data['workclass'].value_counts()"
   ]
  },
  {
   "cell_type": "code",
   "execution_count": 68,
   "id": "f34a0a87",
   "metadata": {
    "ExecuteTime": {
     "end_time": "2023-05-31T13:41:54.733448Z",
     "start_time": "2023-05-31T13:41:54.164467Z"
    }
   },
   "outputs": [
    {
     "name": "stderr",
     "output_type": "stream",
     "text": [
      "C:\\Users\\smhrd\\anaconda3\\lib\\site-packages\\seaborn\\distributions.py:2619: FutureWarning: `distplot` is a deprecated function and will be removed in a future version. Please adapt your code to use either `displot` (a figure-level function with similar flexibility) or `kdeplot` (an axes-level function for kernel density plots).\n",
      "  warnings.warn(msg, FutureWarning)\n",
      "C:\\Users\\smhrd\\anaconda3\\lib\\site-packages\\seaborn\\distributions.py:2103: FutureWarning: The `axis` variable is no longer used and will be removed. Instead, assign variables directly to `x` or `y`.\n",
      "  warnings.warn(msg, FutureWarning)\n",
      "C:\\Users\\smhrd\\anaconda3\\lib\\site-packages\\seaborn\\distributions.py:2619: FutureWarning: `distplot` is a deprecated function and will be removed in a future version. Please adapt your code to use either `displot` (a figure-level function with similar flexibility) or `kdeplot` (an axes-level function for kernel density plots).\n",
      "  warnings.warn(msg, FutureWarning)\n",
      "C:\\Users\\smhrd\\anaconda3\\lib\\site-packages\\seaborn\\distributions.py:2103: FutureWarning: The `axis` variable is no longer used and will be removed. Instead, assign variables directly to `x` or `y`.\n",
      "  warnings.warn(msg, FutureWarning)\n"
     ]
    },
    {
     "data": {
      "text/plain": [
       "<AxesSubplot:xlabel='age', ylabel='Density'>"
      ]
     },
     "execution_count": 68,
     "metadata": {},
     "output_type": "execute_result"
    },
    {
     "data": {
      "image/png": "[encoded data removed]",
      "text/plain": [
       "<Figure size 640x480 with 1 Axes>"
      ]
     },
     "metadata": {},
     "output_type": "display_data"
    }
   ],
   "source": [
    "df1 = all_data.loc[all_data['income'] == 0, 'age']\n",
    "df2 = all_data.loc[all_data['income'] == 1, 'age']\n",
    "\n",
    "plt.show()\n",
    "sns.distplot(df1, kde=True, rug=True, hist=False, color='blue')\n",
    "sns.distplot(df2, kde=True, rug=True, hist=False, color='red')"
   ]
  },
  {
   "cell_type": "code",
   "execution_count": 41,
   "id": "62bf2c92",
   "metadata": {
    "ExecuteTime": {
     "end_time": "2023-05-31T13:36:53.957935Z",
     "start_time": "2023-05-31T13:36:53.100888Z"
    }
   },
   "outputs": [
    {
     "name": "stderr",
     "output_type": "stream",
     "text": [
      "C:\\Users\\smhrd\\anaconda3\\lib\\site-packages\\seaborn\\distributions.py:2619: FutureWarning: `distplot` is a deprecated function and will be removed in a future version. Please adapt your code to use either `displot` (a figure-level function with similar flexibility) or `kdeplot` (an axes-level function for kernel density plots).\n",
      "  warnings.warn(msg, FutureWarning)\n",
      "C:\\Users\\smhrd\\anaconda3\\lib\\site-packages\\seaborn\\distributions.py:2103: FutureWarning: The `axis` variable is no longer used and will be removed. Instead, assign variables directly to `x` or `y`.\n",
      "  warnings.warn(msg, FutureWarning)\n",
      "C:\\Users\\smhrd\\anaconda3\\lib\\site-packages\\seaborn\\distributions.py:2619: FutureWarning: `distplot` is a deprecated function and will be removed in a future version. Please adapt your code to use either `displot` (a figure-level function with similar flexibility) or `kdeplot` (an axes-level function for kernel density plots).\n",
      "  warnings.warn(msg, FutureWarning)\n",
      "C:\\Users\\smhrd\\anaconda3\\lib\\site-packages\\seaborn\\distributions.py:2103: FutureWarning: The `axis` variable is no longer used and will be removed. Instead, assign variables directly to `x` or `y`.\n",
      "  warnings.warn(msg, FutureWarning)\n"
     ]
    },
    {
     "data": {
      "text/plain": [
       "<AxesSubplot:xlabel='fnlwgt', ylabel='Density'>"
      ]
     },
     "execution_count": 41,
     "metadata": {},
     "output_type": "execute_result"
    },
    {
     "data": {
      "image/png": "[encoded data removed]",
      "text/plain": [
       "<Figure size 640x480 with 1 Axes>"
      ]
     },
     "metadata": {},
     "output_type": "display_data"
    }
   ],
   "source": [
    "df1 = all_data.loc[all_data['income'] == 0, 'fnlwgt']\n",
    "df2 = all_data.loc[all_data['income'] == 1, 'fnlwgt']\n",
    "\n",
    "plt.show()\n",
    "sns.distplot(df1, kde=True, rug=True, hist=False, color='blue')\n",
    "sns.distplot(df2, kde=True, rug=True, hist=False, color='red')"
   ]
  },
  {
   "cell_type": "code",
   "execution_count": 42,
   "id": "ec10a5e1",
   "metadata": {
    "ExecuteTime": {
     "end_time": "2023-05-31T13:37:18.084610Z",
     "start_time": "2023-05-31T13:37:17.268623Z"
    },
    "collapsed": true
   },
   "outputs": [
    {
     "name": "stderr",
     "output_type": "stream",
     "text": [
      "C:\\Users\\smhrd\\anaconda3\\lib\\site-packages\\seaborn\\distributions.py:2619: FutureWarning: `distplot` is a deprecated function and will be removed in a future version. Please adapt your code to use either `displot` (a figure-level function with similar flexibility) or `histplot` (an axes-level function for histograms).\n",
      "  warnings.warn(msg, FutureWarning)\n",
      "C:\\Users\\smhrd\\anaconda3\\lib\\site-packages\\seaborn\\distributions.py:2619: FutureWarning: `distplot` is a deprecated function and will be removed in a future version. Please adapt your code to use either `displot` (a figure-level function with similar flexibility) or `histplot` (an axes-level function for histograms).\n",
      "  warnings.warn(msg, FutureWarning)\n"
     ]
    },
    {
     "data": {
      "text/plain": [
       "<seaborn.axisgrid.FacetGrid at 0x1b269665730>"
      ]
     },
     "execution_count": 42,
     "metadata": {},
     "output_type": "execute_result"
    },
    {
     "data": {
      "image/png": "[encoded data removed]",
      "text/plain": [
       "<Figure size 1000x500 with 2 Axes>"
      ]
     },
     "metadata": {},
     "output_type": "display_data"
    }
   ],
   "source": [
    "g = sns.FacetGrid(all_data, col=\"income\", height=5)\n",
    "g.map(sns.distplot, 'fnlwgt')"
   ]
  },
  {
   "cell_type": "code",
   "execution_count": 117,
   "id": "1541a2e0",
   "metadata": {
    "ExecuteTime": {
     "end_time": "2023-05-31T13:57:17.212536Z",
     "start_time": "2023-05-31T13:57:17.207530Z"
    }
   },
   "outputs": [],
   "source": [
    "all_data['fnlwgt_log'] = np.log(all_data['fnlwgt'])"
   ]
  },
  {
   "cell_type": "code",
   "execution_count": 118,
   "id": "6b7a31ac",
   "metadata": {
    "ExecuteTime": {
     "end_time": "2023-05-31T13:57:19.070983Z",
     "start_time": "2023-05-31T13:57:19.057948Z"
    }
   },
   "outputs": [
    {
     "data": {
      "text/plain": [
       " HS-grad         15784\n",
       " Some-college    10878\n",
       " Bachelors        8025\n",
       " Masters          2657\n",
       " Assoc-voc        2061\n",
       " 11th             1812\n",
       " Assoc-acdm       1601\n",
       " 10th             1389\n",
       " 7th-8th           955\n",
       " Prof-school       834\n",
       " 9th               756\n",
       " 12th              657\n",
       " Doctorate         594\n",
       " 5th-6th           509\n",
       " 1st-4th           247\n",
       " Preschool          83\n",
       "Name: education, dtype: int64"
      ]
     },
     "execution_count": 118,
     "metadata": {},
     "output_type": "execute_result"
    }
   ],
   "source": [
    "all_data['education'].value_counts()"
   ]
  },
  {
   "cell_type": "code",
   "execution_count": 70,
   "id": "fa4c4b81",
   "metadata": {
    "ExecuteTime": {
     "end_time": "2023-05-31T13:42:08.752893Z",
     "start_time": "2023-05-31T13:42:08.737931Z"
    }
   },
   "outputs": [
    {
     "data": {
      "text/plain": [
       "9     15784\n",
       "10    10878\n",
       "13     8025\n",
       "14     2657\n",
       "11     2061\n",
       "7      1812\n",
       "12     1601\n",
       "6      1389\n",
       "4       955\n",
       "15      834\n",
       "5       756\n",
       "8       657\n",
       "16      594\n",
       "3       509\n",
       "2       247\n",
       "1        83\n",
       "Name: education-num, dtype: int64"
      ]
     },
     "execution_count": 70,
     "metadata": {},
     "output_type": "execute_result"
    }
   ],
   "source": [
    "all_data['education-num'].value_counts()"
   ]
  },
  {
   "cell_type": "code",
   "execution_count": 71,
   "id": "f8510f35",
   "metadata": {
    "ExecuteTime": {
     "end_time": "2023-05-31T13:42:22.283389Z",
     "start_time": "2023-05-31T13:42:22.259459Z"
    }
   },
   "outputs": [
    {
     "data": {
      "text/plain": [
       "0.0"
      ]
     },
     "execution_count": 71,
     "metadata": {},
     "output_type": "execute_result"
    }
   ],
   "source": [
    "all_data.loc[all_data['education'] == 'Preschool', 'income'].sum()"
   ]
  },
  {
   "cell_type": "code",
   "execution_count": 81,
   "id": "776355cd",
   "metadata": {
    "ExecuteTime": {
     "end_time": "2023-05-31T13:44:09.515539Z",
     "start_time": "2023-05-31T13:44:09.488537Z"
    }
   },
   "outputs": [
    {
     "data": {
      "text/html": [
       "<div>\n",
       "<style scoped>\n",
       "    .dataframe tbody tr th:only-of-type {\n",
       "        vertical-align: middle;\n",
       "    }\n",
       "\n",
       "    .dataframe tbody tr th {\n",
       "        vertical-align: top;\n",
       "    }\n",
       "\n",
       "    .dataframe thead th {\n",
       "        text-align: right;\n",
       "    }\n",
       "</style>\n",
       "<table border=\"1\" class=\"dataframe\">\n",
       "  <thead>\n",
       "    <tr style=\"text-align: right;\">\n",
       "      <th></th>\n",
       "      <th>mean</th>\n",
       "      <th>count</th>\n",
       "    </tr>\n",
       "    <tr>\n",
       "      <th>education</th>\n",
       "      <th></th>\n",
       "      <th></th>\n",
       "    </tr>\n",
       "  </thead>\n",
       "  <tbody>\n",
       "    <tr>\n",
       "      <th>Preschool</th>\n",
       "      <td>0.000000</td>\n",
       "      <td>46</td>\n",
       "    </tr>\n",
       "    <tr>\n",
       "      <th>1st-4th</th>\n",
       "      <td>0.013514</td>\n",
       "      <td>148</td>\n",
       "    </tr>\n",
       "    <tr>\n",
       "      <th>5th-6th</th>\n",
       "      <td>0.047904</td>\n",
       "      <td>334</td>\n",
       "    </tr>\n",
       "    <tr>\n",
       "      <th>10th</th>\n",
       "      <td>0.051471</td>\n",
       "      <td>816</td>\n",
       "    </tr>\n",
       "    <tr>\n",
       "      <th>9th</th>\n",
       "      <td>0.053488</td>\n",
       "      <td>430</td>\n",
       "    </tr>\n",
       "    <tr>\n",
       "      <th>11th</th>\n",
       "      <td>0.057711</td>\n",
       "      <td>1057</td>\n",
       "    </tr>\n",
       "    <tr>\n",
       "      <th>12th</th>\n",
       "      <td>0.065060</td>\n",
       "      <td>415</td>\n",
       "    </tr>\n",
       "    <tr>\n",
       "      <th>7th-8th</th>\n",
       "      <td>0.076655</td>\n",
       "      <td>574</td>\n",
       "    </tr>\n",
       "    <tr>\n",
       "      <th>HS-grad</th>\n",
       "      <td>0.160042</td>\n",
       "      <td>9435</td>\n",
       "    </tr>\n",
       "    <tr>\n",
       "      <th>Some-college</th>\n",
       "      <td>0.191674</td>\n",
       "      <td>6558</td>\n",
       "    </tr>\n",
       "    <tr>\n",
       "      <th>Assoc-voc</th>\n",
       "      <td>0.256911</td>\n",
       "      <td>1230</td>\n",
       "    </tr>\n",
       "    <tr>\n",
       "      <th>Assoc-acdm</th>\n",
       "      <td>0.259184</td>\n",
       "      <td>980</td>\n",
       "    </tr>\n",
       "    <tr>\n",
       "      <th>Bachelors</th>\n",
       "      <td>0.412129</td>\n",
       "      <td>4848</td>\n",
       "    </tr>\n",
       "    <tr>\n",
       "      <th>Masters</th>\n",
       "      <td>0.543793</td>\n",
       "      <td>1587</td>\n",
       "    </tr>\n",
       "    <tr>\n",
       "      <th>Doctorate</th>\n",
       "      <td>0.740634</td>\n",
       "      <td>347</td>\n",
       "    </tr>\n",
       "    <tr>\n",
       "      <th>Prof-school</th>\n",
       "      <td>0.750000</td>\n",
       "      <td>500</td>\n",
       "    </tr>\n",
       "  </tbody>\n",
       "</table>\n",
       "</div>"
      ],
      "text/plain": [
       "                   mean  count\n",
       "education                     \n",
       " Preschool     0.000000     46\n",
       " 1st-4th       0.013514    148\n",
       " 5th-6th       0.047904    334\n",
       " 10th          0.051471    816\n",
       " 9th           0.053488    430\n",
       " 11th          0.057711   1057\n",
       " 12th          0.065060    415\n",
       " 7th-8th       0.076655    574\n",
       " HS-grad       0.160042   9435\n",
       " Some-college  0.191674   6558\n",
       " Assoc-voc     0.256911   1230\n",
       " Assoc-acdm    0.259184    980\n",
       " Bachelors     0.412129   4848\n",
       " Masters       0.543793   1587\n",
       " Doctorate     0.740634    347\n",
       " Prof-school   0.750000    500"
      ]
     },
     "execution_count": 81,
     "metadata": {},
     "output_type": "execute_result"
    }
   ],
   "source": [
    "all_data.groupby(['education'])['income'].agg(['mean', 'count']).sort_values('mean')"
   ]
  },
  {
   "cell_type": "code",
   "execution_count": 73,
   "id": "edfd89bf",
   "metadata": {
    "ExecuteTime": {
     "end_time": "2023-05-31T13:43:17.764110Z",
     "start_time": "2023-05-31T13:43:17.744374Z"
    }
   },
   "outputs": [],
   "source": [
    "education_map = {\n",
    "    'Preschool': 'level_0', \n",
    "    '1st-4th': 'level_1', \n",
    "    '5th-6th': 'level_1', \n",
    "    '7th-8th': 'level_2', \n",
    "    '9th': 'level_2', \n",
    "    '10th': 'level_3', \n",
    "    '11th': 'level_3', \n",
    "    '12th': 'level_3', \n",
    "    'HS-grad': 'level_4', \n",
    "    'Some-college': 'level_5', \n",
    "    'Assoc-acdm': 'level_6', \n",
    "    'Assoc-voc': 'level_6', \n",
    "    'Bachelors': 'level_7', \n",
    "    'Masters': 'level_8', \n",
    "    'Prof-school': 'level_9', \n",
    "    'Doctorate': 'level_9',\n",
    "}"
   ]
  },
  {
   "cell_type": "code",
   "execution_count": 74,
   "id": "0e5255e8",
   "metadata": {
    "ExecuteTime": {
     "end_time": "2023-05-31T13:43:19.232028Z",
     "start_time": "2023-05-31T13:43:19.216638Z"
    }
   },
   "outputs": [],
   "source": [
    "all_data['education'] = all_data['education'].map(education_map)"
   ]
  },
  {
   "cell_type": "code",
   "execution_count": 82,
   "id": "7d4d9348",
   "metadata": {
    "ExecuteTime": {
     "end_time": "2023-05-31T13:44:30.642476Z",
     "start_time": "2023-05-31T13:44:30.625166Z"
    }
   },
   "outputs": [
    {
     "data": {
      "text/plain": [
       " HS-grad         15784\n",
       " Some-college    10878\n",
       " Bachelors        8025\n",
       " Masters          2657\n",
       " Assoc-voc        2061\n",
       " 11th             1812\n",
       " Assoc-acdm       1601\n",
       " 10th             1389\n",
       " 7th-8th           955\n",
       " Prof-school       834\n",
       " 9th               756\n",
       " 12th              657\n",
       " Doctorate         594\n",
       " 5th-6th           509\n",
       " 1st-4th           247\n",
       " Preschool          83\n",
       "Name: education, dtype: int64"
      ]
     },
     "execution_count": 82,
     "metadata": {},
     "output_type": "execute_result"
    }
   ],
   "source": [
    "all_data['education'].value_counts()"
   ]
  },
  {
   "cell_type": "code",
   "execution_count": 85,
   "id": "a7daa411",
   "metadata": {
    "ExecuteTime": {
     "end_time": "2023-05-31T13:44:57.047603Z",
     "start_time": "2023-05-31T13:44:57.031639Z"
    }
   },
   "outputs": [],
   "source": [
    "all_data = all_data.drop('education-num', axis = 1)"
   ]
  },
  {
   "cell_type": "code",
   "execution_count": 86,
   "id": "fbb7f935",
   "metadata": {
    "ExecuteTime": {
     "end_time": "2023-05-31T13:45:05.565564Z",
     "start_time": "2023-05-31T13:45:05.551011Z"
    }
   },
   "outputs": [
    {
     "data": {
      "text/plain": [
       "Index(['no', 'age', 'workclass', 'fnlwgt', 'education', 'marital-status',\n",
       "       'occupation', 'relationship', 'race', 'sex', 'capital-gain',\n",
       "       'capital-loss', 'hours-per-week', 'native-country', 'income'],\n",
       "      dtype='object')"
      ]
     },
     "execution_count": 86,
     "metadata": {},
     "output_type": "execute_result"
    }
   ],
   "source": [
    "all_data.columns"
   ]
  },
  {
   "cell_type": "code",
   "execution_count": 87,
   "id": "e9762c24",
   "metadata": {
    "ExecuteTime": {
     "end_time": "2023-05-31T13:45:42.408369Z",
     "start_time": "2023-05-31T13:45:42.385394Z"
    }
   },
   "outputs": [
    {
     "data": {
      "text/plain": [
       " Married-civ-spouse       22379\n",
       " Never-married            16117\n",
       " Divorced                  6633\n",
       " Separated                 1530\n",
       " Widowed                   1518\n",
       " Married-spouse-absent      628\n",
       " Married-AF-spouse           37\n",
       "Name: marital-status, dtype: int64"
      ]
     },
     "execution_count": 87,
     "metadata": {},
     "output_type": "execute_result"
    }
   ],
   "source": [
    "all_data['marital-status'].value_counts()"
   ]
  },
  {
   "cell_type": "code",
   "execution_count": 88,
   "id": "a2b484db",
   "metadata": {
    "ExecuteTime": {
     "end_time": "2023-05-31T13:46:03.809478Z",
     "start_time": "2023-05-31T13:46:03.760347Z"
    }
   },
   "outputs": [
    {
     "data": {
      "text/html": [
       "<div>\n",
       "<style scoped>\n",
       "    .dataframe tbody tr th:only-of-type {\n",
       "        vertical-align: middle;\n",
       "    }\n",
       "\n",
       "    .dataframe tbody tr th {\n",
       "        vertical-align: top;\n",
       "    }\n",
       "\n",
       "    .dataframe thead tr th {\n",
       "        text-align: left;\n",
       "    }\n",
       "\n",
       "    .dataframe thead tr:last-of-type th {\n",
       "        text-align: right;\n",
       "    }\n",
       "</style>\n",
       "<table border=\"1\" class=\"dataframe\">\n",
       "  <thead>\n",
       "    <tr>\n",
       "      <th></th>\n",
       "      <th>mean</th>\n",
       "      <th>count</th>\n",
       "    </tr>\n",
       "    <tr>\n",
       "      <th></th>\n",
       "      <th>income</th>\n",
       "      <th>income</th>\n",
       "    </tr>\n",
       "    <tr>\n",
       "      <th>marital-status</th>\n",
       "      <th></th>\n",
       "      <th></th>\n",
       "    </tr>\n",
       "  </thead>\n",
       "  <tbody>\n",
       "    <tr>\n",
       "      <th>Divorced</th>\n",
       "      <td>0.104467</td>\n",
       "      <td>4030</td>\n",
       "    </tr>\n",
       "    <tr>\n",
       "      <th>Married-AF-spouse</th>\n",
       "      <td>0.380952</td>\n",
       "      <td>21</td>\n",
       "    </tr>\n",
       "    <tr>\n",
       "      <th>Married-civ-spouse</th>\n",
       "      <td>0.448954</td>\n",
       "      <td>13331</td>\n",
       "    </tr>\n",
       "    <tr>\n",
       "      <th>Married-spouse-absent</th>\n",
       "      <td>0.093909</td>\n",
       "      <td>394</td>\n",
       "    </tr>\n",
       "    <tr>\n",
       "      <th>Never-married</th>\n",
       "      <td>0.046831</td>\n",
       "      <td>9673</td>\n",
       "    </tr>\n",
       "    <tr>\n",
       "      <th>Separated</th>\n",
       "      <td>0.067834</td>\n",
       "      <td>914</td>\n",
       "    </tr>\n",
       "    <tr>\n",
       "      <th>Widowed</th>\n",
       "      <td>0.083864</td>\n",
       "      <td>942</td>\n",
       "    </tr>\n",
       "  </tbody>\n",
       "</table>\n",
       "</div>"
      ],
      "text/plain": [
       "                            mean  count\n",
       "                          income income\n",
       "marital-status                         \n",
       " Divorced               0.104467   4030\n",
       " Married-AF-spouse      0.380952     21\n",
       " Married-civ-spouse     0.448954  13331\n",
       " Married-spouse-absent  0.093909    394\n",
       " Never-married          0.046831   9673\n",
       " Separated              0.067834    914\n",
       " Widowed                0.083864    942"
      ]
     },
     "execution_count": 88,
     "metadata": {},
     "output_type": "execute_result"
    }
   ],
   "source": [
    "all_data.pivot_table(index='marital-status', values='income', aggfunc=['mean', 'count'])#.sort_values('income'"
   ]
  },
  {
   "cell_type": "code",
   "execution_count": 90,
   "id": "83eafd79",
   "metadata": {
    "ExecuteTime": {
     "end_time": "2023-05-31T13:46:27.691126Z",
     "start_time": "2023-05-31T13:46:27.671090Z"
    }
   },
   "outputs": [],
   "source": [
    "all_data.loc[all_data['marital-status'] == 'Married-AF-spouse', 'marital-status'] = 'Married-civ-spouse'"
   ]
  },
  {
   "cell_type": "code",
   "execution_count": 91,
   "id": "422b353b",
   "metadata": {
    "ExecuteTime": {
     "end_time": "2023-05-31T13:46:46.180352Z",
     "start_time": "2023-05-31T13:46:46.157336Z"
    }
   },
   "outputs": [
    {
     "data": {
      "text/plain": [
       " Prof-specialty       6172\n",
       " Craft-repair         6112\n",
       " Exec-managerial      6086\n",
       " Adm-clerical         5611\n",
       " Sales                5504\n",
       " Other-service        4923\n",
       " Machine-op-inspct    3022\n",
       " ?                    2809\n",
       " Transport-moving     2355\n",
       " Handlers-cleaners    2072\n",
       " Farming-fishing      1490\n",
       " Tech-support         1446\n",
       " Protective-serv       983\n",
       " Priv-house-serv       242\n",
       " Armed-Forces           15\n",
       "Name: occupation, dtype: int64"
      ]
     },
     "execution_count": 91,
     "metadata": {},
     "output_type": "execute_result"
    }
   ],
   "source": [
    "all_data['occupation'].value_counts()"
   ]
  },
  {
   "cell_type": "code",
   "execution_count": 92,
   "id": "5d6c005d",
   "metadata": {
    "ExecuteTime": {
     "end_time": "2023-05-31T13:46:56.379444Z",
     "start_time": "2023-05-31T13:46:56.175671Z"
    }
   },
   "outputs": [
    {
     "data": {
      "text/plain": [
       "<AxesSubplot:xlabel='occupation'>"
      ]
     },
     "execution_count": 92,
     "metadata": {},
     "output_type": "execute_result"
    },
    {
     "data": {
      "image/png": "[encoded data removed]",
      "text/plain": [
       "<Figure size 640x480 with 1 Axes>"
      ]
     },
     "metadata": {},
     "output_type": "display_data"
    }
   ],
   "source": [
    "all_data.groupby('occupation')['income'].mean().sort_values().plot(kind='bar')"
   ]
  },
  {
   "cell_type": "code",
   "execution_count": 93,
   "id": "807f7cdd",
   "metadata": {
    "ExecuteTime": {
     "end_time": "2023-05-31T13:48:30.137306Z",
     "start_time": "2023-05-31T13:48:30.117363Z"
    }
   },
   "outputs": [
    {
     "data": {
      "text/plain": [
       "Series([], Name: income, dtype: int64)"
      ]
     },
     "execution_count": 93,
     "metadata": {},
     "output_type": "execute_result"
    }
   ],
   "source": [
    "all_data.loc[train['occupation'].isin(['Priv-house-serv', 'Other-service']), 'income'].value_counts()"
   ]
  },
  {
   "cell_type": "code",
   "execution_count": 94,
   "id": "384f7fbf",
   "metadata": {
    "ExecuteTime": {
     "end_time": "2023-05-31T13:48:44.143812Z",
     "start_time": "2023-05-31T13:48:44.126912Z"
    }
   },
   "outputs": [
    {
     "data": {
      "text/plain": [
       " Prof-specialty       6172\n",
       " Craft-repair         6112\n",
       " Exec-managerial      6086\n",
       " Adm-clerical         5611\n",
       " Sales                5504\n",
       " Other-service        4923\n",
       " Machine-op-inspct    3022\n",
       " ?                    2809\n",
       " Transport-moving     2355\n",
       " Handlers-cleaners    2072\n",
       " Farming-fishing      1490\n",
       " Tech-support         1446\n",
       " Protective-serv       983\n",
       " Priv-house-serv       242\n",
       " Armed-Forces           15\n",
       "Name: occupation, dtype: int64"
      ]
     },
     "execution_count": 94,
     "metadata": {},
     "output_type": "execute_result"
    }
   ],
   "source": [
    "all_data['occupation'].value_counts()"
   ]
  },
  {
   "cell_type": "code",
   "execution_count": 96,
   "id": "046055c3",
   "metadata": {
    "ExecuteTime": {
     "end_time": "2023-05-31T13:50:07.474456Z",
     "start_time": "2023-05-31T13:50:07.467456Z"
    }
   },
   "outputs": [],
   "source": [
    "all_data['capital-net'] = all_data['capital-gain'] - all_data['capital-loss']\n",
    "train['capital-net'] = train['capital-gain'] - train['capital-loss']\n",
    "test['capital-net'] = test['capital-gain'] - test['capital-loss']"
   ]
  },
  {
   "cell_type": "code",
   "execution_count": 99,
   "id": "90191019",
   "metadata": {
    "ExecuteTime": {
     "end_time": "2023-05-31T13:50:36.891954Z",
     "start_time": "2023-05-31T13:50:36.404975Z"
    }
   },
   "outputs": [
    {
     "name": "stderr",
     "output_type": "stream",
     "text": [
      "C:\\Users\\smhrd\\anaconda3\\lib\\site-packages\\seaborn\\distributions.py:2619: FutureWarning: `distplot` is a deprecated function and will be removed in a future version. Please adapt your code to use either `displot` (a figure-level function with similar flexibility) or `histplot` (an axes-level function for histograms).\n",
      "  warnings.warn(msg, FutureWarning)\n",
      "C:\\Users\\smhrd\\anaconda3\\lib\\site-packages\\seaborn\\distributions.py:2619: FutureWarning: `distplot` is a deprecated function and will be removed in a future version. Please adapt your code to use either `displot` (a figure-level function with similar flexibility) or `histplot` (an axes-level function for histograms).\n",
      "  warnings.warn(msg, FutureWarning)\n"
     ]
    },
    {
     "data": {
      "text/plain": [
       "<AxesSubplot:xlabel='capital-net', ylabel='Density'>"
      ]
     },
     "execution_count": 99,
     "metadata": {},
     "output_type": "execute_result"
    },
    {
     "data": {
      "image/png": "[encoded data removed]",
      "text/plain": [
       "<Figure size 1600x900 with 2 Axes>"
      ]
     },
     "metadata": {},
     "output_type": "display_data"
    }
   ],
   "source": [
    "plt.figure(figsize=(16, 9))\n",
    "plt.subplot(1, 2, 1)\n",
    "sns.distplot(train.loc[ (train['capital-net'] > 0) & (train['income'] == 1), 'capital-net'])\n",
    "\n",
    "plt.subplot(1, 2, 2)\n",
    "sns.distplot(train.loc[ (train['capital-net'] > 0) & (train['income'] == 0), 'capital-net'])"
   ]
  },
  {
   "cell_type": "code",
   "execution_count": 101,
   "id": "f25c248f",
   "metadata": {
    "ExecuteTime": {
     "end_time": "2023-05-31T13:51:03.851569Z",
     "start_time": "2023-05-31T13:51:03.822307Z"
    }
   },
   "outputs": [
    {
     "data": {
      "text/plain": [
       "[3103, 4386, 4687, 4787, 4934]"
      ]
     },
     "execution_count": 101,
     "metadata": {},
     "output_type": "execute_result"
    }
   ],
   "source": [
    "pos_key = all_data.loc[(all_data['income'] == 1) & (all_data['capital-net'] > 0), 'capital-net'].value_counts().sort_index().keys().tolist()\n",
    "all_key = all_data.loc[(all_data['income'] == 1) & (all_data['capital-net'] > 0), 'capital-net'].value_counts().sort_index().keys().tolist()\n",
    "all_key.extend(all_data.loc[(all_data['income'] == 0) & (all_data['capital-net'] > 0), 'capital-net'].value_counts().sort_index().keys().tolist())\n",
    "all_key[:5]"
   ]
  },
  {
   "cell_type": "code",
   "execution_count": 104,
   "id": "ba6c2b3a",
   "metadata": {
    "ExecuteTime": {
     "end_time": "2023-05-31T13:52:39.621295Z",
     "start_time": "2023-05-31T13:52:39.602247Z"
    }
   },
   "outputs": [],
   "source": [
    "pos_key = all_data.loc[(all_data['income'] == 1) & (all_data['capital-net'] > 0), 'capital-net'].value_counts().sort_index().keys().tolist()\n",
    "neg_key = all_data.loc[(all_data['income'] == 0) & (all_data['capital-net'] > 0), 'capital-net'].value_counts().sort_index().keys().tolist()"
   ]
  },
  {
   "cell_type": "code",
   "execution_count": 105,
   "id": "f2a48707",
   "metadata": {
    "ExecuteTime": {
     "end_time": "2023-05-31T13:52:54.067614Z",
     "start_time": "2023-05-31T13:52:54.059633Z"
    }
   },
   "outputs": [],
   "source": [
    "capital_net_pos_key = [key for key in pos_key if key not in neg_key]\n",
    "capital_net_neg_key = [key for key in neg_key if key not in pos_key]"
   ]
  },
  {
   "cell_type": "code",
   "execution_count": 107,
   "id": "2a323a89",
   "metadata": {
    "ExecuteTime": {
     "end_time": "2023-05-31T13:53:10.519822Z",
     "start_time": "2023-05-31T13:53:10.419507Z"
    }
   },
   "outputs": [],
   "source": [
    "all_data['capital_net_pos_key'] = all_data['capital-net'].apply(lambda x: x in capital_net_pos_key)\n",
    "all_data['capital_net_neg_key'] = all_data['capital-net'].apply(lambda x: x in capital_net_neg_key)"
   ]
  },
  {
   "cell_type": "code",
   "execution_count": 108,
   "id": "8b060763",
   "metadata": {
    "ExecuteTime": {
     "end_time": "2023-05-31T13:53:41.707551Z",
     "start_time": "2023-05-31T13:53:41.698568Z"
    }
   },
   "outputs": [
    {
     "data": {
      "text/plain": [
       "Index(['no', 'age', 'workclass', 'fnlwgt', 'education', 'marital-status',\n",
       "       'occupation', 'relationship', 'race', 'sex', 'capital-gain',\n",
       "       'capital-loss', 'hours-per-week', 'native-country', 'income',\n",
       "       'capital-net', 'capital_net_pos_key', 'capital_net_neg_key'],\n",
       "      dtype='object')"
      ]
     },
     "execution_count": 108,
     "metadata": {},
     "output_type": "execute_result"
    }
   ],
   "source": [
    "all_data.columns"
   ]
  },
  {
   "cell_type": "code",
   "execution_count": 119,
   "id": "82e6bd7b",
   "metadata": {
    "ExecuteTime": {
     "end_time": "2023-05-31T13:57:30.867809Z",
     "start_time": "2023-05-31T13:57:30.862550Z"
    }
   },
   "outputs": [],
   "source": [
    "features = [\n",
    "    'age', \n",
    "    'workclass', \n",
    "    'fnlwgt_log', \n",
    "    'education', \n",
    "    'marital-status',\n",
    "    'occupation',\n",
    "    'relationship', \n",
    "    'race',\n",
    "    'sex',\n",
    "    'capital-gain',\n",
    "    'capital-loss', \n",
    "    'hours-per-week',\n",
    "    'native-country',\n",
    "    'capital_net_pos_key',\n",
    "    'capital_net_neg_key',\n",
    "]"
   ]
  },
  {
   "cell_type": "code",
   "execution_count": 120,
   "id": "9a61824a",
   "metadata": {
    "ExecuteTime": {
     "end_time": "2023-05-31T13:57:32.775310Z",
     "start_time": "2023-05-31T13:57:32.765337Z"
    }
   },
   "outputs": [],
   "source": [
    "label = [\n",
    "    'income'\n",
    "]"
   ]
  },
  {
   "cell_type": "code",
   "execution_count": 121,
   "id": "23e2e331",
   "metadata": {
    "ExecuteTime": {
     "end_time": "2023-05-31T13:57:33.869389Z",
     "start_time": "2023-05-31T13:57:33.799539Z"
    }
   },
   "outputs": [
    {
     "name": "stdout",
     "output_type": "stream",
     "text": [
      "<class 'pandas.core.frame.DataFrame'>\n",
      "Int64Index: 48842 entries, 0 to 19536\n",
      "Data columns (total 19 columns):\n",
      " #   Column               Non-Null Count  Dtype  \n",
      "---  ------               --------------  -----  \n",
      " 0   no                   48842 non-null  int64  \n",
      " 1   age                  48842 non-null  int64  \n",
      " 2   workclass            48842 non-null  object \n",
      " 3   fnlwgt               48842 non-null  int64  \n",
      " 4   education            48842 non-null  object \n",
      " 5   marital-status       48842 non-null  object \n",
      " 6   occupation           48842 non-null  object \n",
      " 7   relationship         48842 non-null  object \n",
      " 8   race                 48842 non-null  object \n",
      " 9   sex                  48842 non-null  object \n",
      " 10  capital-gain         48842 non-null  int64  \n",
      " 11  capital-loss         48842 non-null  int64  \n",
      " 12  hours-per-week       48842 non-null  int64  \n",
      " 13  native-country       48842 non-null  object \n",
      " 14  income               29305 non-null  float64\n",
      " 15  capital-net          48842 non-null  int64  \n",
      " 16  capital_net_pos_key  48842 non-null  bool   \n",
      " 17  capital_net_neg_key  48842 non-null  bool   \n",
      " 18  fnlwgt_log           48842 non-null  float64\n",
      "dtypes: bool(2), float64(2), int64(7), object(8)\n",
      "memory usage: 6.8+ MB\n"
     ]
    }
   ],
   "source": [
    "all_data.info()"
   ]
  },
  {
   "cell_type": "code",
   "execution_count": 122,
   "id": "0a74f28a",
   "metadata": {
    "ExecuteTime": {
     "end_time": "2023-05-31T13:57:36.058199Z",
     "start_time": "2023-05-31T13:57:35.967334Z"
    }
   },
   "outputs": [
    {
     "data": {
      "text/html": [
       "<div>\n",
       "<style scoped>\n",
       "    .dataframe tbody tr th:only-of-type {\n",
       "        vertical-align: middle;\n",
       "    }\n",
       "\n",
       "    .dataframe tbody tr th {\n",
       "        vertical-align: top;\n",
       "    }\n",
       "\n",
       "    .dataframe thead th {\n",
       "        text-align: right;\n",
       "    }\n",
       "</style>\n",
       "<table border=\"1\" class=\"dataframe\">\n",
       "  <thead>\n",
       "    <tr style=\"text-align: right;\">\n",
       "      <th></th>\n",
       "      <th>age</th>\n",
       "      <th>fnlwgt_log</th>\n",
       "      <th>capital-gain</th>\n",
       "      <th>capital-loss</th>\n",
       "      <th>hours-per-week</th>\n",
       "      <th>capital_net_pos_key</th>\n",
       "      <th>capital_net_neg_key</th>\n",
       "      <th>income</th>\n",
       "      <th>workclass_ ?</th>\n",
       "      <th>workclass_ Federal-gov</th>\n",
       "      <th>...</th>\n",
       "      <th>native-country_ Portugal</th>\n",
       "      <th>native-country_ Puerto-Rico</th>\n",
       "      <th>native-country_ Scotland</th>\n",
       "      <th>native-country_ South</th>\n",
       "      <th>native-country_ Taiwan</th>\n",
       "      <th>native-country_ Thailand</th>\n",
       "      <th>native-country_ Trinadad&amp;Tobago</th>\n",
       "      <th>native-country_ United-States</th>\n",
       "      <th>native-country_ Vietnam</th>\n",
       "      <th>native-country_ Yugoslavia</th>\n",
       "    </tr>\n",
       "  </thead>\n",
       "  <tbody>\n",
       "    <tr>\n",
       "      <th>0</th>\n",
       "      <td>25</td>\n",
       "      <td>12.297735</td>\n",
       "      <td>0</td>\n",
       "      <td>0</td>\n",
       "      <td>40</td>\n",
       "      <td>False</td>\n",
       "      <td>False</td>\n",
       "      <td>0.0</td>\n",
       "      <td>0</td>\n",
       "      <td>0</td>\n",
       "      <td>...</td>\n",
       "      <td>0</td>\n",
       "      <td>0</td>\n",
       "      <td>0</td>\n",
       "      <td>0</td>\n",
       "      <td>0</td>\n",
       "      <td>0</td>\n",
       "      <td>0</td>\n",
       "      <td>1</td>\n",
       "      <td>0</td>\n",
       "      <td>0</td>\n",
       "    </tr>\n",
       "    <tr>\n",
       "      <th>1</th>\n",
       "      <td>39</td>\n",
       "      <td>10.877632</td>\n",
       "      <td>0</td>\n",
       "      <td>1721</td>\n",
       "      <td>55</td>\n",
       "      <td>False</td>\n",
       "      <td>False</td>\n",
       "      <td>0.0</td>\n",
       "      <td>0</td>\n",
       "      <td>0</td>\n",
       "      <td>...</td>\n",
       "      <td>0</td>\n",
       "      <td>0</td>\n",
       "      <td>0</td>\n",
       "      <td>0</td>\n",
       "      <td>0</td>\n",
       "      <td>0</td>\n",
       "      <td>0</td>\n",
       "      <td>1</td>\n",
       "      <td>0</td>\n",
       "      <td>0</td>\n",
       "    </tr>\n",
       "    <tr>\n",
       "      <th>2</th>\n",
       "      <td>35</td>\n",
       "      <td>12.190446</td>\n",
       "      <td>0</td>\n",
       "      <td>0</td>\n",
       "      <td>50</td>\n",
       "      <td>False</td>\n",
       "      <td>False</td>\n",
       "      <td>0.0</td>\n",
       "      <td>0</td>\n",
       "      <td>0</td>\n",
       "      <td>...</td>\n",
       "      <td>0</td>\n",
       "      <td>0</td>\n",
       "      <td>0</td>\n",
       "      <td>0</td>\n",
       "      <td>0</td>\n",
       "      <td>0</td>\n",
       "      <td>0</td>\n",
       "      <td>0</td>\n",
       "      <td>0</td>\n",
       "      <td>0</td>\n",
       "    </tr>\n",
       "    <tr>\n",
       "      <th>3</th>\n",
       "      <td>64</td>\n",
       "      <td>11.816926</td>\n",
       "      <td>0</td>\n",
       "      <td>0</td>\n",
       "      <td>40</td>\n",
       "      <td>False</td>\n",
       "      <td>False</td>\n",
       "      <td>0.0</td>\n",
       "      <td>0</td>\n",
       "      <td>0</td>\n",
       "      <td>...</td>\n",
       "      <td>0</td>\n",
       "      <td>0</td>\n",
       "      <td>0</td>\n",
       "      <td>0</td>\n",
       "      <td>0</td>\n",
       "      <td>0</td>\n",
       "      <td>0</td>\n",
       "      <td>1</td>\n",
       "      <td>0</td>\n",
       "      <td>0</td>\n",
       "    </tr>\n",
       "    <tr>\n",
       "      <th>4</th>\n",
       "      <td>24</td>\n",
       "      <td>11.015065</td>\n",
       "      <td>0</td>\n",
       "      <td>0</td>\n",
       "      <td>70</td>\n",
       "      <td>False</td>\n",
       "      <td>False</td>\n",
       "      <td>1.0</td>\n",
       "      <td>0</td>\n",
       "      <td>0</td>\n",
       "      <td>...</td>\n",
       "      <td>0</td>\n",
       "      <td>0</td>\n",
       "      <td>0</td>\n",
       "      <td>0</td>\n",
       "      <td>0</td>\n",
       "      <td>0</td>\n",
       "      <td>0</td>\n",
       "      <td>1</td>\n",
       "      <td>0</td>\n",
       "      <td>0</td>\n",
       "    </tr>\n",
       "  </tbody>\n",
       "</table>\n",
       "<p>5 rows × 110 columns</p>\n",
       "</div>"
      ],
      "text/plain": [
       "   age  fnlwgt_log  capital-gain  capital-loss  hours-per-week  \\\n",
       "0   25   12.297735             0             0              40   \n",
       "1   39   10.877632             0          1721              55   \n",
       "2   35   12.190446             0             0              50   \n",
       "3   64   11.816926             0             0              40   \n",
       "4   24   11.015065             0             0              70   \n",
       "\n",
       "   capital_net_pos_key  capital_net_neg_key  income  workclass_ ?  \\\n",
       "0                False                False     0.0             0   \n",
       "1                False                False     0.0             0   \n",
       "2                False                False     0.0             0   \n",
       "3                False                False     0.0             0   \n",
       "4                False                False     1.0             0   \n",
       "\n",
       "   workclass_ Federal-gov  ...  native-country_ Portugal  \\\n",
       "0                       0  ...                         0   \n",
       "1                       0  ...                         0   \n",
       "2                       0  ...                         0   \n",
       "3                       0  ...                         0   \n",
       "4                       0  ...                         0   \n",
       "\n",
       "   native-country_ Puerto-Rico  native-country_ Scotland  \\\n",
       "0                            0                         0   \n",
       "1                            0                         0   \n",
       "2                            0                         0   \n",
       "3                            0                         0   \n",
       "4                            0                         0   \n",
       "\n",
       "   native-country_ South  native-country_ Taiwan  native-country_ Thailand  \\\n",
       "0                      0                       0                         0   \n",
       "1                      0                       0                         0   \n",
       "2                      0                       0                         0   \n",
       "3                      0                       0                         0   \n",
       "4                      0                       0                         0   \n",
       "\n",
       "   native-country_ Trinadad&Tobago  native-country_ United-States  \\\n",
       "0                                0                              1   \n",
       "1                                0                              1   \n",
       "2                                0                              0   \n",
       "3                                0                              1   \n",
       "4                                0                              1   \n",
       "\n",
       "   native-country_ Vietnam  native-country_ Yugoslavia  \n",
       "0                        0                           0  \n",
       "1                        0                           0  \n",
       "2                        0                           0  \n",
       "3                        0                           0  \n",
       "4                        0                           0  \n",
       "\n",
       "[5 rows x 110 columns]"
      ]
     },
     "execution_count": 122,
     "metadata": {},
     "output_type": "execute_result"
    }
   ],
   "source": [
    "all_data_dummies = pd.get_dummies(all_data[features + label])\n",
    "all_data_dummies.head()"
   ]
  },
  {
   "cell_type": "code",
   "execution_count": 123,
   "id": "56420a15",
   "metadata": {
    "ExecuteTime": {
     "end_time": "2023-05-31T13:57:49.552518Z",
     "start_time": "2023-05-31T13:57:49.535504Z"
    }
   },
   "outputs": [
    {
     "name": "stderr",
     "output_type": "stream",
     "text": [
      "C:\\Users\\smhrd\\AppData\\Local\\Temp\\ipykernel_23520\\3716931792.py:1: FutureWarning: In a future version of pandas all arguments of DataFrame.drop except for the argument 'labels' will be keyword-only.\n",
      "  train_features = all_data_dummies.drop('income', 1).iloc[:len(train)]\n",
      "C:\\Users\\smhrd\\AppData\\Local\\Temp\\ipykernel_23520\\3716931792.py:2: FutureWarning: In a future version of pandas all arguments of DataFrame.drop except for the argument 'labels' will be keyword-only.\n",
      "  test_features = all_data_dummies.drop('income', 1).iloc[len(train):]\n"
     ]
    }
   ],
   "source": [
    "train_features = all_data_dummies.drop('income', 1).iloc[:len(train)]\n",
    "test_features = all_data_dummies.drop('income', 1).iloc[len(train):]"
   ]
  },
  {
   "cell_type": "code",
   "execution_count": 124,
   "id": "5ecedcd6",
   "metadata": {
    "ExecuteTime": {
     "end_time": "2023-05-31T13:57:57.106397Z",
     "start_time": "2023-05-31T13:57:57.086437Z"
    }
   },
   "outputs": [],
   "source": [
    "train_label = train[label]"
   ]
  },
  {
   "cell_type": "code",
   "execution_count": 125,
   "id": "94462558",
   "metadata": {
    "ExecuteTime": {
     "end_time": "2023-05-31T13:58:02.994863Z",
     "start_time": "2023-05-31T13:58:02.976935Z"
    }
   },
   "outputs": [
    {
     "data": {
      "text/plain": [
       "((29305, 109), (19537, 109))"
      ]
     },
     "execution_count": 125,
     "metadata": {},
     "output_type": "execute_result"
    }
   ],
   "source": [
    "train_features.shape, test_features.shape"
   ]
  },
  {
   "cell_type": "code",
   "execution_count": 126,
   "id": "84c793e5",
   "metadata": {
    "ExecuteTime": {
     "end_time": "2023-05-31T13:58:12.652453Z",
     "start_time": "2023-05-31T13:58:11.448149Z"
    }
   },
   "outputs": [],
   "source": [
    "from sklearn.model_selection import KFold, train_test_split\n",
    "from sklearn.metrics import precision_score, recall_score, classification_report, f1_score, confusion_matrix\n",
    "from sklearn.metrics import log_loss\n",
    "from tqdm import tqdm_notebook\n",
    "import lightgbm as lgbm"
   ]
  },
  {
   "cell_type": "code",
   "execution_count": 128,
   "id": "23db4a2a",
   "metadata": {
    "ExecuteTime": {
     "end_time": "2023-05-31T13:58:26.481338Z",
     "start_time": "2023-05-31T13:58:26.302590Z"
    }
   },
   "outputs": [],
   "source": [
    "x_train, x_valid, y_train, y_valid = train_test_split(train_features, train_label, stratify=train_label, test_size=0.2)"
   ]
  },
  {
   "cell_type": "code",
   "execution_count": 130,
   "id": "12297e6d",
   "metadata": {
    "ExecuteTime": {
     "end_time": "2023-05-31T13:58:45.203699Z",
     "start_time": "2023-05-31T13:58:45.190733Z"
    }
   },
   "outputs": [],
   "source": [
    "NUM_BOOST_ROUND = 10000\n",
    "N_SPLITS = 5\n",
    "\n",
    "lgbm_param = {\n",
    "    'objective': 'binary',\n",
    "    'boosting_type':'gbdt',\n",
    "    'colsample_bytree':1.0,\n",
    "    'importance_type':'split',\n",
    "    'learning_rate':0.1,\n",
    "    'min_child_samples':20,\n",
    "    'min_child_weight':0.001,\n",
    "    'min_split_gain':0,\n",
    "    'n_estimators':10000,\n",
    "    'num_leaves':40,\n",
    "    'early_stopping_rounds': 200,\n",
    "    'reg_alpha':0.6,\n",
    "    'reg_lambda':0.5,\n",
    "    'subsample':1.0,\n",
    "    'subsample_for_bin':200000,\n",
    "    'subsample_freq':0, \n",
    "    'n_jobs':-1, \n",
    "}"
   ]
  },
  {
   "cell_type": "code",
   "execution_count": 131,
   "id": "96d74f04",
   "metadata": {
    "ExecuteTime": {
     "end_time": "2023-05-31T13:58:56.688135Z",
     "start_time": "2023-05-31T13:58:56.670181Z"
    }
   },
   "outputs": [],
   "source": [
    "dtrain = lgbm.Dataset(x_train, y_train)\n",
    "dvalid = lgbm.Dataset(x_valid, y_valid)"
   ]
  },
  {
   "cell_type": "code",
   "execution_count": 132,
   "id": "8da62976",
   "metadata": {
    "ExecuteTime": {
     "end_time": "2023-05-31T13:59:02.854297Z",
     "start_time": "2023-05-31T13:59:02.046450Z"
    }
   },
   "outputs": [
    {
     "name": "stderr",
     "output_type": "stream",
     "text": [
      "C:\\Users\\smhrd\\anaconda3\\lib\\site-packages\\lightgbm\\engine.py:177: UserWarning: Found `n_estimators` in params. Will use it instead of argument\n",
      "  _log_warning(f\"Found `{alias}` in params. Will use it instead of argument\")\n",
      "C:\\Users\\smhrd\\anaconda3\\lib\\site-packages\\lightgbm\\engine.py:239: UserWarning: 'verbose_eval' argument is deprecated and will be removed in a future release of LightGBM. Pass 'log_evaluation()' callback via 'callbacks' argument instead.\n",
      "  _log_warning(\"'verbose_eval' argument is deprecated and will be removed in a future release of LightGBM. \"\n"
     ]
    },
    {
     "name": "stdout",
     "output_type": "stream",
     "text": [
      "[LightGBM] [Warning] Unknown parameter: importance_type\n",
      "[LightGBM] [Warning] Found whitespace in feature_names, replace with underlines\n",
      "[LightGBM] [Warning] Unknown parameter: importance_type\n",
      "[LightGBM] [Info] Number of positive: 5636, number of negative: 17808\n",
      "[LightGBM] [Warning] Auto-choosing row-wise multi-threading, the overhead of testing was 0.001152 seconds.\n",
      "You can set `force_row_wise=true` to remove the overhead.\n",
      "And if memory is not enough, you can set `force_col_wise=true`.\n",
      "[LightGBM] [Info] Total Bins 738\n",
      "[LightGBM] [Info] Number of data points in the train set: 23444, number of used features: 89\n",
      "[LightGBM] [Warning] Unknown parameter: importance_type\n",
      "[LightGBM] [Warning] Found whitespace in feature_names, replace with underlines\n",
      "[LightGBM] [Info] [binary:BoostFromScore]: pavg=0.240403 -> initscore=-1.150473\n",
      "[LightGBM] [Info] Start training from score -1.150473\n",
      "Training until validation scores don't improve for 200 rounds\n",
      "[100]\ttrain's binary_logloss: 0.231628\tvalid's binary_logloss: 0.289004\n",
      "[200]\ttrain's binary_logloss: 0.203462\tvalid's binary_logloss: 0.293283\n",
      "Early stopping, best iteration is:\n",
      "[77]\ttrain's binary_logloss: 0.240399\tvalid's binary_logloss: 0.287936\n"
     ]
    }
   ],
   "source": [
    "model = lgbm.train(lgbm_param, dtrain, NUM_BOOST_ROUND, \n",
    "                   valid_sets=(dtrain, dvalid), \n",
    "                   valid_names=('train', 'valid'), \n",
    "                   verbose_eval=100,\n",
    "                  )"
   ]
  },
  {
   "cell_type": "code",
   "execution_count": 133,
   "id": "5bc946d4",
   "metadata": {
    "ExecuteTime": {
     "end_time": "2023-05-31T13:59:16.567857Z",
     "start_time": "2023-05-31T13:59:16.422276Z"
    }
   },
   "outputs": [],
   "source": [
    "pred = model.predict(test_features)"
   ]
  },
  {
   "cell_type": "code",
   "execution_count": 134,
   "id": "9e952c82",
   "metadata": {
    "ExecuteTime": {
     "end_time": "2023-05-31T13:59:24.584017Z",
     "start_time": "2023-05-31T13:59:24.565911Z"
    }
   },
   "outputs": [
    {
     "name": "stdout",
     "output_type": "stream",
     "text": [
      "0.26191706497868494\n"
     ]
    }
   ],
   "source": [
    "# 기본 0.5으로 설정\n",
    "THRESHOLD = 0.5\n",
    "\n",
    "print(len(pred[pred >= THRESHOLD]) / len(pred[pred < THRESHOLD]))"
   ]
  },
  {
   "cell_type": "code",
   "execution_count": 135,
   "id": "221475ac",
   "metadata": {
    "ExecuteTime": {
     "end_time": "2023-05-31T13:59:30.498943Z",
     "start_time": "2023-05-31T13:59:30.494956Z"
    }
   },
   "outputs": [],
   "source": [
    "pred[pred >= THRESHOLD] = 1\n",
    "pred[pred < THRESHOLD] = 0"
   ]
  },
  {
   "cell_type": "code",
   "execution_count": 136,
   "id": "594ecaf2",
   "metadata": {
    "ExecuteTime": {
     "end_time": "2023-05-31T13:59:35.369331Z",
     "start_time": "2023-05-31T13:59:35.348124Z"
    }
   },
   "outputs": [
    {
     "data": {
      "text/plain": [
       "0.3164869721473495"
      ]
     },
     "execution_count": 136,
     "metadata": {},
     "output_type": "execute_result"
    }
   ],
   "source": [
    "income_pct = train['income'].value_counts()[1] / train['income'].value_counts()[0]\n",
    "income_pct"
   ]
  },
  {
   "cell_type": "code",
   "execution_count": 138,
   "id": "711476e3",
   "metadata": {
    "ExecuteTime": {
     "end_time": "2023-05-31T14:01:06.542008Z",
     "start_time": "2023-05-31T14:01:06.494981Z"
    }
   },
   "outputs": [],
   "source": [
    "rs =  pd.read_csv('./data/kaggle/sample_submission.csv')\n",
    "rs['income'] = pred # 내 모델의 예측 결과를 양식에 넣기\n",
    "rs.to_csv('Last.csv', index = False)"
   ]
  },
  {
   "cell_type": "code",
   "execution_count": 140,
   "id": "c61379ab",
   "metadata": {
    "ExecuteTime": {
     "end_time": "2023-05-31T14:03:09.740491Z",
     "start_time": "2023-05-31T14:03:09.724462Z"
    }
   },
   "outputs": [
    {
     "name": "stdout",
     "output_type": "stream",
     "text": [
      "모델의 정확도: 0.5034037979218918\n"
     ]
    }
   ],
   "source": [
    "from sklearn.metrics import accuracy_score\n",
    "\n",
    "rs =  pd.read_csv('./data/kaggle/sample_submission.csv')\n",
    "# 실제 정답 데이터\n",
    "y_true = rs['income']\n",
    "\n",
    "# 모델의 예측 결과\n",
    "y_pred = pred\n",
    "\n",
    "# 정확도 계산\n",
    "accuracy = accuracy_score(y_true, y_pred)\n",
    "print(\"모델의 정확도:\", accuracy)\n"
   ]
  },
  {
   "cell_type": "code",
   "execution_count": null,
   "id": "ca8ee197",
   "metadata": {},
   "outputs": [],
   "source": []
  },
  {
   "cell_type": "code",
   "execution_count": null,
   "id": "e3490d4e",
   "metadata": {},
   "outputs": [],
   "source": []
  },
  {
   "cell_type": "code",
   "execution_count": null,
   "id": "707d16a6",
   "metadata": {},
   "outputs": [],
   "source": []
  }
 ],
 "metadata": {
  "kernelspec": {
   "display_name": "Python 3 (ipykernel)",
   "language": "python",
   "name": "python3"
  },
  "language_info": {
   "codemirror_mode": {
    "name": "ipython",
    "version": 3
   },
   "file_extension": ".py",
   "mimetype": "text/x-python",
   "name": "python",
   "nbconvert_exporter": "python",
   "pygments_lexer": "ipython3",
   "version": "3.9.13"
  },
  "toc": {
   "base_numbering": 1,
   "nav_menu": {},
   "number_sections": true,
   "sideBar": true,
   "skip_h1_title": false,
   "title_cell": "Table of Contents",
   "title_sidebar": "Contents",
   "toc_cell": false,
   "toc_position": {},
   "toc_section_display": true,
   "toc_window_display": false
  },
  "varInspector": {
   "cols": {
    "lenName": 16,
    "lenType": 16,
    "lenVar": 40
   },
   "kernels_config": {
    "python": {
     "delete_cmd_postfix": "",
     "delete_cmd_prefix": "del ",
     "library": "var_list.py",
     "varRefreshCmd": "print(var_dic_list())"
    },
    "r": {
     "delete_cmd_postfix": ") ",
     "delete_cmd_prefix": "rm(",
     "library": "var_list.r",
     "varRefreshCmd": "cat(var_dic_list()) "
    }
   },
   "types_to_exclude": [
    "module",
    "function",
    "builtin_function_or_method",
    "instance",
    "_Feature"
   ],
   "window_display": false
  }
 },
 "nbformat": 4,
 "nbformat_minor": 5
}
