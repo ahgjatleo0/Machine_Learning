{
 "cells": [
  {
   "cell_type": "markdown",
   "id": "ee53830f",
   "metadata": {},
   "source": [
    "### 목표설정\n",
    "- 선형 회귀 모델을 사용해보고 w(가중치), b(편향) 구해보자"
   ]
  },
  {
   "cell_type": "markdown",
   "id": "695b6d0a",
   "metadata": {},
   "source": [
    "### 성적 데이터를 만들어보자"
   ]
  },
  {
   "cell_type": "code",
   "execution_count": 1,
   "id": "151706a8",
   "metadata": {
    "ExecuteTime": {
     "end_time": "2023-05-24T05:41:47.524808Z",
     "start_time": "2023-05-24T05:41:47.125860Z"
    }
   },
   "outputs": [],
   "source": [
    "# 필요한 라이브러리 불러오기\n",
    "import pandas as pd"
   ]
  },
  {
   "cell_type": "code",
   "execution_count": 3,
   "id": "2150eb6f",
   "metadata": {
    "ExecuteTime": {
     "end_time": "2023-05-24T05:45:27.541923Z",
     "start_time": "2023-05-24T05:45:27.514500Z"
    }
   },
   "outputs": [
    {
     "data": {
      "text/html": [
       "<div>\n",
       "<style scoped>\n",
       "    .dataframe tbody tr th:only-of-type {\n",
       "        vertical-align: middle;\n",
       "    }\n",
       "\n",
       "    .dataframe tbody tr th {\n",
       "        vertical-align: top;\n",
       "    }\n",
       "\n",
       "    .dataframe thead th {\n",
       "        text-align: right;\n",
       "    }\n",
       "</style>\n",
       "<table border=\"1\" class=\"dataframe\">\n",
       "  <thead>\n",
       "    <tr style=\"text-align: right;\">\n",
       "      <th></th>\n",
       "      <th>공부시간</th>\n",
       "      <th>시험성적</th>\n",
       "    </tr>\n",
       "  </thead>\n",
       "  <tbody>\n",
       "    <tr>\n",
       "      <th>김동현</th>\n",
       "      <td>2</td>\n",
       "      <td>20</td>\n",
       "    </tr>\n",
       "    <tr>\n",
       "      <th>맹성영</th>\n",
       "      <td>4</td>\n",
       "      <td>40</td>\n",
       "    </tr>\n",
       "    <tr>\n",
       "      <th>류이수</th>\n",
       "      <td>8</td>\n",
       "      <td>80</td>\n",
       "    </tr>\n",
       "    <tr>\n",
       "      <th>이도연</th>\n",
       "      <td>9</td>\n",
       "      <td>90</td>\n",
       "    </tr>\n",
       "  </tbody>\n",
       "</table>\n",
       "</div>"
      ],
      "text/plain": [
       "     공부시간  시험성적\n",
       "김동현     2    20\n",
       "맹성영     4    40\n",
       "류이수     8    80\n",
       "이도연     9    90"
      ]
     },
     "execution_count": 3,
     "metadata": {},
     "output_type": "execute_result"
    }
   ],
   "source": [
    "df = pd.DataFrame([[2,20],\n",
    "                   [4,40],\n",
    "                   [8,80],\n",
    "                   [9,90]],\n",
    "                 index = ['김동현', '맹성영', '류이수', '이도연'],\n",
    "                 columns=['공부시간', '시험성적'])\n",
    "df"
   ]
  },
  {
   "cell_type": "markdown",
   "id": "e129b81a",
   "metadata": {},
   "source": [
    "### 선형회귀 모델 사용해보기"
   ]
  },
  {
   "cell_type": "code",
   "execution_count": 4,
   "id": "a6894a65",
   "metadata": {
    "ExecuteTime": {
     "end_time": "2023-05-24T05:48:17.026908Z",
     "start_time": "2023-05-24T05:48:17.011736Z"
    }
   },
   "outputs": [],
   "source": [
    "from sklearn.linear_model import LinearRegression"
   ]
  },
  {
   "cell_type": "code",
   "execution_count": 5,
   "id": "888d0007",
   "metadata": {
    "ExecuteTime": {
     "end_time": "2023-05-24T05:48:34.023167Z",
     "start_time": "2023-05-24T05:48:34.011839Z"
    }
   },
   "outputs": [],
   "source": [
    "# 모델 객체 생성\n",
    "linear_model = LinearRegression()"
   ]
  },
  {
   "cell_type": "code",
   "execution_count": 6,
   "id": "3ce2033d",
   "metadata": {
    "ExecuteTime": {
     "end_time": "2023-05-24T05:50:28.534733Z",
     "start_time": "2023-05-24T05:50:28.502024Z"
    }
   },
   "outputs": [
    {
     "data": {
      "text/plain": [
       "LinearRegression()"
      ]
     },
     "execution_count": 6,
     "metadata": {},
     "output_type": "execute_result"
    }
   ],
   "source": [
    "# 모델 학습\n",
    "# 선형 회귀를 이용할 때 문제 데이터는 항상 2차원으로 넣어줘야 한다.\n",
    "linear_model.fit(df[['공부시간']], df['시험성적'])"
   ]
  },
  {
   "cell_type": "code",
   "execution_count": 7,
   "id": "a02d7b34",
   "metadata": {
    "ExecuteTime": {
     "end_time": "2023-05-24T05:54:00.880066Z",
     "start_time": "2023-05-24T05:54:00.871941Z"
    }
   },
   "outputs": [
    {
     "data": {
      "text/plain": [
       "array([10.])"
      ]
     },
     "execution_count": 7,
     "metadata": {},
     "output_type": "execute_result"
    }
   ],
   "source": [
    "# w(가중치), b(편향) 값 살펴보기\n",
    "linear_model.coef_ # 가중치를 확인하는 명령어"
   ]
  },
  {
   "cell_type": "code",
   "execution_count": 8,
   "id": "cfd3e267",
   "metadata": {
    "ExecuteTime": {
     "end_time": "2023-05-24T05:54:26.775486Z",
     "start_time": "2023-05-24T05:54:26.765969Z"
    }
   },
   "outputs": [
    {
     "data": {
      "text/plain": [
       "7.105427357601002e-15"
      ]
     },
     "execution_count": 8,
     "metadata": {},
     "output_type": "execute_result"
    }
   ],
   "source": [
    "linear_model.intercept_ # 편향을 확인하는 명령어"
   ]
  },
  {
   "cell_type": "code",
   "execution_count": 9,
   "id": "d41a6950",
   "metadata": {
    "ExecuteTime": {
     "end_time": "2023-05-24T05:57:52.034692Z",
     "start_time": "2023-05-24T05:57:52.014771Z"
    }
   },
   "outputs": [
    {
     "name": "stderr",
     "output_type": "stream",
     "text": [
      "C:\\Users\\smhrd\\anaconda3\\lib\\site-packages\\sklearn\\base.py:450: UserWarning: X does not have valid feature names, but LinearRegression was fitted with feature names\n",
      "  warnings.warn(\n"
     ]
    },
    {
     "data": {
      "text/plain": [
       "array([30.])"
      ]
     },
     "execution_count": 9,
     "metadata": {},
     "output_type": "execute_result"
    }
   ],
   "source": [
    "#새로운 데이터 입려갷뵉\n",
    "linear_model.predict([[3]])"
   ]
  },
  {
   "cell_type": "code",
   "execution_count": null,
   "id": "ca1084db",
   "metadata": {},
   "outputs": [],
   "source": []
  },
  {
   "cell_type": "code",
   "execution_count": null,
   "id": "bcad0bd0",
   "metadata": {},
   "outputs": [],
   "source": []
  },
  {
   "cell_type": "code",
   "execution_count": null,
   "id": "a551007b",
   "metadata": {},
   "outputs": [],
   "source": []
  },
  {
   "cell_type": "code",
   "execution_count": null,
   "id": "51d8971b",
   "metadata": {},
   "outputs": [],
   "source": []
  },
  {
   "cell_type": "code",
   "execution_count": null,
   "id": "4742f366",
   "metadata": {},
   "outputs": [],
   "source": []
  }
 ],
 "metadata": {
  "kernelspec": {
   "display_name": "Python 3 (ipykernel)",
   "language": "python",
   "name": "python3"
  },
  "language_info": {
   "codemirror_mode": {
    "name": "ipython",
    "version": 3
   },
   "file_extension": ".py",
   "mimetype": "text/x-python",
   "name": "python",
   "nbconvert_exporter": "python",
   "pygments_lexer": "ipython3",
   "version": "3.9.13"
  },
  "toc": {
   "base_numbering": 1,
   "nav_menu": {},
   "number_sections": true,
   "sideBar": true,
   "skip_h1_title": false,
   "title_cell": "Table of Contents",
   "title_sidebar": "Contents",
   "toc_cell": false,
   "toc_position": {},
   "toc_section_display": true,
   "toc_window_display": false
  },
  "varInspector": {
   "cols": {
    "lenName": 16,
    "lenType": 16,
    "lenVar": 40
   },
   "kernels_config": {
    "python": {
     "delete_cmd_postfix": "",
     "delete_cmd_prefix": "del ",
     "library": "var_list.py",
     "varRefreshCmd": "print(var_dic_list())"
    },
    "r": {
     "delete_cmd_postfix": ") ",
     "delete_cmd_prefix": "rm(",
     "library": "var_list.r",
     "varRefreshCmd": "cat(var_dic_list()) "
    }
   },
   "types_to_exclude": [
    "module",
    "function",
    "builtin_function_or_method",
    "instance",
    "_Feature"
   ],
   "window_display": false
  }
 },
 "nbformat": 4,
 "nbformat_minor": 5
}
