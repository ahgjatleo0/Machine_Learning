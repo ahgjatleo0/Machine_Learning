{
 "cells": [
  {
   "cell_type": "markdown",
   "id": "f96ef66f",
   "metadata": {},
   "source": [
    "### 목표 설정\n",
    "- 특성 변수를 활용해서 회귀 예측을 진행해보자\n",
    "- 특성곱이라는 특성공학을 진행해보자"
   ]
  },
  {
   "cell_type": "code",
   "execution_count": 1,
   "id": "70ec92fc",
   "metadata": {
    "ExecuteTime": {
     "end_time": "2023-05-30T05:37:43.398565Z",
     "start_time": "2023-05-30T05:37:43.379617Z"
    }
   },
   "outputs": [],
   "source": [
    "import warnings\n",
    "warnings.filterwarnings('ignore')"
   ]
  },
  {
   "cell_type": "code",
   "execution_count": 2,
   "id": "7461ae8e",
   "metadata": {
    "ExecuteTime": {
     "end_time": "2023-05-30T05:37:45.393242Z",
     "start_time": "2023-05-30T05:37:43.400561Z"
    }
   },
   "outputs": [],
   "source": [
    "# 필요한 라이브러리 불러오기\n",
    "import pandas as pd\n",
    "import numpy as np\n",
    "import matplotlib.pyplot as plt\n",
    "\n",
    "# 데이터 셋 불러오기\n",
    "from sklearn.datasets import load_boston"
   ]
  },
  {
   "cell_type": "code",
   "execution_count": 3,
   "id": "66d9dd48",
   "metadata": {
    "ExecuteTime": {
     "end_time": "2023-05-30T05:37:45.408406Z",
     "start_time": "2023-05-30T05:37:45.397266Z"
    }
   },
   "outputs": [],
   "source": [
    "# 보스턴 데이터 변수에 담아주기\n",
    "boston = load_boston()"
   ]
  },
  {
   "cell_type": "code",
   "execution_count": 4,
   "id": "ee60ec7f",
   "metadata": {
    "ExecuteTime": {
     "end_time": "2023-05-30T05:37:45.438873Z",
     "start_time": "2023-05-30T05:37:45.411500Z"
    }
   },
   "outputs": [
    {
     "data": {
      "text/plain": [
       "dict_keys(['data', 'target', 'feature_names', 'DESCR', 'filename', 'data_module'])"
      ]
     },
     "execution_count": 4,
     "metadata": {},
     "output_type": "execute_result"
    }
   ],
   "source": [
    "# 보스턴 데이터의 키값을 확인해보기\n",
    "boston.keys()"
   ]
  },
  {
   "cell_type": "code",
   "execution_count": 5,
   "id": "75f1b315",
   "metadata": {
    "ExecuteTime": {
     "end_time": "2023-05-30T05:37:45.454404Z",
     "start_time": "2023-05-30T05:37:45.440898Z"
    }
   },
   "outputs": [
    {
     "name": "stdout",
     "output_type": "stream",
     "text": [
      ".. _boston_dataset:\n",
      "\n",
      "Boston house prices dataset\n",
      "---------------------------\n",
      "\n",
      "**Data Set Characteristics:**  \n",
      "\n",
      "    :Number of Instances: 506 \n",
      "\n",
      "    :Number of Attributes: 13 numeric/categorical predictive. Median Value (attribute 14) is usually the target.\n",
      "\n",
      "    :Attribute Information (in order):\n",
      "        - CRIM     per capita crime rate by town\n",
      "        - ZN       proportion of residential land zoned for lots over 25,000 sq.ft.\n",
      "        - INDUS    proportion of non-retail business acres per town\n",
      "        - CHAS     Charles River dummy variable (= 1 if tract bounds river; 0 otherwise)\n",
      "        - NOX      nitric oxides concentration (parts per 10 million)\n",
      "        - RM       average number of rooms per dwelling\n",
      "        - AGE      proportion of owner-occupied units built prior to 1940\n",
      "        - DIS      weighted distances to five Boston employment centres\n",
      "        - RAD      index of accessibility to radial highways\n",
      "        - TAX      full-value property-tax rate per $10,000\n",
      "        - PTRATIO  pupil-teacher ratio by town\n",
      "        - B        1000(Bk - 0.63)^2 where Bk is the proportion of black people by town\n",
      "        - LSTAT    % lower status of the population\n",
      "        - MEDV     Median value of owner-occupied homes in $1000's\n",
      "\n",
      "    :Missing Attribute Values: None\n",
      "\n",
      "    :Creator: Harrison, D. and Rubinfeld, D.L.\n",
      "\n",
      "This is a copy of UCI ML housing dataset.\n",
      "https://archive.ics.uci.edu/ml/machine-learning-databases/housing/\n",
      "\n",
      "\n",
      "This dataset was taken from the StatLib library which is maintained at Carnegie Mellon University.\n",
      "\n",
      "The Boston house-price data of Harrison, D. and Rubinfeld, D.L. 'Hedonic\n",
      "prices and the demand for clean air', J. Environ. Economics & Management,\n",
      "vol.5, 81-102, 1978.   Used in Belsley, Kuh & Welsch, 'Regression diagnostics\n",
      "...', Wiley, 1980.   N.B. Various transformations are used in the table on\n",
      "pages 244-261 of the latter.\n",
      "\n",
      "The Boston house-price data has been used in many machine learning papers that address regression\n",
      "problems.   \n",
      "     \n",
      ".. topic:: References\n",
      "\n",
      "   - Belsley, Kuh & Welsch, 'Regression diagnostics: Identifying Influential Data and Sources of Collinearity', Wiley, 1980. 244-261.\n",
      "   - Quinlan,R. (1993). Combining Instance-Based and Model-Based Learning. In Proceedings on the Tenth International Conference of Machine Learning, 236-243, University of Massachusetts, Amherst. Morgan Kaufmann.\n",
      "\n"
     ]
    }
   ],
   "source": [
    "# DESCR 확인\n",
    "print(boston.DESCR)"
   ]
  },
  {
   "cell_type": "markdown",
   "id": "4f23f8fe",
   "metadata": {},
   "source": [
    "### 데이터 정보 정리하기\n",
    "*** 설명변수(문제 데이터) : 원인, 예측값을 설명할 수 있는 변수 ***\n",
    "- CRIM : 범죄율\n",
    "- INDUS : 비소매상업지역 면적 비율\n",
    "- NOX : 일산화질소 농도\n",
    "- RM : 주택당 방 수\n",
    "- LSTAT : 인구 중 하위 계층의 비율\n",
    "- B : 인구 중 흑인의 비율\n",
    "- PTRATIO : 학생/교사의 비율\n",
    "- ZN : 25,000 평방 피트를 초과하는 거주지역의 비율\n",
    "- CHAS : 찰스강의 경계에 위치한 경우는 1, 아니면 0\n",
    "- AGE : 1940년 이전에 지어진 주택의 비율\n",
    "- DIS : 직업센터와의 거리\n",
    "- TAX : 재산세의 비율\n",
    "\n",
    "\n",
    "*** 반응변수(정답 데이터) : 결과, 예측하고자 하는 값 ***\n",
    "\n",
    "- MEDV : 주택 가격\n"
   ]
  },
  {
   "cell_type": "markdown",
   "id": "37fd4652",
   "metadata": {},
   "source": [
    "### 데이터 프레임 화\n",
    "- 분석의 편의성을 위해서 넘파이의 배열형태의 데이터 -> 데이터 프레임화\n",
    "- X : 문제 데이터, 독립변수, 입력변수, 설명변수\n",
    "- y : 정답 데이터, 종속변수, 반응변수, 출력변수"
   ]
  },
  {
   "cell_type": "code",
   "execution_count": 6,
   "id": "be968bf6",
   "metadata": {
    "ExecuteTime": {
     "end_time": "2023-05-30T05:37:45.470452Z",
     "start_time": "2023-05-30T05:37:45.456429Z"
    }
   },
   "outputs": [],
   "source": [
    "X = pd.DataFrame(boston['data'], columns = boston['feature_names'])\n",
    "\n",
    "y = pd.Series(boston['target'])"
   ]
  },
  {
   "cell_type": "code",
   "execution_count": 7,
   "id": "d1dbd1e0",
   "metadata": {
    "ExecuteTime": {
     "end_time": "2023-05-30T05:37:45.486465Z",
     "start_time": "2023-05-30T05:37:45.472447Z"
    }
   },
   "outputs": [
    {
     "name": "stdout",
     "output_type": "stream",
     "text": [
      "<class 'pandas.core.frame.DataFrame'>\n",
      "RangeIndex: 506 entries, 0 to 505\n",
      "Data columns (total 13 columns):\n",
      " #   Column   Non-Null Count  Dtype  \n",
      "---  ------   --------------  -----  \n",
      " 0   CRIM     506 non-null    float64\n",
      " 1   ZN       506 non-null    float64\n",
      " 2   INDUS    506 non-null    float64\n",
      " 3   CHAS     506 non-null    float64\n",
      " 4   NOX      506 non-null    float64\n",
      " 5   RM       506 non-null    float64\n",
      " 6   AGE      506 non-null    float64\n",
      " 7   DIS      506 non-null    float64\n",
      " 8   RAD      506 non-null    float64\n",
      " 9   TAX      506 non-null    float64\n",
      " 10  PTRATIO  506 non-null    float64\n",
      " 11  B        506 non-null    float64\n",
      " 12  LSTAT    506 non-null    float64\n",
      "dtypes: float64(13)\n",
      "memory usage: 51.5 KB\n"
     ]
    }
   ],
   "source": [
    "X.info()"
   ]
  },
  {
   "cell_type": "code",
   "execution_count": 8,
   "id": "f983c6cd",
   "metadata": {
    "ExecuteTime": {
     "end_time": "2023-05-30T05:37:45.502452Z",
     "start_time": "2023-05-30T05:37:45.487492Z"
    }
   },
   "outputs": [
    {
     "name": "stdout",
     "output_type": "stream",
     "text": [
      "<class 'pandas.core.series.Series'>\n",
      "RangeIndex: 506 entries, 0 to 505\n",
      "Series name: None\n",
      "Non-Null Count  Dtype  \n",
      "--------------  -----  \n",
      "506 non-null    float64\n",
      "dtypes: float64(1)\n",
      "memory usage: 4.1 KB\n"
     ]
    }
   ],
   "source": [
    "y.info()"
   ]
  },
  {
   "cell_type": "markdown",
   "id": "916907d5",
   "metadata": {},
   "source": [
    "- 문제와 정답 데이터 모두 결측치가 없구나!"
   ]
  },
  {
   "cell_type": "code",
   "execution_count": 9,
   "id": "9a798f29",
   "metadata": {
    "ExecuteTime": {
     "end_time": "2023-05-30T05:37:45.518384Z",
     "start_time": "2023-05-30T05:37:45.504446Z"
    }
   },
   "outputs": [
    {
     "name": "stdout",
     "output_type": "stream",
     "text": [
      "      CRIM    ZN  INDUS  CHAS    NOX     RM   AGE     DIS  RAD    TAX  \\\n",
      "0  0.00632  18.0   2.31   0.0  0.538  6.575  65.2  4.0900  1.0  296.0   \n",
      "1  0.02731   0.0   7.07   0.0  0.469  6.421  78.9  4.9671  2.0  242.0   \n",
      "2  0.02729   0.0   7.07   0.0  0.469  7.185  61.1  4.9671  2.0  242.0   \n",
      "3  0.03237   0.0   2.18   0.0  0.458  6.998  45.8  6.0622  3.0  222.0   \n",
      "4  0.06905   0.0   2.18   0.0  0.458  7.147  54.2  6.0622  3.0  222.0   \n",
      "\n",
      "   PTRATIO       B  LSTAT  \n",
      "0     15.3  396.90   4.98  \n",
      "1     17.8  396.90   9.14  \n",
      "2     17.8  392.83   4.03  \n",
      "3     18.7  394.63   2.94  \n",
      "4     18.7  396.90   5.33  \n",
      "0    24.0\n",
      "1    21.6\n",
      "2    34.7\n",
      "3    33.4\n",
      "4    36.2\n",
      "dtype: float64\n"
     ]
    }
   ],
   "source": [
    "print(X.head())\n",
    "print(y.head())"
   ]
  },
  {
   "cell_type": "markdown",
   "id": "5b45c163",
   "metadata": {},
   "source": [
    "### 데이터 분할\n",
    "- train, test로 데이터를 분할 \n",
    "- train_test_split 기능을 이용해서 데이터 분리\n",
    "- 7:3 비율, 랜덤 시드는 0"
   ]
  },
  {
   "cell_type": "code",
   "execution_count": 10,
   "id": "7fd7eba7",
   "metadata": {
    "ExecuteTime": {
     "end_time": "2023-05-30T05:37:45.614231Z",
     "start_time": "2023-05-30T05:37:45.522374Z"
    }
   },
   "outputs": [],
   "source": [
    "from sklearn.model_selection import train_test_split\n",
    "X_train, X_test, y_train, y_test = train_test_split(X, y,test_size = 0.3, random_state=0)"
   ]
  },
  {
   "cell_type": "code",
   "execution_count": 11,
   "id": "6d07990e",
   "metadata": {
    "ExecuteTime": {
     "end_time": "2023-05-30T05:37:45.630308Z",
     "start_time": "2023-05-30T05:37:45.616226Z"
    }
   },
   "outputs": [
    {
     "name": "stdout",
     "output_type": "stream",
     "text": [
      "훈련용 문제 :  (354, 13)\n",
      "훈련용 답 :  (354,)\n",
      "테스트용 문제 :  (152, 13)\n",
      "테스트 답 :  (152,)\n"
     ]
    }
   ],
   "source": [
    "print('훈련용 문제 : ', X_train.shape)\n",
    "print('훈련용 답 : ', y_train.shape)\n",
    "print('테스트용 문제 : ', X_test.shape)\n",
    "print('테스트 답 : ', y_test.shape)"
   ]
  },
  {
   "cell_type": "markdown",
   "id": "c36a5749",
   "metadata": {},
   "source": [
    "### 모델링\n",
    "- LinearRegression(선형 회귀 모델 사용)"
   ]
  },
  {
   "cell_type": "code",
   "execution_count": 12,
   "id": "c0750ef0",
   "metadata": {
    "ExecuteTime": {
     "end_time": "2023-05-30T05:37:45.677031Z",
     "start_time": "2023-05-30T05:37:45.633266Z"
    }
   },
   "outputs": [],
   "source": [
    "# 선형회귀 모델 import\n",
    "from sklearn.linear_model import LinearRegression\n",
    "\n",
    "#교차검증 모델\n",
    "from sklearn.model_selection import cross_val_score"
   ]
  },
  {
   "cell_type": "code",
   "execution_count": 13,
   "id": "88d08e5a",
   "metadata": {
    "ExecuteTime": {
     "end_time": "2023-05-30T05:37:45.693054Z",
     "start_time": "2023-05-30T05:37:45.679030Z"
    }
   },
   "outputs": [],
   "source": [
    "# 모델 객체 생성\n",
    "linear_model = LinearRegression()"
   ]
  },
  {
   "cell_type": "code",
   "execution_count": 14,
   "id": "ec171ae4",
   "metadata": {
    "ExecuteTime": {
     "end_time": "2023-05-30T05:37:45.724759Z",
     "start_time": "2023-05-30T05:37:45.695049Z"
    }
   },
   "outputs": [
    {
     "data": {
      "text/plain": [
       "LinearRegression()"
      ]
     },
     "execution_count": 14,
     "metadata": {},
     "output_type": "execute_result"
    }
   ],
   "source": [
    "# 모델 학습\n",
    "linear_model.fit(X_train,y_train)"
   ]
  },
  {
   "cell_type": "code",
   "execution_count": 15,
   "id": "49d65501",
   "metadata": {
    "ExecuteTime": {
     "end_time": "2023-05-30T05:37:45.755676Z",
     "start_time": "2023-05-30T05:37:45.726752Z"
    }
   },
   "outputs": [
    {
     "name": "stdout",
     "output_type": "stream",
     "text": [
      "[0.7246982  0.58082515 0.77515092 0.72161474 0.78935797]\n",
      "0.718329397431593\n"
     ]
    }
   ],
   "source": [
    "# 교차 검증\n",
    "score = cross_val_score(linear_model, X_train, y_train, cv = 5)\n",
    "print(score)\n",
    "print(score.mean())"
   ]
  },
  {
   "cell_type": "code",
   "execution_count": 16,
   "id": "936840d1",
   "metadata": {
    "ExecuteTime": {
     "end_time": "2023-05-30T05:37:45.771633Z",
     "start_time": "2023-05-30T05:37:45.756697Z"
    }
   },
   "outputs": [],
   "source": [
    "# 스코어 확인 -> 규남쌤과 같이 해보자. 4가지의 평가지표 모두 살펴 보기\n",
    "# MSE(평균제곱오차), RMSE(평균제곱근오차), R2스코어, MAE(평균절대오차)\n",
    "# sklearn.metrics : 평가지표 모음집\n",
    "from sklearn.metrics import mean_squared_error # 평균 제곱 오차\n",
    "from sklearn.metrics import mean_absolute_error # 평균 절대 오차\n",
    "from sklearn.metrics import r2_score\n",
    "# RMSE는 평균 제곱 오차에 직접 루트를 적용하는 함수를 사용해줘야 한다."
   ]
  },
  {
   "cell_type": "code",
   "execution_count": 17,
   "id": "ebcea18e",
   "metadata": {
    "ExecuteTime": {
     "end_time": "2023-05-30T05:37:45.787589Z",
     "start_time": "2023-05-30T05:37:45.773627Z"
    }
   },
   "outputs": [
    {
     "data": {
      "text/plain": [
       "array([24.9357079 , 23.75163164, 29.32638296, 11.97534566, 21.37272478,\n",
       "       19.19148525, 20.5717479 , 21.21154015, 19.04572003, 20.35463238,\n",
       "        5.44119126, 16.93688709, 17.15482272,  5.3928209 , 40.20270696,\n",
       "       32.31327348, 22.46213268, 36.50124666, 31.03737014, 23.17124551,\n",
       "       24.74815321, 24.49939403, 20.6595791 , 30.4547583 , 22.32487164,\n",
       "       10.18932894, 17.44286422, 18.26103077, 35.63299326, 20.81960303,\n",
       "       18.27218007, 17.72047628, 19.33772473, 23.62254823, 28.97766856,\n",
       "       19.45036239, 11.13170639, 24.81843595, 18.05294835, 15.59712226,\n",
       "       26.21043403, 20.81140432, 22.17349382, 15.48367365, 22.62261604,\n",
       "       24.88561528, 19.74754478, 23.0465628 ,  9.84579105, 24.36378793,\n",
       "       21.47849008, 17.62118176, 24.39160873, 29.95102691, 13.57219422,\n",
       "       21.53645439, 20.53306273, 15.03433182, 14.3232289 , 22.11929299,\n",
       "       17.07321915, 21.54141094, 32.96766968, 31.371599  , 17.7860591 ,\n",
       "       32.75069556, 18.74795323, 19.21428022, 19.41970047, 23.08087809,\n",
       "       22.87732816, 24.06399098, 30.52824406, 28.71453508, 25.90763165,\n",
       "        5.17596718, 36.8709072 , 23.76983849, 27.26064379, 19.25849042,\n",
       "       28.41860517, 19.3008798 , 18.94922353, 38.00154059, 39.44096748,\n",
       "       23.72297885, 24.83722534, 16.52015743, 25.9970546 , 16.73997072,\n",
       "       15.48656983, 13.52825536, 24.12884363, 30.76919578, 22.18731163,\n",
       "       19.8848644 ,  0.42275479, 24.86785849, 16.05692   , 17.42486412,\n",
       "       25.49798527, 22.35171315, 32.66562689, 22.04428746, 27.29799885,\n",
       "       23.20302026,  6.86196574, 14.869251  , 22.31804948, 29.18125768,\n",
       "       33.22568234, 13.24392523, 19.67195771, 20.7502616 , 12.02271319,\n",
       "       23.50067006,  5.55662571, 19.87634689,  9.27059783, 44.81787339,\n",
       "       30.56017983, 12.44394048, 17.33192202, 21.48313292, 23.52664913,\n",
       "       20.49877266, 35.09161099, 13.22639935, 20.70321163, 35.35582833,\n",
       "       19.45050576, 13.81603561, 14.15654562, 23.03678503, 15.07521258,\n",
       "       30.9662041 , 25.23236632, 15.43763716, 24.06406534,  9.93080346,\n",
       "       15.01618901, 21.06098873, 32.87115732, 27.80927747, 25.91293794,\n",
       "       15.27877362, 30.97489404, 27.81107682, 14.5068157 ,  7.57369946,\n",
       "       28.3348068 , 25.04341153])"
      ]
     },
     "execution_count": 17,
     "metadata": {},
     "output_type": "execute_result"
    }
   ],
   "source": [
    "pre = linear_model.predict(X_test)\n",
    "pre"
   ]
  },
  {
   "cell_type": "code",
   "execution_count": 18,
   "id": "d3d2eced",
   "metadata": {
    "ExecuteTime": {
     "end_time": "2023-05-30T05:37:45.803548Z",
     "start_time": "2023-05-30T05:37:45.789584Z"
    }
   },
   "outputs": [
    {
     "name": "stdout",
     "output_type": "stream",
     "text": [
      "평균 제곱 오차 >>  27.195965766883234\n",
      "평균 제곱 오차 >>  5.214975145375406\n",
      "평균 절대 오차 >>  3.609904060381808\n",
      "R2스코어 >>  0.6733825506400193\n"
     ]
    }
   ],
   "source": [
    "# 평균 제곱 오차\n",
    "MSE = mean_squared_error(y_test, pre) \n",
    "print(\"평균 제곱 오차 >> \" , MSE)\n",
    "# 평균 제곱근 오차\n",
    "RMSE = np.sqrt(MSE)\n",
    "print(\"평균 제곱 오차 >> \" , RMSE)\n",
    "# 평균 절대 오차\n",
    "MAE = mean_absolute_error(y_test, pre)\n",
    "print(\"평균 절대 오차 >> \" , MAE)\n",
    "# R2_Score\n",
    "R2 = r2_score(y_test,pre)\n",
    "print(\"R2스코어 >> \" , R2)"
   ]
  },
  {
   "cell_type": "markdown",
   "id": "032ceb6b",
   "metadata": {},
   "source": [
    "✔ 현재 선형 모델은 성능이 좋지 못하다.\n",
    "모델의 성능을 개선하기 위해 노력해보자.\n",
    "\n",
    "✔ 선형모델은 일반적으로 데이터가 많아질수록 성능이 좋아지는 모습일 보인다.  \n",
    "✔ 성능이 좋다는 것은 훈련데이터의 성능이 조금 감소할지라도 \n",
    "새로운 데이터(테스트 셋트)에서 잘 반응하는 것이 성능이 좋다라는 뜻  \n",
    "✔ 데이터가 많아질수록 모델이 과대적합이 일어나기 힘들다\n"
   ]
  },
  {
   "cell_type": "markdown",
   "id": "d8c50a4e",
   "metadata": {},
   "source": [
    "### 특성 확장\n",
    "- 그럼 특성을 늘려보자~ -> 특성 곱을 이용해서!"
   ]
  },
  {
   "cell_type": "code",
   "execution_count": 19,
   "id": "c21628ad",
   "metadata": {
    "ExecuteTime": {
     "end_time": "2023-05-30T05:37:45.819505Z",
     "start_time": "2023-05-30T05:37:45.805541Z"
    }
   },
   "outputs": [],
   "source": [
    "# 상관관계를 확인하기 위해서 문제와 답을 붙인 데이터를 만들어보자\n",
    "X_copy = X_train.copy()\n",
    "X_copy['PRICE'] = y_train"
   ]
  },
  {
   "cell_type": "code",
   "execution_count": 20,
   "id": "5bce87c1",
   "metadata": {
    "ExecuteTime": {
     "end_time": "2023-05-30T05:37:45.835464Z",
     "start_time": "2023-05-30T05:37:45.821502Z"
    }
   },
   "outputs": [
    {
     "name": "stdout",
     "output_type": "stream",
     "text": [
      "<class 'pandas.core.frame.DataFrame'>\n",
      "Int64Index: 354 entries, 141 to 172\n",
      "Data columns (total 14 columns):\n",
      " #   Column   Non-Null Count  Dtype  \n",
      "---  ------   --------------  -----  \n",
      " 0   CRIM     354 non-null    float64\n",
      " 1   ZN       354 non-null    float64\n",
      " 2   INDUS    354 non-null    float64\n",
      " 3   CHAS     354 non-null    float64\n",
      " 4   NOX      354 non-null    float64\n",
      " 5   RM       354 non-null    float64\n",
      " 6   AGE      354 non-null    float64\n",
      " 7   DIS      354 non-null    float64\n",
      " 8   RAD      354 non-null    float64\n",
      " 9   TAX      354 non-null    float64\n",
      " 10  PTRATIO  354 non-null    float64\n",
      " 11  B        354 non-null    float64\n",
      " 12  LSTAT    354 non-null    float64\n",
      " 13  PRICE    354 non-null    float64\n",
      "dtypes: float64(14)\n",
      "memory usage: 41.5 KB\n"
     ]
    }
   ],
   "source": [
    "X_copy.info()"
   ]
  },
  {
   "cell_type": "code",
   "execution_count": 21,
   "id": "a584a886",
   "metadata": {
    "ExecuteTime": {
     "end_time": "2023-05-30T05:37:45.866380Z",
     "start_time": "2023-05-30T05:37:45.837456Z"
    }
   },
   "outputs": [
    {
     "data": {
      "text/html": [
       "<div>\n",
       "<style scoped>\n",
       "    .dataframe tbody tr th:only-of-type {\n",
       "        vertical-align: middle;\n",
       "    }\n",
       "\n",
       "    .dataframe tbody tr th {\n",
       "        vertical-align: top;\n",
       "    }\n",
       "\n",
       "    .dataframe thead th {\n",
       "        text-align: right;\n",
       "    }\n",
       "</style>\n",
       "<table border=\"1\" class=\"dataframe\">\n",
       "  <thead>\n",
       "    <tr style=\"text-align: right;\">\n",
       "      <th></th>\n",
       "      <th>CRIM</th>\n",
       "      <th>ZN</th>\n",
       "      <th>INDUS</th>\n",
       "      <th>CHAS</th>\n",
       "      <th>NOX</th>\n",
       "      <th>RM</th>\n",
       "      <th>AGE</th>\n",
       "      <th>DIS</th>\n",
       "      <th>RAD</th>\n",
       "      <th>TAX</th>\n",
       "      <th>PTRATIO</th>\n",
       "      <th>B</th>\n",
       "      <th>LSTAT</th>\n",
       "      <th>PRICE</th>\n",
       "    </tr>\n",
       "  </thead>\n",
       "  <tbody>\n",
       "    <tr>\n",
       "      <th>CRIM</th>\n",
       "      <td>1.000000</td>\n",
       "      <td>-0.196172</td>\n",
       "      <td>0.382073</td>\n",
       "      <td>-0.049364</td>\n",
       "      <td>0.416560</td>\n",
       "      <td>-0.188280</td>\n",
       "      <td>0.329927</td>\n",
       "      <td>-0.355840</td>\n",
       "      <td>0.603880</td>\n",
       "      <td>0.560570</td>\n",
       "      <td>0.264780</td>\n",
       "      <td>-0.299525</td>\n",
       "      <td>0.439369</td>\n",
       "      <td>-0.388182</td>\n",
       "    </tr>\n",
       "    <tr>\n",
       "      <th>ZN</th>\n",
       "      <td>-0.196172</td>\n",
       "      <td>1.000000</td>\n",
       "      <td>-0.529392</td>\n",
       "      <td>-0.063863</td>\n",
       "      <td>-0.523572</td>\n",
       "      <td>0.319260</td>\n",
       "      <td>-0.583885</td>\n",
       "      <td>0.658331</td>\n",
       "      <td>-0.314833</td>\n",
       "      <td>-0.327834</td>\n",
       "      <td>-0.392838</td>\n",
       "      <td>0.164641</td>\n",
       "      <td>-0.429178</td>\n",
       "      <td>0.386115</td>\n",
       "    </tr>\n",
       "    <tr>\n",
       "      <th>INDUS</th>\n",
       "      <td>0.382073</td>\n",
       "      <td>-0.529392</td>\n",
       "      <td>1.000000</td>\n",
       "      <td>0.044224</td>\n",
       "      <td>0.750218</td>\n",
       "      <td>-0.392969</td>\n",
       "      <td>0.629257</td>\n",
       "      <td>-0.686848</td>\n",
       "      <td>0.578459</td>\n",
       "      <td>0.719038</td>\n",
       "      <td>0.388353</td>\n",
       "      <td>-0.331638</td>\n",
       "      <td>0.603374</td>\n",
       "      <td>-0.504361</td>\n",
       "    </tr>\n",
       "    <tr>\n",
       "      <th>CHAS</th>\n",
       "      <td>-0.049364</td>\n",
       "      <td>-0.063863</td>\n",
       "      <td>0.044224</td>\n",
       "      <td>1.000000</td>\n",
       "      <td>0.043748</td>\n",
       "      <td>0.088125</td>\n",
       "      <td>0.067269</td>\n",
       "      <td>-0.085492</td>\n",
       "      <td>0.022338</td>\n",
       "      <td>-0.017156</td>\n",
       "      <td>-0.072683</td>\n",
       "      <td>0.069682</td>\n",
       "      <td>-0.059060</td>\n",
       "      <td>0.162395</td>\n",
       "    </tr>\n",
       "    <tr>\n",
       "      <th>NOX</th>\n",
       "      <td>0.416560</td>\n",
       "      <td>-0.523572</td>\n",
       "      <td>0.750218</td>\n",
       "      <td>0.043748</td>\n",
       "      <td>1.000000</td>\n",
       "      <td>-0.279202</td>\n",
       "      <td>0.740052</td>\n",
       "      <td>-0.765753</td>\n",
       "      <td>0.627188</td>\n",
       "      <td>0.683445</td>\n",
       "      <td>0.179046</td>\n",
       "      <td>-0.369445</td>\n",
       "      <td>0.577154</td>\n",
       "      <td>-0.426690</td>\n",
       "    </tr>\n",
       "    <tr>\n",
       "      <th>RM</th>\n",
       "      <td>-0.188280</td>\n",
       "      <td>0.319260</td>\n",
       "      <td>-0.392969</td>\n",
       "      <td>0.088125</td>\n",
       "      <td>-0.279202</td>\n",
       "      <td>1.000000</td>\n",
       "      <td>-0.235839</td>\n",
       "      <td>0.183857</td>\n",
       "      <td>-0.179242</td>\n",
       "      <td>-0.275242</td>\n",
       "      <td>-0.385526</td>\n",
       "      <td>0.157459</td>\n",
       "      <td>-0.623920</td>\n",
       "      <td>0.708978</td>\n",
       "    </tr>\n",
       "    <tr>\n",
       "      <th>AGE</th>\n",
       "      <td>0.329927</td>\n",
       "      <td>-0.583885</td>\n",
       "      <td>0.629257</td>\n",
       "      <td>0.067269</td>\n",
       "      <td>0.740052</td>\n",
       "      <td>-0.235839</td>\n",
       "      <td>1.000000</td>\n",
       "      <td>-0.761543</td>\n",
       "      <td>0.440578</td>\n",
       "      <td>0.502429</td>\n",
       "      <td>0.239729</td>\n",
       "      <td>-0.250416</td>\n",
       "      <td>0.606530</td>\n",
       "      <td>-0.390942</td>\n",
       "    </tr>\n",
       "    <tr>\n",
       "      <th>DIS</th>\n",
       "      <td>-0.355840</td>\n",
       "      <td>0.658331</td>\n",
       "      <td>-0.686848</td>\n",
       "      <td>-0.085492</td>\n",
       "      <td>-0.765753</td>\n",
       "      <td>0.183857</td>\n",
       "      <td>-0.761543</td>\n",
       "      <td>1.000000</td>\n",
       "      <td>-0.467653</td>\n",
       "      <td>-0.519643</td>\n",
       "      <td>-0.176620</td>\n",
       "      <td>0.248376</td>\n",
       "      <td>-0.501780</td>\n",
       "      <td>0.245634</td>\n",
       "    </tr>\n",
       "    <tr>\n",
       "      <th>RAD</th>\n",
       "      <td>0.603880</td>\n",
       "      <td>-0.314833</td>\n",
       "      <td>0.578459</td>\n",
       "      <td>0.022338</td>\n",
       "      <td>0.627188</td>\n",
       "      <td>-0.179242</td>\n",
       "      <td>0.440578</td>\n",
       "      <td>-0.467653</td>\n",
       "      <td>1.000000</td>\n",
       "      <td>0.907455</td>\n",
       "      <td>0.437687</td>\n",
       "      <td>-0.415325</td>\n",
       "      <td>0.442783</td>\n",
       "      <td>-0.389533</td>\n",
       "    </tr>\n",
       "    <tr>\n",
       "      <th>TAX</th>\n",
       "      <td>0.560570</td>\n",
       "      <td>-0.327834</td>\n",
       "      <td>0.719038</td>\n",
       "      <td>-0.017156</td>\n",
       "      <td>0.683445</td>\n",
       "      <td>-0.275242</td>\n",
       "      <td>0.502429</td>\n",
       "      <td>-0.519643</td>\n",
       "      <td>0.907455</td>\n",
       "      <td>1.000000</td>\n",
       "      <td>0.447518</td>\n",
       "      <td>-0.412145</td>\n",
       "      <td>0.515905</td>\n",
       "      <td>-0.481319</td>\n",
       "    </tr>\n",
       "    <tr>\n",
       "      <th>PTRATIO</th>\n",
       "      <td>0.264780</td>\n",
       "      <td>-0.392838</td>\n",
       "      <td>0.388353</td>\n",
       "      <td>-0.072683</td>\n",
       "      <td>0.179046</td>\n",
       "      <td>-0.385526</td>\n",
       "      <td>0.239729</td>\n",
       "      <td>-0.176620</td>\n",
       "      <td>0.437687</td>\n",
       "      <td>0.447518</td>\n",
       "      <td>1.000000</td>\n",
       "      <td>-0.145638</td>\n",
       "      <td>0.387752</td>\n",
       "      <td>-0.564733</td>\n",
       "    </tr>\n",
       "    <tr>\n",
       "      <th>B</th>\n",
       "      <td>-0.299525</td>\n",
       "      <td>0.164641</td>\n",
       "      <td>-0.331638</td>\n",
       "      <td>0.069682</td>\n",
       "      <td>-0.369445</td>\n",
       "      <td>0.157459</td>\n",
       "      <td>-0.250416</td>\n",
       "      <td>0.248376</td>\n",
       "      <td>-0.415325</td>\n",
       "      <td>-0.412145</td>\n",
       "      <td>-0.145638</td>\n",
       "      <td>1.000000</td>\n",
       "      <td>-0.365338</td>\n",
       "      <td>0.324437</td>\n",
       "    </tr>\n",
       "    <tr>\n",
       "      <th>LSTAT</th>\n",
       "      <td>0.439369</td>\n",
       "      <td>-0.429178</td>\n",
       "      <td>0.603374</td>\n",
       "      <td>-0.059060</td>\n",
       "      <td>0.577154</td>\n",
       "      <td>-0.623920</td>\n",
       "      <td>0.606530</td>\n",
       "      <td>-0.501780</td>\n",
       "      <td>0.442783</td>\n",
       "      <td>0.515905</td>\n",
       "      <td>0.387752</td>\n",
       "      <td>-0.365338</td>\n",
       "      <td>1.000000</td>\n",
       "      <td>-0.743289</td>\n",
       "    </tr>\n",
       "    <tr>\n",
       "      <th>PRICE</th>\n",
       "      <td>-0.388182</td>\n",
       "      <td>0.386115</td>\n",
       "      <td>-0.504361</td>\n",
       "      <td>0.162395</td>\n",
       "      <td>-0.426690</td>\n",
       "      <td>0.708978</td>\n",
       "      <td>-0.390942</td>\n",
       "      <td>0.245634</td>\n",
       "      <td>-0.389533</td>\n",
       "      <td>-0.481319</td>\n",
       "      <td>-0.564733</td>\n",
       "      <td>0.324437</td>\n",
       "      <td>-0.743289</td>\n",
       "      <td>1.000000</td>\n",
       "    </tr>\n",
       "  </tbody>\n",
       "</table>\n",
       "</div>"
      ],
      "text/plain": [
       "             CRIM        ZN     INDUS      CHAS       NOX        RM       AGE  \\\n",
       "CRIM     1.000000 -0.196172  0.382073 -0.049364  0.416560 -0.188280  0.329927   \n",
       "ZN      -0.196172  1.000000 -0.529392 -0.063863 -0.523572  0.319260 -0.583885   \n",
       "INDUS    0.382073 -0.529392  1.000000  0.044224  0.750218 -0.392969  0.629257   \n",
       "CHAS    -0.049364 -0.063863  0.044224  1.000000  0.043748  0.088125  0.067269   \n",
       "NOX      0.416560 -0.523572  0.750218  0.043748  1.000000 -0.279202  0.740052   \n",
       "RM      -0.188280  0.319260 -0.392969  0.088125 -0.279202  1.000000 -0.235839   \n",
       "AGE      0.329927 -0.583885  0.629257  0.067269  0.740052 -0.235839  1.000000   \n",
       "DIS     -0.355840  0.658331 -0.686848 -0.085492 -0.765753  0.183857 -0.761543   \n",
       "RAD      0.603880 -0.314833  0.578459  0.022338  0.627188 -0.179242  0.440578   \n",
       "TAX      0.560570 -0.327834  0.719038 -0.017156  0.683445 -0.275242  0.502429   \n",
       "PTRATIO  0.264780 -0.392838  0.388353 -0.072683  0.179046 -0.385526  0.239729   \n",
       "B       -0.299525  0.164641 -0.331638  0.069682 -0.369445  0.157459 -0.250416   \n",
       "LSTAT    0.439369 -0.429178  0.603374 -0.059060  0.577154 -0.623920  0.606530   \n",
       "PRICE   -0.388182  0.386115 -0.504361  0.162395 -0.426690  0.708978 -0.390942   \n",
       "\n",
       "              DIS       RAD       TAX   PTRATIO         B     LSTAT     PRICE  \n",
       "CRIM    -0.355840  0.603880  0.560570  0.264780 -0.299525  0.439369 -0.388182  \n",
       "ZN       0.658331 -0.314833 -0.327834 -0.392838  0.164641 -0.429178  0.386115  \n",
       "INDUS   -0.686848  0.578459  0.719038  0.388353 -0.331638  0.603374 -0.504361  \n",
       "CHAS    -0.085492  0.022338 -0.017156 -0.072683  0.069682 -0.059060  0.162395  \n",
       "NOX     -0.765753  0.627188  0.683445  0.179046 -0.369445  0.577154 -0.426690  \n",
       "RM       0.183857 -0.179242 -0.275242 -0.385526  0.157459 -0.623920  0.708978  \n",
       "AGE     -0.761543  0.440578  0.502429  0.239729 -0.250416  0.606530 -0.390942  \n",
       "DIS      1.000000 -0.467653 -0.519643 -0.176620  0.248376 -0.501780  0.245634  \n",
       "RAD     -0.467653  1.000000  0.907455  0.437687 -0.415325  0.442783 -0.389533  \n",
       "TAX     -0.519643  0.907455  1.000000  0.447518 -0.412145  0.515905 -0.481319  \n",
       "PTRATIO -0.176620  0.437687  0.447518  1.000000 -0.145638  0.387752 -0.564733  \n",
       "B        0.248376 -0.415325 -0.412145 -0.145638  1.000000 -0.365338  0.324437  \n",
       "LSTAT   -0.501780  0.442783  0.515905  0.387752 -0.365338  1.000000 -0.743289  \n",
       "PRICE    0.245634 -0.389533 -0.481319 -0.564733  0.324437 -0.743289  1.000000  "
      ]
     },
     "execution_count": 21,
     "metadata": {},
     "output_type": "execute_result"
    }
   ],
   "source": [
    "# 각 컬럼별 상관개수를 확인해보자\n",
    "X_copy.corr()"
   ]
  },
  {
   "cell_type": "code",
   "execution_count": 22,
   "id": "45cffc97",
   "metadata": {
    "ExecuteTime": {
     "end_time": "2023-05-30T05:37:45.898294Z",
     "start_time": "2023-05-30T05:37:45.868373Z"
    }
   },
   "outputs": [
    {
     "data": {
      "text/html": [
       "<div>\n",
       "<style scoped>\n",
       "    .dataframe tbody tr th:only-of-type {\n",
       "        vertical-align: middle;\n",
       "    }\n",
       "\n",
       "    .dataframe tbody tr th {\n",
       "        vertical-align: top;\n",
       "    }\n",
       "\n",
       "    .dataframe thead th {\n",
       "        text-align: right;\n",
       "    }\n",
       "</style>\n",
       "<table border=\"1\" class=\"dataframe\">\n",
       "  <thead>\n",
       "    <tr style=\"text-align: right;\">\n",
       "      <th></th>\n",
       "      <th>CRIM</th>\n",
       "      <th>ZN</th>\n",
       "      <th>INDUS</th>\n",
       "      <th>CHAS</th>\n",
       "      <th>NOX</th>\n",
       "      <th>RM</th>\n",
       "      <th>AGE</th>\n",
       "      <th>DIS</th>\n",
       "      <th>RAD</th>\n",
       "      <th>TAX</th>\n",
       "      <th>PTRATIO</th>\n",
       "      <th>B</th>\n",
       "      <th>LSTAT</th>\n",
       "      <th>PRICE</th>\n",
       "    </tr>\n",
       "  </thead>\n",
       "  <tbody>\n",
       "    <tr>\n",
       "      <th>PRICE</th>\n",
       "      <td>0.388182</td>\n",
       "      <td>0.386115</td>\n",
       "      <td>0.504361</td>\n",
       "      <td>0.162395</td>\n",
       "      <td>0.426690</td>\n",
       "      <td>0.708978</td>\n",
       "      <td>0.390942</td>\n",
       "      <td>0.245634</td>\n",
       "      <td>0.389533</td>\n",
       "      <td>0.481319</td>\n",
       "      <td>0.564733</td>\n",
       "      <td>0.324437</td>\n",
       "      <td>0.743289</td>\n",
       "      <td>1.000000</td>\n",
       "    </tr>\n",
       "    <tr>\n",
       "      <th>LSTAT</th>\n",
       "      <td>0.439369</td>\n",
       "      <td>0.429178</td>\n",
       "      <td>0.603374</td>\n",
       "      <td>0.059060</td>\n",
       "      <td>0.577154</td>\n",
       "      <td>0.623920</td>\n",
       "      <td>0.606530</td>\n",
       "      <td>0.501780</td>\n",
       "      <td>0.442783</td>\n",
       "      <td>0.515905</td>\n",
       "      <td>0.387752</td>\n",
       "      <td>0.365338</td>\n",
       "      <td>1.000000</td>\n",
       "      <td>0.743289</td>\n",
       "    </tr>\n",
       "    <tr>\n",
       "      <th>RM</th>\n",
       "      <td>0.188280</td>\n",
       "      <td>0.319260</td>\n",
       "      <td>0.392969</td>\n",
       "      <td>0.088125</td>\n",
       "      <td>0.279202</td>\n",
       "      <td>1.000000</td>\n",
       "      <td>0.235839</td>\n",
       "      <td>0.183857</td>\n",
       "      <td>0.179242</td>\n",
       "      <td>0.275242</td>\n",
       "      <td>0.385526</td>\n",
       "      <td>0.157459</td>\n",
       "      <td>0.623920</td>\n",
       "      <td>0.708978</td>\n",
       "    </tr>\n",
       "    <tr>\n",
       "      <th>PTRATIO</th>\n",
       "      <td>0.264780</td>\n",
       "      <td>0.392838</td>\n",
       "      <td>0.388353</td>\n",
       "      <td>0.072683</td>\n",
       "      <td>0.179046</td>\n",
       "      <td>0.385526</td>\n",
       "      <td>0.239729</td>\n",
       "      <td>0.176620</td>\n",
       "      <td>0.437687</td>\n",
       "      <td>0.447518</td>\n",
       "      <td>1.000000</td>\n",
       "      <td>0.145638</td>\n",
       "      <td>0.387752</td>\n",
       "      <td>0.564733</td>\n",
       "    </tr>\n",
       "    <tr>\n",
       "      <th>INDUS</th>\n",
       "      <td>0.382073</td>\n",
       "      <td>0.529392</td>\n",
       "      <td>1.000000</td>\n",
       "      <td>0.044224</td>\n",
       "      <td>0.750218</td>\n",
       "      <td>0.392969</td>\n",
       "      <td>0.629257</td>\n",
       "      <td>0.686848</td>\n",
       "      <td>0.578459</td>\n",
       "      <td>0.719038</td>\n",
       "      <td>0.388353</td>\n",
       "      <td>0.331638</td>\n",
       "      <td>0.603374</td>\n",
       "      <td>0.504361</td>\n",
       "    </tr>\n",
       "    <tr>\n",
       "      <th>TAX</th>\n",
       "      <td>0.560570</td>\n",
       "      <td>0.327834</td>\n",
       "      <td>0.719038</td>\n",
       "      <td>0.017156</td>\n",
       "      <td>0.683445</td>\n",
       "      <td>0.275242</td>\n",
       "      <td>0.502429</td>\n",
       "      <td>0.519643</td>\n",
       "      <td>0.907455</td>\n",
       "      <td>1.000000</td>\n",
       "      <td>0.447518</td>\n",
       "      <td>0.412145</td>\n",
       "      <td>0.515905</td>\n",
       "      <td>0.481319</td>\n",
       "    </tr>\n",
       "    <tr>\n",
       "      <th>NOX</th>\n",
       "      <td>0.416560</td>\n",
       "      <td>0.523572</td>\n",
       "      <td>0.750218</td>\n",
       "      <td>0.043748</td>\n",
       "      <td>1.000000</td>\n",
       "      <td>0.279202</td>\n",
       "      <td>0.740052</td>\n",
       "      <td>0.765753</td>\n",
       "      <td>0.627188</td>\n",
       "      <td>0.683445</td>\n",
       "      <td>0.179046</td>\n",
       "      <td>0.369445</td>\n",
       "      <td>0.577154</td>\n",
       "      <td>0.426690</td>\n",
       "    </tr>\n",
       "    <tr>\n",
       "      <th>AGE</th>\n",
       "      <td>0.329927</td>\n",
       "      <td>0.583885</td>\n",
       "      <td>0.629257</td>\n",
       "      <td>0.067269</td>\n",
       "      <td>0.740052</td>\n",
       "      <td>0.235839</td>\n",
       "      <td>1.000000</td>\n",
       "      <td>0.761543</td>\n",
       "      <td>0.440578</td>\n",
       "      <td>0.502429</td>\n",
       "      <td>0.239729</td>\n",
       "      <td>0.250416</td>\n",
       "      <td>0.606530</td>\n",
       "      <td>0.390942</td>\n",
       "    </tr>\n",
       "    <tr>\n",
       "      <th>RAD</th>\n",
       "      <td>0.603880</td>\n",
       "      <td>0.314833</td>\n",
       "      <td>0.578459</td>\n",
       "      <td>0.022338</td>\n",
       "      <td>0.627188</td>\n",
       "      <td>0.179242</td>\n",
       "      <td>0.440578</td>\n",
       "      <td>0.467653</td>\n",
       "      <td>1.000000</td>\n",
       "      <td>0.907455</td>\n",
       "      <td>0.437687</td>\n",
       "      <td>0.415325</td>\n",
       "      <td>0.442783</td>\n",
       "      <td>0.389533</td>\n",
       "    </tr>\n",
       "    <tr>\n",
       "      <th>CRIM</th>\n",
       "      <td>1.000000</td>\n",
       "      <td>0.196172</td>\n",
       "      <td>0.382073</td>\n",
       "      <td>0.049364</td>\n",
       "      <td>0.416560</td>\n",
       "      <td>0.188280</td>\n",
       "      <td>0.329927</td>\n",
       "      <td>0.355840</td>\n",
       "      <td>0.603880</td>\n",
       "      <td>0.560570</td>\n",
       "      <td>0.264780</td>\n",
       "      <td>0.299525</td>\n",
       "      <td>0.439369</td>\n",
       "      <td>0.388182</td>\n",
       "    </tr>\n",
       "    <tr>\n",
       "      <th>ZN</th>\n",
       "      <td>0.196172</td>\n",
       "      <td>1.000000</td>\n",
       "      <td>0.529392</td>\n",
       "      <td>0.063863</td>\n",
       "      <td>0.523572</td>\n",
       "      <td>0.319260</td>\n",
       "      <td>0.583885</td>\n",
       "      <td>0.658331</td>\n",
       "      <td>0.314833</td>\n",
       "      <td>0.327834</td>\n",
       "      <td>0.392838</td>\n",
       "      <td>0.164641</td>\n",
       "      <td>0.429178</td>\n",
       "      <td>0.386115</td>\n",
       "    </tr>\n",
       "    <tr>\n",
       "      <th>B</th>\n",
       "      <td>0.299525</td>\n",
       "      <td>0.164641</td>\n",
       "      <td>0.331638</td>\n",
       "      <td>0.069682</td>\n",
       "      <td>0.369445</td>\n",
       "      <td>0.157459</td>\n",
       "      <td>0.250416</td>\n",
       "      <td>0.248376</td>\n",
       "      <td>0.415325</td>\n",
       "      <td>0.412145</td>\n",
       "      <td>0.145638</td>\n",
       "      <td>1.000000</td>\n",
       "      <td>0.365338</td>\n",
       "      <td>0.324437</td>\n",
       "    </tr>\n",
       "    <tr>\n",
       "      <th>DIS</th>\n",
       "      <td>0.355840</td>\n",
       "      <td>0.658331</td>\n",
       "      <td>0.686848</td>\n",
       "      <td>0.085492</td>\n",
       "      <td>0.765753</td>\n",
       "      <td>0.183857</td>\n",
       "      <td>0.761543</td>\n",
       "      <td>1.000000</td>\n",
       "      <td>0.467653</td>\n",
       "      <td>0.519643</td>\n",
       "      <td>0.176620</td>\n",
       "      <td>0.248376</td>\n",
       "      <td>0.501780</td>\n",
       "      <td>0.245634</td>\n",
       "    </tr>\n",
       "    <tr>\n",
       "      <th>CHAS</th>\n",
       "      <td>0.049364</td>\n",
       "      <td>0.063863</td>\n",
       "      <td>0.044224</td>\n",
       "      <td>1.000000</td>\n",
       "      <td>0.043748</td>\n",
       "      <td>0.088125</td>\n",
       "      <td>0.067269</td>\n",
       "      <td>0.085492</td>\n",
       "      <td>0.022338</td>\n",
       "      <td>0.017156</td>\n",
       "      <td>0.072683</td>\n",
       "      <td>0.069682</td>\n",
       "      <td>0.059060</td>\n",
       "      <td>0.162395</td>\n",
       "    </tr>\n",
       "  </tbody>\n",
       "</table>\n",
       "</div>"
      ],
      "text/plain": [
       "             CRIM        ZN     INDUS      CHAS       NOX        RM       AGE  \\\n",
       "PRICE    0.388182  0.386115  0.504361  0.162395  0.426690  0.708978  0.390942   \n",
       "LSTAT    0.439369  0.429178  0.603374  0.059060  0.577154  0.623920  0.606530   \n",
       "RM       0.188280  0.319260  0.392969  0.088125  0.279202  1.000000  0.235839   \n",
       "PTRATIO  0.264780  0.392838  0.388353  0.072683  0.179046  0.385526  0.239729   \n",
       "INDUS    0.382073  0.529392  1.000000  0.044224  0.750218  0.392969  0.629257   \n",
       "TAX      0.560570  0.327834  0.719038  0.017156  0.683445  0.275242  0.502429   \n",
       "NOX      0.416560  0.523572  0.750218  0.043748  1.000000  0.279202  0.740052   \n",
       "AGE      0.329927  0.583885  0.629257  0.067269  0.740052  0.235839  1.000000   \n",
       "RAD      0.603880  0.314833  0.578459  0.022338  0.627188  0.179242  0.440578   \n",
       "CRIM     1.000000  0.196172  0.382073  0.049364  0.416560  0.188280  0.329927   \n",
       "ZN       0.196172  1.000000  0.529392  0.063863  0.523572  0.319260  0.583885   \n",
       "B        0.299525  0.164641  0.331638  0.069682  0.369445  0.157459  0.250416   \n",
       "DIS      0.355840  0.658331  0.686848  0.085492  0.765753  0.183857  0.761543   \n",
       "CHAS     0.049364  0.063863  0.044224  1.000000  0.043748  0.088125  0.067269   \n",
       "\n",
       "              DIS       RAD       TAX   PTRATIO         B     LSTAT     PRICE  \n",
       "PRICE    0.245634  0.389533  0.481319  0.564733  0.324437  0.743289  1.000000  \n",
       "LSTAT    0.501780  0.442783  0.515905  0.387752  0.365338  1.000000  0.743289  \n",
       "RM       0.183857  0.179242  0.275242  0.385526  0.157459  0.623920  0.708978  \n",
       "PTRATIO  0.176620  0.437687  0.447518  1.000000  0.145638  0.387752  0.564733  \n",
       "INDUS    0.686848  0.578459  0.719038  0.388353  0.331638  0.603374  0.504361  \n",
       "TAX      0.519643  0.907455  1.000000  0.447518  0.412145  0.515905  0.481319  \n",
       "NOX      0.765753  0.627188  0.683445  0.179046  0.369445  0.577154  0.426690  \n",
       "AGE      0.761543  0.440578  0.502429  0.239729  0.250416  0.606530  0.390942  \n",
       "RAD      0.467653  1.000000  0.907455  0.437687  0.415325  0.442783  0.389533  \n",
       "CRIM     0.355840  0.603880  0.560570  0.264780  0.299525  0.439369  0.388182  \n",
       "ZN       0.658331  0.314833  0.327834  0.392838  0.164641  0.429178  0.386115  \n",
       "B        0.248376  0.415325  0.412145  0.145638  1.000000  0.365338  0.324437  \n",
       "DIS      1.000000  0.467653  0.519643  0.176620  0.248376  0.501780  0.245634  \n",
       "CHAS     0.085492  0.022338  0.017156  0.072683  0.069682  0.059060  0.162395  "
      ]
     },
     "execution_count": 22,
     "metadata": {},
     "output_type": "execute_result"
    }
   ],
   "source": [
    "boston_cor = X_copy.corr().abs()\n",
    "boston_cor.sort_values(by='PRICE', ascending=False) # 내림차순 설정"
   ]
  },
  {
   "cell_type": "code",
   "execution_count": 24,
   "id": "055c45e8",
   "metadata": {
    "ExecuteTime": {
     "end_time": "2023-05-30T05:37:50.728459Z",
     "start_time": "2023-05-30T05:37:50.577861Z"
    }
   },
   "outputs": [
    {
     "data": {
      "image/png": "[encoded data removed]",
      "text/plain": [
       "<Figure size 640x480 with 1 Axes>"
      ]
     },
     "metadata": {},
     "output_type": "display_data"
    }
   ],
   "source": [
    "# 확장 전의 모습) 먼저 RM 특성만 가지고 학습 시킨 후 예측을 어떻게 하는지 보자!\n",
    "model = LinearRegression()\n",
    "model.fit(X_train[['RM']], y_train)\n",
    "pre= model.predict(X_train[['RM']])\n",
    "\n",
    "# 시각화 해보기\n",
    "plt.scatter(X_train['RM'], y_train)\n",
    "plt.scatter(X_train['RM'],pre, color ='red')\n",
    "plt.show()"
   ]
  },
  {
   "cell_type": "code",
   "execution_count": 29,
   "id": "5eeb3c49",
   "metadata": {
    "ExecuteTime": {
     "end_time": "2023-05-30T05:54:52.482111Z",
     "start_time": "2023-05-30T05:54:52.318548Z"
    }
   },
   "outputs": [
    {
     "data": {
      "image/png": "[encoded data removed]",
      "text/plain": [
       "<Figure size 640x480 with 1 Axes>"
      ]
     },
     "metadata": {},
     "output_type": "display_data"
    }
   ],
   "source": [
    "# 특성 확장 후 ) 원래 RM 특성과 확장 RM 특성을 가지고 학습시킨 후 예측을 어떻게 하는지 시각화\n",
    "X_train['RM X RM'] = X_train['RM']* X_train['RM']\n",
    "\n",
    "model = LinearRegression()\n",
    "model.fit(X_train[['RM', 'RM X RM']], y_train) # 확장된 특성 추가\n",
    "pre= model.predict(X_train[['RM', 'RM X RM']]) # 확장된 특성 추가!\n",
    "\n",
    "# 시각화 해보기\n",
    "plt.scatter(X_train['RM'], y_train) # 실제 데이터의 분포\n",
    "plt.scatter(X_train['RM'],pre, color ='red') # 예측한 직선의 \n",
    "plt.show()"
   ]
  },
  {
   "cell_type": "code",
   "execution_count": 30,
   "id": "f2c7de45",
   "metadata": {
    "ExecuteTime": {
     "end_time": "2023-05-30T05:54:54.343367Z",
     "start_time": "2023-05-30T05:54:54.318336Z"
    }
   },
   "outputs": [
    {
     "data": {
      "text/plain": [
       "0.7508601669782059"
      ]
     },
     "execution_count": 30,
     "metadata": {},
     "output_type": "execute_result"
    }
   ],
   "source": [
    "X_test['RM x RM'] = X_test[\"RM\"] * X_test[\"RM\"]\n",
    "\n",
    "model = LinearRegression()\n",
    "model.fit(X_train, y_train) # 문제 데이터에는 특성확장된 컬럼이 존재!\n",
    "model.score(X_test, y_test) # 문제 데이터에는 특성확장된 컬럼이 존재!, R2_score"
   ]
  },
  {
   "cell_type": "markdown",
   "id": "e2581643",
   "metadata": {},
   "source": [
    "- 상관관계가 높은 특성들을 확장시켜줬더니 선형회귀모델의 성능이 좋아졌다  \n",
    "67% -> 69% ->74%  \n",
    "- 특성이 하나씩 확장될때마다 성능이 좋아졌다.\n",
    "- 그럼 전체 특성을 확장해보면 회귀모델이 좋아지지않을까? (가설)\n",
    "\n",
    "- 모든 데이터 전체 특성 확장하기"
   ]
  },
  {
   "cell_type": "code",
   "execution_count": 43,
   "id": "84f604c2",
   "metadata": {
    "ExecuteTime": {
     "end_time": "2023-05-30T05:57:05.605831Z",
     "start_time": "2023-05-30T05:57:05.575897Z"
    }
   },
   "outputs": [
    {
     "data": {
      "text/html": [
       "<div>\n",
       "<style scoped>\n",
       "    .dataframe tbody tr th:only-of-type {\n",
       "        vertical-align: middle;\n",
       "    }\n",
       "\n",
       "    .dataframe tbody tr th {\n",
       "        vertical-align: top;\n",
       "    }\n",
       "\n",
       "    .dataframe thead th {\n",
       "        text-align: right;\n",
       "    }\n",
       "</style>\n",
       "<table border=\"1\" class=\"dataframe\">\n",
       "  <thead>\n",
       "    <tr style=\"text-align: right;\">\n",
       "      <th></th>\n",
       "      <th>CRIM</th>\n",
       "      <th>ZN</th>\n",
       "      <th>INDUS</th>\n",
       "      <th>CHAS</th>\n",
       "      <th>NOX</th>\n",
       "      <th>RM</th>\n",
       "      <th>AGE</th>\n",
       "      <th>DIS</th>\n",
       "      <th>RAD</th>\n",
       "      <th>TAX</th>\n",
       "      <th>PTRATIO</th>\n",
       "      <th>B</th>\n",
       "      <th>LSTAT</th>\n",
       "    </tr>\n",
       "  </thead>\n",
       "  <tbody>\n",
       "    <tr>\n",
       "      <th>141</th>\n",
       "      <td>1.62864</td>\n",
       "      <td>0.0</td>\n",
       "      <td>21.89</td>\n",
       "      <td>0.0</td>\n",
       "      <td>0.624</td>\n",
       "      <td>5.019</td>\n",
       "      <td>100.0</td>\n",
       "      <td>1.4394</td>\n",
       "      <td>4.0</td>\n",
       "      <td>437.0</td>\n",
       "      <td>21.2</td>\n",
       "      <td>396.90</td>\n",
       "      <td>34.41</td>\n",
       "    </tr>\n",
       "    <tr>\n",
       "      <th>272</th>\n",
       "      <td>0.11460</td>\n",
       "      <td>20.0</td>\n",
       "      <td>6.96</td>\n",
       "      <td>0.0</td>\n",
       "      <td>0.464</td>\n",
       "      <td>6.538</td>\n",
       "      <td>58.7</td>\n",
       "      <td>3.9175</td>\n",
       "      <td>3.0</td>\n",
       "      <td>223.0</td>\n",
       "      <td>18.6</td>\n",
       "      <td>394.96</td>\n",
       "      <td>7.73</td>\n",
       "    </tr>\n",
       "    <tr>\n",
       "      <th>135</th>\n",
       "      <td>0.55778</td>\n",
       "      <td>0.0</td>\n",
       "      <td>21.89</td>\n",
       "      <td>0.0</td>\n",
       "      <td>0.624</td>\n",
       "      <td>6.335</td>\n",
       "      <td>98.2</td>\n",
       "      <td>2.1107</td>\n",
       "      <td>4.0</td>\n",
       "      <td>437.0</td>\n",
       "      <td>21.2</td>\n",
       "      <td>394.67</td>\n",
       "      <td>16.96</td>\n",
       "    </tr>\n",
       "    <tr>\n",
       "      <th>298</th>\n",
       "      <td>0.06466</td>\n",
       "      <td>70.0</td>\n",
       "      <td>2.24</td>\n",
       "      <td>0.0</td>\n",
       "      <td>0.400</td>\n",
       "      <td>6.345</td>\n",
       "      <td>20.1</td>\n",
       "      <td>7.8278</td>\n",
       "      <td>5.0</td>\n",
       "      <td>358.0</td>\n",
       "      <td>14.8</td>\n",
       "      <td>368.24</td>\n",
       "      <td>4.97</td>\n",
       "    </tr>\n",
       "    <tr>\n",
       "      <th>122</th>\n",
       "      <td>0.09299</td>\n",
       "      <td>0.0</td>\n",
       "      <td>25.65</td>\n",
       "      <td>0.0</td>\n",
       "      <td>0.581</td>\n",
       "      <td>5.961</td>\n",
       "      <td>92.9</td>\n",
       "      <td>2.0869</td>\n",
       "      <td>2.0</td>\n",
       "      <td>188.0</td>\n",
       "      <td>19.1</td>\n",
       "      <td>378.09</td>\n",
       "      <td>17.93</td>\n",
       "    </tr>\n",
       "    <tr>\n",
       "      <th>...</th>\n",
       "      <td>...</td>\n",
       "      <td>...</td>\n",
       "      <td>...</td>\n",
       "      <td>...</td>\n",
       "      <td>...</td>\n",
       "      <td>...</td>\n",
       "      <td>...</td>\n",
       "      <td>...</td>\n",
       "      <td>...</td>\n",
       "      <td>...</td>\n",
       "      <td>...</td>\n",
       "      <td>...</td>\n",
       "      <td>...</td>\n",
       "    </tr>\n",
       "    <tr>\n",
       "      <th>323</th>\n",
       "      <td>0.28392</td>\n",
       "      <td>0.0</td>\n",
       "      <td>7.38</td>\n",
       "      <td>0.0</td>\n",
       "      <td>0.493</td>\n",
       "      <td>5.708</td>\n",
       "      <td>74.3</td>\n",
       "      <td>4.7211</td>\n",
       "      <td>5.0</td>\n",
       "      <td>287.0</td>\n",
       "      <td>19.6</td>\n",
       "      <td>391.13</td>\n",
       "      <td>11.74</td>\n",
       "    </tr>\n",
       "    <tr>\n",
       "      <th>192</th>\n",
       "      <td>0.08664</td>\n",
       "      <td>45.0</td>\n",
       "      <td>3.44</td>\n",
       "      <td>0.0</td>\n",
       "      <td>0.437</td>\n",
       "      <td>7.178</td>\n",
       "      <td>26.3</td>\n",
       "      <td>6.4798</td>\n",
       "      <td>5.0</td>\n",
       "      <td>398.0</td>\n",
       "      <td>15.2</td>\n",
       "      <td>390.49</td>\n",
       "      <td>2.87</td>\n",
       "    </tr>\n",
       "    <tr>\n",
       "      <th>117</th>\n",
       "      <td>0.15098</td>\n",
       "      <td>0.0</td>\n",
       "      <td>10.01</td>\n",
       "      <td>0.0</td>\n",
       "      <td>0.547</td>\n",
       "      <td>6.021</td>\n",
       "      <td>82.6</td>\n",
       "      <td>2.7474</td>\n",
       "      <td>6.0</td>\n",
       "      <td>432.0</td>\n",
       "      <td>17.8</td>\n",
       "      <td>394.51</td>\n",
       "      <td>10.30</td>\n",
       "    </tr>\n",
       "    <tr>\n",
       "      <th>47</th>\n",
       "      <td>0.22927</td>\n",
       "      <td>0.0</td>\n",
       "      <td>6.91</td>\n",
       "      <td>0.0</td>\n",
       "      <td>0.448</td>\n",
       "      <td>6.030</td>\n",
       "      <td>85.5</td>\n",
       "      <td>5.6894</td>\n",
       "      <td>3.0</td>\n",
       "      <td>233.0</td>\n",
       "      <td>17.9</td>\n",
       "      <td>392.74</td>\n",
       "      <td>18.80</td>\n",
       "    </tr>\n",
       "    <tr>\n",
       "      <th>172</th>\n",
       "      <td>0.13914</td>\n",
       "      <td>0.0</td>\n",
       "      <td>4.05</td>\n",
       "      <td>0.0</td>\n",
       "      <td>0.510</td>\n",
       "      <td>5.572</td>\n",
       "      <td>88.5</td>\n",
       "      <td>2.5961</td>\n",
       "      <td>5.0</td>\n",
       "      <td>296.0</td>\n",
       "      <td>16.6</td>\n",
       "      <td>396.90</td>\n",
       "      <td>14.69</td>\n",
       "    </tr>\n",
       "  </tbody>\n",
       "</table>\n",
       "<p>354 rows × 13 columns</p>\n",
       "</div>"
      ],
      "text/plain": [
       "        CRIM    ZN  INDUS  CHAS    NOX     RM    AGE     DIS  RAD    TAX  \\\n",
       "141  1.62864   0.0  21.89   0.0  0.624  5.019  100.0  1.4394  4.0  437.0   \n",
       "272  0.11460  20.0   6.96   0.0  0.464  6.538   58.7  3.9175  3.0  223.0   \n",
       "135  0.55778   0.0  21.89   0.0  0.624  6.335   98.2  2.1107  4.0  437.0   \n",
       "298  0.06466  70.0   2.24   0.0  0.400  6.345   20.1  7.8278  5.0  358.0   \n",
       "122  0.09299   0.0  25.65   0.0  0.581  5.961   92.9  2.0869  2.0  188.0   \n",
       "..       ...   ...    ...   ...    ...    ...    ...     ...  ...    ...   \n",
       "323  0.28392   0.0   7.38   0.0  0.493  5.708   74.3  4.7211  5.0  287.0   \n",
       "192  0.08664  45.0   3.44   0.0  0.437  7.178   26.3  6.4798  5.0  398.0   \n",
       "117  0.15098   0.0  10.01   0.0  0.547  6.021   82.6  2.7474  6.0  432.0   \n",
       "47   0.22927   0.0   6.91   0.0  0.448  6.030   85.5  5.6894  3.0  233.0   \n",
       "172  0.13914   0.0   4.05   0.0  0.510  5.572   88.5  2.5961  5.0  296.0   \n",
       "\n",
       "     PTRATIO       B  LSTAT  \n",
       "141     21.2  396.90  34.41  \n",
       "272     18.6  394.96   7.73  \n",
       "135     21.2  394.67  16.96  \n",
       "298     14.8  368.24   4.97  \n",
       "122     19.1  378.09  17.93  \n",
       "..       ...     ...    ...  \n",
       "323     19.6  391.13  11.74  \n",
       "192     15.2  390.49   2.87  \n",
       "117     17.8  394.51  10.30  \n",
       "47      17.9  392.74  18.80  \n",
       "172     16.6  396.90  14.69  \n",
       "\n",
       "[354 rows x 13 columns]"
      ]
     },
     "execution_count": 43,
     "metadata": {},
     "output_type": "execute_result"
    }
   ],
   "source": [
    "X_train"
   ]
  },
  {
   "cell_type": "code",
   "execution_count": 42,
   "id": "5d38fa39",
   "metadata": {
    "ExecuteTime": {
     "end_time": "2023-05-30T05:57:03.342722Z",
     "start_time": "2023-05-30T05:57:03.319782Z"
    }
   },
   "outputs": [
    {
     "data": {
      "text/html": [
       "<div>\n",
       "<style scoped>\n",
       "    .dataframe tbody tr th:only-of-type {\n",
       "        vertical-align: middle;\n",
       "    }\n",
       "\n",
       "    .dataframe tbody tr th {\n",
       "        vertical-align: top;\n",
       "    }\n",
       "\n",
       "    .dataframe thead th {\n",
       "        text-align: right;\n",
       "    }\n",
       "</style>\n",
       "<table border=\"1\" class=\"dataframe\">\n",
       "  <thead>\n",
       "    <tr style=\"text-align: right;\">\n",
       "      <th></th>\n",
       "      <th>CRIM</th>\n",
       "      <th>ZN</th>\n",
       "      <th>INDUS</th>\n",
       "      <th>CHAS</th>\n",
       "      <th>NOX</th>\n",
       "      <th>RM</th>\n",
       "      <th>AGE</th>\n",
       "      <th>DIS</th>\n",
       "      <th>RAD</th>\n",
       "      <th>TAX</th>\n",
       "      <th>PTRATIO</th>\n",
       "      <th>B</th>\n",
       "    </tr>\n",
       "  </thead>\n",
       "  <tbody>\n",
       "    <tr>\n",
       "      <th>329</th>\n",
       "      <td>0.06724</td>\n",
       "      <td>0.0</td>\n",
       "      <td>3.24</td>\n",
       "      <td>0.0</td>\n",
       "      <td>0.460</td>\n",
       "      <td>6.333</td>\n",
       "      <td>17.2</td>\n",
       "      <td>5.2146</td>\n",
       "      <td>4.0</td>\n",
       "      <td>430.0</td>\n",
       "      <td>16.9</td>\n",
       "      <td>375.21</td>\n",
       "    </tr>\n",
       "    <tr>\n",
       "      <th>371</th>\n",
       "      <td>9.23230</td>\n",
       "      <td>0.0</td>\n",
       "      <td>18.10</td>\n",
       "      <td>0.0</td>\n",
       "      <td>0.631</td>\n",
       "      <td>6.216</td>\n",
       "      <td>100.0</td>\n",
       "      <td>1.1691</td>\n",
       "      <td>24.0</td>\n",
       "      <td>666.0</td>\n",
       "      <td>20.2</td>\n",
       "      <td>366.15</td>\n",
       "    </tr>\n",
       "    <tr>\n",
       "      <th>219</th>\n",
       "      <td>0.11425</td>\n",
       "      <td>0.0</td>\n",
       "      <td>13.89</td>\n",
       "      <td>1.0</td>\n",
       "      <td>0.550</td>\n",
       "      <td>6.373</td>\n",
       "      <td>92.4</td>\n",
       "      <td>3.3633</td>\n",
       "      <td>5.0</td>\n",
       "      <td>276.0</td>\n",
       "      <td>16.4</td>\n",
       "      <td>393.74</td>\n",
       "    </tr>\n",
       "    <tr>\n",
       "      <th>403</th>\n",
       "      <td>24.80170</td>\n",
       "      <td>0.0</td>\n",
       "      <td>18.10</td>\n",
       "      <td>0.0</td>\n",
       "      <td>0.693</td>\n",
       "      <td>5.349</td>\n",
       "      <td>96.0</td>\n",
       "      <td>1.7028</td>\n",
       "      <td>24.0</td>\n",
       "      <td>666.0</td>\n",
       "      <td>20.2</td>\n",
       "      <td>396.90</td>\n",
       "    </tr>\n",
       "    <tr>\n",
       "      <th>78</th>\n",
       "      <td>0.05646</td>\n",
       "      <td>0.0</td>\n",
       "      <td>12.83</td>\n",
       "      <td>0.0</td>\n",
       "      <td>0.437</td>\n",
       "      <td>6.232</td>\n",
       "      <td>53.7</td>\n",
       "      <td>5.0141</td>\n",
       "      <td>5.0</td>\n",
       "      <td>398.0</td>\n",
       "      <td>18.7</td>\n",
       "      <td>386.40</td>\n",
       "    </tr>\n",
       "    <tr>\n",
       "      <th>...</th>\n",
       "      <td>...</td>\n",
       "      <td>...</td>\n",
       "      <td>...</td>\n",
       "      <td>...</td>\n",
       "      <td>...</td>\n",
       "      <td>...</td>\n",
       "      <td>...</td>\n",
       "      <td>...</td>\n",
       "      <td>...</td>\n",
       "      <td>...</td>\n",
       "      <td>...</td>\n",
       "      <td>...</td>\n",
       "    </tr>\n",
       "    <tr>\n",
       "      <th>4</th>\n",
       "      <td>0.06905</td>\n",
       "      <td>0.0</td>\n",
       "      <td>2.18</td>\n",
       "      <td>0.0</td>\n",
       "      <td>0.458</td>\n",
       "      <td>7.147</td>\n",
       "      <td>54.2</td>\n",
       "      <td>6.0622</td>\n",
       "      <td>3.0</td>\n",
       "      <td>222.0</td>\n",
       "      <td>18.7</td>\n",
       "      <td>396.90</td>\n",
       "    </tr>\n",
       "    <tr>\n",
       "      <th>428</th>\n",
       "      <td>7.36711</td>\n",
       "      <td>0.0</td>\n",
       "      <td>18.10</td>\n",
       "      <td>0.0</td>\n",
       "      <td>0.679</td>\n",
       "      <td>6.193</td>\n",
       "      <td>78.1</td>\n",
       "      <td>1.9356</td>\n",
       "      <td>24.0</td>\n",
       "      <td>666.0</td>\n",
       "      <td>20.2</td>\n",
       "      <td>96.73</td>\n",
       "    </tr>\n",
       "    <tr>\n",
       "      <th>385</th>\n",
       "      <td>16.81180</td>\n",
       "      <td>0.0</td>\n",
       "      <td>18.10</td>\n",
       "      <td>0.0</td>\n",
       "      <td>0.700</td>\n",
       "      <td>5.277</td>\n",
       "      <td>98.1</td>\n",
       "      <td>1.4261</td>\n",
       "      <td>24.0</td>\n",
       "      <td>666.0</td>\n",
       "      <td>20.2</td>\n",
       "      <td>396.90</td>\n",
       "    </tr>\n",
       "    <tr>\n",
       "      <th>308</th>\n",
       "      <td>0.49298</td>\n",
       "      <td>0.0</td>\n",
       "      <td>9.90</td>\n",
       "      <td>0.0</td>\n",
       "      <td>0.544</td>\n",
       "      <td>6.635</td>\n",
       "      <td>82.5</td>\n",
       "      <td>3.3175</td>\n",
       "      <td>4.0</td>\n",
       "      <td>304.0</td>\n",
       "      <td>18.4</td>\n",
       "      <td>396.90</td>\n",
       "    </tr>\n",
       "    <tr>\n",
       "      <th>5</th>\n",
       "      <td>0.02985</td>\n",
       "      <td>0.0</td>\n",
       "      <td>2.18</td>\n",
       "      <td>0.0</td>\n",
       "      <td>0.458</td>\n",
       "      <td>6.430</td>\n",
       "      <td>58.7</td>\n",
       "      <td>6.0622</td>\n",
       "      <td>3.0</td>\n",
       "      <td>222.0</td>\n",
       "      <td>18.7</td>\n",
       "      <td>394.12</td>\n",
       "    </tr>\n",
       "  </tbody>\n",
       "</table>\n",
       "<p>152 rows × 12 columns</p>\n",
       "</div>"
      ],
      "text/plain": [
       "         CRIM   ZN  INDUS  CHAS    NOX     RM    AGE     DIS   RAD    TAX  \\\n",
       "329   0.06724  0.0   3.24   0.0  0.460  6.333   17.2  5.2146   4.0  430.0   \n",
       "371   9.23230  0.0  18.10   0.0  0.631  6.216  100.0  1.1691  24.0  666.0   \n",
       "219   0.11425  0.0  13.89   1.0  0.550  6.373   92.4  3.3633   5.0  276.0   \n",
       "403  24.80170  0.0  18.10   0.0  0.693  5.349   96.0  1.7028  24.0  666.0   \n",
       "78    0.05646  0.0  12.83   0.0  0.437  6.232   53.7  5.0141   5.0  398.0   \n",
       "..        ...  ...    ...   ...    ...    ...    ...     ...   ...    ...   \n",
       "4     0.06905  0.0   2.18   0.0  0.458  7.147   54.2  6.0622   3.0  222.0   \n",
       "428   7.36711  0.0  18.10   0.0  0.679  6.193   78.1  1.9356  24.0  666.0   \n",
       "385  16.81180  0.0  18.10   0.0  0.700  5.277   98.1  1.4261  24.0  666.0   \n",
       "308   0.49298  0.0   9.90   0.0  0.544  6.635   82.5  3.3175   4.0  304.0   \n",
       "5     0.02985  0.0   2.18   0.0  0.458  6.430   58.7  6.0622   3.0  222.0   \n",
       "\n",
       "     PTRATIO       B  \n",
       "329     16.9  375.21  \n",
       "371     20.2  366.15  \n",
       "219     16.4  393.74  \n",
       "403     20.2  396.90  \n",
       "78      18.7  386.40  \n",
       "..       ...     ...  \n",
       "4       18.7  396.90  \n",
       "428     20.2   96.73  \n",
       "385     20.2  396.90  \n",
       "308     18.4  396.90  \n",
       "5       18.7  394.12  \n",
       "\n",
       "[152 rows x 12 columns]"
      ]
     },
     "execution_count": 42,
     "metadata": {},
     "output_type": "execute_result"
    }
   ],
   "source": [
    "X_test"
   ]
  },
  {
   "cell_type": "code",
   "execution_count": 41,
   "id": "3a138f5d",
   "metadata": {
    "ExecuteTime": {
     "end_time": "2023-05-30T05:56:59.869309Z",
     "start_time": "2023-05-30T05:56:59.856320Z"
    }
   },
   "outputs": [],
   "source": [
    "# 특성 확장전에 이미 확장된 컬럼 제가\n",
    "X_train.drop(['LSTAT', 'RM x RM'],axis=1, inplace = True)"
   ]
  },
  {
   "cell_type": "code",
   "execution_count": null,
   "id": "9c97e4e4",
   "metadata": {},
   "outputs": [],
   "source": []
  },
  {
   "cell_type": "code",
   "execution_count": null,
   "id": "8bef6fb4",
   "metadata": {},
   "outputs": [],
   "source": []
  },
  {
   "cell_type": "code",
   "execution_count": null,
   "id": "a4593cff",
   "metadata": {},
   "outputs": [],
   "source": []
  },
  {
   "cell_type": "code",
   "execution_count": null,
   "id": "3b8a8462",
   "metadata": {},
   "outputs": [],
   "source": []
  },
  {
   "cell_type": "code",
   "execution_count": null,
   "id": "18f4fb69",
   "metadata": {},
   "outputs": [],
   "source": []
  }
 ],
 "metadata": {
  "kernelspec": {
   "display_name": "Python 3 (ipykernel)",
   "language": "python",
   "name": "python3"
  },
  "language_info": {
   "codemirror_mode": {
    "name": "ipython",
    "version": 3
   },
   "file_extension": ".py",
   "mimetype": "text/x-python",
   "name": "python",
   "nbconvert_exporter": "python",
   "pygments_lexer": "ipython3",
   "version": "3.9.13"
  },
  "toc": {
   "base_numbering": 1,
   "nav_menu": {},
   "number_sections": true,
   "sideBar": true,
   "skip_h1_title": false,
   "title_cell": "Table of Contents",
   "title_sidebar": "Contents",
   "toc_cell": false,
   "toc_position": {},
   "toc_section_display": true,
   "toc_window_display": false
  },
  "varInspector": {
   "cols": {
    "lenName": 16,
    "lenType": 16,
    "lenVar": 40
   },
   "kernels_config": {
    "python": {
     "delete_cmd_postfix": "",
     "delete_cmd_prefix": "del ",
     "library": "var_list.py",
     "varRefreshCmd": "print(var_dic_list())"
    },
    "r": {
     "delete_cmd_postfix": ") ",
     "delete_cmd_prefix": "rm(",
     "library": "var_list.r",
     "varRefreshCmd": "cat(var_dic_list()) "
    }
   },
   "types_to_exclude": [
    "module",
    "function",
    "builtin_function_or_method",
    "instance",
    "_Feature"
   ],
   "window_display": false
  }
 },
 "nbformat": 4,
 "nbformat_minor": 5
}
