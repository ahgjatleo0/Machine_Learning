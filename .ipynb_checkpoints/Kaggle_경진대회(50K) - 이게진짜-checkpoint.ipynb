{
 "cells": [
  {
   "cell_type": "code",
   "execution_count": 1,
   "id": "c712b9b5",
   "metadata": {
    "ExecuteTime": {
     "end_time": "2023-05-31T07:43:43.129887Z",
     "start_time": "2023-05-31T07:43:43.116852Z"
    }
   },
   "outputs": [],
   "source": [
    "import warnings\n",
    "warnings.filterwarnings('ignore')"
   ]
  },
  {
   "cell_type": "code",
   "execution_count": 2,
   "id": "ceba8328",
   "metadata": {
    "ExecuteTime": {
     "end_time": "2023-05-31T07:43:43.763172Z",
     "start_time": "2023-05-31T07:43:43.131847Z"
    }
   },
   "outputs": [],
   "source": [
    "import pandas as pd\n",
    "import numpy as np\n",
    "# train 변수 : 문제 가져오기\n",
    "data_train = pd.read_csv('data/kaggle/train.csv')\n",
    "# test 변수 : 정답 가져오기\n",
    "data_test = pd.read_csv('data/kaggle/test.csv')\n"
   ]
  },
  {
   "cell_type": "code",
   "execution_count": 3,
   "id": "c32f4841",
   "metadata": {
    "ExecuteTime": {
     "end_time": "2023-05-31T07:43:43.779278Z",
     "start_time": "2023-05-31T07:43:43.765167Z"
    }
   },
   "outputs": [],
   "source": [
    "# 필요없는 컬럼 drop\n",
    "data_train = data_train.drop(['no','fnlwgt','occupation','native-country','education'],axis=1)\n",
    "data_test = data_test.drop(['no','fnlwgt','occupation','native-country','education'],axis=1)\n"
   ]
  },
  {
   "cell_type": "code",
   "execution_count": 4,
   "id": "3b1277c6",
   "metadata": {
    "ExecuteTime": {
     "end_time": "2023-05-31T07:43:43.810618Z",
     "start_time": "2023-05-31T07:43:43.782308Z"
    }
   },
   "outputs": [],
   "source": [
    "# 전처리 되기 이전의 feature들 (전처리 되기전 문제들)\n",
    "features_raw = data_train.drop('income', axis = 1)\n",
    "\n",
    "skewed = ['capital-gain', 'capital-loss']\n",
    "features_log_transformed = pd.DataFrame(data = features_raw)\n",
    "features_log_transformed[skewed] = features_raw[skewed].apply(lambda x: np.log(x + 1))"
   ]
  },
  {
   "cell_type": "code",
   "execution_count": 5,
   "id": "1ce9f00b",
   "metadata": {
    "ExecuteTime": {
     "end_time": "2023-05-31T07:43:44.524027Z",
     "start_time": "2023-05-31T07:43:43.812642Z"
    }
   },
   "outputs": [],
   "source": [
    "# min max 스케일러를 이용하여 특징 벡터 (문제들) 스케일링 (최소 최대 정규화)\n",
    "from sklearn.preprocessing import MinMaxScaler\n",
    "\n",
    "scaler = MinMaxScaler() \n",
    "numerical = ['age', 'education-num', 'capital-gain', 'capital-loss', 'hours-per-week']\n",
    "\n",
    "features_log_minmax_transform = pd.DataFrame(data = features_log_transformed)\n",
    "features_log_minmax_transform[numerical] = scaler.fit_transform(features_log_transformed[numerical])"
   ]
  },
  {
   "cell_type": "code",
   "execution_count": 6,
   "id": "4312be88",
   "metadata": {
    "ExecuteTime": {
     "end_time": "2023-05-31T07:43:44.539013Z",
     "start_time": "2023-05-31T07:43:44.525984Z"
    }
   },
   "outputs": [],
   "source": [
    "\n",
    "# 자산이득액 에서 자산손해액을 뺴서 순이익을 구하기\n",
    "data_train['total_cap'] = data_train['capital-gain'] - data_train['capital-loss']\n",
    "data_test['total_cap'] = data_test['capital-gain'] - data_test['capital-loss']\n",
    "\n",
    "#  순이익 계산후 필요없어진 컬럼 삭제\n",
    "data_train = data_train.drop(['capital-gain','capital-loss'],axis=1)\n",
    "data_test = data_test.drop(['capital-gain','capital-loss'],axis=1)"
   ]
  },
  {
   "cell_type": "code",
   "execution_count": 7,
   "id": "12654254",
   "metadata": {
    "ExecuteTime": {
     "end_time": "2023-05-31T07:43:44.600966Z",
     "start_time": "2023-05-31T07:43:44.540010Z"
    }
   },
   "outputs": [],
   "source": [
    "# 정답 데이터 분리\n",
    "y_train = data_train['income']\n",
    "data_train.drop('income',axis=1,inplace=True)\n",
    "#원 핫 인코딩  == object타입 정수형데이터로 변경\n",
    "OH = ['workclass','marital-status','relationship','race','sex']\n",
    "\n",
    "X_train = pd.get_dummies(data_train)\n",
    "X_test = pd.get_dummies(data_test)"
   ]
  },
  {
   "cell_type": "code",
   "execution_count": 8,
   "id": "0b51a465",
   "metadata": {
    "ExecuteTime": {
     "end_time": "2023-05-31T07:43:46.040768Z",
     "start_time": "2023-05-31T07:43:44.602960Z"
    }
   },
   "outputs": [],
   "source": [
    "# lgb 모델 사용하여 예측\n",
    "from lightgbm import LGBMClassifier\n",
    "\n",
    "lgb = LGBMClassifier(random_state=200, n_jobs=-1, reg_alpha=0.9, reg_lambda=0.2, n_estimators=200)\n",
    "\n",
    "# lgb 모델 훈련\n",
    "lgb.fit(X_train, y_train)\n",
    "\n",
    "# 훈련한 lgb 모델로 예측한 결과\n",
    "y_pred = lgb.predict(X_test)\n",
    "\n",
    "rs =  pd.read_csv('./data/kaggle/sample_submission.csv')\n",
    "rs['income'] = y_pred\n",
    "rs.to_csv('50K_01.csv', index=False)\n"
   ]
  },
  {
   "cell_type": "code",
   "execution_count": 9,
   "id": "288c24fa",
   "metadata": {
    "ExecuteTime": {
     "end_time": "2023-05-31T07:43:46.088641Z",
     "start_time": "2023-05-31T07:43:46.042763Z"
    }
   },
   "outputs": [
    {
     "data": {
      "text/html": [
       "<div>\n",
       "<style scoped>\n",
       "    .dataframe tbody tr th:only-of-type {\n",
       "        vertical-align: middle;\n",
       "    }\n",
       "\n",
       "    .dataframe tbody tr th {\n",
       "        vertical-align: top;\n",
       "    }\n",
       "\n",
       "    .dataframe thead th {\n",
       "        text-align: right;\n",
       "    }\n",
       "</style>\n",
       "<table border=\"1\" class=\"dataframe\">\n",
       "  <thead>\n",
       "    <tr style=\"text-align: right;\">\n",
       "      <th></th>\n",
       "      <th>age</th>\n",
       "      <th>education-num</th>\n",
       "      <th>hours-per-week</th>\n",
       "      <th>total_cap</th>\n",
       "      <th>workclass_ ?</th>\n",
       "      <th>workclass_ Federal-gov</th>\n",
       "      <th>workclass_ Local-gov</th>\n",
       "      <th>workclass_ Never-worked</th>\n",
       "      <th>workclass_ Private</th>\n",
       "      <th>workclass_ Self-emp-inc</th>\n",
       "      <th>...</th>\n",
       "      <th>relationship_ Own-child</th>\n",
       "      <th>relationship_ Unmarried</th>\n",
       "      <th>relationship_ Wife</th>\n",
       "      <th>race_ Amer-Indian-Eskimo</th>\n",
       "      <th>race_ Asian-Pac-Islander</th>\n",
       "      <th>race_ Black</th>\n",
       "      <th>race_ Other</th>\n",
       "      <th>race_ White</th>\n",
       "      <th>sex_ Female</th>\n",
       "      <th>sex_ Male</th>\n",
       "    </tr>\n",
       "  </thead>\n",
       "  <tbody>\n",
       "    <tr>\n",
       "      <th>0</th>\n",
       "      <td>25</td>\n",
       "      <td>7</td>\n",
       "      <td>40</td>\n",
       "      <td>0.041742</td>\n",
       "      <td>0</td>\n",
       "      <td>0</td>\n",
       "      <td>0</td>\n",
       "      <td>0</td>\n",
       "      <td>1</td>\n",
       "      <td>0</td>\n",
       "      <td>...</td>\n",
       "      <td>0</td>\n",
       "      <td>0</td>\n",
       "      <td>0</td>\n",
       "      <td>0</td>\n",
       "      <td>0</td>\n",
       "      <td>0</td>\n",
       "      <td>0</td>\n",
       "      <td>1</td>\n",
       "      <td>0</td>\n",
       "      <td>1</td>\n",
       "    </tr>\n",
       "    <tr>\n",
       "      <th>1</th>\n",
       "      <td>39</td>\n",
       "      <td>10</td>\n",
       "      <td>55</td>\n",
       "      <td>0.025250</td>\n",
       "      <td>0</td>\n",
       "      <td>0</td>\n",
       "      <td>0</td>\n",
       "      <td>0</td>\n",
       "      <td>1</td>\n",
       "      <td>0</td>\n",
       "      <td>...</td>\n",
       "      <td>0</td>\n",
       "      <td>0</td>\n",
       "      <td>0</td>\n",
       "      <td>0</td>\n",
       "      <td>0</td>\n",
       "      <td>0</td>\n",
       "      <td>0</td>\n",
       "      <td>1</td>\n",
       "      <td>1</td>\n",
       "      <td>0</td>\n",
       "    </tr>\n",
       "    <tr>\n",
       "      <th>2</th>\n",
       "      <td>35</td>\n",
       "      <td>13</td>\n",
       "      <td>50</td>\n",
       "      <td>0.041742</td>\n",
       "      <td>0</td>\n",
       "      <td>0</td>\n",
       "      <td>0</td>\n",
       "      <td>0</td>\n",
       "      <td>1</td>\n",
       "      <td>0</td>\n",
       "      <td>...</td>\n",
       "      <td>0</td>\n",
       "      <td>0</td>\n",
       "      <td>0</td>\n",
       "      <td>0</td>\n",
       "      <td>1</td>\n",
       "      <td>0</td>\n",
       "      <td>0</td>\n",
       "      <td>0</td>\n",
       "      <td>1</td>\n",
       "      <td>0</td>\n",
       "    </tr>\n",
       "    <tr>\n",
       "      <th>3</th>\n",
       "      <td>64</td>\n",
       "      <td>11</td>\n",
       "      <td>40</td>\n",
       "      <td>0.041742</td>\n",
       "      <td>0</td>\n",
       "      <td>0</td>\n",
       "      <td>0</td>\n",
       "      <td>0</td>\n",
       "      <td>1</td>\n",
       "      <td>0</td>\n",
       "      <td>...</td>\n",
       "      <td>0</td>\n",
       "      <td>0</td>\n",
       "      <td>0</td>\n",
       "      <td>0</td>\n",
       "      <td>0</td>\n",
       "      <td>0</td>\n",
       "      <td>0</td>\n",
       "      <td>1</td>\n",
       "      <td>1</td>\n",
       "      <td>0</td>\n",
       "    </tr>\n",
       "    <tr>\n",
       "      <th>4</th>\n",
       "      <td>24</td>\n",
       "      <td>10</td>\n",
       "      <td>70</td>\n",
       "      <td>0.041742</td>\n",
       "      <td>0</td>\n",
       "      <td>0</td>\n",
       "      <td>0</td>\n",
       "      <td>0</td>\n",
       "      <td>1</td>\n",
       "      <td>0</td>\n",
       "      <td>...</td>\n",
       "      <td>0</td>\n",
       "      <td>0</td>\n",
       "      <td>0</td>\n",
       "      <td>0</td>\n",
       "      <td>0</td>\n",
       "      <td>0</td>\n",
       "      <td>0</td>\n",
       "      <td>1</td>\n",
       "      <td>0</td>\n",
       "      <td>1</td>\n",
       "    </tr>\n",
       "    <tr>\n",
       "      <th>...</th>\n",
       "      <td>...</td>\n",
       "      <td>...</td>\n",
       "      <td>...</td>\n",
       "      <td>...</td>\n",
       "      <td>...</td>\n",
       "      <td>...</td>\n",
       "      <td>...</td>\n",
       "      <td>...</td>\n",
       "      <td>...</td>\n",
       "      <td>...</td>\n",
       "      <td>...</td>\n",
       "      <td>...</td>\n",
       "      <td>...</td>\n",
       "      <td>...</td>\n",
       "      <td>...</td>\n",
       "      <td>...</td>\n",
       "      <td>...</td>\n",
       "      <td>...</td>\n",
       "      <td>...</td>\n",
       "      <td>...</td>\n",
       "      <td>...</td>\n",
       "    </tr>\n",
       "    <tr>\n",
       "      <th>19532</th>\n",
       "      <td>45</td>\n",
       "      <td>9</td>\n",
       "      <td>60</td>\n",
       "      <td>0.037536</td>\n",
       "      <td>0</td>\n",
       "      <td>0</td>\n",
       "      <td>0</td>\n",
       "      <td>0</td>\n",
       "      <td>0</td>\n",
       "      <td>0</td>\n",
       "      <td>...</td>\n",
       "      <td>0</td>\n",
       "      <td>0</td>\n",
       "      <td>0</td>\n",
       "      <td>0</td>\n",
       "      <td>0</td>\n",
       "      <td>0</td>\n",
       "      <td>0</td>\n",
       "      <td>1</td>\n",
       "      <td>0</td>\n",
       "      <td>1</td>\n",
       "    </tr>\n",
       "    <tr>\n",
       "      <th>19533</th>\n",
       "      <td>48</td>\n",
       "      <td>9</td>\n",
       "      <td>50</td>\n",
       "      <td>0.037536</td>\n",
       "      <td>0</td>\n",
       "      <td>0</td>\n",
       "      <td>0</td>\n",
       "      <td>0</td>\n",
       "      <td>1</td>\n",
       "      <td>0</td>\n",
       "      <td>...</td>\n",
       "      <td>0</td>\n",
       "      <td>0</td>\n",
       "      <td>0</td>\n",
       "      <td>0</td>\n",
       "      <td>0</td>\n",
       "      <td>0</td>\n",
       "      <td>0</td>\n",
       "      <td>1</td>\n",
       "      <td>1</td>\n",
       "      <td>0</td>\n",
       "    </tr>\n",
       "    <tr>\n",
       "      <th>19534</th>\n",
       "      <td>63</td>\n",
       "      <td>10</td>\n",
       "      <td>40</td>\n",
       "      <td>0.079751</td>\n",
       "      <td>0</td>\n",
       "      <td>0</td>\n",
       "      <td>0</td>\n",
       "      <td>0</td>\n",
       "      <td>1</td>\n",
       "      <td>0</td>\n",
       "      <td>...</td>\n",
       "      <td>0</td>\n",
       "      <td>0</td>\n",
       "      <td>0</td>\n",
       "      <td>0</td>\n",
       "      <td>0</td>\n",
       "      <td>0</td>\n",
       "      <td>0</td>\n",
       "      <td>1</td>\n",
       "      <td>0</td>\n",
       "      <td>1</td>\n",
       "    </tr>\n",
       "    <tr>\n",
       "      <th>19535</th>\n",
       "      <td>18</td>\n",
       "      <td>7</td>\n",
       "      <td>20</td>\n",
       "      <td>0.037536</td>\n",
       "      <td>0</td>\n",
       "      <td>0</td>\n",
       "      <td>0</td>\n",
       "      <td>0</td>\n",
       "      <td>1</td>\n",
       "      <td>0</td>\n",
       "      <td>...</td>\n",
       "      <td>1</td>\n",
       "      <td>0</td>\n",
       "      <td>0</td>\n",
       "      <td>0</td>\n",
       "      <td>0</td>\n",
       "      <td>0</td>\n",
       "      <td>0</td>\n",
       "      <td>1</td>\n",
       "      <td>1</td>\n",
       "      <td>0</td>\n",
       "    </tr>\n",
       "    <tr>\n",
       "      <th>19536</th>\n",
       "      <td>31</td>\n",
       "      <td>12</td>\n",
       "      <td>46</td>\n",
       "      <td>0.037536</td>\n",
       "      <td>0</td>\n",
       "      <td>0</td>\n",
       "      <td>0</td>\n",
       "      <td>0</td>\n",
       "      <td>1</td>\n",
       "      <td>0</td>\n",
       "      <td>...</td>\n",
       "      <td>0</td>\n",
       "      <td>0</td>\n",
       "      <td>0</td>\n",
       "      <td>0</td>\n",
       "      <td>0</td>\n",
       "      <td>1</td>\n",
       "      <td>0</td>\n",
       "      <td>0</td>\n",
       "      <td>0</td>\n",
       "      <td>1</td>\n",
       "    </tr>\n",
       "  </tbody>\n",
       "</table>\n",
       "<p>48842 rows × 33 columns</p>\n",
       "</div>"
      ],
      "text/plain": [
       "       age  education-num  hours-per-week  total_cap  workclass_ ?  \\\n",
       "0       25              7              40   0.041742             0   \n",
       "1       39             10              55   0.025250             0   \n",
       "2       35             13              50   0.041742             0   \n",
       "3       64             11              40   0.041742             0   \n",
       "4       24             10              70   0.041742             0   \n",
       "...    ...            ...             ...        ...           ...   \n",
       "19532   45              9              60   0.037536             0   \n",
       "19533   48              9              50   0.037536             0   \n",
       "19534   63             10              40   0.079751             0   \n",
       "19535   18              7              20   0.037536             0   \n",
       "19536   31             12              46   0.037536             0   \n",
       "\n",
       "       workclass_ Federal-gov  workclass_ Local-gov  workclass_ Never-worked  \\\n",
       "0                           0                     0                        0   \n",
       "1                           0                     0                        0   \n",
       "2                           0                     0                        0   \n",
       "3                           0                     0                        0   \n",
       "4                           0                     0                        0   \n",
       "...                       ...                   ...                      ...   \n",
       "19532                       0                     0                        0   \n",
       "19533                       0                     0                        0   \n",
       "19534                       0                     0                        0   \n",
       "19535                       0                     0                        0   \n",
       "19536                       0                     0                        0   \n",
       "\n",
       "       workclass_ Private  workclass_ Self-emp-inc  ...  \\\n",
       "0                       1                        0  ...   \n",
       "1                       1                        0  ...   \n",
       "2                       1                        0  ...   \n",
       "3                       1                        0  ...   \n",
       "4                       1                        0  ...   \n",
       "...                   ...                      ...  ...   \n",
       "19532                   0                        0  ...   \n",
       "19533                   1                        0  ...   \n",
       "19534                   1                        0  ...   \n",
       "19535                   1                        0  ...   \n",
       "19536                   1                        0  ...   \n",
       "\n",
       "       relationship_ Own-child  relationship_ Unmarried  relationship_ Wife  \\\n",
       "0                            0                        0                   0   \n",
       "1                            0                        0                   0   \n",
       "2                            0                        0                   0   \n",
       "3                            0                        0                   0   \n",
       "4                            0                        0                   0   \n",
       "...                        ...                      ...                 ...   \n",
       "19532                        0                        0                   0   \n",
       "19533                        0                        0                   0   \n",
       "19534                        0                        0                   0   \n",
       "19535                        1                        0                   0   \n",
       "19536                        0                        0                   0   \n",
       "\n",
       "       race_ Amer-Indian-Eskimo  race_ Asian-Pac-Islander  race_ Black  \\\n",
       "0                             0                         0            0   \n",
       "1                             0                         0            0   \n",
       "2                             0                         1            0   \n",
       "3                             0                         0            0   \n",
       "4                             0                         0            0   \n",
       "...                         ...                       ...          ...   \n",
       "19532                         0                         0            0   \n",
       "19533                         0                         0            0   \n",
       "19534                         0                         0            0   \n",
       "19535                         0                         0            0   \n",
       "19536                         0                         0            1   \n",
       "\n",
       "       race_ Other  race_ White  sex_ Female  sex_ Male  \n",
       "0                0            1            0          1  \n",
       "1                0            1            1          0  \n",
       "2                0            0            1          0  \n",
       "3                0            1            1          0  \n",
       "4                0            1            0          1  \n",
       "...            ...          ...          ...        ...  \n",
       "19532            0            1            0          1  \n",
       "19533            0            1            1          0  \n",
       "19534            0            1            0          1  \n",
       "19535            0            1            1          0  \n",
       "19536            0            0            0          1  \n",
       "\n",
       "[48842 rows x 33 columns]"
      ]
     },
     "execution_count": 9,
     "metadata": {},
     "output_type": "execute_result"
    }
   ],
   "source": [
    "# 방식은 이거임 -> 테스트 데이터도 훈련 데이터로 이용하자 테스트 데이터에 존재 하지 않는 정답 데이터는 처음에 훈련 데이터로 예측한 테스트 데이터 값을 정답 데이터로 사용하자\n",
    "# 훈련 데이터와, 테스트 데이터 합치기 (테스트 데이터 정답은 훈련된 모델의 예측한 결과를 사용)\n",
    "X_train_2 = pd.concat([X_train,X_test])\n",
    "X_train_2"
   ]
  },
  {
   "cell_type": "code",
   "execution_count": 10,
   "id": "c5fcfb06",
   "metadata": {
    "ExecuteTime": {
     "end_time": "2023-05-31T07:43:46.104598Z",
     "start_time": "2023-05-31T07:43:46.092630Z"
    }
   },
   "outputs": [],
   "source": [
    "# 방식은 이거임 -> 테스트 데이터도 훈련 데이터로 이용하자 테스트 데이터에 존재 하지 않는 정답 데이터는 처음에 훈련 데이터로 예측한 테스트 데이터 값을 정답 데이터로 사용하자\n",
    "# 훈련 데이터와, 테스트 데이터 합치기 (테스트 데이터 정답은 훈련된 모델의 예측한 결과를 사용)\n",
    "X_train_2 = pd.concat([X_train,X_test])"
   ]
  },
  {
   "cell_type": "code",
   "execution_count": 11,
   "id": "0684bf12",
   "metadata": {
    "ExecuteTime": {
     "end_time": "2023-05-31T07:43:46.120556Z",
     "start_time": "2023-05-31T07:43:46.106593Z"
    }
   },
   "outputs": [
    {
     "data": {
      "text/plain": [
       "0        0\n",
       "1        0\n",
       "2        0\n",
       "3        0\n",
       "4        1\n",
       "        ..\n",
       "29300    0\n",
       "29301    0\n",
       "29302    0\n",
       "29303    0\n",
       "29304    0\n",
       "Name: income, Length: 29305, dtype: int64"
      ]
     },
     "execution_count": 11,
     "metadata": {},
     "output_type": "execute_result"
    }
   ],
   "source": [
    "y_train"
   ]
  },
  {
   "cell_type": "code",
   "execution_count": 12,
   "id": "7f31cc37",
   "metadata": {
    "ExecuteTime": {
     "end_time": "2023-05-31T07:43:46.136514Z",
     "start_time": "2023-05-31T07:43:46.122550Z"
    }
   },
   "outputs": [],
   "source": [
    "y_1=y_train.to_numpy()"
   ]
  },
  {
   "cell_type": "code",
   "execution_count": 13,
   "id": "e4ae542e",
   "metadata": {
    "ExecuteTime": {
     "end_time": "2023-05-31T07:43:46.152471Z",
     "start_time": "2023-05-31T07:43:46.138508Z"
    }
   },
   "outputs": [],
   "source": [
    "y_t = np.concatenate([y_1, y_pred])"
   ]
  },
  {
   "cell_type": "code",
   "execution_count": 14,
   "id": "83afd941",
   "metadata": {
    "ExecuteTime": {
     "end_time": "2023-05-31T07:43:46.168429Z",
     "start_time": "2023-05-31T07:43:46.154467Z"
    }
   },
   "outputs": [],
   "source": [
    "y_t = list(y_t)"
   ]
  },
  {
   "cell_type": "code",
   "execution_count": 15,
   "id": "8e7f765b",
   "metadata": {
    "ExecuteTime": {
     "end_time": "2023-05-31T07:43:46.200344Z",
     "start_time": "2023-05-31T07:43:46.170423Z"
    }
   },
   "outputs": [],
   "source": [
    "y_train_change=pd.Series(y_t)"
   ]
  },
  {
   "cell_type": "code",
   "execution_count": 16,
   "id": "10f51efd",
   "metadata": {
    "ExecuteTime": {
     "end_time": "2023-05-31T07:43:46.610249Z",
     "start_time": "2023-05-31T07:43:46.202338Z"
    }
   },
   "outputs": [
    {
     "data": {
      "text/plain": [
       "LGBMClassifier(n_estimators=200, random_state=200, reg_alpha=0.9,\n",
       "               reg_lambda=0.2)"
      ]
     },
     "execution_count": 16,
     "metadata": {},
     "output_type": "execute_result"
    }
   ],
   "source": [
    "### 모델 훈련\n",
    "lgb.fit(X_train_2,y_train_change)"
   ]
  },
  {
   "cell_type": "code",
   "execution_count": 17,
   "id": "6ee72b94",
   "metadata": {
    "ExecuteTime": {
     "end_time": "2023-05-31T07:43:46.734917Z",
     "start_time": "2023-05-31T07:43:46.613241Z"
    }
   },
   "outputs": [],
   "source": [
    "# lgb 모델로 예측한 결과\n",
    "pre1 = lgb.predict(X_test)\n",
    "# kaggle 양식 불러오기\n",
    "rs =  pd.read_csv('./data/kaggle/sample_submission.csv')\n",
    "rs['income'] = pre1 # 내 모델의 예측 결과를 양식에 넣기\n",
    "rs.to_csv('Test01.csv', index = False)"
   ]
  },
  {
   "cell_type": "code",
   "execution_count": 18,
   "id": "cea2e626",
   "metadata": {
    "ExecuteTime": {
     "end_time": "2023-05-31T07:43:47.317363Z",
     "start_time": "2023-05-31T07:43:46.738906Z"
    }
   },
   "outputs": [],
   "source": [
    "# 위 과정 반복 -> 모델 예측한 결과중 더 좋은 결과를 다시 테스트 데이터의 정답으로 활용 + 트레인 데이터와 다시 합치고 다시 모델 학습\n",
    "y_t = np.concatenate([y_1, pre1])\n",
    "y_t = list(y_t)\n",
    "y_train_change=pd.Series(y_t)\n",
    "\n",
    "lgb.fit(X_train_2,y_train_change)\n",
    "\n",
    "pre2 = lgb.predict(X_test)\n",
    "# kaggle 양식 불러오기\n",
    "rs =  pd.read_csv('./data/kaggle/sample_submission.csv')\n",
    "rs['income'] = pre2 # 내 모델의 예측 결과를 양식에 넣기\n",
    "rs.to_csv('Test02.csv', index = False)"
   ]
  },
  {
   "cell_type": "code",
   "execution_count": 19,
   "id": "ff3287d9",
   "metadata": {
    "ExecuteTime": {
     "end_time": "2023-05-31T07:43:47.882854Z",
     "start_time": "2023-05-31T07:43:47.319358Z"
    }
   },
   "outputs": [],
   "source": [
    "y_t = np.concatenate([y_1, pre2])\n",
    "y_t = list(y_t)\n",
    "y_train_change=pd.Series(y_t)\n",
    "\n",
    "lgb.fit(X_train_2,y_train_change)\n",
    "\n",
    "pre3 = lgb.predict(X_test)\n",
    "# kaggle 양식 불러오기\n",
    "rs =  pd.read_csv('./data/kaggle/sample_submission.csv')\n",
    "rs['income'] = pre3 # 내 모델의 예측 결과를 양식에 넣기\n",
    "rs.to_csv('Last01.csv', index = False)"
   ]
  },
  {
   "cell_type": "code",
   "execution_count": 20,
   "id": "0c2324e1",
   "metadata": {
    "ExecuteTime": {
     "end_time": "2023-05-31T07:43:50.053065Z",
     "start_time": "2023-05-31T07:43:47.885847Z"
    }
   },
   "outputs": [
    {
     "name": "stdout",
     "output_type": "stream",
     "text": [
      "교차 검증 정확도: [0.87900502 0.88258778 0.90069615 0.92117117 0.95014333]\n",
      "평균 정확도: 0.9067206881082406\n"
     ]
    }
   ],
   "source": [
    "from sklearn.model_selection import cross_val_score\n",
    "\n",
    "scores = cross_val_score(lgb, X_train_2, y_train_change, cv=5, scoring='accuracy')\n",
    "\n",
    "# 교차 검증 결과 출력\n",
    "print(\"교차 검증 정확도:\", scores)\n",
    "print(\"평균 정확도:\", scores.mean())"
   ]
  },
  {
   "cell_type": "code",
   "execution_count": 21,
   "id": "df286fc4",
   "metadata": {
    "ExecuteTime": {
     "end_time": "2023-05-31T07:43:50.665431Z",
     "start_time": "2023-05-31T07:43:50.056058Z"
    }
   },
   "outputs": [],
   "source": [
    "y_t = np.concatenate([y_1, pre3])\n",
    "y_t = list(y_t)\n",
    "y_train_change=pd.Series(y_t)\n",
    "\n",
    "lgb.fit(X_train_2,y_train_change)\n",
    "\n",
    "pre4 = lgb.predict(X_test)\n",
    "# kaggle 양식 불러오기\n",
    "rs =  pd.read_csv('./data/kaggle/sample_submission.csv')\n",
    "rs['income'] = pre4 # 내 모델의 예측 결과를 양식에 넣기\n",
    "rs.to_csv('Test04.csv', index = False)\n"
   ]
  },
  {
   "cell_type": "code",
   "execution_count": 22,
   "id": "c735b176",
   "metadata": {
    "ExecuteTime": {
     "end_time": "2023-05-31T07:43:52.835642Z",
     "start_time": "2023-05-31T07:43:50.668424Z"
    }
   },
   "outputs": [
    {
     "name": "stdout",
     "output_type": "stream",
     "text": [
      "교차 검증 정확도: [0.87695772 0.88094994 0.90233415 0.92117117 0.95085995]\n",
      "평균 정확도: 0.9064545882951043\n"
     ]
    }
   ],
   "source": [
    "\n",
    "scores = cross_val_score(lgb, X_train_2, y_train_change, cv=5, scoring='accuracy')\n",
    "\n",
    "# 교차 검증 결과 출력\n",
    "print(\"교차 검증 정확도:\", scores)\n",
    "print(\"평균 정확도:\", scores.mean())"
   ]
  },
  {
   "cell_type": "code",
   "execution_count": 23,
   "id": "267c2b81",
   "metadata": {
    "ExecuteTime": {
     "end_time": "2023-05-31T07:43:55.572342Z",
     "start_time": "2023-05-31T07:43:52.837637Z"
    }
   },
   "outputs": [
    {
     "name": "stdout",
     "output_type": "stream",
     "text": [
      "교차 검증 정확도: [0.87787901 0.88228068 0.90100328 0.9210688  0.95034808]\n",
      "평균 정확도: 0.9065159672463388\n"
     ]
    }
   ],
   "source": [
    "y_t = np.concatenate([y_1, pre4])\n",
    "y_t = list(y_t)\n",
    "y_train_change=pd.Series(y_t)\n",
    "\n",
    "lgb.fit(X_train_2,y_train_change)\n",
    "\n",
    "pre5 = lgb.predict(X_test)\n",
    "# kaggle 양식 불러오기\n",
    "rs =  pd.read_csv('./data/kaggle/sample_submission.csv')\n",
    "rs['income'] = pre5 # 내 모델의 예측 결과를 양식에 넣기\n",
    "rs.to_csv('Test05.csv', index = False)\n",
    "\n",
    "scores = cross_val_score(lgb, X_train_2, y_train_change, cv=5, scoring='accuracy')\n",
    "\n",
    "# 교차 검증 결과 출력\n",
    "print(\"교차 검증 정확도:\", scores)\n",
    "print(\"평균 정확도:\", scores.mean())"
   ]
  },
  {
   "cell_type": "code",
   "execution_count": 24,
   "id": "928bd0dc",
   "metadata": {
    "ExecuteTime": {
     "end_time": "2023-05-31T07:43:58.341954Z",
     "start_time": "2023-05-31T07:43:55.574337Z"
    }
   },
   "outputs": [
    {
     "name": "stdout",
     "output_type": "stream",
     "text": [
      "교차 검증 정확도: [0.87828846 0.88217832 0.90192465 0.92137592 0.95157658]\n",
      "평균 정확도: 0.9070687865114111\n"
     ]
    }
   ],
   "source": [
    "y_t = np.concatenate([y_1, pre5])\n",
    "y_t = list(y_t)\n",
    "y_train_change=pd.Series(y_t)\n",
    "\n",
    "lgb.fit(X_train_2,y_train_change)\n",
    "\n",
    "pre6 = lgb.predict(X_test)\n",
    "# kaggle 양식 불러오기\n",
    "rs =  pd.read_csv('./data/kaggle/sample_submission.csv')\n",
    "rs['income'] = pre6 # 내 모델의 예측 결과를 양식에 넣기\n",
    "rs.to_csv('Last06.csv', index = False)\n",
    "\n",
    "scores = cross_val_score(lgb, X_train_2, y_train_change, cv=5, scoring='accuracy')\n",
    "\n",
    "# 교차 검증 결과 출력\n",
    "print(\"교차 검증 정확도:\", scores)\n",
    "print(\"평균 정확도:\", scores.mean())"
   ]
  },
  {
   "cell_type": "code",
   "execution_count": 25,
   "id": "ee9fb22a",
   "metadata": {
    "ExecuteTime": {
     "end_time": "2023-05-31T07:44:01.202324Z",
     "start_time": "2023-05-31T07:43:58.344946Z"
    }
   },
   "outputs": [
    {
     "name": "stdout",
     "output_type": "stream",
     "text": [
      "교차 검증 정확도: [0.87869792 0.88105231 0.9013104  0.9222973  0.9514742 ]\n",
      "평균 정확도: 0.9069664260804604\n"
     ]
    }
   ],
   "source": [
    "y_t = np.concatenate([y_1, pre6])\n",
    "y_t = list(y_t)\n",
    "y_train_change=pd.Series(y_t)\n",
    "\n",
    "lgb.fit(X_train_2,y_train_change)\n",
    "\n",
    "pre7 = lgb.predict(X_test)\n",
    "# kaggle 양식 불러오기\n",
    "rs =  pd.read_csv('./data/kaggle/sample_submission.csv')\n",
    "rs['income'] = pre7 # 내 모델의 예측 결과를 양식에 넣기\n",
    "rs.to_csv('Last07.csv', index = False)\n",
    "\n",
    "scores = cross_val_score(lgb, X_train_2, y_train_change, cv=5, scoring='accuracy')\n",
    "\n",
    "# 교차 검증 결과 출력\n",
    "print(\"교차 검증 정확도:\", scores)\n",
    "print(\"평균 정확도:\", scores.mean())"
   ]
  },
  {
   "cell_type": "code",
   "execution_count": 26,
   "id": "b091a358",
   "metadata": {
    "ExecuteTime": {
     "end_time": "2023-05-31T07:44:03.861231Z",
     "start_time": "2023-05-31T07:44:01.204319Z"
    }
   },
   "outputs": [
    {
     "name": "stdout",
     "output_type": "stream",
     "text": [
      "교차 검증 정확도: [0.87787901 0.88023339 0.90161753 0.92168305 0.95495495]\n",
      "평균 정확도: 0.9072735849222695\n"
     ]
    }
   ],
   "source": [
    "y_t = np.concatenate([y_1, pre7])\n",
    "y_t = list(y_t)\n",
    "y_train_change=pd.Series(y_t)\n",
    "\n",
    "lgb.fit(X_train_2,y_train_change)\n",
    "\n",
    "pre8 = lgb.predict(X_test)\n",
    "# kaggle 양식 불러오기\n",
    "rs =  pd.read_csv('./data/kaggle/sample_submission.csv')\n",
    "rs['income'] = pre8 # 내 모델의 예측 결과를 양식에 넣기\n",
    "rs.to_csv('Last08.csv', index = False)\n",
    "\n",
    "scores = cross_val_score(lgb, X_train_2, y_train_change, cv=5, scoring='accuracy')\n",
    "\n",
    "# 교차 검증 결과 출력\n",
    "print(\"교차 검증 정확도:\", scores)\n",
    "print(\"평균 정확도:\", scores.mean())"
   ]
  },
  {
   "cell_type": "code",
   "execution_count": 27,
   "id": "539009b7",
   "metadata": {
    "ExecuteTime": {
     "end_time": "2023-05-31T07:44:06.402453Z",
     "start_time": "2023-05-31T07:44:03.864224Z"
    }
   },
   "outputs": [
    {
     "name": "stdout",
     "output_type": "stream",
     "text": [
      "교차 검증 정확도: [0.8781861  0.88064285 0.90059378 0.92158067 0.95843571]\n",
      "평균 정확도: 0.9078878208650959\n"
     ]
    }
   ],
   "source": [
    "y_t = np.concatenate([y_1, pre8])\n",
    "y_t = list(y_t)\n",
    "y_train_change=pd.Series(y_t)\n",
    "\n",
    "lgb.fit(X_train_2,y_train_change)\n",
    "\n",
    "pre9 = lgb.predict(X_test)\n",
    "# kaggle 양식 불러오기\n",
    "rs =  pd.read_csv('./data/kaggle/sample_submission.csv')\n",
    "rs['income'] = pre9 # 내 모델의 예측 결과를 양식에 넣기\n",
    "rs.to_csv('Last09.csv', index = False)\n",
    "\n",
    "scores = cross_val_score(lgb, X_train_2, y_train_change, cv=5, scoring='accuracy')\n",
    "\n",
    "# 교차 검증 결과 출력\n",
    "print(\"교차 검증 정확도:\", scores)\n",
    "print(\"평균 정확도:\", scores.mean())"
   ]
  },
  {
   "cell_type": "code",
   "execution_count": 28,
   "id": "3ad3bb25",
   "metadata": {
    "ExecuteTime": {
     "end_time": "2023-05-31T07:44:08.920735Z",
     "start_time": "2023-05-31T07:44:06.413424Z"
    }
   },
   "outputs": [
    {
     "name": "stdout",
     "output_type": "stream",
     "text": [
      "교차 검증 정확도: [0.8781861  0.88064285 0.90059378 0.92158067 0.95843571]\n",
      "평균 정확도: 0.9078878208650959\n"
     ]
    }
   ],
   "source": [
    "y_t = np.concatenate([y_1, pre9])\n",
    "y_t = list(y_t)\n",
    "y_train_change=pd.Series(y_t)\n",
    "\n",
    "lgb.fit(X_train_2,y_train_change)\n",
    "\n",
    "pre10 = lgb.predict(X_test)\n",
    "# kaggle 양식 불러오기\n",
    "rs =  pd.read_csv('./data/kaggle/sample_submission.csv')\n",
    "rs['income'] = pre10 # 내 모델의 예측 결과를 양식에 넣기\n",
    "rs.to_csv('Last10.csv', index = False)\n",
    "\n",
    "scores = cross_val_score(lgb, X_train_2, y_train_change, cv=5, scoring='accuracy')\n",
    "\n",
    "# 교차 검증 결과 출력\n",
    "print(\"교차 검증 정확도:\", scores)\n",
    "print(\"평균 정확도:\", scores.mean())"
   ]
  },
  {
   "cell_type": "code",
   "execution_count": 29,
   "id": "bb790e54",
   "metadata": {
    "ExecuteTime": {
     "end_time": "2023-05-31T07:44:11.503844Z",
     "start_time": "2023-05-31T07:44:08.922729Z"
    }
   },
   "outputs": [
    {
     "name": "stdout",
     "output_type": "stream",
     "text": [
      "교차 검증 정확도: [0.8781861  0.88064285 0.90059378 0.92158067 0.95843571]\n",
      "평균 정확도: 0.9078878208650959\n"
     ]
    }
   ],
   "source": [
    "y_t = np.concatenate([y_1, pre10])\n",
    "y_t = list(y_t)\n",
    "y_train_change=pd.Series(y_t)\n",
    "\n",
    "lgb.fit(X_train_2,y_train_change)\n",
    "\n",
    "pre11 = lgb.predict(X_test)\n",
    "# kaggle 양식 불러오기\n",
    "rs =  pd.read_csv('./data/kaggle/sample_submission.csv')\n",
    "rs['income'] = pre11 # 내 모델의 예측 결과를 양식에 넣기\n",
    "rs.to_csv('Last11.csv', index = False)\n",
    "\n",
    "scores = cross_val_score(lgb, X_train_2, y_train_change, cv=5, scoring='accuracy')\n",
    "\n",
    "# 교차 검증 결과 출력\n",
    "print(\"교차 검증 정확도:\", scores)\n",
    "print(\"평균 정확도:\", scores.mean())"
   ]
  },
  {
   "cell_type": "code",
   "execution_count": 30,
   "id": "963a43e8",
   "metadata": {
    "ExecuteTime": {
     "end_time": "2023-05-31T07:44:13.993204Z",
     "start_time": "2023-05-31T07:44:11.506836Z"
    }
   },
   "outputs": [
    {
     "name": "stdout",
     "output_type": "stream",
     "text": [
      "교차 검증 정확도: [0.8781861  0.88064285 0.90059378 0.92158067 0.95843571]\n",
      "평균 정확도: 0.9078878208650959\n"
     ]
    }
   ],
   "source": [
    "y_t = np.concatenate([y_1, pre11])\n",
    "y_t = list(y_t)\n",
    "y_train_change=pd.Series(y_t)\n",
    "\n",
    "lgb.fit(X_train_2,y_train_change)\n",
    "\n",
    "pre12 = lgb.predict(X_test)\n",
    "# kaggle 양식 불러오기\n",
    "rs =  pd.read_csv('./data/kaggle/sample_submission.csv')\n",
    "rs['income'] = pre12 # 내 모델의 예측 결과를 양식에 넣기\n",
    "rs.to_csv('Last12.csv', index = False)\n",
    "\n",
    "scores = cross_val_score(lgb, X_train_2, y_train_change, cv=5, scoring='accuracy')\n",
    "\n",
    "# 교차 검증 결과 출력\n",
    "print(\"교차 검증 정확도:\", scores)\n",
    "print(\"평균 정확도:\", scores.mean())"
   ]
  },
  {
   "cell_type": "code",
   "execution_count": 31,
   "id": "bc1741fd",
   "metadata": {
    "ExecuteTime": {
     "end_time": "2023-05-31T07:44:16.482563Z",
     "start_time": "2023-05-31T07:44:13.995199Z"
    }
   },
   "outputs": [
    {
     "name": "stdout",
     "output_type": "stream",
     "text": [
      "교차 검증 정확도: [0.8781861  0.88064285 0.90059378 0.92158067 0.95843571]\n",
      "평균 정확도: 0.9078878208650959\n"
     ]
    }
   ],
   "source": [
    "y_t = np.concatenate([y_1, pre12])\n",
    "y_t = list(y_t)\n",
    "y_train_change=pd.Series(y_t)\n",
    "\n",
    "lgb.fit(X_train_2,y_train_change)\n",
    "\n",
    "pre13 = lgb.predict(X_test)\n",
    "# kaggle 양식 불러오기\n",
    "rs =  pd.read_csv('./data/kaggle/sample_submission.csv')\n",
    "rs['income'] = pre13 # 내 모델의 예측 결과를 양식에 넣기\n",
    "rs.to_csv('Last13.csv', index = False)\n",
    "\n",
    "scores = cross_val_score(lgb, X_train_2, y_train_change, cv=5, scoring='accuracy')\n",
    "\n",
    "# 교차 검증 결과 출력\n",
    "print(\"교차 검증 정확도:\", scores)\n",
    "print(\"평균 정확도:\", scores.mean())"
   ]
  },
  {
   "cell_type": "code",
   "execution_count": 32,
   "id": "ea9a7746",
   "metadata": {
    "ExecuteTime": {
     "end_time": "2023-05-31T07:44:19.001843Z",
     "start_time": "2023-05-31T07:44:16.484558Z"
    }
   },
   "outputs": [
    {
     "name": "stdout",
     "output_type": "stream",
     "text": [
      "교차 검증 정확도: [0.8781861  0.88064285 0.90059378 0.92158067 0.95843571]\n",
      "평균 정확도: 0.9078878208650959\n"
     ]
    }
   ],
   "source": [
    "y_t = np.concatenate([y_1, pre13])\n",
    "y_t = list(y_t)\n",
    "y_train_change=pd.Series(y_t)\n",
    "\n",
    "lgb.fit(X_train_2,y_train_change)\n",
    "\n",
    "pre14 = lgb.predict(X_test)\n",
    "# kaggle 양식 불러오기\n",
    "rs =  pd.read_csv('./data/kaggle/sample_submission.csv')\n",
    "rs['income'] = pre14 # 내 모델의 예측 결과를 양식에 넣기\n",
    "rs.to_csv('Last14.csv', index = False)\n",
    "\n",
    "scores = cross_val_score(lgb, X_train_2, y_train_change, cv=5, scoring='accuracy')\n",
    "\n",
    "# 교차 검증 결과 출력\n",
    "print(\"교차 검증 정확도:\", scores)\n",
    "print(\"평균 정확도:\", scores.mean())"
   ]
  },
  {
   "cell_type": "code",
   "execution_count": 33,
   "id": "a7eed280",
   "metadata": {
    "ExecuteTime": {
     "end_time": "2023-05-31T07:44:21.521629Z",
     "start_time": "2023-05-31T07:44:19.003838Z"
    }
   },
   "outputs": [
    {
     "name": "stdout",
     "output_type": "stream",
     "text": [
      "교차 검증 정확도: [0.8781861  0.88064285 0.90059378 0.92158067 0.95843571]\n",
      "평균 정확도: 0.9078878208650959\n"
     ]
    }
   ],
   "source": [
    "y_t = np.concatenate([y_1, pre14])\n",
    "y_t = list(y_t)\n",
    "y_train_change=pd.Series(y_t)\n",
    "\n",
    "lgb.fit(X_train_2,y_train_change)\n",
    "\n",
    "pre15 = lgb.predict(X_test)\n",
    "# kaggle 양식 불러오기\n",
    "rs =  pd.read_csv('./data/kaggle/sample_submission.csv')\n",
    "rs['income'] = pre15 # 내 모델의 예측 결과를 양식에 넣기\n",
    "rs.to_csv('Last15.csv', index = False)\n",
    "\n",
    "scores = cross_val_score(lgb, X_train_2, y_train_change, cv=5, scoring='accuracy')\n",
    "\n",
    "# 교차 검증 결과 출력\n",
    "print(\"교차 검증 정확도:\", scores)\n",
    "print(\"평균 정확도:\", scores.mean())"
   ]
  },
  {
   "cell_type": "code",
   "execution_count": 34,
   "id": "6f325219",
   "metadata": {
    "ExecuteTime": {
     "end_time": "2023-05-31T07:44:24.106733Z",
     "start_time": "2023-05-31T07:44:21.525618Z"
    }
   },
   "outputs": [
    {
     "name": "stdout",
     "output_type": "stream",
     "text": [
      "교차 검증 정확도: [0.8781861  0.88064285 0.90059378 0.92158067 0.95843571]\n",
      "평균 정확도: 0.9078878208650959\n"
     ]
    }
   ],
   "source": [
    "y_t = np.concatenate([y_1, pre15])\n",
    "y_t = list(y_t)\n",
    "y_train_change=pd.Series(y_t)\n",
    "\n",
    "lgb.fit(X_train_2,y_train_change)\n",
    "\n",
    "pre16 = lgb.predict(X_test)\n",
    "# kaggle 양식 불러오기\n",
    "rs =  pd.read_csv('./data/kaggle/sample_submission.csv')\n",
    "rs['income'] = pre16 # 내 모델의 예측 결과를 양식에 넣기\n",
    "rs.to_csv('Last16.csv', index = False)\n",
    "\n",
    "scores = cross_val_score(lgb, X_train_2, y_train_change, cv=5, scoring='accuracy')\n",
    "\n",
    "# 교차 검증 결과 출력\n",
    "print(\"교차 검증 정확도:\", scores)\n",
    "print(\"평균 정확도:\", scores.mean())"
   ]
  },
  {
   "cell_type": "code",
   "execution_count": 35,
   "id": "c04e9203",
   "metadata": {
    "ExecuteTime": {
     "end_time": "2023-05-31T07:44:26.686850Z",
     "start_time": "2023-05-31T07:44:24.108728Z"
    }
   },
   "outputs": [
    {
     "name": "stdout",
     "output_type": "stream",
     "text": [
      "교차 검증 정확도: [0.8781861  0.88064285 0.90059378 0.92158067 0.95843571]\n",
      "평균 정확도: 0.9078878208650959\n"
     ]
    }
   ],
   "source": [
    "y_t = np.concatenate([y_1, pre16])\n",
    "y_t = list(y_t)\n",
    "y_train_change=pd.Series(y_t)\n",
    "\n",
    "lgb.fit(X_train_2,y_train_change)\n",
    "\n",
    "pre17 = lgb.predict(X_test)\n",
    "# kaggle 양식 불러오기\n",
    "rs =  pd.read_csv('./data/kaggle/sample_submission.csv')\n",
    "rs['income'] = pre17 # 내 모델의 예측 결과를 양식에 넣기\n",
    "rs.to_csv('Last17.csv', index = False)\n",
    "\n",
    "scores = cross_val_score(lgb, X_train_2, y_train_change, cv=5, scoring='accuracy')\n",
    "\n",
    "# 교차 검증 결과 출력\n",
    "print(\"교차 검증 정확도:\", scores)\n",
    "print(\"평균 정확도:\", scores.mean())"
   ]
  },
  {
   "cell_type": "code",
   "execution_count": 36,
   "id": "13a9d464",
   "metadata": {
    "ExecuteTime": {
     "end_time": "2023-05-31T07:44:29.197661Z",
     "start_time": "2023-05-31T07:44:26.689842Z"
    }
   },
   "outputs": [
    {
     "name": "stdout",
     "output_type": "stream",
     "text": [
      "교차 검증 정확도: [0.8781861  0.88064285 0.90059378 0.92158067 0.95843571]\n",
      "평균 정확도: 0.9078878208650959\n"
     ]
    }
   ],
   "source": [
    "y_t = np.concatenate([y_1, pre17])\n",
    "y_t = list(y_t)\n",
    "y_train_change=pd.Series(y_t)\n",
    "\n",
    "lgb.fit(X_train_2,y_train_change)\n",
    "\n",
    "pre18 = lgb.predict(X_test)\n",
    "# kaggle 양식 불러오기\n",
    "rs =  pd.read_csv('./data/kaggle/sample_submission.csv')\n",
    "rs['income'] = pre18 # 내 모델의 예측 결과를 양식에 넣기\n",
    "rs.to_csv('Last18.csv', index = False)\n",
    "\n",
    "scores = cross_val_score(lgb, X_train_2, y_train_change, cv=5, scoring='accuracy')\n",
    "\n",
    "# 교차 검증 결과 출력\n",
    "print(\"교차 검증 정확도:\", scores)\n",
    "print(\"평균 정확도:\", scores.mean())"
   ]
  },
  {
   "cell_type": "code",
   "execution_count": 37,
   "id": "abf31756",
   "metadata": {
    "ExecuteTime": {
     "end_time": "2023-05-31T07:44:31.708961Z",
     "start_time": "2023-05-31T07:44:29.199655Z"
    }
   },
   "outputs": [
    {
     "name": "stdout",
     "output_type": "stream",
     "text": [
      "교차 검증 정확도: [0.8781861  0.88064285 0.90059378 0.92158067 0.95843571]\n",
      "평균 정확도: 0.9078878208650959\n"
     ]
    }
   ],
   "source": [
    "y_t = np.concatenate([y_1, pre18])\n",
    "y_t = list(y_t)\n",
    "y_train_change=pd.Series(y_t)\n",
    "\n",
    "lgb.fit(X_train_2,y_train_change)\n",
    "\n",
    "pre19 = lgb.predict(X_test)\n",
    "# kaggle 양식 불러오기\n",
    "rs =  pd.read_csv('./data/kaggle/sample_submission.csv')\n",
    "rs['income'] = pre19 # 내 모델의 예측 결과를 양식에 넣기\n",
    "rs.to_csv('Last19.csv', index = False)\n",
    "\n",
    "scores = cross_val_score(lgb, X_train_2, y_train_change, cv=5, scoring='accuracy')\n",
    "\n",
    "# 교차 검증 결과 출력\n",
    "print(\"교차 검증 정확도:\", scores)\n",
    "print(\"평균 정확도:\", scores.mean())"
   ]
  },
  {
   "cell_type": "code",
   "execution_count": 38,
   "id": "0cc7037c",
   "metadata": {
    "ExecuteTime": {
     "end_time": "2023-05-31T07:44:34.261153Z",
     "start_time": "2023-05-31T07:44:31.710956Z"
    }
   },
   "outputs": [
    {
     "name": "stdout",
     "output_type": "stream",
     "text": [
      "교차 검증 정확도: [0.8781861  0.88064285 0.90059378 0.92158067 0.95843571]\n",
      "평균 정확도: 0.9078878208650959\n"
     ]
    }
   ],
   "source": [
    "y_t = np.concatenate([y_1, pre19])\n",
    "y_t = list(y_t)\n",
    "y_train_change=pd.Series(y_t)\n",
    "\n",
    "lgb.fit(X_train_2,y_train_change)\n",
    "\n",
    "pre20 = lgb.predict(X_test)\n",
    "# kaggle 양식 불러오기\n",
    "rs =  pd.read_csv('./data/kaggle/sample_submission.csv')\n",
    "rs['income'] = pre20 # 내 모델의 예측 결과를 양식에 넣기\n",
    "rs.to_csv('Last20.csv', index = False)\n",
    "\n",
    "scores = cross_val_score(lgb, X_train_2, y_train_change, cv=5, scoring='accuracy')\n",
    "\n",
    "# 교차 검증 결과 출력\n",
    "print(\"교차 검증 정확도:\", scores)\n",
    "print(\"평균 정확도:\", scores.mean())"
   ]
  },
  {
   "cell_type": "code",
   "execution_count": null,
   "id": "15a563a4",
   "metadata": {
    "ExecuteTime": {
     "start_time": "2023-05-31T07:43:43.169Z"
    }
   },
   "outputs": [],
   "source": [
    "y_t = np.concatenate([y_1, pre20])\n",
    "y_t = list(y_t)\n",
    "y_train_change=pd.Series(y_t)\n",
    "\n",
    "lgb.fit(X_train_2,y_train_change)\n",
    "\n",
    "pre21 = lgb.predict(X_test)\n",
    "# kaggle 양식 불러오기\n",
    "rs =  pd.read_csv('./data/kaggle/sample_submission.csv')\n",
    "rs['income'] = pre21 # 내 모델의 예측 결과를 양식에 넣기\n",
    "rs.to_csv('Last21.csv', index = False)\n",
    "\n",
    "scores = cross_val_score(lgb, X_train_2, y_train_change, cv=5, scoring='accuracy')\n",
    "\n",
    "# 교차 검증 결과 출력\n",
    "print(\"교차 검증 정확도:\", scores)\n",
    "print(\"평균 정확도:\", scores.mean())"
   ]
  },
  {
   "cell_type": "code",
   "execution_count": null,
   "id": "14ff7efb",
   "metadata": {
    "ExecuteTime": {
     "start_time": "2023-05-31T07:43:43.170Z"
    }
   },
   "outputs": [],
   "source": [
    "y_t = np.concatenate([y_1, pre21])\n",
    "y_t = list(y_t)\n",
    "y_train_change=pd.Series(y_t)\n",
    "\n",
    "lgb.fit(X_train_2,y_train_change)\n",
    "\n",
    "pre22 = lgb.predict(X_test)\n",
    "# kaggle 양식 불러오기\n",
    "rs =  pd.read_csv('./data/kaggle/sample_submission.csv')\n",
    "rs['income'] = pre22 # 내 모델의 예측 결과를 양식에 넣기\n",
    "rs.to_csv('Last22.csv', index = False)\n",
    "\n",
    "scores = cross_val_score(lgb, X_train_2, y_train_change, cv=5, scoring='accuracy')\n",
    "\n",
    "# 교차 검증 결과 출력\n",
    "print(\"교차 검증 정확도:\", scores)\n",
    "print(\"평균 정확도:\", scores.mean())"
   ]
  },
  {
   "cell_type": "code",
   "execution_count": null,
   "id": "3e5e2a86",
   "metadata": {
    "ExecuteTime": {
     "start_time": "2023-05-31T07:43:43.172Z"
    }
   },
   "outputs": [],
   "source": [
    "y_t = np.concatenate([y_1, pre22])\n",
    "y_t = list(y_t)\n",
    "y_train_change=pd.Series(y_t)\n",
    "\n",
    "lgb.fit(X_train_2,y_train_change)\n",
    "\n",
    "pre23 = lgb.predict(X_test)\n",
    "# kaggle 양식 불러오기\n",
    "rs =  pd.read_csv('./data/kaggle/sample_submission.csv')\n",
    "rs['income'] = pre23 # 내 모델의 예측 결과를 양식에 넣기\n",
    "rs.to_csv('Last23.csv', index = False)\n",
    "\n",
    "scores = cross_val_score(lgb, X_train_2, y_train_change, cv=5, scoring='accuracy')\n",
    "\n",
    "# 교차 검증 결과 출력\n",
    "print(\"교차 검증 정확도:\", scores)\n",
    "print(\"평균 정확도:\", scores.mean())"
   ]
  },
  {
   "cell_type": "code",
   "execution_count": null,
   "id": "6cb4bad9",
   "metadata": {
    "ExecuteTime": {
     "start_time": "2023-05-31T07:43:43.173Z"
    }
   },
   "outputs": [],
   "source": [
    "y_t = np.concatenate([y_1, pre23])\n",
    "y_t = list(y_t)\n",
    "y_train_change=pd.Series(y_t)\n",
    "\n",
    "lgb.fit(X_train_2,y_train_change)\n",
    "\n",
    "pre24 = lgb.predict(X_test)\n",
    "# kaggle 양식 불러오기\n",
    "rs =  pd.read_csv('./data/kaggle/sample_submission.csv')\n",
    "rs['income'] = pre24 # 내 모델의 예측 결과를 양식에 넣기\n",
    "rs.to_csv('Last24.csv', index = False)\n",
    "\n",
    "scores = cross_val_score(lgb, X_train_2, y_train_change, cv=5, scoring='accuracy')\n",
    "\n",
    "# 교차 검증 결과 출력\n",
    "print(\"교차 검증 정확도:\", scores)\n",
    "print(\"평균 정확도:\", scores.mean())"
   ]
  },
  {
   "cell_type": "code",
   "execution_count": null,
   "id": "608b3c7b",
   "metadata": {
    "ExecuteTime": {
     "start_time": "2023-05-31T07:43:43.174Z"
    }
   },
   "outputs": [],
   "source": [
    "y_t = np.concatenate([y_1, pre24])\n",
    "y_t = list(y_t)\n",
    "y_train_change=pd.Series(y_t)\n",
    "\n",
    "lgb.fit(X_train_2,y_train_change)\n",
    "\n",
    "pre25 = lgb.predict(X_test)\n",
    "# kaggle 양식 불러오기\n",
    "rs =  pd.read_csv('./data/kaggle/sample_submission.csv')\n",
    "rs['income'] = pre25 # 내 모델의 예측 결과를 양식에 넣기\n",
    "rs.to_csv('Last25.csv', index = False)\n",
    "\n",
    "scores = cross_val_score(lgb, X_train_2, y_train_change, cv=5, scoring='accuracy')\n",
    "\n",
    "# 교차 검증 결과 출력\n",
    "print(\"교차 검증 정확도:\", scores)\n",
    "print(\"평균 정확도:\", scores.mean())"
   ]
  },
  {
   "cell_type": "code",
   "execution_count": null,
   "id": "fcd12be5",
   "metadata": {
    "ExecuteTime": {
     "start_time": "2023-05-31T07:43:43.176Z"
    }
   },
   "outputs": [],
   "source": [
    "y_t = np.concatenate([y_1, pre25])\n",
    "y_t = list(y_t)\n",
    "y_train_change=pd.Series(y_t)\n",
    "\n",
    "lgb.fit(X_train_2,y_train_change)\n",
    "\n",
    "pre26 = lgb.predict(X_test)\n",
    "# kaggle 양식 불러오기\n",
    "rs =  pd.read_csv('./data/kaggle/sample_submission.csv')\n",
    "rs['income'] = pre26 # 내 모델의 예측 결과를 양식에 넣기\n",
    "rs.to_csv('Last26.csv', index = False)\n",
    "\n",
    "scores = cross_val_score(lgb, X_train_2, y_train_change, cv=5, scoring='accuracy')\n",
    "\n",
    "# 교차 검증 결과 출력\n",
    "print(\"교차 검증 정확도:\", scores)\n",
    "print(\"평균 정확도:\", scores.mean())"
   ]
  },
  {
   "cell_type": "code",
   "execution_count": null,
   "id": "e8fcaf7e",
   "metadata": {},
   "outputs": [],
   "source": []
  },
  {
   "cell_type": "code",
   "execution_count": null,
   "id": "7e8e888a",
   "metadata": {},
   "outputs": [],
   "source": []
  },
  {
   "cell_type": "code",
   "execution_count": null,
   "id": "e59c9f47",
   "metadata": {},
   "outputs": [],
   "source": []
  }
 ],
 "metadata": {
  "kernelspec": {
   "display_name": "Python 3 (ipykernel)",
   "language": "python",
   "name": "python3"
  },
  "language_info": {
   "codemirror_mode": {
    "name": "ipython",
    "version": 3
   },
   "file_extension": ".py",
   "mimetype": "text/x-python",
   "name": "python",
   "nbconvert_exporter": "python",
   "pygments_lexer": "ipython3",
   "version": "3.9.13"
  },
  "toc": {
   "base_numbering": 1,
   "nav_menu": {},
   "number_sections": true,
   "sideBar": true,
   "skip_h1_title": false,
   "title_cell": "Table of Contents",
   "title_sidebar": "Contents",
   "toc_cell": false,
   "toc_position": {},
   "toc_section_display": true,
   "toc_window_display": false
  },
  "varInspector": {
   "cols": {
    "lenName": 16,
    "lenType": 16,
    "lenVar": 40
   },
   "kernels_config": {
    "python": {
     "delete_cmd_postfix": "",
     "delete_cmd_prefix": "del ",
     "library": "var_list.py",
     "varRefreshCmd": "print(var_dic_list())"
    },
    "r": {
     "delete_cmd_postfix": ") ",
     "delete_cmd_prefix": "rm(",
     "library": "var_list.r",
     "varRefreshCmd": "cat(var_dic_list()) "
    }
   },
   "types_to_exclude": [
    "module",
    "function",
    "builtin_function_or_method",
    "instance",
    "_Feature"
   ],
   "window_display": false
  }
 },
 "nbformat": 4,
 "nbformat_minor": 5
}
