{
 "cells": [
  {
   "cell_type": "code",
   "execution_count": 1,
   "id": "c712b9b5",
   "metadata": {
    "ExecuteTime": {
     "end_time": "2023-05-31T05:22:49.436893Z",
     "start_time": "2023-05-31T05:22:49.427897Z"
    }
   },
   "outputs": [],
   "source": [
    "import warnings\n",
    "warnings.filterwarnings('ignore')"
   ]
  },
  {
   "cell_type": "code",
   "execution_count": 1,
   "id": "ceba8328",
   "metadata": {
    "ExecuteTime": {
     "end_time": "2023-05-31T05:53:54.692073Z",
     "start_time": "2023-05-31T05:53:54.207091Z"
    }
   },
   "outputs": [],
   "source": [
    "import pandas as pd\n",
    "import numpy as np\n",
    "# train 변수 : 문제 가져오기\n",
    "data_train = pd.read_csv('data/kaggle/train.csv')\n",
    "# test 변수 : 정답 가져오기\n",
    "data_test = pd.read_csv('data/kaggle/test.csv')\n"
   ]
  },
  {
   "cell_type": "code",
   "execution_count": 2,
   "id": "35605431",
   "metadata": {
    "ExecuteTime": {
     "end_time": "2023-05-31T05:54:17.727694Z",
     "start_time": "2023-05-31T05:54:17.700751Z"
    }
   },
   "outputs": [],
   "source": [
    "# 필요없는 컬럼 drop\n",
    "data_train = data_train.drop(['no','fnlwgt','occupation','native-country','education'],axis=1)\n",
    "data_test = data_test.drop(['no','fnlwgt','occupation','native-country','education'],axis=1)\n",
    "\n",
    "# 자산이득액 에서 자산손해액을 뺴서 순이익을 구하기\n",
    "data_train['total_cap'] = data_train['capital-gain'] - data_train['capital-loss']\n",
    "data_test['total_cap'] = data_test['capital-gain'] - data_test['capital-loss']\n",
    "\n",
    "#  순이익 계산후 필요없어진 컬럼 삭제\n",
    "data_train = data_train.drop(['capital-gain','capital-loss'],axis=1)\n",
    "data_test = data_test.drop(['capital-gain','capital-loss'],axis=1)"
   ]
  },
  {
   "cell_type": "code",
   "execution_count": 3,
   "id": "c77dfa52",
   "metadata": {
    "ExecuteTime": {
     "end_time": "2023-05-31T05:54:21.109780Z",
     "start_time": "2023-05-31T05:54:21.091373Z"
    }
   },
   "outputs": [],
   "source": [
    "# 테스트 데이터와 트레인 데이터 일단 먼저 붙이기\n",
    "data_concat = pd.concat([data_train,data_test])"
   ]
  },
  {
   "cell_type": "code",
   "execution_count": 6,
   "id": "4ca51800",
   "metadata": {
    "ExecuteTime": {
     "end_time": "2023-05-31T05:54:40.781154Z",
     "start_time": "2023-05-31T05:54:40.756130Z"
    }
   },
   "outputs": [
    {
     "data": {
      "text/html": [
       "<div>\n",
       "<style scoped>\n",
       "    .dataframe tbody tr th:only-of-type {\n",
       "        vertical-align: middle;\n",
       "    }\n",
       "\n",
       "    .dataframe tbody tr th {\n",
       "        vertical-align: top;\n",
       "    }\n",
       "\n",
       "    .dataframe thead th {\n",
       "        text-align: right;\n",
       "    }\n",
       "</style>\n",
       "<table border=\"1\" class=\"dataframe\">\n",
       "  <thead>\n",
       "    <tr style=\"text-align: right;\">\n",
       "      <th></th>\n",
       "      <th>age</th>\n",
       "      <th>workclass</th>\n",
       "      <th>education-num</th>\n",
       "      <th>marital-status</th>\n",
       "      <th>relationship</th>\n",
       "      <th>race</th>\n",
       "      <th>sex</th>\n",
       "      <th>hours-per-week</th>\n",
       "      <th>income</th>\n",
       "      <th>total_cap</th>\n",
       "    </tr>\n",
       "  </thead>\n",
       "  <tbody>\n",
       "    <tr>\n",
       "      <th>0</th>\n",
       "      <td>25</td>\n",
       "      <td>Private</td>\n",
       "      <td>7</td>\n",
       "      <td>Divorced</td>\n",
       "      <td>Not-in-family</td>\n",
       "      <td>White</td>\n",
       "      <td>Male</td>\n",
       "      <td>40</td>\n",
       "      <td>0</td>\n",
       "      <td>0</td>\n",
       "    </tr>\n",
       "    <tr>\n",
       "      <th>1</th>\n",
       "      <td>39</td>\n",
       "      <td>Private</td>\n",
       "      <td>10</td>\n",
       "      <td>Divorced</td>\n",
       "      <td>Not-in-family</td>\n",
       "      <td>White</td>\n",
       "      <td>Female</td>\n",
       "      <td>55</td>\n",
       "      <td>0</td>\n",
       "      <td>-1721</td>\n",
       "    </tr>\n",
       "    <tr>\n",
       "      <th>2</th>\n",
       "      <td>35</td>\n",
       "      <td>Private</td>\n",
       "      <td>13</td>\n",
       "      <td>Never-married</td>\n",
       "      <td>Not-in-family</td>\n",
       "      <td>Asian-Pac-Islander</td>\n",
       "      <td>Female</td>\n",
       "      <td>50</td>\n",
       "      <td>0</td>\n",
       "      <td>0</td>\n",
       "    </tr>\n",
       "    <tr>\n",
       "      <th>3</th>\n",
       "      <td>64</td>\n",
       "      <td>Private</td>\n",
       "      <td>11</td>\n",
       "      <td>Divorced</td>\n",
       "      <td>Not-in-family</td>\n",
       "      <td>White</td>\n",
       "      <td>Female</td>\n",
       "      <td>40</td>\n",
       "      <td>0</td>\n",
       "      <td>0</td>\n",
       "    </tr>\n",
       "    <tr>\n",
       "      <th>4</th>\n",
       "      <td>24</td>\n",
       "      <td>Private</td>\n",
       "      <td>10</td>\n",
       "      <td>Married-civ-spouse</td>\n",
       "      <td>Husband</td>\n",
       "      <td>White</td>\n",
       "      <td>Male</td>\n",
       "      <td>70</td>\n",
       "      <td>1</td>\n",
       "      <td>0</td>\n",
       "    </tr>\n",
       "    <tr>\n",
       "      <th>...</th>\n",
       "      <td>...</td>\n",
       "      <td>...</td>\n",
       "      <td>...</td>\n",
       "      <td>...</td>\n",
       "      <td>...</td>\n",
       "      <td>...</td>\n",
       "      <td>...</td>\n",
       "      <td>...</td>\n",
       "      <td>...</td>\n",
       "      <td>...</td>\n",
       "    </tr>\n",
       "    <tr>\n",
       "      <th>29300</th>\n",
       "      <td>20</td>\n",
       "      <td>Private</td>\n",
       "      <td>9</td>\n",
       "      <td>Never-married</td>\n",
       "      <td>Own-child</td>\n",
       "      <td>Other</td>\n",
       "      <td>Male</td>\n",
       "      <td>40</td>\n",
       "      <td>0</td>\n",
       "      <td>0</td>\n",
       "    </tr>\n",
       "    <tr>\n",
       "      <th>29301</th>\n",
       "      <td>21</td>\n",
       "      <td>Private</td>\n",
       "      <td>9</td>\n",
       "      <td>Never-married</td>\n",
       "      <td>Own-child</td>\n",
       "      <td>Black</td>\n",
       "      <td>Male</td>\n",
       "      <td>40</td>\n",
       "      <td>0</td>\n",
       "      <td>0</td>\n",
       "    </tr>\n",
       "    <tr>\n",
       "      <th>29302</th>\n",
       "      <td>18</td>\n",
       "      <td>Self-emp-not-inc</td>\n",
       "      <td>6</td>\n",
       "      <td>Never-married</td>\n",
       "      <td>Own-child</td>\n",
       "      <td>White</td>\n",
       "      <td>Male</td>\n",
       "      <td>40</td>\n",
       "      <td>0</td>\n",
       "      <td>0</td>\n",
       "    </tr>\n",
       "    <tr>\n",
       "      <th>29303</th>\n",
       "      <td>33</td>\n",
       "      <td>Private</td>\n",
       "      <td>7</td>\n",
       "      <td>Never-married</td>\n",
       "      <td>Not-in-family</td>\n",
       "      <td>White</td>\n",
       "      <td>Male</td>\n",
       "      <td>65</td>\n",
       "      <td>0</td>\n",
       "      <td>0</td>\n",
       "    </tr>\n",
       "    <tr>\n",
       "      <th>29304</th>\n",
       "      <td>65</td>\n",
       "      <td>?</td>\n",
       "      <td>9</td>\n",
       "      <td>Widowed</td>\n",
       "      <td>Not-in-family</td>\n",
       "      <td>White</td>\n",
       "      <td>Female</td>\n",
       "      <td>40</td>\n",
       "      <td>0</td>\n",
       "      <td>0</td>\n",
       "    </tr>\n",
       "  </tbody>\n",
       "</table>\n",
       "<p>29305 rows × 10 columns</p>\n",
       "</div>"
      ],
      "text/plain": [
       "       age          workclass  education-num       marital-status  \\\n",
       "0       25            Private              7             Divorced   \n",
       "1       39            Private             10             Divorced   \n",
       "2       35            Private             13        Never-married   \n",
       "3       64            Private             11             Divorced   \n",
       "4       24            Private             10   Married-civ-spouse   \n",
       "...    ...                ...            ...                  ...   \n",
       "29300   20            Private              9        Never-married   \n",
       "29301   21            Private              9        Never-married   \n",
       "29302   18   Self-emp-not-inc              6        Never-married   \n",
       "29303   33            Private              7        Never-married   \n",
       "29304   65                  ?              9              Widowed   \n",
       "\n",
       "         relationship                 race      sex  hours-per-week  income  \\\n",
       "0       Not-in-family                White     Male              40       0   \n",
       "1       Not-in-family                White   Female              55       0   \n",
       "2       Not-in-family   Asian-Pac-Islander   Female              50       0   \n",
       "3       Not-in-family                White   Female              40       0   \n",
       "4             Husband                White     Male              70       1   \n",
       "...               ...                  ...      ...             ...     ...   \n",
       "29300       Own-child                Other     Male              40       0   \n",
       "29301       Own-child                Black     Male              40       0   \n",
       "29302       Own-child                White     Male              40       0   \n",
       "29303   Not-in-family                White     Male              65       0   \n",
       "29304   Not-in-family                White   Female              40       0   \n",
       "\n",
       "       total_cap  \n",
       "0              0  \n",
       "1          -1721  \n",
       "2              0  \n",
       "3              0  \n",
       "4              0  \n",
       "...          ...  \n",
       "29300          0  \n",
       "29301          0  \n",
       "29302          0  \n",
       "29303          0  \n",
       "29304          0  \n",
       "\n",
       "[29305 rows x 10 columns]"
      ]
     },
     "execution_count": 6,
     "metadata": {},
     "output_type": "execute_result"
    }
   ],
   "source": [
    "# 트레인 데이터\n",
    "data_train"
   ]
  },
  {
   "cell_type": "code",
   "execution_count": 5,
   "id": "6d004760",
   "metadata": {
    "ExecuteTime": {
     "end_time": "2023-05-31T05:54:34.633862Z",
     "start_time": "2023-05-31T05:54:34.612375Z"
    }
   },
   "outputs": [
    {
     "data": {
      "text/html": [
       "<div>\n",
       "<style scoped>\n",
       "    .dataframe tbody tr th:only-of-type {\n",
       "        vertical-align: middle;\n",
       "    }\n",
       "\n",
       "    .dataframe tbody tr th {\n",
       "        vertical-align: top;\n",
       "    }\n",
       "\n",
       "    .dataframe thead th {\n",
       "        text-align: right;\n",
       "    }\n",
       "</style>\n",
       "<table border=\"1\" class=\"dataframe\">\n",
       "  <thead>\n",
       "    <tr style=\"text-align: right;\">\n",
       "      <th></th>\n",
       "      <th>age</th>\n",
       "      <th>workclass</th>\n",
       "      <th>education-num</th>\n",
       "      <th>marital-status</th>\n",
       "      <th>relationship</th>\n",
       "      <th>race</th>\n",
       "      <th>sex</th>\n",
       "      <th>hours-per-week</th>\n",
       "      <th>total_cap</th>\n",
       "    </tr>\n",
       "  </thead>\n",
       "  <tbody>\n",
       "    <tr>\n",
       "      <th>0</th>\n",
       "      <td>18</td>\n",
       "      <td>?</td>\n",
       "      <td>10</td>\n",
       "      <td>Never-married</td>\n",
       "      <td>Own-child</td>\n",
       "      <td>White</td>\n",
       "      <td>Male</td>\n",
       "      <td>16</td>\n",
       "      <td>0</td>\n",
       "    </tr>\n",
       "    <tr>\n",
       "      <th>1</th>\n",
       "      <td>29</td>\n",
       "      <td>Private</td>\n",
       "      <td>9</td>\n",
       "      <td>Married-civ-spouse</td>\n",
       "      <td>Wife</td>\n",
       "      <td>White</td>\n",
       "      <td>Female</td>\n",
       "      <td>40</td>\n",
       "      <td>0</td>\n",
       "    </tr>\n",
       "    <tr>\n",
       "      <th>2</th>\n",
       "      <td>45</td>\n",
       "      <td>Private</td>\n",
       "      <td>13</td>\n",
       "      <td>Married-civ-spouse</td>\n",
       "      <td>Husband</td>\n",
       "      <td>Black</td>\n",
       "      <td>Male</td>\n",
       "      <td>40</td>\n",
       "      <td>0</td>\n",
       "    </tr>\n",
       "    <tr>\n",
       "      <th>3</th>\n",
       "      <td>42</td>\n",
       "      <td>Self-emp-not-inc</td>\n",
       "      <td>13</td>\n",
       "      <td>Married-civ-spouse</td>\n",
       "      <td>Husband</td>\n",
       "      <td>White</td>\n",
       "      <td>Male</td>\n",
       "      <td>40</td>\n",
       "      <td>0</td>\n",
       "    </tr>\n",
       "    <tr>\n",
       "      <th>4</th>\n",
       "      <td>41</td>\n",
       "      <td>Private</td>\n",
       "      <td>16</td>\n",
       "      <td>Married-civ-spouse</td>\n",
       "      <td>Wife</td>\n",
       "      <td>White</td>\n",
       "      <td>Female</td>\n",
       "      <td>40</td>\n",
       "      <td>-1902</td>\n",
       "    </tr>\n",
       "    <tr>\n",
       "      <th>...</th>\n",
       "      <td>...</td>\n",
       "      <td>...</td>\n",
       "      <td>...</td>\n",
       "      <td>...</td>\n",
       "      <td>...</td>\n",
       "      <td>...</td>\n",
       "      <td>...</td>\n",
       "      <td>...</td>\n",
       "      <td>...</td>\n",
       "    </tr>\n",
       "    <tr>\n",
       "      <th>19532</th>\n",
       "      <td>45</td>\n",
       "      <td>Self-emp-not-inc</td>\n",
       "      <td>9</td>\n",
       "      <td>Married-civ-spouse</td>\n",
       "      <td>Husband</td>\n",
       "      <td>White</td>\n",
       "      <td>Male</td>\n",
       "      <td>60</td>\n",
       "      <td>0</td>\n",
       "    </tr>\n",
       "    <tr>\n",
       "      <th>19533</th>\n",
       "      <td>48</td>\n",
       "      <td>Private</td>\n",
       "      <td>9</td>\n",
       "      <td>Never-married</td>\n",
       "      <td>Not-in-family</td>\n",
       "      <td>White</td>\n",
       "      <td>Female</td>\n",
       "      <td>50</td>\n",
       "      <td>0</td>\n",
       "    </tr>\n",
       "    <tr>\n",
       "      <th>19534</th>\n",
       "      <td>63</td>\n",
       "      <td>Private</td>\n",
       "      <td>10</td>\n",
       "      <td>Married-civ-spouse</td>\n",
       "      <td>Husband</td>\n",
       "      <td>White</td>\n",
       "      <td>Male</td>\n",
       "      <td>40</td>\n",
       "      <td>4386</td>\n",
       "    </tr>\n",
       "    <tr>\n",
       "      <th>19535</th>\n",
       "      <td>18</td>\n",
       "      <td>Private</td>\n",
       "      <td>7</td>\n",
       "      <td>Never-married</td>\n",
       "      <td>Own-child</td>\n",
       "      <td>White</td>\n",
       "      <td>Female</td>\n",
       "      <td>20</td>\n",
       "      <td>0</td>\n",
       "    </tr>\n",
       "    <tr>\n",
       "      <th>19536</th>\n",
       "      <td>31</td>\n",
       "      <td>Private</td>\n",
       "      <td>12</td>\n",
       "      <td>Married-civ-spouse</td>\n",
       "      <td>Husband</td>\n",
       "      <td>Black</td>\n",
       "      <td>Male</td>\n",
       "      <td>46</td>\n",
       "      <td>0</td>\n",
       "    </tr>\n",
       "  </tbody>\n",
       "</table>\n",
       "<p>19537 rows × 9 columns</p>\n",
       "</div>"
      ],
      "text/plain": [
       "       age          workclass  education-num       marital-status  \\\n",
       "0       18                  ?             10        Never-married   \n",
       "1       29            Private              9   Married-civ-spouse   \n",
       "2       45            Private             13   Married-civ-spouse   \n",
       "3       42   Self-emp-not-inc             13   Married-civ-spouse   \n",
       "4       41            Private             16   Married-civ-spouse   \n",
       "...    ...                ...            ...                  ...   \n",
       "19532   45   Self-emp-not-inc              9   Married-civ-spouse   \n",
       "19533   48            Private              9        Never-married   \n",
       "19534   63            Private             10   Married-civ-spouse   \n",
       "19535   18            Private              7        Never-married   \n",
       "19536   31            Private             12   Married-civ-spouse   \n",
       "\n",
       "         relationship    race      sex  hours-per-week  total_cap  \n",
       "0           Own-child   White     Male              16          0  \n",
       "1                Wife   White   Female              40          0  \n",
       "2             Husband   Black     Male              40          0  \n",
       "3             Husband   White     Male              40          0  \n",
       "4                Wife   White   Female              40      -1902  \n",
       "...               ...     ...      ...             ...        ...  \n",
       "19532         Husband   White     Male              60          0  \n",
       "19533   Not-in-family   White   Female              50          0  \n",
       "19534         Husband   White     Male              40       4386  \n",
       "19535       Own-child   White   Female              20          0  \n",
       "19536         Husband   Black     Male              46          0  \n",
       "\n",
       "[19537 rows x 9 columns]"
      ]
     },
     "execution_count": 5,
     "metadata": {},
     "output_type": "execute_result"
    }
   ],
   "source": [
    "data_test"
   ]
  },
  {
   "cell_type": "code",
   "execution_count": 7,
   "id": "a12c8ac7",
   "metadata": {
    "ExecuteTime": {
     "end_time": "2023-05-31T05:54:47.963670Z",
     "start_time": "2023-05-31T05:54:47.955640Z"
    }
   },
   "outputs": [
    {
     "data": {
      "text/plain": [
       "0        0\n",
       "1        0\n",
       "2        0\n",
       "3        0\n",
       "4        1\n",
       "        ..\n",
       "29300    0\n",
       "29301    0\n",
       "29302    0\n",
       "29303    0\n",
       "29304    0\n",
       "Name: income, Length: 29305, dtype: int64"
      ]
     },
     "execution_count": 7,
     "metadata": {},
     "output_type": "execute_result"
    }
   ],
   "source": [
    " # 트레인 데이터의 정답\n",
    "data_train['income']"
   ]
  },
  {
   "cell_type": "code",
   "execution_count": 8,
   "id": "cf0fdda7",
   "metadata": {
    "ExecuteTime": {
     "end_time": "2023-05-31T05:54:54.359333Z",
     "start_time": "2023-05-31T05:54:54.339954Z"
    }
   },
   "outputs": [
    {
     "data": {
      "text/html": [
       "<div>\n",
       "<style scoped>\n",
       "    .dataframe tbody tr th:only-of-type {\n",
       "        vertical-align: middle;\n",
       "    }\n",
       "\n",
       "    .dataframe tbody tr th {\n",
       "        vertical-align: top;\n",
       "    }\n",
       "\n",
       "    .dataframe thead th {\n",
       "        text-align: right;\n",
       "    }\n",
       "</style>\n",
       "<table border=\"1\" class=\"dataframe\">\n",
       "  <thead>\n",
       "    <tr style=\"text-align: right;\">\n",
       "      <th></th>\n",
       "      <th>age</th>\n",
       "      <th>workclass</th>\n",
       "      <th>education-num</th>\n",
       "      <th>marital-status</th>\n",
       "      <th>relationship</th>\n",
       "      <th>race</th>\n",
       "      <th>sex</th>\n",
       "      <th>hours-per-week</th>\n",
       "      <th>income</th>\n",
       "      <th>total_cap</th>\n",
       "    </tr>\n",
       "  </thead>\n",
       "  <tbody>\n",
       "    <tr>\n",
       "      <th>0</th>\n",
       "      <td>25</td>\n",
       "      <td>Private</td>\n",
       "      <td>7</td>\n",
       "      <td>Divorced</td>\n",
       "      <td>Not-in-family</td>\n",
       "      <td>White</td>\n",
       "      <td>Male</td>\n",
       "      <td>40</td>\n",
       "      <td>0.0</td>\n",
       "      <td>0</td>\n",
       "    </tr>\n",
       "    <tr>\n",
       "      <th>1</th>\n",
       "      <td>39</td>\n",
       "      <td>Private</td>\n",
       "      <td>10</td>\n",
       "      <td>Divorced</td>\n",
       "      <td>Not-in-family</td>\n",
       "      <td>White</td>\n",
       "      <td>Female</td>\n",
       "      <td>55</td>\n",
       "      <td>0.0</td>\n",
       "      <td>-1721</td>\n",
       "    </tr>\n",
       "    <tr>\n",
       "      <th>2</th>\n",
       "      <td>35</td>\n",
       "      <td>Private</td>\n",
       "      <td>13</td>\n",
       "      <td>Never-married</td>\n",
       "      <td>Not-in-family</td>\n",
       "      <td>Asian-Pac-Islander</td>\n",
       "      <td>Female</td>\n",
       "      <td>50</td>\n",
       "      <td>0.0</td>\n",
       "      <td>0</td>\n",
       "    </tr>\n",
       "    <tr>\n",
       "      <th>3</th>\n",
       "      <td>64</td>\n",
       "      <td>Private</td>\n",
       "      <td>11</td>\n",
       "      <td>Divorced</td>\n",
       "      <td>Not-in-family</td>\n",
       "      <td>White</td>\n",
       "      <td>Female</td>\n",
       "      <td>40</td>\n",
       "      <td>0.0</td>\n",
       "      <td>0</td>\n",
       "    </tr>\n",
       "    <tr>\n",
       "      <th>4</th>\n",
       "      <td>24</td>\n",
       "      <td>Private</td>\n",
       "      <td>10</td>\n",
       "      <td>Married-civ-spouse</td>\n",
       "      <td>Husband</td>\n",
       "      <td>White</td>\n",
       "      <td>Male</td>\n",
       "      <td>70</td>\n",
       "      <td>1.0</td>\n",
       "      <td>0</td>\n",
       "    </tr>\n",
       "    <tr>\n",
       "      <th>...</th>\n",
       "      <td>...</td>\n",
       "      <td>...</td>\n",
       "      <td>...</td>\n",
       "      <td>...</td>\n",
       "      <td>...</td>\n",
       "      <td>...</td>\n",
       "      <td>...</td>\n",
       "      <td>...</td>\n",
       "      <td>...</td>\n",
       "      <td>...</td>\n",
       "    </tr>\n",
       "    <tr>\n",
       "      <th>19532</th>\n",
       "      <td>45</td>\n",
       "      <td>Self-emp-not-inc</td>\n",
       "      <td>9</td>\n",
       "      <td>Married-civ-spouse</td>\n",
       "      <td>Husband</td>\n",
       "      <td>White</td>\n",
       "      <td>Male</td>\n",
       "      <td>60</td>\n",
       "      <td>NaN</td>\n",
       "      <td>0</td>\n",
       "    </tr>\n",
       "    <tr>\n",
       "      <th>19533</th>\n",
       "      <td>48</td>\n",
       "      <td>Private</td>\n",
       "      <td>9</td>\n",
       "      <td>Never-married</td>\n",
       "      <td>Not-in-family</td>\n",
       "      <td>White</td>\n",
       "      <td>Female</td>\n",
       "      <td>50</td>\n",
       "      <td>NaN</td>\n",
       "      <td>0</td>\n",
       "    </tr>\n",
       "    <tr>\n",
       "      <th>19534</th>\n",
       "      <td>63</td>\n",
       "      <td>Private</td>\n",
       "      <td>10</td>\n",
       "      <td>Married-civ-spouse</td>\n",
       "      <td>Husband</td>\n",
       "      <td>White</td>\n",
       "      <td>Male</td>\n",
       "      <td>40</td>\n",
       "      <td>NaN</td>\n",
       "      <td>4386</td>\n",
       "    </tr>\n",
       "    <tr>\n",
       "      <th>19535</th>\n",
       "      <td>18</td>\n",
       "      <td>Private</td>\n",
       "      <td>7</td>\n",
       "      <td>Never-married</td>\n",
       "      <td>Own-child</td>\n",
       "      <td>White</td>\n",
       "      <td>Female</td>\n",
       "      <td>20</td>\n",
       "      <td>NaN</td>\n",
       "      <td>0</td>\n",
       "    </tr>\n",
       "    <tr>\n",
       "      <th>19536</th>\n",
       "      <td>31</td>\n",
       "      <td>Private</td>\n",
       "      <td>12</td>\n",
       "      <td>Married-civ-spouse</td>\n",
       "      <td>Husband</td>\n",
       "      <td>Black</td>\n",
       "      <td>Male</td>\n",
       "      <td>46</td>\n",
       "      <td>NaN</td>\n",
       "      <td>0</td>\n",
       "    </tr>\n",
       "  </tbody>\n",
       "</table>\n",
       "<p>48842 rows × 10 columns</p>\n",
       "</div>"
      ],
      "text/plain": [
       "       age          workclass  education-num       marital-status  \\\n",
       "0       25            Private              7             Divorced   \n",
       "1       39            Private             10             Divorced   \n",
       "2       35            Private             13        Never-married   \n",
       "3       64            Private             11             Divorced   \n",
       "4       24            Private             10   Married-civ-spouse   \n",
       "...    ...                ...            ...                  ...   \n",
       "19532   45   Self-emp-not-inc              9   Married-civ-spouse   \n",
       "19533   48            Private              9        Never-married   \n",
       "19534   63            Private             10   Married-civ-spouse   \n",
       "19535   18            Private              7        Never-married   \n",
       "19536   31            Private             12   Married-civ-spouse   \n",
       "\n",
       "         relationship                 race      sex  hours-per-week  income  \\\n",
       "0       Not-in-family                White     Male              40     0.0   \n",
       "1       Not-in-family                White   Female              55     0.0   \n",
       "2       Not-in-family   Asian-Pac-Islander   Female              50     0.0   \n",
       "3       Not-in-family                White   Female              40     0.0   \n",
       "4             Husband                White     Male              70     1.0   \n",
       "...               ...                  ...      ...             ...     ...   \n",
       "19532         Husband                White     Male              60     NaN   \n",
       "19533   Not-in-family                White   Female              50     NaN   \n",
       "19534         Husband                White     Male              40     NaN   \n",
       "19535       Own-child                White   Female              20     NaN   \n",
       "19536         Husband                Black     Male              46     NaN   \n",
       "\n",
       "       total_cap  \n",
       "0              0  \n",
       "1          -1721  \n",
       "2              0  \n",
       "3              0  \n",
       "4              0  \n",
       "...          ...  \n",
       "19532          0  \n",
       "19533          0  \n",
       "19534       4386  \n",
       "19535          0  \n",
       "19536          0  \n",
       "\n",
       "[48842 rows x 10 columns]"
      ]
     },
     "execution_count": 8,
     "metadata": {},
     "output_type": "execute_result"
    }
   ],
   "source": [
    "data_concat"
   ]
  },
  {
   "cell_type": "code",
   "execution_count": 9,
   "id": "42a0b9df",
   "metadata": {
    "ExecuteTime": {
     "end_time": "2023-05-31T05:54:57.634534Z",
     "start_time": "2023-05-31T05:54:57.619281Z"
    }
   },
   "outputs": [],
   "source": [
    "# 정답 데이터\n",
    "income_raw = data_concat['income']"
   ]
  },
  {
   "cell_type": "code",
   "execution_count": 10,
   "id": "d4773b43",
   "metadata": {
    "ExecuteTime": {
     "end_time": "2023-05-31T05:54:59.526746Z",
     "start_time": "2023-05-31T05:54:59.507647Z"
    }
   },
   "outputs": [],
   "source": [
    "# 전처리 되기 이전의 feature들 (전처리 되기전 문제들)\n",
    "features_raw = data_concat.drop('income', axis = 1)"
   ]
  },
  {
   "cell_type": "code",
   "execution_count": 62,
   "id": "d68e1389",
   "metadata": {
    "ExecuteTime": {
     "end_time": "2023-05-31T06:16:24.460712Z",
     "start_time": "2023-05-31T06:16:24.439225Z"
    }
   },
   "outputs": [
    {
     "name": "stderr",
     "output_type": "stream",
     "text": [
      "C:\\Users\\smhrd\\anaconda3\\lib\\site-packages\\pandas\\core\\arraylike.py:397: RuntimeWarning: invalid value encountered in log\n",
      "  result = getattr(ufunc, method)(*inputs, **kwargs)\n"
     ]
    }
   ],
   "source": [
    "skewed = ['total_cap']\n",
    "features_log_transformed = pd.DataFrame(data = features_raw)\n",
    "features_log_transformed[skewed] = features_raw[skewed].apply(lambda x: np.log(x + 1))"
   ]
  },
  {
   "cell_type": "markdown",
   "id": "463fad26",
   "metadata": {},
   "source": [
    "예를 들어, 'capital-gain'이라는 변수는 소득에 대한 정보를 나타내는데, 값이 작은 샘플들이 많고, 큰 값들은 소수에 해당하는 경우가 있습니다. 이런 경우에는 데이터의 분포가 왜곡되어 있을 수 있습니다.\n",
    "\n",
    "로그 변환은 이런 경우에 주로 사용됩니다. 로그 변환은 각 데이터 포인트의 값을 로그 함수를 적용하여 변환합니다. 이는 큰 값들에 대해 작은 값으로 압축하고, 작은 값들에 대해 더 큰 차이를 만들어줍니다. 이로써 분포를 더 넓게 펼치고, 왜곡을 줄이는 효과를 얻을 수 있습니다.\n",
    "\n",
    "예시를 들어보겠습니다. 원래 'capital-gain' 변수의 값이 [0, 100, 1000, 10000]이라고 가정해봅시다. 이 값들에 로그 변환을 적용하면, [0, 4.61, 6.91, 9.21]으로 변환됩니다. 이렇게 되면, 원래 값이 100과 10000 사이에 큰 차이가 있었지만, 로그 변환 후에는 값들이 더 가까워지고 분포가 더 균일해집니다."
   ]
  },
  {
   "cell_type": "code",
   "execution_count": 12,
   "id": "fb93b46d",
   "metadata": {
    "ExecuteTime": {
     "end_time": "2023-05-31T05:55:45.555769Z",
     "start_time": "2023-05-31T05:55:44.843790Z"
    }
   },
   "outputs": [],
   "source": [
    "# min max 스케일러를 이용하여 특징 벡터 (문제들) 스케일링 (최소 최대 정규화)\n",
    "from sklearn.preprocessing import MinMaxScaler\n",
    "\n",
    "scaler = MinMaxScaler() \n",
    "numerical = ['age', 'education-num', 'hours-per-week']\n",
    "\n",
    "features_log_minmax_transform = pd.DataFrame(data = features_log_transformed)\n",
    "features_log_minmax_transform[numerical] = scaler.fit_transform(features_log_transformed[numerical])"
   ]
  },
  {
   "cell_type": "code",
   "execution_count": 13,
   "id": "d780e47d",
   "metadata": {
    "ExecuteTime": {
     "end_time": "2023-05-31T05:55:51.142352Z",
     "start_time": "2023-05-31T05:55:51.100246Z"
    }
   },
   "outputs": [
    {
     "name": "stdout",
     "output_type": "stream",
     "text": [
      "33 total features after one-hot encoding.\n",
      "['age', 'education-num', 'hours-per-week', 'total_cap', 'workclass_ ?', 'workclass_ Federal-gov', 'workclass_ Local-gov', 'workclass_ Never-worked', 'workclass_ Private', 'workclass_ Self-emp-inc', 'workclass_ Self-emp-not-inc', 'workclass_ State-gov', 'workclass_ Without-pay', 'marital-status_ Divorced', 'marital-status_ Married-AF-spouse', 'marital-status_ Married-civ-spouse', 'marital-status_ Married-spouse-absent', 'marital-status_ Never-married', 'marital-status_ Separated', 'marital-status_ Widowed', 'relationship_ Husband', 'relationship_ Not-in-family', 'relationship_ Other-relative', 'relationship_ Own-child', 'relationship_ Unmarried', 'relationship_ Wife', 'race_ Amer-Indian-Eskimo', 'race_ Asian-Pac-Islander', 'race_ Black', 'race_ Other', 'race_ White', 'sex_ Female', 'sex_ Male']\n"
     ]
    },
    {
     "name": "stderr",
     "output_type": "stream",
     "text": [
      "C:\\Users\\smhrd\\AppData\\Local\\Temp\\ipykernel_13256\\4168584927.py:3: FutureWarning: elementwise comparison failed; returning scalar instead, but in the future will perform elementwise comparison\n",
      "  income = np.where(income_raw.values == '>50K', 1, 0)\n"
     ]
    }
   ],
   "source": [
    "features_final = pd.get_dummies(features_log_minmax_transform)\n",
    "\n",
    "income = np.where(income_raw.values == '>50K', 1, 0)\n",
    "\n",
    "encoded = list(features_final.columns)\n",
    "print(\"{} total features after one-hot encoding.\".format(len(encoded)))\n",
    "\n",
    "print(encoded)"
   ]
  },
  {
   "cell_type": "code",
   "execution_count": 14,
   "id": "354bfbb1",
   "metadata": {
    "ExecuteTime": {
     "end_time": "2023-05-31T05:55:53.305449Z",
     "start_time": "2023-05-31T05:55:53.300461Z"
    }
   },
   "outputs": [
    {
     "name": "stdout",
     "output_type": "stream",
     "text": [
      "0\n"
     ]
    }
   ],
   "source": [
    "print(income)"
   ]
  },
  {
   "cell_type": "code",
   "execution_count": 15,
   "id": "50a6a82c",
   "metadata": {
    "ExecuteTime": {
     "end_time": "2023-05-31T05:55:59.650591Z",
     "start_time": "2023-05-31T05:55:59.613696Z"
    }
   },
   "outputs": [
    {
     "data": {
      "text/html": [
       "<div>\n",
       "<style scoped>\n",
       "    .dataframe tbody tr th:only-of-type {\n",
       "        vertical-align: middle;\n",
       "    }\n",
       "\n",
       "    .dataframe tbody tr th {\n",
       "        vertical-align: top;\n",
       "    }\n",
       "\n",
       "    .dataframe thead th {\n",
       "        text-align: right;\n",
       "    }\n",
       "</style>\n",
       "<table border=\"1\" class=\"dataframe\">\n",
       "  <thead>\n",
       "    <tr style=\"text-align: right;\">\n",
       "      <th></th>\n",
       "      <th>age</th>\n",
       "      <th>education-num</th>\n",
       "      <th>hours-per-week</th>\n",
       "      <th>total_cap</th>\n",
       "      <th>workclass_ ?</th>\n",
       "      <th>workclass_ Federal-gov</th>\n",
       "      <th>workclass_ Local-gov</th>\n",
       "      <th>workclass_ Never-worked</th>\n",
       "      <th>workclass_ Private</th>\n",
       "      <th>workclass_ Self-emp-inc</th>\n",
       "      <th>...</th>\n",
       "      <th>relationship_ Own-child</th>\n",
       "      <th>relationship_ Unmarried</th>\n",
       "      <th>relationship_ Wife</th>\n",
       "      <th>race_ Amer-Indian-Eskimo</th>\n",
       "      <th>race_ Asian-Pac-Islander</th>\n",
       "      <th>race_ Black</th>\n",
       "      <th>race_ Other</th>\n",
       "      <th>race_ White</th>\n",
       "      <th>sex_ Female</th>\n",
       "      <th>sex_ Male</th>\n",
       "    </tr>\n",
       "  </thead>\n",
       "  <tbody>\n",
       "    <tr>\n",
       "      <th>0</th>\n",
       "      <td>0.109589</td>\n",
       "      <td>0.400000</td>\n",
       "      <td>0.397959</td>\n",
       "      <td>0.0</td>\n",
       "      <td>0</td>\n",
       "      <td>0</td>\n",
       "      <td>0</td>\n",
       "      <td>0</td>\n",
       "      <td>1</td>\n",
       "      <td>0</td>\n",
       "      <td>...</td>\n",
       "      <td>0</td>\n",
       "      <td>0</td>\n",
       "      <td>0</td>\n",
       "      <td>0</td>\n",
       "      <td>0</td>\n",
       "      <td>0</td>\n",
       "      <td>0</td>\n",
       "      <td>1</td>\n",
       "      <td>0</td>\n",
       "      <td>1</td>\n",
       "    </tr>\n",
       "    <tr>\n",
       "      <th>1</th>\n",
       "      <td>0.301370</td>\n",
       "      <td>0.600000</td>\n",
       "      <td>0.551020</td>\n",
       "      <td>NaN</td>\n",
       "      <td>0</td>\n",
       "      <td>0</td>\n",
       "      <td>0</td>\n",
       "      <td>0</td>\n",
       "      <td>1</td>\n",
       "      <td>0</td>\n",
       "      <td>...</td>\n",
       "      <td>0</td>\n",
       "      <td>0</td>\n",
       "      <td>0</td>\n",
       "      <td>0</td>\n",
       "      <td>0</td>\n",
       "      <td>0</td>\n",
       "      <td>0</td>\n",
       "      <td>1</td>\n",
       "      <td>1</td>\n",
       "      <td>0</td>\n",
       "    </tr>\n",
       "    <tr>\n",
       "      <th>2</th>\n",
       "      <td>0.246575</td>\n",
       "      <td>0.800000</td>\n",
       "      <td>0.500000</td>\n",
       "      <td>0.0</td>\n",
       "      <td>0</td>\n",
       "      <td>0</td>\n",
       "      <td>0</td>\n",
       "      <td>0</td>\n",
       "      <td>1</td>\n",
       "      <td>0</td>\n",
       "      <td>...</td>\n",
       "      <td>0</td>\n",
       "      <td>0</td>\n",
       "      <td>0</td>\n",
       "      <td>0</td>\n",
       "      <td>1</td>\n",
       "      <td>0</td>\n",
       "      <td>0</td>\n",
       "      <td>0</td>\n",
       "      <td>1</td>\n",
       "      <td>0</td>\n",
       "    </tr>\n",
       "    <tr>\n",
       "      <th>3</th>\n",
       "      <td>0.643836</td>\n",
       "      <td>0.666667</td>\n",
       "      <td>0.397959</td>\n",
       "      <td>0.0</td>\n",
       "      <td>0</td>\n",
       "      <td>0</td>\n",
       "      <td>0</td>\n",
       "      <td>0</td>\n",
       "      <td>1</td>\n",
       "      <td>0</td>\n",
       "      <td>...</td>\n",
       "      <td>0</td>\n",
       "      <td>0</td>\n",
       "      <td>0</td>\n",
       "      <td>0</td>\n",
       "      <td>0</td>\n",
       "      <td>0</td>\n",
       "      <td>0</td>\n",
       "      <td>1</td>\n",
       "      <td>1</td>\n",
       "      <td>0</td>\n",
       "    </tr>\n",
       "    <tr>\n",
       "      <th>4</th>\n",
       "      <td>0.095890</td>\n",
       "      <td>0.600000</td>\n",
       "      <td>0.704082</td>\n",
       "      <td>0.0</td>\n",
       "      <td>0</td>\n",
       "      <td>0</td>\n",
       "      <td>0</td>\n",
       "      <td>0</td>\n",
       "      <td>1</td>\n",
       "      <td>0</td>\n",
       "      <td>...</td>\n",
       "      <td>0</td>\n",
       "      <td>0</td>\n",
       "      <td>0</td>\n",
       "      <td>0</td>\n",
       "      <td>0</td>\n",
       "      <td>0</td>\n",
       "      <td>0</td>\n",
       "      <td>1</td>\n",
       "      <td>0</td>\n",
       "      <td>1</td>\n",
       "    </tr>\n",
       "    <tr>\n",
       "      <th>...</th>\n",
       "      <td>...</td>\n",
       "      <td>...</td>\n",
       "      <td>...</td>\n",
       "      <td>...</td>\n",
       "      <td>...</td>\n",
       "      <td>...</td>\n",
       "      <td>...</td>\n",
       "      <td>...</td>\n",
       "      <td>...</td>\n",
       "      <td>...</td>\n",
       "      <td>...</td>\n",
       "      <td>...</td>\n",
       "      <td>...</td>\n",
       "      <td>...</td>\n",
       "      <td>...</td>\n",
       "      <td>...</td>\n",
       "      <td>...</td>\n",
       "      <td>...</td>\n",
       "      <td>...</td>\n",
       "      <td>...</td>\n",
       "      <td>...</td>\n",
       "    </tr>\n",
       "    <tr>\n",
       "      <th>29300</th>\n",
       "      <td>0.041096</td>\n",
       "      <td>0.533333</td>\n",
       "      <td>0.397959</td>\n",
       "      <td>0.0</td>\n",
       "      <td>0</td>\n",
       "      <td>0</td>\n",
       "      <td>0</td>\n",
       "      <td>0</td>\n",
       "      <td>1</td>\n",
       "      <td>0</td>\n",
       "      <td>...</td>\n",
       "      <td>1</td>\n",
       "      <td>0</td>\n",
       "      <td>0</td>\n",
       "      <td>0</td>\n",
       "      <td>0</td>\n",
       "      <td>0</td>\n",
       "      <td>1</td>\n",
       "      <td>0</td>\n",
       "      <td>0</td>\n",
       "      <td>1</td>\n",
       "    </tr>\n",
       "    <tr>\n",
       "      <th>29301</th>\n",
       "      <td>0.054795</td>\n",
       "      <td>0.533333</td>\n",
       "      <td>0.397959</td>\n",
       "      <td>0.0</td>\n",
       "      <td>0</td>\n",
       "      <td>0</td>\n",
       "      <td>0</td>\n",
       "      <td>0</td>\n",
       "      <td>1</td>\n",
       "      <td>0</td>\n",
       "      <td>...</td>\n",
       "      <td>1</td>\n",
       "      <td>0</td>\n",
       "      <td>0</td>\n",
       "      <td>0</td>\n",
       "      <td>0</td>\n",
       "      <td>1</td>\n",
       "      <td>0</td>\n",
       "      <td>0</td>\n",
       "      <td>0</td>\n",
       "      <td>1</td>\n",
       "    </tr>\n",
       "    <tr>\n",
       "      <th>29302</th>\n",
       "      <td>0.013699</td>\n",
       "      <td>0.333333</td>\n",
       "      <td>0.397959</td>\n",
       "      <td>0.0</td>\n",
       "      <td>0</td>\n",
       "      <td>0</td>\n",
       "      <td>0</td>\n",
       "      <td>0</td>\n",
       "      <td>0</td>\n",
       "      <td>0</td>\n",
       "      <td>...</td>\n",
       "      <td>1</td>\n",
       "      <td>0</td>\n",
       "      <td>0</td>\n",
       "      <td>0</td>\n",
       "      <td>0</td>\n",
       "      <td>0</td>\n",
       "      <td>0</td>\n",
       "      <td>1</td>\n",
       "      <td>0</td>\n",
       "      <td>1</td>\n",
       "    </tr>\n",
       "    <tr>\n",
       "      <th>29303</th>\n",
       "      <td>0.219178</td>\n",
       "      <td>0.400000</td>\n",
       "      <td>0.653061</td>\n",
       "      <td>0.0</td>\n",
       "      <td>0</td>\n",
       "      <td>0</td>\n",
       "      <td>0</td>\n",
       "      <td>0</td>\n",
       "      <td>1</td>\n",
       "      <td>0</td>\n",
       "      <td>...</td>\n",
       "      <td>0</td>\n",
       "      <td>0</td>\n",
       "      <td>0</td>\n",
       "      <td>0</td>\n",
       "      <td>0</td>\n",
       "      <td>0</td>\n",
       "      <td>0</td>\n",
       "      <td>1</td>\n",
       "      <td>0</td>\n",
       "      <td>1</td>\n",
       "    </tr>\n",
       "    <tr>\n",
       "      <th>29304</th>\n",
       "      <td>0.657534</td>\n",
       "      <td>0.533333</td>\n",
       "      <td>0.397959</td>\n",
       "      <td>0.0</td>\n",
       "      <td>1</td>\n",
       "      <td>0</td>\n",
       "      <td>0</td>\n",
       "      <td>0</td>\n",
       "      <td>0</td>\n",
       "      <td>0</td>\n",
       "      <td>...</td>\n",
       "      <td>0</td>\n",
       "      <td>0</td>\n",
       "      <td>0</td>\n",
       "      <td>0</td>\n",
       "      <td>0</td>\n",
       "      <td>0</td>\n",
       "      <td>0</td>\n",
       "      <td>1</td>\n",
       "      <td>1</td>\n",
       "      <td>0</td>\n",
       "    </tr>\n",
       "  </tbody>\n",
       "</table>\n",
       "<p>29305 rows × 33 columns</p>\n",
       "</div>"
      ],
      "text/plain": [
       "            age  education-num  hours-per-week  total_cap  workclass_ ?  \\\n",
       "0      0.109589       0.400000        0.397959        0.0             0   \n",
       "1      0.301370       0.600000        0.551020        NaN             0   \n",
       "2      0.246575       0.800000        0.500000        0.0             0   \n",
       "3      0.643836       0.666667        0.397959        0.0             0   \n",
       "4      0.095890       0.600000        0.704082        0.0             0   \n",
       "...         ...            ...             ...        ...           ...   \n",
       "29300  0.041096       0.533333        0.397959        0.0             0   \n",
       "29301  0.054795       0.533333        0.397959        0.0             0   \n",
       "29302  0.013699       0.333333        0.397959        0.0             0   \n",
       "29303  0.219178       0.400000        0.653061        0.0             0   \n",
       "29304  0.657534       0.533333        0.397959        0.0             1   \n",
       "\n",
       "       workclass_ Federal-gov  workclass_ Local-gov  workclass_ Never-worked  \\\n",
       "0                           0                     0                        0   \n",
       "1                           0                     0                        0   \n",
       "2                           0                     0                        0   \n",
       "3                           0                     0                        0   \n",
       "4                           0                     0                        0   \n",
       "...                       ...                   ...                      ...   \n",
       "29300                       0                     0                        0   \n",
       "29301                       0                     0                        0   \n",
       "29302                       0                     0                        0   \n",
       "29303                       0                     0                        0   \n",
       "29304                       0                     0                        0   \n",
       "\n",
       "       workclass_ Private  workclass_ Self-emp-inc  ...  \\\n",
       "0                       1                        0  ...   \n",
       "1                       1                        0  ...   \n",
       "2                       1                        0  ...   \n",
       "3                       1                        0  ...   \n",
       "4                       1                        0  ...   \n",
       "...                   ...                      ...  ...   \n",
       "29300                   1                        0  ...   \n",
       "29301                   1                        0  ...   \n",
       "29302                   0                        0  ...   \n",
       "29303                   1                        0  ...   \n",
       "29304                   0                        0  ...   \n",
       "\n",
       "       relationship_ Own-child  relationship_ Unmarried  relationship_ Wife  \\\n",
       "0                            0                        0                   0   \n",
       "1                            0                        0                   0   \n",
       "2                            0                        0                   0   \n",
       "3                            0                        0                   0   \n",
       "4                            0                        0                   0   \n",
       "...                        ...                      ...                 ...   \n",
       "29300                        1                        0                   0   \n",
       "29301                        1                        0                   0   \n",
       "29302                        1                        0                   0   \n",
       "29303                        0                        0                   0   \n",
       "29304                        0                        0                   0   \n",
       "\n",
       "       race_ Amer-Indian-Eskimo  race_ Asian-Pac-Islander  race_ Black  \\\n",
       "0                             0                         0            0   \n",
       "1                             0                         0            0   \n",
       "2                             0                         1            0   \n",
       "3                             0                         0            0   \n",
       "4                             0                         0            0   \n",
       "...                         ...                       ...          ...   \n",
       "29300                         0                         0            0   \n",
       "29301                         0                         0            1   \n",
       "29302                         0                         0            0   \n",
       "29303                         0                         0            0   \n",
       "29304                         0                         0            0   \n",
       "\n",
       "       race_ Other  race_ White  sex_ Female  sex_ Male  \n",
       "0                0            1            0          1  \n",
       "1                0            1            1          0  \n",
       "2                0            0            1          0  \n",
       "3                0            1            1          0  \n",
       "4                0            1            0          1  \n",
       "...            ...          ...          ...        ...  \n",
       "29300            1            0            0          1  \n",
       "29301            0            0            0          1  \n",
       "29302            0            1            0          1  \n",
       "29303            0            1            0          1  \n",
       "29304            0            1            1          0  \n",
       "\n",
       "[29305 rows x 33 columns]"
      ]
     },
     "execution_count": 15,
     "metadata": {},
     "output_type": "execute_result"
    }
   ],
   "source": [
    "# 훈련 데이터의 피쳐 (train, test를 합친 상태이기 때문에 train 데이터와 test 데이터를 다시 분리함)\n",
    "X_train = features_final.iloc[:29305,:]\n",
    "X_train"
   ]
  },
  {
   "cell_type": "code",
   "execution_count": 16,
   "id": "124a9eee",
   "metadata": {
    "ExecuteTime": {
     "end_time": "2023-05-31T05:56:01.796581Z",
     "start_time": "2023-05-31T05:56:01.765577Z"
    }
   },
   "outputs": [
    {
     "data": {
      "text/html": [
       "<div>\n",
       "<style scoped>\n",
       "    .dataframe tbody tr th:only-of-type {\n",
       "        vertical-align: middle;\n",
       "    }\n",
       "\n",
       "    .dataframe tbody tr th {\n",
       "        vertical-align: top;\n",
       "    }\n",
       "\n",
       "    .dataframe thead th {\n",
       "        text-align: right;\n",
       "    }\n",
       "</style>\n",
       "<table border=\"1\" class=\"dataframe\">\n",
       "  <thead>\n",
       "    <tr style=\"text-align: right;\">\n",
       "      <th></th>\n",
       "      <th>age</th>\n",
       "      <th>education-num</th>\n",
       "      <th>hours-per-week</th>\n",
       "      <th>total_cap</th>\n",
       "      <th>workclass_ ?</th>\n",
       "      <th>workclass_ Federal-gov</th>\n",
       "      <th>workclass_ Local-gov</th>\n",
       "      <th>workclass_ Never-worked</th>\n",
       "      <th>workclass_ Private</th>\n",
       "      <th>workclass_ Self-emp-inc</th>\n",
       "      <th>...</th>\n",
       "      <th>relationship_ Own-child</th>\n",
       "      <th>relationship_ Unmarried</th>\n",
       "      <th>relationship_ Wife</th>\n",
       "      <th>race_ Amer-Indian-Eskimo</th>\n",
       "      <th>race_ Asian-Pac-Islander</th>\n",
       "      <th>race_ Black</th>\n",
       "      <th>race_ Other</th>\n",
       "      <th>race_ White</th>\n",
       "      <th>sex_ Female</th>\n",
       "      <th>sex_ Male</th>\n",
       "    </tr>\n",
       "  </thead>\n",
       "  <tbody>\n",
       "    <tr>\n",
       "      <th>0</th>\n",
       "      <td>0.013699</td>\n",
       "      <td>0.600000</td>\n",
       "      <td>0.153061</td>\n",
       "      <td>0.000000</td>\n",
       "      <td>1</td>\n",
       "      <td>0</td>\n",
       "      <td>0</td>\n",
       "      <td>0</td>\n",
       "      <td>0</td>\n",
       "      <td>0</td>\n",
       "      <td>...</td>\n",
       "      <td>1</td>\n",
       "      <td>0</td>\n",
       "      <td>0</td>\n",
       "      <td>0</td>\n",
       "      <td>0</td>\n",
       "      <td>0</td>\n",
       "      <td>0</td>\n",
       "      <td>1</td>\n",
       "      <td>0</td>\n",
       "      <td>1</td>\n",
       "    </tr>\n",
       "    <tr>\n",
       "      <th>1</th>\n",
       "      <td>0.164384</td>\n",
       "      <td>0.533333</td>\n",
       "      <td>0.397959</td>\n",
       "      <td>0.000000</td>\n",
       "      <td>0</td>\n",
       "      <td>0</td>\n",
       "      <td>0</td>\n",
       "      <td>0</td>\n",
       "      <td>1</td>\n",
       "      <td>0</td>\n",
       "      <td>...</td>\n",
       "      <td>0</td>\n",
       "      <td>0</td>\n",
       "      <td>1</td>\n",
       "      <td>0</td>\n",
       "      <td>0</td>\n",
       "      <td>0</td>\n",
       "      <td>0</td>\n",
       "      <td>1</td>\n",
       "      <td>1</td>\n",
       "      <td>0</td>\n",
       "    </tr>\n",
       "    <tr>\n",
       "      <th>2</th>\n",
       "      <td>0.383562</td>\n",
       "      <td>0.800000</td>\n",
       "      <td>0.397959</td>\n",
       "      <td>0.000000</td>\n",
       "      <td>0</td>\n",
       "      <td>0</td>\n",
       "      <td>0</td>\n",
       "      <td>0</td>\n",
       "      <td>1</td>\n",
       "      <td>0</td>\n",
       "      <td>...</td>\n",
       "      <td>0</td>\n",
       "      <td>0</td>\n",
       "      <td>0</td>\n",
       "      <td>0</td>\n",
       "      <td>0</td>\n",
       "      <td>1</td>\n",
       "      <td>0</td>\n",
       "      <td>0</td>\n",
       "      <td>0</td>\n",
       "      <td>1</td>\n",
       "    </tr>\n",
       "    <tr>\n",
       "      <th>3</th>\n",
       "      <td>0.342466</td>\n",
       "      <td>0.800000</td>\n",
       "      <td>0.397959</td>\n",
       "      <td>0.000000</td>\n",
       "      <td>0</td>\n",
       "      <td>0</td>\n",
       "      <td>0</td>\n",
       "      <td>0</td>\n",
       "      <td>0</td>\n",
       "      <td>0</td>\n",
       "      <td>...</td>\n",
       "      <td>0</td>\n",
       "      <td>0</td>\n",
       "      <td>0</td>\n",
       "      <td>0</td>\n",
       "      <td>0</td>\n",
       "      <td>0</td>\n",
       "      <td>0</td>\n",
       "      <td>1</td>\n",
       "      <td>0</td>\n",
       "      <td>1</td>\n",
       "    </tr>\n",
       "    <tr>\n",
       "      <th>4</th>\n",
       "      <td>0.328767</td>\n",
       "      <td>1.000000</td>\n",
       "      <td>0.397959</td>\n",
       "      <td>NaN</td>\n",
       "      <td>0</td>\n",
       "      <td>0</td>\n",
       "      <td>0</td>\n",
       "      <td>0</td>\n",
       "      <td>1</td>\n",
       "      <td>0</td>\n",
       "      <td>...</td>\n",
       "      <td>0</td>\n",
       "      <td>0</td>\n",
       "      <td>1</td>\n",
       "      <td>0</td>\n",
       "      <td>0</td>\n",
       "      <td>0</td>\n",
       "      <td>0</td>\n",
       "      <td>1</td>\n",
       "      <td>1</td>\n",
       "      <td>0</td>\n",
       "    </tr>\n",
       "    <tr>\n",
       "      <th>...</th>\n",
       "      <td>...</td>\n",
       "      <td>...</td>\n",
       "      <td>...</td>\n",
       "      <td>...</td>\n",
       "      <td>...</td>\n",
       "      <td>...</td>\n",
       "      <td>...</td>\n",
       "      <td>...</td>\n",
       "      <td>...</td>\n",
       "      <td>...</td>\n",
       "      <td>...</td>\n",
       "      <td>...</td>\n",
       "      <td>...</td>\n",
       "      <td>...</td>\n",
       "      <td>...</td>\n",
       "      <td>...</td>\n",
       "      <td>...</td>\n",
       "      <td>...</td>\n",
       "      <td>...</td>\n",
       "      <td>...</td>\n",
       "      <td>...</td>\n",
       "    </tr>\n",
       "    <tr>\n",
       "      <th>19532</th>\n",
       "      <td>0.383562</td>\n",
       "      <td>0.533333</td>\n",
       "      <td>0.602041</td>\n",
       "      <td>0.000000</td>\n",
       "      <td>0</td>\n",
       "      <td>0</td>\n",
       "      <td>0</td>\n",
       "      <td>0</td>\n",
       "      <td>0</td>\n",
       "      <td>0</td>\n",
       "      <td>...</td>\n",
       "      <td>0</td>\n",
       "      <td>0</td>\n",
       "      <td>0</td>\n",
       "      <td>0</td>\n",
       "      <td>0</td>\n",
       "      <td>0</td>\n",
       "      <td>0</td>\n",
       "      <td>1</td>\n",
       "      <td>0</td>\n",
       "      <td>1</td>\n",
       "    </tr>\n",
       "    <tr>\n",
       "      <th>19533</th>\n",
       "      <td>0.424658</td>\n",
       "      <td>0.533333</td>\n",
       "      <td>0.500000</td>\n",
       "      <td>0.000000</td>\n",
       "      <td>0</td>\n",
       "      <td>0</td>\n",
       "      <td>0</td>\n",
       "      <td>0</td>\n",
       "      <td>1</td>\n",
       "      <td>0</td>\n",
       "      <td>...</td>\n",
       "      <td>0</td>\n",
       "      <td>0</td>\n",
       "      <td>0</td>\n",
       "      <td>0</td>\n",
       "      <td>0</td>\n",
       "      <td>0</td>\n",
       "      <td>0</td>\n",
       "      <td>1</td>\n",
       "      <td>1</td>\n",
       "      <td>0</td>\n",
       "    </tr>\n",
       "    <tr>\n",
       "      <th>19534</th>\n",
       "      <td>0.630137</td>\n",
       "      <td>0.600000</td>\n",
       "      <td>0.397959</td>\n",
       "      <td>8.386401</td>\n",
       "      <td>0</td>\n",
       "      <td>0</td>\n",
       "      <td>0</td>\n",
       "      <td>0</td>\n",
       "      <td>1</td>\n",
       "      <td>0</td>\n",
       "      <td>...</td>\n",
       "      <td>0</td>\n",
       "      <td>0</td>\n",
       "      <td>0</td>\n",
       "      <td>0</td>\n",
       "      <td>0</td>\n",
       "      <td>0</td>\n",
       "      <td>0</td>\n",
       "      <td>1</td>\n",
       "      <td>0</td>\n",
       "      <td>1</td>\n",
       "    </tr>\n",
       "    <tr>\n",
       "      <th>19535</th>\n",
       "      <td>0.013699</td>\n",
       "      <td>0.400000</td>\n",
       "      <td>0.193878</td>\n",
       "      <td>0.000000</td>\n",
       "      <td>0</td>\n",
       "      <td>0</td>\n",
       "      <td>0</td>\n",
       "      <td>0</td>\n",
       "      <td>1</td>\n",
       "      <td>0</td>\n",
       "      <td>...</td>\n",
       "      <td>1</td>\n",
       "      <td>0</td>\n",
       "      <td>0</td>\n",
       "      <td>0</td>\n",
       "      <td>0</td>\n",
       "      <td>0</td>\n",
       "      <td>0</td>\n",
       "      <td>1</td>\n",
       "      <td>1</td>\n",
       "      <td>0</td>\n",
       "    </tr>\n",
       "    <tr>\n",
       "      <th>19536</th>\n",
       "      <td>0.191781</td>\n",
       "      <td>0.733333</td>\n",
       "      <td>0.459184</td>\n",
       "      <td>0.000000</td>\n",
       "      <td>0</td>\n",
       "      <td>0</td>\n",
       "      <td>0</td>\n",
       "      <td>0</td>\n",
       "      <td>1</td>\n",
       "      <td>0</td>\n",
       "      <td>...</td>\n",
       "      <td>0</td>\n",
       "      <td>0</td>\n",
       "      <td>0</td>\n",
       "      <td>0</td>\n",
       "      <td>0</td>\n",
       "      <td>1</td>\n",
       "      <td>0</td>\n",
       "      <td>0</td>\n",
       "      <td>0</td>\n",
       "      <td>1</td>\n",
       "    </tr>\n",
       "  </tbody>\n",
       "</table>\n",
       "<p>19537 rows × 33 columns</p>\n",
       "</div>"
      ],
      "text/plain": [
       "            age  education-num  hours-per-week  total_cap  workclass_ ?  \\\n",
       "0      0.013699       0.600000        0.153061   0.000000             1   \n",
       "1      0.164384       0.533333        0.397959   0.000000             0   \n",
       "2      0.383562       0.800000        0.397959   0.000000             0   \n",
       "3      0.342466       0.800000        0.397959   0.000000             0   \n",
       "4      0.328767       1.000000        0.397959        NaN             0   \n",
       "...         ...            ...             ...        ...           ...   \n",
       "19532  0.383562       0.533333        0.602041   0.000000             0   \n",
       "19533  0.424658       0.533333        0.500000   0.000000             0   \n",
       "19534  0.630137       0.600000        0.397959   8.386401             0   \n",
       "19535  0.013699       0.400000        0.193878   0.000000             0   \n",
       "19536  0.191781       0.733333        0.459184   0.000000             0   \n",
       "\n",
       "       workclass_ Federal-gov  workclass_ Local-gov  workclass_ Never-worked  \\\n",
       "0                           0                     0                        0   \n",
       "1                           0                     0                        0   \n",
       "2                           0                     0                        0   \n",
       "3                           0                     0                        0   \n",
       "4                           0                     0                        0   \n",
       "...                       ...                   ...                      ...   \n",
       "19532                       0                     0                        0   \n",
       "19533                       0                     0                        0   \n",
       "19534                       0                     0                        0   \n",
       "19535                       0                     0                        0   \n",
       "19536                       0                     0                        0   \n",
       "\n",
       "       workclass_ Private  workclass_ Self-emp-inc  ...  \\\n",
       "0                       0                        0  ...   \n",
       "1                       1                        0  ...   \n",
       "2                       1                        0  ...   \n",
       "3                       0                        0  ...   \n",
       "4                       1                        0  ...   \n",
       "...                   ...                      ...  ...   \n",
       "19532                   0                        0  ...   \n",
       "19533                   1                        0  ...   \n",
       "19534                   1                        0  ...   \n",
       "19535                   1                        0  ...   \n",
       "19536                   1                        0  ...   \n",
       "\n",
       "       relationship_ Own-child  relationship_ Unmarried  relationship_ Wife  \\\n",
       "0                            1                        0                   0   \n",
       "1                            0                        0                   1   \n",
       "2                            0                        0                   0   \n",
       "3                            0                        0                   0   \n",
       "4                            0                        0                   1   \n",
       "...                        ...                      ...                 ...   \n",
       "19532                        0                        0                   0   \n",
       "19533                        0                        0                   0   \n",
       "19534                        0                        0                   0   \n",
       "19535                        1                        0                   0   \n",
       "19536                        0                        0                   0   \n",
       "\n",
       "       race_ Amer-Indian-Eskimo  race_ Asian-Pac-Islander  race_ Black  \\\n",
       "0                             0                         0            0   \n",
       "1                             0                         0            0   \n",
       "2                             0                         0            1   \n",
       "3                             0                         0            0   \n",
       "4                             0                         0            0   \n",
       "...                         ...                       ...          ...   \n",
       "19532                         0                         0            0   \n",
       "19533                         0                         0            0   \n",
       "19534                         0                         0            0   \n",
       "19535                         0                         0            0   \n",
       "19536                         0                         0            1   \n",
       "\n",
       "       race_ Other  race_ White  sex_ Female  sex_ Male  \n",
       "0                0            1            0          1  \n",
       "1                0            1            1          0  \n",
       "2                0            0            0          1  \n",
       "3                0            1            0          1  \n",
       "4                0            1            1          0  \n",
       "...            ...          ...          ...        ...  \n",
       "19532            0            1            0          1  \n",
       "19533            0            1            1          0  \n",
       "19534            0            1            0          1  \n",
       "19535            0            1            1          0  \n",
       "19536            0            0            0          1  \n",
       "\n",
       "[19537 rows x 33 columns]"
      ]
     },
     "execution_count": 16,
     "metadata": {},
     "output_type": "execute_result"
    }
   ],
   "source": [
    "### 테스트 데이터의 피쳐\n",
    "X_test = features_final.iloc[29305:,:]\n",
    "X_test"
   ]
  },
  {
   "cell_type": "code",
   "execution_count": 17,
   "id": "a8c4c24a",
   "metadata": {
    "ExecuteTime": {
     "end_time": "2023-05-31T05:56:04.276548Z",
     "start_time": "2023-05-31T05:56:04.260625Z"
    }
   },
   "outputs": [
    {
     "data": {
      "text/plain": [
       "0        0\n",
       "1        0\n",
       "2        0\n",
       "3        0\n",
       "4        1\n",
       "        ..\n",
       "29300    0\n",
       "29301    0\n",
       "29302    0\n",
       "29303    0\n",
       "29304    0\n",
       "Name: income, Length: 29305, dtype: int64"
      ]
     },
     "execution_count": 17,
     "metadata": {},
     "output_type": "execute_result"
    }
   ],
   "source": [
    "# 훈련 데이터 정답\n",
    "y_train = data_train['income']\n",
    "y_train"
   ]
  },
  {
   "cell_type": "code",
   "execution_count": 18,
   "id": "0b51a465",
   "metadata": {
    "ExecuteTime": {
     "end_time": "2023-05-31T05:58:12.396047Z",
     "start_time": "2023-05-31T05:58:10.950342Z"
    }
   },
   "outputs": [],
   "source": [
    "# lgb 모델 사용하여 예측\n",
    "from lightgbm import LGBMClassifier\n",
    "\n",
    "lgb = LGBMClassifier(random_state=200, n_jobs=-1, reg_alpha=0.9, reg_lambda=0.2, n_estimators=200)\n",
    "\n",
    "# lgb 모델 훈련\n",
    "lgb.fit(X_train, y_train)\n",
    "\n",
    "# 훈련한 lgb 모델로 예측한 결과\n",
    "y_pred = lgb.predict(X_test)\n",
    "\n",
    "rs =  pd.read_csv('./data/kaggle/sample_submission.csv')\n",
    "rs['income'] = y_pred\n",
    "rs.to_csv('50K_01.csv', index=False)\n"
   ]
  },
  {
   "cell_type": "code",
   "execution_count": 19,
   "id": "288c24fa",
   "metadata": {
    "ExecuteTime": {
     "end_time": "2023-05-31T05:58:14.019120Z",
     "start_time": "2023-05-31T05:58:13.981132Z"
    }
   },
   "outputs": [
    {
     "data": {
      "text/html": [
       "<div>\n",
       "<style scoped>\n",
       "    .dataframe tbody tr th:only-of-type {\n",
       "        vertical-align: middle;\n",
       "    }\n",
       "\n",
       "    .dataframe tbody tr th {\n",
       "        vertical-align: top;\n",
       "    }\n",
       "\n",
       "    .dataframe thead th {\n",
       "        text-align: right;\n",
       "    }\n",
       "</style>\n",
       "<table border=\"1\" class=\"dataframe\">\n",
       "  <thead>\n",
       "    <tr style=\"text-align: right;\">\n",
       "      <th></th>\n",
       "      <th>age</th>\n",
       "      <th>education-num</th>\n",
       "      <th>hours-per-week</th>\n",
       "      <th>total_cap</th>\n",
       "      <th>workclass_ ?</th>\n",
       "      <th>workclass_ Federal-gov</th>\n",
       "      <th>workclass_ Local-gov</th>\n",
       "      <th>workclass_ Never-worked</th>\n",
       "      <th>workclass_ Private</th>\n",
       "      <th>workclass_ Self-emp-inc</th>\n",
       "      <th>...</th>\n",
       "      <th>relationship_ Own-child</th>\n",
       "      <th>relationship_ Unmarried</th>\n",
       "      <th>relationship_ Wife</th>\n",
       "      <th>race_ Amer-Indian-Eskimo</th>\n",
       "      <th>race_ Asian-Pac-Islander</th>\n",
       "      <th>race_ Black</th>\n",
       "      <th>race_ Other</th>\n",
       "      <th>race_ White</th>\n",
       "      <th>sex_ Female</th>\n",
       "      <th>sex_ Male</th>\n",
       "    </tr>\n",
       "  </thead>\n",
       "  <tbody>\n",
       "    <tr>\n",
       "      <th>0</th>\n",
       "      <td>0.109589</td>\n",
       "      <td>0.400000</td>\n",
       "      <td>0.397959</td>\n",
       "      <td>0.000000</td>\n",
       "      <td>0</td>\n",
       "      <td>0</td>\n",
       "      <td>0</td>\n",
       "      <td>0</td>\n",
       "      <td>1</td>\n",
       "      <td>0</td>\n",
       "      <td>...</td>\n",
       "      <td>0</td>\n",
       "      <td>0</td>\n",
       "      <td>0</td>\n",
       "      <td>0</td>\n",
       "      <td>0</td>\n",
       "      <td>0</td>\n",
       "      <td>0</td>\n",
       "      <td>1</td>\n",
       "      <td>0</td>\n",
       "      <td>1</td>\n",
       "    </tr>\n",
       "    <tr>\n",
       "      <th>1</th>\n",
       "      <td>0.301370</td>\n",
       "      <td>0.600000</td>\n",
       "      <td>0.551020</td>\n",
       "      <td>NaN</td>\n",
       "      <td>0</td>\n",
       "      <td>0</td>\n",
       "      <td>0</td>\n",
       "      <td>0</td>\n",
       "      <td>1</td>\n",
       "      <td>0</td>\n",
       "      <td>...</td>\n",
       "      <td>0</td>\n",
       "      <td>0</td>\n",
       "      <td>0</td>\n",
       "      <td>0</td>\n",
       "      <td>0</td>\n",
       "      <td>0</td>\n",
       "      <td>0</td>\n",
       "      <td>1</td>\n",
       "      <td>1</td>\n",
       "      <td>0</td>\n",
       "    </tr>\n",
       "    <tr>\n",
       "      <th>2</th>\n",
       "      <td>0.246575</td>\n",
       "      <td>0.800000</td>\n",
       "      <td>0.500000</td>\n",
       "      <td>0.000000</td>\n",
       "      <td>0</td>\n",
       "      <td>0</td>\n",
       "      <td>0</td>\n",
       "      <td>0</td>\n",
       "      <td>1</td>\n",
       "      <td>0</td>\n",
       "      <td>...</td>\n",
       "      <td>0</td>\n",
       "      <td>0</td>\n",
       "      <td>0</td>\n",
       "      <td>0</td>\n",
       "      <td>1</td>\n",
       "      <td>0</td>\n",
       "      <td>0</td>\n",
       "      <td>0</td>\n",
       "      <td>1</td>\n",
       "      <td>0</td>\n",
       "    </tr>\n",
       "    <tr>\n",
       "      <th>3</th>\n",
       "      <td>0.643836</td>\n",
       "      <td>0.666667</td>\n",
       "      <td>0.397959</td>\n",
       "      <td>0.000000</td>\n",
       "      <td>0</td>\n",
       "      <td>0</td>\n",
       "      <td>0</td>\n",
       "      <td>0</td>\n",
       "      <td>1</td>\n",
       "      <td>0</td>\n",
       "      <td>...</td>\n",
       "      <td>0</td>\n",
       "      <td>0</td>\n",
       "      <td>0</td>\n",
       "      <td>0</td>\n",
       "      <td>0</td>\n",
       "      <td>0</td>\n",
       "      <td>0</td>\n",
       "      <td>1</td>\n",
       "      <td>1</td>\n",
       "      <td>0</td>\n",
       "    </tr>\n",
       "    <tr>\n",
       "      <th>4</th>\n",
       "      <td>0.095890</td>\n",
       "      <td>0.600000</td>\n",
       "      <td>0.704082</td>\n",
       "      <td>0.000000</td>\n",
       "      <td>0</td>\n",
       "      <td>0</td>\n",
       "      <td>0</td>\n",
       "      <td>0</td>\n",
       "      <td>1</td>\n",
       "      <td>0</td>\n",
       "      <td>...</td>\n",
       "      <td>0</td>\n",
       "      <td>0</td>\n",
       "      <td>0</td>\n",
       "      <td>0</td>\n",
       "      <td>0</td>\n",
       "      <td>0</td>\n",
       "      <td>0</td>\n",
       "      <td>1</td>\n",
       "      <td>0</td>\n",
       "      <td>1</td>\n",
       "    </tr>\n",
       "    <tr>\n",
       "      <th>...</th>\n",
       "      <td>...</td>\n",
       "      <td>...</td>\n",
       "      <td>...</td>\n",
       "      <td>...</td>\n",
       "      <td>...</td>\n",
       "      <td>...</td>\n",
       "      <td>...</td>\n",
       "      <td>...</td>\n",
       "      <td>...</td>\n",
       "      <td>...</td>\n",
       "      <td>...</td>\n",
       "      <td>...</td>\n",
       "      <td>...</td>\n",
       "      <td>...</td>\n",
       "      <td>...</td>\n",
       "      <td>...</td>\n",
       "      <td>...</td>\n",
       "      <td>...</td>\n",
       "      <td>...</td>\n",
       "      <td>...</td>\n",
       "      <td>...</td>\n",
       "    </tr>\n",
       "    <tr>\n",
       "      <th>19532</th>\n",
       "      <td>0.383562</td>\n",
       "      <td>0.533333</td>\n",
       "      <td>0.602041</td>\n",
       "      <td>0.000000</td>\n",
       "      <td>0</td>\n",
       "      <td>0</td>\n",
       "      <td>0</td>\n",
       "      <td>0</td>\n",
       "      <td>0</td>\n",
       "      <td>0</td>\n",
       "      <td>...</td>\n",
       "      <td>0</td>\n",
       "      <td>0</td>\n",
       "      <td>0</td>\n",
       "      <td>0</td>\n",
       "      <td>0</td>\n",
       "      <td>0</td>\n",
       "      <td>0</td>\n",
       "      <td>1</td>\n",
       "      <td>0</td>\n",
       "      <td>1</td>\n",
       "    </tr>\n",
       "    <tr>\n",
       "      <th>19533</th>\n",
       "      <td>0.424658</td>\n",
       "      <td>0.533333</td>\n",
       "      <td>0.500000</td>\n",
       "      <td>0.000000</td>\n",
       "      <td>0</td>\n",
       "      <td>0</td>\n",
       "      <td>0</td>\n",
       "      <td>0</td>\n",
       "      <td>1</td>\n",
       "      <td>0</td>\n",
       "      <td>...</td>\n",
       "      <td>0</td>\n",
       "      <td>0</td>\n",
       "      <td>0</td>\n",
       "      <td>0</td>\n",
       "      <td>0</td>\n",
       "      <td>0</td>\n",
       "      <td>0</td>\n",
       "      <td>1</td>\n",
       "      <td>1</td>\n",
       "      <td>0</td>\n",
       "    </tr>\n",
       "    <tr>\n",
       "      <th>19534</th>\n",
       "      <td>0.630137</td>\n",
       "      <td>0.600000</td>\n",
       "      <td>0.397959</td>\n",
       "      <td>8.386401</td>\n",
       "      <td>0</td>\n",
       "      <td>0</td>\n",
       "      <td>0</td>\n",
       "      <td>0</td>\n",
       "      <td>1</td>\n",
       "      <td>0</td>\n",
       "      <td>...</td>\n",
       "      <td>0</td>\n",
       "      <td>0</td>\n",
       "      <td>0</td>\n",
       "      <td>0</td>\n",
       "      <td>0</td>\n",
       "      <td>0</td>\n",
       "      <td>0</td>\n",
       "      <td>1</td>\n",
       "      <td>0</td>\n",
       "      <td>1</td>\n",
       "    </tr>\n",
       "    <tr>\n",
       "      <th>19535</th>\n",
       "      <td>0.013699</td>\n",
       "      <td>0.400000</td>\n",
       "      <td>0.193878</td>\n",
       "      <td>0.000000</td>\n",
       "      <td>0</td>\n",
       "      <td>0</td>\n",
       "      <td>0</td>\n",
       "      <td>0</td>\n",
       "      <td>1</td>\n",
       "      <td>0</td>\n",
       "      <td>...</td>\n",
       "      <td>1</td>\n",
       "      <td>0</td>\n",
       "      <td>0</td>\n",
       "      <td>0</td>\n",
       "      <td>0</td>\n",
       "      <td>0</td>\n",
       "      <td>0</td>\n",
       "      <td>1</td>\n",
       "      <td>1</td>\n",
       "      <td>0</td>\n",
       "    </tr>\n",
       "    <tr>\n",
       "      <th>19536</th>\n",
       "      <td>0.191781</td>\n",
       "      <td>0.733333</td>\n",
       "      <td>0.459184</td>\n",
       "      <td>0.000000</td>\n",
       "      <td>0</td>\n",
       "      <td>0</td>\n",
       "      <td>0</td>\n",
       "      <td>0</td>\n",
       "      <td>1</td>\n",
       "      <td>0</td>\n",
       "      <td>...</td>\n",
       "      <td>0</td>\n",
       "      <td>0</td>\n",
       "      <td>0</td>\n",
       "      <td>0</td>\n",
       "      <td>0</td>\n",
       "      <td>1</td>\n",
       "      <td>0</td>\n",
       "      <td>0</td>\n",
       "      <td>0</td>\n",
       "      <td>1</td>\n",
       "    </tr>\n",
       "  </tbody>\n",
       "</table>\n",
       "<p>48842 rows × 33 columns</p>\n",
       "</div>"
      ],
      "text/plain": [
       "            age  education-num  hours-per-week  total_cap  workclass_ ?  \\\n",
       "0      0.109589       0.400000        0.397959   0.000000             0   \n",
       "1      0.301370       0.600000        0.551020        NaN             0   \n",
       "2      0.246575       0.800000        0.500000   0.000000             0   \n",
       "3      0.643836       0.666667        0.397959   0.000000             0   \n",
       "4      0.095890       0.600000        0.704082   0.000000             0   \n",
       "...         ...            ...             ...        ...           ...   \n",
       "19532  0.383562       0.533333        0.602041   0.000000             0   \n",
       "19533  0.424658       0.533333        0.500000   0.000000             0   \n",
       "19534  0.630137       0.600000        0.397959   8.386401             0   \n",
       "19535  0.013699       0.400000        0.193878   0.000000             0   \n",
       "19536  0.191781       0.733333        0.459184   0.000000             0   \n",
       "\n",
       "       workclass_ Federal-gov  workclass_ Local-gov  workclass_ Never-worked  \\\n",
       "0                           0                     0                        0   \n",
       "1                           0                     0                        0   \n",
       "2                           0                     0                        0   \n",
       "3                           0                     0                        0   \n",
       "4                           0                     0                        0   \n",
       "...                       ...                   ...                      ...   \n",
       "19532                       0                     0                        0   \n",
       "19533                       0                     0                        0   \n",
       "19534                       0                     0                        0   \n",
       "19535                       0                     0                        0   \n",
       "19536                       0                     0                        0   \n",
       "\n",
       "       workclass_ Private  workclass_ Self-emp-inc  ...  \\\n",
       "0                       1                        0  ...   \n",
       "1                       1                        0  ...   \n",
       "2                       1                        0  ...   \n",
       "3                       1                        0  ...   \n",
       "4                       1                        0  ...   \n",
       "...                   ...                      ...  ...   \n",
       "19532                   0                        0  ...   \n",
       "19533                   1                        0  ...   \n",
       "19534                   1                        0  ...   \n",
       "19535                   1                        0  ...   \n",
       "19536                   1                        0  ...   \n",
       "\n",
       "       relationship_ Own-child  relationship_ Unmarried  relationship_ Wife  \\\n",
       "0                            0                        0                   0   \n",
       "1                            0                        0                   0   \n",
       "2                            0                        0                   0   \n",
       "3                            0                        0                   0   \n",
       "4                            0                        0                   0   \n",
       "...                        ...                      ...                 ...   \n",
       "19532                        0                        0                   0   \n",
       "19533                        0                        0                   0   \n",
       "19534                        0                        0                   0   \n",
       "19535                        1                        0                   0   \n",
       "19536                        0                        0                   0   \n",
       "\n",
       "       race_ Amer-Indian-Eskimo  race_ Asian-Pac-Islander  race_ Black  \\\n",
       "0                             0                         0            0   \n",
       "1                             0                         0            0   \n",
       "2                             0                         1            0   \n",
       "3                             0                         0            0   \n",
       "4                             0                         0            0   \n",
       "...                         ...                       ...          ...   \n",
       "19532                         0                         0            0   \n",
       "19533                         0                         0            0   \n",
       "19534                         0                         0            0   \n",
       "19535                         0                         0            0   \n",
       "19536                         0                         0            1   \n",
       "\n",
       "       race_ Other  race_ White  sex_ Female  sex_ Male  \n",
       "0                0            1            0          1  \n",
       "1                0            1            1          0  \n",
       "2                0            0            1          0  \n",
       "3                0            1            1          0  \n",
       "4                0            1            0          1  \n",
       "...            ...          ...          ...        ...  \n",
       "19532            0            1            0          1  \n",
       "19533            0            1            1          0  \n",
       "19534            0            1            0          1  \n",
       "19535            0            1            1          0  \n",
       "19536            0            0            0          1  \n",
       "\n",
       "[48842 rows x 33 columns]"
      ]
     },
     "execution_count": 19,
     "metadata": {},
     "output_type": "execute_result"
    }
   ],
   "source": [
    "# 방식은 이거임 -> 테스트 데이터도 훈련 데이터로 이용하자 테스트 데이터에 존재 하지 않는 정답 데이터는 처음에 훈련 데이터로 예측한 테스트 데이터 값을 정답 데이터로 사용하자\n",
    "# 훈련 데이터와, 테스트 데이터 합치기 (테스트 데이터 정답은 훈련된 모델의 예측한 결과를 사용)\n",
    "X_train_2 = pd.concat([X_train,X_test])\n",
    "X_train_2"
   ]
  },
  {
   "cell_type": "code",
   "execution_count": 82,
   "id": "c5fcfb06",
   "metadata": {
    "ExecuteTime": {
     "end_time": "2023-05-31T06:27:55.332214Z",
     "start_time": "2023-05-31T06:27:55.323220Z"
    }
   },
   "outputs": [],
   "source": [
    "# 방식은 이거임 -> 테스트 데이터도 훈련 데이터로 이용하자 테스트 데이터에 존재 하지 않는 정답 데이터는 처음에 훈련 데이터로 예측한 테스트 데이터 값을 정답 데이터로 사용하자\n",
    "# 훈련 데이터와, 테스트 데이터 합치기 (테스트 데이터 정답은 훈련된 모델의 예측한 결과를 사용)\n",
    "X_train_2 = pd.concat([X_train,X_test])"
   ]
  },
  {
   "cell_type": "code",
   "execution_count": 21,
   "id": "0684bf12",
   "metadata": {
    "ExecuteTime": {
     "end_time": "2023-05-31T05:58:18.279484Z",
     "start_time": "2023-05-31T05:58:18.269534Z"
    }
   },
   "outputs": [
    {
     "data": {
      "text/plain": [
       "0        0\n",
       "1        0\n",
       "2        0\n",
       "3        0\n",
       "4        1\n",
       "        ..\n",
       "29300    0\n",
       "29301    0\n",
       "29302    0\n",
       "29303    0\n",
       "29304    0\n",
       "Name: income, Length: 29305, dtype: int64"
      ]
     },
     "execution_count": 21,
     "metadata": {},
     "output_type": "execute_result"
    }
   ],
   "source": [
    "y_train"
   ]
  },
  {
   "cell_type": "code",
   "execution_count": 83,
   "id": "7f31cc37",
   "metadata": {
    "ExecuteTime": {
     "end_time": "2023-05-31T06:27:59.047428Z",
     "start_time": "2023-05-31T06:27:59.042406Z"
    }
   },
   "outputs": [],
   "source": [
    "y_1=y_train.to_numpy()"
   ]
  },
  {
   "cell_type": "code",
   "execution_count": 84,
   "id": "e4ae542e",
   "metadata": {
    "ExecuteTime": {
     "end_time": "2023-05-31T06:28:04.302370Z",
     "start_time": "2023-05-31T06:28:04.283013Z"
    }
   },
   "outputs": [],
   "source": [
    "y_t = np.concatenate([y_1, y_pred])"
   ]
  },
  {
   "cell_type": "code",
   "execution_count": 85,
   "id": "83afd941",
   "metadata": {
    "ExecuteTime": {
     "end_time": "2023-05-31T06:28:06.182802Z",
     "start_time": "2023-05-31T06:28:06.163975Z"
    }
   },
   "outputs": [],
   "source": [
    "y_t = list(y_t)"
   ]
  },
  {
   "cell_type": "code",
   "execution_count": 86,
   "id": "8e7f765b",
   "metadata": {
    "ExecuteTime": {
     "end_time": "2023-05-31T06:28:08.153821Z",
     "start_time": "2023-05-31T06:28:08.131787Z"
    }
   },
   "outputs": [],
   "source": [
    "y_train_change=pd.Series(y_t)"
   ]
  },
  {
   "cell_type": "code",
   "execution_count": 87,
   "id": "10f51efd",
   "metadata": {
    "ExecuteTime": {
     "end_time": "2023-05-31T06:28:10.700443Z",
     "start_time": "2023-05-31T06:28:10.315399Z"
    }
   },
   "outputs": [
    {
     "data": {
      "text/plain": [
       "LGBMClassifier(n_estimators=200, random_state=200, reg_alpha=0.9,\n",
       "               reg_lambda=0.2)"
      ]
     },
     "execution_count": 87,
     "metadata": {},
     "output_type": "execute_result"
    }
   ],
   "source": [
    "### 모델 훈련\n",
    "lgb.fit(X_train_2,y_train_change)"
   ]
  },
  {
   "cell_type": "code",
   "execution_count": 29,
   "id": "6ee72b94",
   "metadata": {
    "ExecuteTime": {
     "end_time": "2023-05-31T05:58:57.559584Z",
     "start_time": "2023-05-31T05:58:57.446297Z"
    }
   },
   "outputs": [],
   "source": [
    "# lgb 모델로 예측한 결과\n",
    "pre1 = lgb.predict(X_test)\n",
    "# kaggle 양식 불러오기\n",
    "rs =  pd.read_csv('./data/kaggle/sample_submission.csv')\n",
    "rs['income'] = pre1 # 내 모델의 예측 결과를 양식에 넣기\n",
    "rs.to_csv('50K_02.csv', index = False)"
   ]
  },
  {
   "cell_type": "code",
   "execution_count": 75,
   "id": "cea2e626",
   "metadata": {
    "ExecuteTime": {
     "end_time": "2023-05-31T06:22:51.865986Z",
     "start_time": "2023-05-31T06:22:51.394246Z"
    }
   },
   "outputs": [],
   "source": [
    "# 위 과정 반복 -> 모델 예측한 결과중 더 좋은 결과를 다시 테스트 데이터의 정답으로 활용 + 트레인 데이터와 다시 합치고 다시 모델 학습\n",
    "y_t = np.concatenate([y_1, pre1])\n",
    "y_t = list(y_t)\n",
    "y_train_change=pd.Series(y_t)\n",
    "\n",
    "lgb.fit(X_train_2,y_train_change)\n",
    "\n",
    "pre2 = lgb.predict(X_test)\n",
    "# kaggle 양식 불러오기\n",
    "rs =  pd.read_csv('./data/kaggle/sample_submission.csv')\n",
    "rs['income'] = pre2 # 내 모델의 예측 결과를 양식에 넣기\n",
    "rs.to_csv('50K_02.csv', index = False)"
   ]
  },
  {
   "cell_type": "code",
   "execution_count": 76,
   "id": "ff3287d9",
   "metadata": {
    "ExecuteTime": {
     "end_time": "2023-05-31T06:22:55.750485Z",
     "start_time": "2023-05-31T06:22:53.024753Z"
    }
   },
   "outputs": [
    {
     "name": "stdout",
     "output_type": "stream",
     "text": [
      "교차 검증 정확도: [0.86887092 0.86968984 0.87018837 0.97522523 0.99242424]\n",
      "평균 정확도: 0.9152797182482922\n"
     ]
    }
   ],
   "source": [
    "y_t = np.concatenate([y_1, pre2])\n",
    "y_t = list(y_t)\n",
    "y_train_change=pd.Series(y_t)\n",
    "\n",
    "lgb.fit(X_train_2,y_train_change)\n",
    "\n",
    "pre3 = lgb.predict(X_test)\n",
    "# kaggle 양식 불러오기\n",
    "rs =  pd.read_csv('./data/kaggle/sample_submission.csv')\n",
    "rs['income'] = pre3 # 내 모델의 예측 결과를 양식에 넣기\n",
    "rs.to_csv('50K_03.csv', index = False)\n",
    "\n",
    "scores = cross_val_score(lgb, X_train_2, y_train_change, cv=5, scoring='accuracy')\n",
    "\n",
    "# 교차 검증 결과 출력\n",
    "print(\"교차 검증 정확도:\", scores)\n",
    "print(\"평균 정확도:\", scores.mean())"
   ]
  },
  {
   "cell_type": "code",
   "execution_count": 34,
   "id": "fe37c94a",
   "metadata": {
    "ExecuteTime": {
     "end_time": "2023-05-31T06:01:02.256034Z",
     "start_time": "2023-05-31T06:01:00.295796Z"
    }
   },
   "outputs": [
    {
     "name": "stdout",
     "output_type": "stream",
     "text": [
      "교차 검증 정확도: [0.86938274 0.87020166 0.86977887 0.9769656  0.99242424]\n",
      "평균 정확도: 0.9157506227600404\n"
     ]
    }
   ],
   "source": [
    "from sklearn.model_selection import cross_val_score\n",
    "\n",
    "scores = cross_val_score(lgb, X_train_2, y_train_change, cv=5, scoring='accuracy')\n",
    "\n",
    "# 교차 검증 결과 출력\n",
    "print(\"교차 검증 정확도:\", scores)\n",
    "print(\"평균 정확도:\", scores.mean())"
   ]
  },
  {
   "cell_type": "code",
   "execution_count": 36,
   "id": "df286fc4",
   "metadata": {
    "ExecuteTime": {
     "end_time": "2023-05-31T06:01:48.886349Z",
     "start_time": "2023-05-31T06:01:48.382568Z"
    }
   },
   "outputs": [],
   "source": [
    "y_t = np.concatenate([y_1, pre3])\n",
    "y_t = list(y_t)\n",
    "y_train_change=pd.Series(y_t)\n",
    "\n",
    "lgb.fit(X_train_2,y_train_change)\n",
    "\n",
    "pre4 = lgb.predict(X_test)\n",
    "# kaggle 양식 불러오기\n",
    "rs =  pd.read_csv('./data/kaggle/sample_submission.csv')\n",
    "rs['income'] = pre4 # 내 모델의 예측 결과를 양식에 넣기\n",
    "rs.to_csv('50K_04.csv', index = False)\n"
   ]
  },
  {
   "cell_type": "code",
   "execution_count": 37,
   "id": "8dab7190",
   "metadata": {
    "ExecuteTime": {
     "end_time": "2023-05-31T06:01:54.598637Z",
     "start_time": "2023-05-31T06:01:52.646867Z"
    }
   },
   "outputs": [
    {
     "name": "stdout",
     "output_type": "stream",
     "text": [
      "교차 검증 정확도: [0.86938274 0.87020166 0.86977887 0.9769656  0.99242424]\n",
      "평균 정확도: 0.9157506227600404\n"
     ]
    }
   ],
   "source": [
    "\n",
    "scores = cross_val_score(lgb, X_train_2, y_train_change, cv=5, scoring='accuracy')\n",
    "\n",
    "# 교차 검증 결과 출력\n",
    "print(\"교차 검증 정확도:\", scores)\n",
    "print(\"평균 정확도:\", scores.mean())"
   ]
  },
  {
   "cell_type": "code",
   "execution_count": 38,
   "id": "267c2b81",
   "metadata": {
    "ExecuteTime": {
     "end_time": "2023-05-31T06:02:11.816844Z",
     "start_time": "2023-05-31T06:02:09.166615Z"
    }
   },
   "outputs": [
    {
     "name": "stdout",
     "output_type": "stream",
     "text": [
      "교차 검증 정확도: [0.86907565 0.87009929 0.87018837 0.9765561  0.99375512]\n",
      "평균 정확도: 0.9159349063279866\n"
     ]
    }
   ],
   "source": [
    "y_t = np.concatenate([y_1, pre4])\n",
    "y_t = list(y_t)\n",
    "y_train_change=pd.Series(y_t)\n",
    "\n",
    "lgb.fit(X_train_2,y_train_change)\n",
    "\n",
    "pre5 = lgb.predict(X_test)\n",
    "# kaggle 양식 불러오기\n",
    "rs =  pd.read_csv('./data/kaggle/sample_submission.csv')\n",
    "rs['income'] = pre5 # 내 모델의 예측 결과를 양식에 넣기\n",
    "rs.to_csv('50K_05.csv', index = False)\n",
    "\n",
    "scores = cross_val_score(lgb, X_train_2, y_train_change, cv=5, scoring='accuracy')\n",
    "\n",
    "# 교차 검증 결과 출력\n",
    "print(\"교차 검증 정확도:\", scores)\n",
    "print(\"평균 정확도:\", scores.mean())"
   ]
  },
  {
   "cell_type": "code",
   "execution_count": 39,
   "id": "928bd0dc",
   "metadata": {
    "ExecuteTime": {
     "end_time": "2023-05-31T06:03:03.937055Z",
     "start_time": "2023-05-31T06:03:01.367757Z"
    }
   },
   "outputs": [
    {
     "name": "stdout",
     "output_type": "stream",
     "text": [
      "교차 검증 정확도: [0.86876855 0.8697922  0.86988124 0.9769656  0.99457412]\n",
      "평균 정확도: 0.915996343964918\n"
     ]
    }
   ],
   "source": [
    "y_t = np.concatenate([y_1, pre5])\n",
    "y_t = list(y_t)\n",
    "y_train_change=pd.Series(y_t)\n",
    "\n",
    "lgb.fit(X_train_2,y_train_change)\n",
    "\n",
    "pre6 = lgb.predict(X_test)\n",
    "# kaggle 양식 불러오기\n",
    "rs =  pd.read_csv('./data/kaggle/sample_submission.csv')\n",
    "rs['income'] = pre6 # 내 모델의 예측 결과를 양식에 넣기\n",
    "rs.to_csv('50K_06.csv', index = False)\n",
    "\n",
    "scores = cross_val_score(lgb, X_train_2, y_train_change, cv=5, scoring='accuracy')\n",
    "\n",
    "# 교차 검증 결과 출력\n",
    "print(\"교차 검증 정확도:\", scores)\n",
    "print(\"평균 정확도:\", scores.mean())"
   ]
  },
  {
   "cell_type": "code",
   "execution_count": 40,
   "id": "ee9fb22a",
   "metadata": {
    "ExecuteTime": {
     "end_time": "2023-05-31T06:03:19.632089Z",
     "start_time": "2023-05-31T06:03:16.983153Z"
    }
   },
   "outputs": [
    {
     "name": "stdout",
     "output_type": "stream",
     "text": [
      "교차 검증 정확도: [0.86968984 0.86989456 0.86957412 0.97727273 0.99355037]\n",
      "평균 정확도: 0.9159963230057405\n"
     ]
    }
   ],
   "source": [
    "y_t = np.concatenate([y_1, pre6])\n",
    "y_t = list(y_t)\n",
    "y_train_change=pd.Series(y_t)\n",
    "\n",
    "lgb.fit(X_train_2,y_train_change)\n",
    "\n",
    "pre7 = lgb.predict(X_test)\n",
    "# kaggle 양식 불러오기\n",
    "rs =  pd.read_csv('./data/kaggle/sample_submission.csv')\n",
    "rs['income'] = pre7 # 내 모델의 예측 결과를 양식에 넣기\n",
    "rs.to_csv('50K_07.csv', index = False)\n",
    "\n",
    "scores = cross_val_score(lgb, X_train_2, y_train_change, cv=5, scoring='accuracy')\n",
    "\n",
    "# 교차 검증 결과 출력\n",
    "print(\"교차 검증 정확도:\", scores)\n",
    "print(\"평균 정확도:\", scores.mean())"
   ]
  },
  {
   "cell_type": "code",
   "execution_count": 41,
   "id": "b091a358",
   "metadata": {
    "ExecuteTime": {
     "end_time": "2023-05-31T06:03:41.429320Z",
     "start_time": "2023-05-31T06:03:38.760443Z"
    }
   },
   "outputs": [
    {
     "name": "stdout",
     "output_type": "stream",
     "text": [
      "교차 검증 정확도: [0.86825673 0.8697922  0.87039312 0.97706798 0.99406224]\n",
      "평균 정확도: 0.9159144543626067\n"
     ]
    }
   ],
   "source": [
    "y_t = np.concatenate([y_1, pre7])\n",
    "y_t = list(y_t)\n",
    "y_train_change=pd.Series(y_t)\n",
    "\n",
    "lgb.fit(X_train_2,y_train_change)\n",
    "\n",
    "pre8 = lgb.predict(X_test)\n",
    "# kaggle 양식 불러오기\n",
    "rs =  pd.read_csv('./data/kaggle/sample_submission.csv')\n",
    "rs['income'] = pre8 # 내 모델의 예측 결과를 양식에 넣기\n",
    "rs.to_csv('50K_08.csv', index = False)\n",
    "\n",
    "scores = cross_val_score(lgb, X_train_2, y_train_change, cv=5, scoring='accuracy')\n",
    "\n",
    "# 교차 검증 결과 출력\n",
    "print(\"교차 검증 정확도:\", scores)\n",
    "print(\"평균 정확도:\", scores.mean())"
   ]
  },
  {
   "cell_type": "code",
   "execution_count": 42,
   "id": "539009b7",
   "metadata": {
    "ExecuteTime": {
     "end_time": "2023-05-31T06:04:04.771250Z",
     "start_time": "2023-05-31T06:04:02.168093Z"
    }
   },
   "outputs": [
    {
     "name": "stdout",
     "output_type": "stream",
     "text": [
      "교차 검증 정확도: [0.86866619 0.87020166 0.870086   0.9777846  0.99477887]\n",
      "평균 정확도: 0.9163034629842901\n"
     ]
    }
   ],
   "source": [
    "y_t = np.concatenate([y_1, pre8])\n",
    "y_t = list(y_t)\n",
    "y_train_change=pd.Series(y_t)\n",
    "\n",
    "lgb.fit(X_train_2,y_train_change)\n",
    "\n",
    "pre9 = lgb.predict(X_test)\n",
    "# kaggle 양식 불러오기\n",
    "rs =  pd.read_csv('./data/kaggle/sample_submission.csv')\n",
    "rs['income'] = pre9 # 내 모델의 예측 결과를 양식에 넣기\n",
    "rs.to_csv('50K_09.csv', index = False)\n",
    "\n",
    "scores = cross_val_score(lgb, X_train_2, y_train_change, cv=5, scoring='accuracy')\n",
    "\n",
    "# 교차 검증 결과 출력\n",
    "print(\"교차 검증 정확도:\", scores)\n",
    "print(\"평균 정확도:\", scores.mean())"
   ]
  },
  {
   "cell_type": "code",
   "execution_count": 43,
   "id": "26502f93",
   "metadata": {
    "ExecuteTime": {
     "end_time": "2023-05-31T06:04:20.277123Z",
     "start_time": "2023-05-31T06:04:17.640144Z"
    }
   },
   "outputs": [
    {
     "name": "stdout",
     "output_type": "stream",
     "text": [
      "교차 검증 정확도: [0.86815437 0.87020166 0.87039312 0.97727273 0.99436937]\n",
      "평균 정확도: 0.9160782482386537\n"
     ]
    }
   ],
   "source": [
    "y_t = np.concatenate([y_1, pre9])\n",
    "y_t = list(y_t)\n",
    "y_train_change=pd.Series(y_t)\n",
    "\n",
    "lgb.fit(X_train_2,y_train_change)\n",
    "\n",
    "pre10 = lgb.predict(X_test)\n",
    "# kaggle 양식 불러오기\n",
    "rs =  pd.read_csv('./data/kaggle/sample_submission.csv')\n",
    "rs['income'] = pre10 # 내 모델의 예측 결과를 양식에 넣기\n",
    "rs.to_csv('50K_10.csv', index = False)\n",
    "\n",
    "scores = cross_val_score(lgb, X_train_2, y_train_change, cv=5, scoring='accuracy')\n",
    "\n",
    "# 교차 검증 결과 출력\n",
    "print(\"교차 검증 정확도:\", scores)\n",
    "print(\"평균 정확도:\", scores.mean())"
   ]
  },
  {
   "cell_type": "code",
   "execution_count": 44,
   "id": "0459144a",
   "metadata": {
    "ExecuteTime": {
     "end_time": "2023-05-31T06:04:38.622474Z",
     "start_time": "2023-05-31T06:04:35.943644Z"
    }
   },
   "outputs": [
    {
     "name": "stdout",
     "output_type": "stream",
     "text": [
      "교차 검증 정확도: [0.86887092 0.86917801 0.87070025 0.97798935 0.99477887]\n",
      "평균 정확도: 0.9163034797516321\n"
     ]
    }
   ],
   "source": [
    "y_t = np.concatenate([y_1, pre10])\n",
    "y_t = list(y_t)\n",
    "y_train_change=pd.Series(y_t)\n",
    "\n",
    "lgb.fit(X_train_2,y_train_change)\n",
    "\n",
    "pre11 = lgb.predict(X_test)\n",
    "# kaggle 양식 불러오기\n",
    "rs =  pd.read_csv('./data/kaggle/sample_submission.csv')\n",
    "rs['income'] = pre11 # 내 모델의 예측 결과를 양식에 넣기\n",
    "rs.to_csv('50K_11.csv', index = False)\n",
    "\n",
    "scores = cross_val_score(lgb, X_train_2, y_train_change, cv=5, scoring='accuracy')\n",
    "\n",
    "# 교차 검증 결과 출력\n",
    "print(\"교차 검증 정확도:\", scores)\n",
    "print(\"평균 정확도:\", scores.mean())"
   ]
  },
  {
   "cell_type": "code",
   "execution_count": 45,
   "id": "ab2910c0",
   "metadata": {
    "ExecuteTime": {
     "end_time": "2023-05-31T06:06:33.590049Z",
     "start_time": "2023-05-31T06:06:30.976896Z"
    }
   },
   "outputs": [
    {
     "name": "stdout",
     "output_type": "stream",
     "text": [
      "교차 검증 정확도: [0.868052   0.86938274 0.8704955  0.9765561  0.99385749]\n",
      "평균 정확도: 0.915668766692413\n"
     ]
    }
   ],
   "source": [
    "y_t = np.concatenate([y_1, pre11])\n",
    "y_t = list(y_t)\n",
    "y_train_change=pd.Series(y_t)\n",
    "\n",
    "lgb.fit(X_train_2,y_train_change)\n",
    "\n",
    "pre12 = lgb.predict(X_test)\n",
    "# kaggle 양식 불러오기\n",
    "rs =  pd.read_csv('./data/kaggle/sample_submission.csv')\n",
    "rs['income'] = pre12 # 내 모델의 예측 결과를 양식에 넣기\n",
    "rs.to_csv('50K_12.csv', index = False)\n",
    "\n",
    "scores = cross_val_score(lgb, X_train_2, y_train_change, cv=5, scoring='accuracy')\n",
    "\n",
    "# 교차 검증 결과 출력\n",
    "print(\"교차 검증 정확도:\", scores)\n",
    "print(\"평균 정확도:\", scores.mean())"
   ]
  },
  {
   "cell_type": "code",
   "execution_count": 46,
   "id": "884f2949",
   "metadata": {
    "ExecuteTime": {
     "end_time": "2023-05-31T06:06:47.659922Z",
     "start_time": "2023-05-31T06:06:45.032951Z"
    }
   },
   "outputs": [
    {
     "name": "stdout",
     "output_type": "stream",
     "text": [
      "교차 검증 정확도: [0.86856382 0.86917801 0.87039312 0.97665848 0.99406224]\n",
      "평균 정확도: 0.9157711355070347\n"
     ]
    }
   ],
   "source": [
    "y_t = np.concatenate([y_1, pre12])\n",
    "y_t = list(y_t)\n",
    "y_train_change=pd.Series(y_t)\n",
    "\n",
    "lgb.fit(X_train_2,y_train_change)\n",
    "\n",
    "pre13 = lgb.predict(X_test)\n",
    "# kaggle 양식 불러오기\n",
    "rs =  pd.read_csv('./data/kaggle/sample_submission.csv')\n",
    "rs['income'] = pre13 # 내 모델의 예측 결과를 양식에 넣기\n",
    "rs.to_csv('50K_13.csv', index = False)\n",
    "\n",
    "scores = cross_val_score(lgb, X_train_2, y_train_change, cv=5, scoring='accuracy')\n",
    "\n",
    "# 교차 검증 결과 출력\n",
    "print(\"교차 검증 정확도:\", scores)\n",
    "print(\"평균 정확도:\", scores.mean())"
   ]
  },
  {
   "cell_type": "code",
   "execution_count": 47,
   "id": "ddf65132",
   "metadata": {
    "ExecuteTime": {
     "end_time": "2023-05-31T06:07:02.062250Z",
     "start_time": "2023-05-31T06:06:59.434143Z"
    }
   },
   "outputs": [
    {
     "name": "stdout",
     "output_type": "stream",
     "text": [
      "교차 검증 정확도: [0.8683591  0.86876855 0.8704955  0.97706798 0.99498362]\n",
      "평균 정확도: 0.9159349482463414\n"
     ]
    }
   ],
   "source": [
    "y_t = np.concatenate([y_1, pre13])\n",
    "y_t = list(y_t)\n",
    "y_train_change=pd.Series(y_t)\n",
    "\n",
    "lgb.fit(X_train_2,y_train_change)\n",
    "\n",
    "pre14 = lgb.predict(X_test)\n",
    "# kaggle 양식 불러오기\n",
    "rs =  pd.read_csv('./data/kaggle/sample_submission.csv')\n",
    "rs['income'] = pre14 # 내 모델의 예측 결과를 양식에 넣기\n",
    "rs.to_csv('50K_14.csv', index = False)\n",
    "\n",
    "scores = cross_val_score(lgb, X_train_2, y_train_change, cv=5, scoring='accuracy')\n",
    "\n",
    "# 교차 검증 결과 출력\n",
    "print(\"교차 검증 정확도:\", scores)\n",
    "print(\"평균 정확도:\", scores.mean())"
   ]
  },
  {
   "cell_type": "code",
   "execution_count": 48,
   "id": "2d019843",
   "metadata": {
    "ExecuteTime": {
     "end_time": "2023-05-31T06:07:25.783328Z",
     "start_time": "2023-05-31T06:07:23.224856Z"
    }
   },
   "outputs": [
    {
     "name": "stdout",
     "output_type": "stream",
     "text": [
      "교차 검증 정확도: [0.86876855 0.86968984 0.86947174 0.97768223 0.99416462]\n",
      "평균 정확도: 0.9159553960198856\n"
     ]
    }
   ],
   "source": [
    "y_t = np.concatenate([y_1, pre14])\n",
    "y_t = list(y_t)\n",
    "y_train_change=pd.Series(y_t)\n",
    "\n",
    "lgb.fit(X_train_2,y_train_change)\n",
    "\n",
    "pre15 = lgb.predict(X_test)\n",
    "# kaggle 양식 불러오기\n",
    "rs =  pd.read_csv('./data/kaggle/sample_submission.csv')\n",
    "rs['income'] = pre15 # 내 모델의 예측 결과를 양식에 넣기\n",
    "rs.to_csv('50K_15.csv', index = False)\n",
    "\n",
    "scores = cross_val_score(lgb, X_train_2, y_train_change, cv=5, scoring='accuracy')\n",
    "\n",
    "# 교차 검증 결과 출력\n",
    "print(\"교차 검증 정확도:\", scores)\n",
    "print(\"평균 정확도:\", scores.mean())"
   ]
  },
  {
   "cell_type": "code",
   "execution_count": 49,
   "id": "6dd5436d",
   "metadata": {
    "ExecuteTime": {
     "end_time": "2023-05-31T06:07:37.790893Z",
     "start_time": "2023-05-31T06:07:35.185280Z"
    }
   },
   "outputs": [
    {
     "name": "stdout",
     "output_type": "stream",
     "text": [
      "교차 검증 정확도: [0.86887092 0.86897328 0.87059787 0.97522523 0.99375512]\n",
      "평균 정확도: 0.9154844831244666\n"
     ]
    }
   ],
   "source": [
    "y_t = np.concatenate([y_1, pre15])\n",
    "y_t = list(y_t)\n",
    "y_train_change=pd.Series(y_t)\n",
    "\n",
    "lgb.fit(X_train_2,y_train_change)\n",
    "\n",
    "pre16 = lgb.predict(X_test)\n",
    "# kaggle 양식 불러오기\n",
    "rs =  pd.read_csv('./data/kaggle/sample_submission.csv')\n",
    "rs['income'] = pre16 # 내 모델의 예측 결과를 양식에 넣기\n",
    "rs.to_csv('50K_16.csv', index = False)\n",
    "\n",
    "scores = cross_val_score(lgb, X_train_2, y_train_change, cv=5, scoring='accuracy')\n",
    "\n",
    "# 교차 검증 결과 출력\n",
    "print(\"교차 검증 정확도:\", scores)\n",
    "print(\"평균 정확도:\", scores.mean())"
   ]
  },
  {
   "cell_type": "code",
   "execution_count": 50,
   "id": "22ae702a",
   "metadata": {
    "ExecuteTime": {
     "end_time": "2023-05-31T06:07:49.502568Z",
     "start_time": "2023-05-31T06:07:46.897913Z"
    }
   },
   "outputs": [
    {
     "name": "stdout",
     "output_type": "stream",
     "text": [
      "교차 검증 정확도: [0.868052   0.86876855 0.86967649 0.97686323 0.99488124]\n",
      "평균 정확도: 0.9156483042474444\n"
     ]
    }
   ],
   "source": [
    "y_t = np.concatenate([y_1, pre16])\n",
    "y_t = list(y_t)\n",
    "y_train_change=pd.Series(y_t)\n",
    "\n",
    "lgb.fit(X_train_2,y_train_change)\n",
    "\n",
    "pre17 = lgb.predict(X_test)\n",
    "# kaggle 양식 불러오기\n",
    "rs =  pd.read_csv('./data/kaggle/sample_submission.csv')\n",
    "rs['income'] = pre17 # 내 모델의 예측 결과를 양식에 넣기\n",
    "rs.to_csv('50K_17.csv', index = False)\n",
    "\n",
    "scores = cross_val_score(lgb, X_train_2, y_train_change, cv=5, scoring='accuracy')\n",
    "\n",
    "# 교차 검증 결과 출력\n",
    "print(\"교차 검증 정확도:\", scores)\n",
    "print(\"평균 정확도:\", scores.mean())"
   ]
  },
  {
   "cell_type": "code",
   "execution_count": 51,
   "id": "081fedbf",
   "metadata": {
    "ExecuteTime": {
     "end_time": "2023-05-31T06:08:01.155620Z",
     "start_time": "2023-05-31T06:07:58.545255Z"
    }
   },
   "outputs": [
    {
     "name": "stdout",
     "output_type": "stream",
     "text": [
      "교차 검증 정확도: [0.86825673 0.86887092 0.86988124 0.9769656  0.99334562]\n",
      "평균 정확도: 0.9154640227754159\n"
     ]
    }
   ],
   "source": [
    "y_t = np.concatenate([y_1, pre17])\n",
    "y_t = list(y_t)\n",
    "y_train_change=pd.Series(y_t)\n",
    "\n",
    "lgb.fit(X_train_2,y_train_change)\n",
    "\n",
    "pre18 = lgb.predict(X_test)\n",
    "# kaggle 양식 불러오기\n",
    "rs =  pd.read_csv('./data/kaggle/sample_submission.csv')\n",
    "rs['income'] = pre18 # 내 모델의 예측 결과를 양식에 넣기\n",
    "rs.to_csv('50K_18.csv', index = False)\n",
    "\n",
    "scores = cross_val_score(lgb, X_train_2, y_train_change, cv=5, scoring='accuracy')\n",
    "\n",
    "# 교차 검증 결과 출력\n",
    "print(\"교차 검증 정확도:\", scores)\n",
    "print(\"평균 정확도:\", scores.mean())"
   ]
  },
  {
   "cell_type": "code",
   "execution_count": 52,
   "id": "c280a2d2",
   "metadata": {
    "ExecuteTime": {
     "end_time": "2023-05-31T06:08:23.220021Z",
     "start_time": "2023-05-31T06:08:20.441361Z"
    }
   },
   "outputs": [
    {
     "name": "stdout",
     "output_type": "stream",
     "text": [
      "교차 검증 정확도: [0.86815437 0.86897328 0.86926699 0.97635135 0.99457412]\n",
      "평균 정확도: 0.9154640227754159\n"
     ]
    }
   ],
   "source": [
    "y_t = np.concatenate([y_1, pre18])\n",
    "y_t = list(y_t)\n",
    "y_train_change=pd.Series(y_t)\n",
    "\n",
    "lgb.fit(X_train_2,y_train_change)\n",
    "\n",
    "pre19 = lgb.predict(X_test)\n",
    "# kaggle 양식 불러오기\n",
    "rs =  pd.read_csv('./data/kaggle/sample_submission.csv')\n",
    "rs['income'] = pre19 # 내 모델의 예측 결과를 양식에 넣기\n",
    "rs.to_csv('50K_19.csv', index = False)\n",
    "\n",
    "scores = cross_val_score(lgb, X_train_2, y_train_change, cv=5, scoring='accuracy')\n",
    "\n",
    "# 교차 검증 결과 출력\n",
    "print(\"교차 검증 정확도:\", scores)\n",
    "print(\"평균 정확도:\", scores.mean())"
   ]
  },
  {
   "cell_type": "code",
   "execution_count": 53,
   "id": "343d1678",
   "metadata": {
    "ExecuteTime": {
     "end_time": "2023-05-31T06:08:37.308470Z",
     "start_time": "2023-05-31T06:08:34.698172Z"
    }
   },
   "outputs": [
    {
     "name": "stdout",
     "output_type": "stream",
     "text": [
      "교차 검증 정확도: [0.86907565 0.86876855 0.86957412 0.97645373 0.99406224]\n",
      "평균 정확도: 0.9155868582268418\n"
     ]
    }
   ],
   "source": [
    "y_t = np.concatenate([y_1, pre19])\n",
    "y_t = list(y_t)\n",
    "y_train_change=pd.Series(y_t)\n",
    "\n",
    "lgb.fit(X_train_2,y_train_change)\n",
    "\n",
    "pre20 = lgb.predict(X_test)\n",
    "# kaggle 양식 불러오기\n",
    "rs =  pd.read_csv('./data/kaggle/sample_submission.csv')\n",
    "rs['income'] = pre20 # 내 모델의 예측 결과를 양식에 넣기\n",
    "rs.to_csv('50K_20.csv', index = False)\n",
    "\n",
    "scores = cross_val_score(lgb, X_train_2, y_train_change, cv=5, scoring='accuracy')\n",
    "\n",
    "# 교차 검증 결과 출력\n",
    "print(\"교차 검증 정확도:\", scores)\n",
    "print(\"평균 정확도:\", scores.mean())"
   ]
  },
  {
   "cell_type": "code",
   "execution_count": 54,
   "id": "cc0aa859",
   "metadata": {
    "ExecuteTime": {
     "end_time": "2023-05-31T06:09:10.116603Z",
     "start_time": "2023-05-31T06:09:07.490630Z"
    }
   },
   "outputs": [
    {
     "name": "stdout",
     "output_type": "stream",
     "text": [
      "교차 검증 정확도: [0.86856382 0.86846146 0.87029075 0.97665848 0.99426699]\n",
      "평균 정확도: 0.915648300055609\n"
     ]
    }
   ],
   "source": [
    "y_t = np.concatenate([y_1, pre20])\n",
    "y_t = list(y_t)\n",
    "y_train_change=pd.Series(y_t)\n",
    "\n",
    "lgb.fit(X_train_2,y_train_change)\n",
    "\n",
    "pre21 = lgb.predict(X_test)\n",
    "# kaggle 양식 불러오기\n",
    "rs =  pd.read_csv('./data/kaggle/sample_submission.csv')\n",
    "rs['income'] = pre21 # 내 모델의 예측 결과를 양식에 넣기\n",
    "rs.to_csv('50K_21.csv', index = False)\n",
    "\n",
    "scores = cross_val_score(lgb, X_train_2, y_train_change, cv=5, scoring='accuracy')\n",
    "\n",
    "# 교차 검증 결과 출력\n",
    "print(\"교차 검증 정확도:\", scores)\n",
    "print(\"평균 정확도:\", scores.mean())"
   ]
  },
  {
   "cell_type": "code",
   "execution_count": 56,
   "id": "40d0a5cc",
   "metadata": {
    "ExecuteTime": {
     "end_time": "2023-05-31T06:12:01.937852Z",
     "start_time": "2023-05-31T06:11:59.212004Z"
    }
   },
   "outputs": [
    {
     "name": "stdout",
     "output_type": "stream",
     "text": [
      "교차 검증 정확도: [0.86866619 0.86907565 0.87039312 0.97768223 0.99518837]\n",
      "평균 정확도: 0.9162011109370102\n"
     ]
    }
   ],
   "source": [
    "y_t = np.concatenate([y_1, pre21])\n",
    "y_t = list(y_t)\n",
    "y_train_change=pd.Series(y_t)\n",
    "\n",
    "lgb.fit(X_train_2,y_train_change)\n",
    "\n",
    "pre22 = lgb.predict(X_test)\n",
    "# kaggle 양식 불러오기\n",
    "rs =  pd.read_csv('./data/kaggle/sample_submission.csv')\n",
    "rs['income'] = pre22 # 내 모델의 예측 결과를 양식에 넣기\n",
    "rs.to_csv('50K_22.csv', index = False)\n",
    "\n",
    "scores = cross_val_score(lgb, X_train_2, y_train_change, cv=5, scoring='accuracy')\n",
    "\n",
    "# 교차 검증 결과 출력\n",
    "print(\"교차 검증 정확도:\", scores)\n",
    "print(\"평균 정확도:\", scores.mean())"
   ]
  },
  {
   "cell_type": "code",
   "execution_count": 57,
   "id": "f0e39f8c",
   "metadata": {
    "ExecuteTime": {
     "end_time": "2023-05-31T06:12:17.932929Z",
     "start_time": "2023-05-31T06:12:15.083525Z"
    }
   },
   "outputs": [
    {
     "name": "stdout",
     "output_type": "stream",
     "text": [
      "교차 검증 정확도: [0.86856382 0.86907565 0.86947174 0.9765561  0.995086  ]\n",
      "평균 정확도: 0.9157506625824775\n"
     ]
    }
   ],
   "source": [
    "y_t = np.concatenate([y_1, pre22])\n",
    "y_t = list(y_t)\n",
    "y_train_change=pd.Series(y_t)\n",
    "\n",
    "lgb.fit(X_train_2,y_train_change)\n",
    "\n",
    "pre23 = lgb.predict(X_test)\n",
    "# kaggle 양식 불러오기\n",
    "rs =  pd.read_csv('./data/kaggle/sample_submission.csv')\n",
    "rs['income'] = pre23 # 내 모델의 예측 결과를 양식에 넣기\n",
    "rs.to_csv('50K_23.csv', index = False)\n",
    "\n",
    "scores = cross_val_score(lgb, X_train_2, y_train_change, cv=5, scoring='accuracy')\n",
    "\n",
    "# 교차 검증 결과 출력\n",
    "print(\"교차 검증 정확도:\", scores)\n",
    "print(\"평균 정확도:\", scores.mean())"
   ]
  },
  {
   "cell_type": "code",
   "execution_count": 58,
   "id": "0ff0ac6e",
   "metadata": {
    "ExecuteTime": {
     "end_time": "2023-05-31T06:13:06.927748Z",
     "start_time": "2023-05-31T06:13:04.276503Z"
    }
   },
   "outputs": [
    {
     "name": "stdout",
     "output_type": "stream",
     "text": [
      "교차 검증 정확도: [0.868052   0.86856382 0.8704955  0.97635135 0.99498362]\n",
      "평균 정확도: 0.91568925848023\n"
     ]
    }
   ],
   "source": [
    "y_t = np.concatenate([y_1, pre23])\n",
    "y_t = list(y_t)\n",
    "y_train_change=pd.Series(y_t)\n",
    "\n",
    "lgb.fit(X_train_2,y_train_change)\n",
    "\n",
    "pre24 = lgb.predict(X_test)\n",
    "# kaggle 양식 불러오기\n",
    "rs =  pd.read_csv('./data/kaggle/sample_submission.csv')\n",
    "rs['income'] = pre24 # 내 모델의 예측 결과를 양식에 넣기\n",
    "rs.to_csv('50K_24.csv', index = False)\n",
    "\n",
    "scores = cross_val_score(lgb, X_train_2, y_train_change, cv=5, scoring='accuracy')\n",
    "\n",
    "# 교차 검증 결과 출력\n",
    "print(\"교차 검증 정확도:\", scores)\n",
    "print(\"평균 정확도:\", scores.mean())"
   ]
  },
  {
   "cell_type": "code",
   "execution_count": 59,
   "id": "01bfcba8",
   "metadata": {
    "ExecuteTime": {
     "end_time": "2023-05-31T06:13:26.569231Z",
     "start_time": "2023-05-31T06:13:23.964178Z"
    }
   },
   "outputs": [
    {
     "name": "stdout",
     "output_type": "stream",
     "text": [
      "교차 검증 정확도: [0.86815437 0.86866619 0.87100737 0.97604423 0.99518837]\n",
      "평균 정확도: 0.9158121044112445\n"
     ]
    }
   ],
   "source": [
    "y_t = np.concatenate([y_1, pre24])\n",
    "y_t = list(y_t)\n",
    "y_train_change=pd.Series(y_t)\n",
    "\n",
    "lgb.fit(X_train_2,y_train_change)\n",
    "\n",
    "pre25 = lgb.predict(X_test)\n",
    "# kaggle 양식 불러오기\n",
    "rs =  pd.read_csv('./data/kaggle/sample_submission.csv')\n",
    "rs['income'] = pre25 # 내 모델의 예측 결과를 양식에 넣기\n",
    "rs.to_csv('50K_25.csv', index = False)\n",
    "\n",
    "scores = cross_val_score(lgb, X_train_2, y_train_change, cv=5, scoring='accuracy')\n",
    "\n",
    "# 교차 검증 결과 출력\n",
    "print(\"교차 검증 정확도:\", scores)\n",
    "print(\"평균 정확도:\", scores.mean())"
   ]
  },
  {
   "cell_type": "code",
   "execution_count": 60,
   "id": "c038c9ef",
   "metadata": {
    "ExecuteTime": {
     "end_time": "2023-05-31T06:14:08.183573Z",
     "start_time": "2023-05-31T06:14:05.533278Z"
    }
   },
   "outputs": [
    {
     "name": "stdout",
     "output_type": "stream",
     "text": [
      "교차 검증 정확도: [0.86856382 0.86846146 0.86988124 0.9753276  0.99344799]\n",
      "평균 정확도: 0.9151364245437336\n"
     ]
    }
   ],
   "source": [
    "y_t = np.concatenate([y_1, pre25])\n",
    "y_t = list(y_t)\n",
    "y_train_change=pd.Series(y_t)\n",
    "\n",
    "lgb.fit(X_train_2,y_train_change)\n",
    "\n",
    "pre26 = lgb.predict(X_test)\n",
    "# kaggle 양식 불러오기\n",
    "rs =  pd.read_csv('./data/kaggle/sample_submission.csv')\n",
    "rs['income'] = pre26 # 내 모델의 예측 결과를 양식에 넣기\n",
    "rs.to_csv('50K_26.csv', index = False)\n",
    "\n",
    "scores = cross_val_score(lgb, X_train_2, y_train_change, cv=5, scoring='accuracy')\n",
    "\n",
    "# 교차 검증 결과 출력\n",
    "print(\"교차 검증 정확도:\", scores)\n",
    "print(\"평균 정확도:\", scores.mean())"
   ]
  },
  {
   "cell_type": "code",
   "execution_count": 61,
   "id": "e476eebf",
   "metadata": {
    "ExecuteTime": {
     "end_time": "2023-05-31T06:15:37.348184Z",
     "start_time": "2023-05-31T06:15:34.662374Z"
    }
   },
   "outputs": [
    {
     "name": "stdout",
     "output_type": "stream",
     "text": [
      "교차 검증 정확도: [0.86815437 0.86917801 0.86936937 0.97665848 0.99477887]\n",
      "평균 정확도: 0.9156278187473805\n"
     ]
    }
   ],
   "source": [
    "y_t = np.concatenate([y_1, pre26])\n",
    "y_t = list(y_t)\n",
    "y_train_change=pd.Series(y_t)\n",
    "\n",
    "lgb.fit(X_train_2,y_train_change)\n",
    "\n",
    "pre27 = lgb.predict(X_test)\n",
    "# kaggle 양식 불러오기\n",
    "rs =  pd.read_csv('./data/kaggle/sample_submission.csv')\n",
    "rs['income'] = pre27 # 내 모델의 예측 결과를 양식에 넣기\n",
    "rs.to_csv('50K_27.csv', index = False)\n",
    "\n",
    "scores = cross_val_score(lgb, X_train_2, y_train_change, cv=5, scoring='accuracy')\n",
    "\n",
    "# 교차 검증 결과 출력\n",
    "print(\"교차 검증 정확도:\", scores)\n",
    "print(\"평균 정확도:\", scores.mean())"
   ]
  },
  {
   "cell_type": "code",
   "execution_count": 63,
   "id": "0d91ca3f",
   "metadata": {
    "ExecuteTime": {
     "end_time": "2023-05-31T06:20:02.273187Z",
     "start_time": "2023-05-31T06:19:59.559447Z"
    }
   },
   "outputs": [
    {
     "name": "stdout",
     "output_type": "stream",
     "text": [
      "교차 검증 정확도: [0.86784727 0.86866619 0.86967649 0.97686323 0.99457412]\n",
      "평균 정확도: 0.9155254604123474\n"
     ]
    }
   ],
   "source": [
    "y_t = np.concatenate([y_1, pre27])\n",
    "y_t = list(y_t)\n",
    "y_train_change=pd.Series(y_t)\n",
    "\n",
    "lgb.fit(X_train_2,y_train_change)\n",
    "\n",
    "pre28 = lgb.predict(X_test)\n",
    "# kaggle 양식 불러오기\n",
    "rs =  pd.read_csv('./data/kaggle/sample_submission.csv')\n",
    "rs['income'] = pre28 # 내 모델의 예측 결과를 양식에 넣기\n",
    "rs.to_csv('50K_28.csv', index = False)\n",
    "\n",
    "scores = cross_val_score(lgb, X_train_2, y_train_change, cv=5, scoring='accuracy')\n",
    "\n",
    "# 교차 검증 결과 출력\n",
    "print(\"교차 검증 정확도:\", scores)\n",
    "print(\"평균 정확도:\", scores.mean())"
   ]
  },
  {
   "cell_type": "code",
   "execution_count": 65,
   "id": "5f65fa46",
   "metadata": {
    "ExecuteTime": {
     "end_time": "2023-05-31T06:20:53.715991Z",
     "start_time": "2023-05-31T06:20:51.039627Z"
    }
   },
   "outputs": [
    {
     "name": "stdout",
     "output_type": "stream",
     "text": [
      "교차 검증 정확도: [0.86743781 0.86917801 0.86977887 0.97727273 0.99395987]\n",
      "평균 정확도: 0.9155254583164296\n"
     ]
    }
   ],
   "source": [
    "y_t = np.concatenate([y_1, pre28])\n",
    "y_t = list(y_t)\n",
    "y_train_change=pd.Series(y_t)\n",
    "\n",
    "lgb.fit(X_train_2,y_train_change)\n",
    "\n",
    "pre29 = lgb.predict(X_test)\n",
    "# kaggle 양식 불러오기\n",
    "rs =  pd.read_csv('./data/kaggle/sample_submission.csv')\n",
    "rs['income'] = pre29 # 내 모델의 예측 결과를 양식에 넣기\n",
    "rs.to_csv('50K_29.csv', index = False)\n",
    "\n",
    "scores = cross_val_score(lgb, X_train_2, y_train_change, cv=5, scoring='accuracy')\n",
    "\n",
    "# 교차 검증 결과 출력\n",
    "print(\"교차 검증 정확도:\", scores)\n",
    "print(\"평균 정확도:\", scores.mean())"
   ]
  },
  {
   "cell_type": "code",
   "execution_count": 88,
   "id": "fae5c9d3",
   "metadata": {
    "ExecuteTime": {
     "end_time": "2023-05-31T06:30:05.208751Z",
     "start_time": "2023-05-31T06:30:02.580266Z"
    }
   },
   "outputs": [
    {
     "name": "stdout",
     "output_type": "stream",
     "text": [
      "교차 검증 정확도: [0.86784727 0.86815437 0.86947174 0.9765561  0.99385749]\n",
      "평균 정확도: 0.9151773955438609\n"
     ]
    }
   ],
   "source": [
    "y_t = np.concatenate([y_1, pre29])\n",
    "y_t = list(y_t)\n",
    "y_train_change=pd.Series(y_t)\n",
    "\n",
    "lgb.fit(X_train_2,y_train_change)\n",
    "\n",
    "pre30 = lgb.predict(X_test)\n",
    "# kaggle 양식 불러오기\n",
    "rs =  pd.read_csv('./data/kaggle/sample_submission.csv')\n",
    "rs['income'] = pre30 # 내 모델의 예측 결과를 양식에 넣기\n",
    "rs.to_csv('50K_30.csv', index = False)\n",
    "\n",
    "scores = cross_val_score(lgb, X_train_2, y_train_change, cv=5, scoring='accuracy')\n",
    "\n",
    "# 교차 검증 결과 출력\n",
    "print(\"교차 검증 정확도:\", scores)\n",
    "print(\"평균 정확도:\", scores.mean())"
   ]
  },
  {
   "cell_type": "code",
   "execution_count": null,
   "id": "3e23f069",
   "metadata": {},
   "outputs": [],
   "source": [
    "from sklearn.metrics import accuracy_score\n",
    "\n",
    "# 실제 정답 데이터\n",
    "y_test = rs\n",
    "\n",
    "# 모델의 예측 결과\n",
    "y_pred = pre30\n",
    "\n",
    "# 정확도 계산\n",
    "accuracy = accuracy_score(y_test, y_pred)\n",
    "print(\"모델의 정확도:\", accuracy)\n"
   ]
  },
  {
   "cell_type": "code",
   "execution_count": null,
   "id": "88946a88",
   "metadata": {},
   "outputs": [],
   "source": []
  },
  {
   "cell_type": "code",
   "execution_count": null,
   "id": "4769f47b",
   "metadata": {},
   "outputs": [],
   "source": []
  }
 ],
 "metadata": {
  "kernelspec": {
   "display_name": "Python 3 (ipykernel)",
   "language": "python",
   "name": "python3"
  },
  "language_info": {
   "codemirror_mode": {
    "name": "ipython",
    "version": 3
   },
   "file_extension": ".py",
   "mimetype": "text/x-python",
   "name": "python",
   "nbconvert_exporter": "python",
   "pygments_lexer": "ipython3",
   "version": "3.9.13"
  },
  "toc": {
   "base_numbering": 1,
   "nav_menu": {},
   "number_sections": true,
   "sideBar": true,
   "skip_h1_title": false,
   "title_cell": "Table of Contents",
   "title_sidebar": "Contents",
   "toc_cell": false,
   "toc_position": {},
   "toc_section_display": true,
   "toc_window_display": false
  },
  "varInspector": {
   "cols": {
    "lenName": 16,
    "lenType": 16,
    "lenVar": 40
   },
   "kernels_config": {
    "python": {
     "delete_cmd_postfix": "",
     "delete_cmd_prefix": "del ",
     "library": "var_list.py",
     "varRefreshCmd": "print(var_dic_list())"
    },
    "r": {
     "delete_cmd_postfix": ") ",
     "delete_cmd_prefix": "rm(",
     "library": "var_list.r",
     "varRefreshCmd": "cat(var_dic_list()) "
    }
   },
   "types_to_exclude": [
    "module",
    "function",
    "builtin_function_or_method",
    "instance",
    "_Feature"
   ],
   "window_display": false
  }
 },
 "nbformat": 4,
 "nbformat_minor": 5
}
