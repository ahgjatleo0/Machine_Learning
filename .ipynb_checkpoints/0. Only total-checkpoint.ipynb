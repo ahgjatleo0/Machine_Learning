{
 "cells": [
  {
   "cell_type": "code",
   "execution_count": 1,
   "id": "7e5bee8a",
   "metadata": {
    "ExecuteTime": {
     "end_time": "2023-05-31T08:32:00.672238Z",
     "start_time": "2023-05-31T08:31:57.521578Z"
    }
   },
   "outputs": [],
   "source": [
    "# 필요한 라이브러리들\n",
    "import pandas as pd\n",
    "import numpy as np\n",
    "import matplotlib.pyplot as plt\n",
    "import seaborn as sns \n",
    "import warnings\n",
    "warnings.filterwarnings('ignore')\n",
    "\n",
    "# 모델 불러오기\n",
    "from sklearn.neighbors import KNeighborsClassifier\n",
    "from sklearn.tree import DecisionTreeClassifier\n",
    "from sklearn.ensemble import VotingClassifier\n",
    "from sklearn.ensemble import RandomForestClassifier\n",
    "from sklearn.ensemble import AdaBoostClassifier\n",
    "from sklearn.ensemble import GradientBoostingClassifier\n",
    "from xgboost import XGBClassifier\n",
    "from lightgbm import LGBMClassifier\n",
    "\n",
    "# 나머지\n",
    "from sklearn.model_selection import cross_val_score\n",
    "from sklearn.model_selection import GridSearchCV\n",
    "from sklearn.preprocessing import StandardScaler"
   ]
  },
  {
   "cell_type": "code",
   "execution_count": 2,
   "id": "9c789914",
   "metadata": {
    "ExecuteTime": {
     "end_time": "2023-05-31T08:32:00.783074Z",
     "start_time": "2023-05-31T08:32:00.674218Z"
    }
   },
   "outputs": [],
   "source": [
    "df_train = pd.read_csv('data/kaggle/train.csv')\n",
    "df_test = pd.read_csv('data/kaggle/test.csv')\n",
    "result = pd.read_csv('./data/kaggle/sample_submission.csv')"
   ]
  },
  {
   "cell_type": "code",
   "execution_count": 3,
   "id": "b4ad5eee",
   "metadata": {
    "ExecuteTime": {
     "end_time": "2023-05-31T08:32:00.798771Z",
     "start_time": "2023-05-31T08:32:00.785062Z"
    }
   },
   "outputs": [],
   "source": [
    "# total_cap 컬럼 추가\n",
    "df_train['total_cap'] = df_train['capital-gain'] - df_train['capital-loss']\n",
    "df_test['total_cap'] = df_test['capital-gain'] - df_test['capital-loss']"
   ]
  },
  {
   "cell_type": "code",
   "execution_count": 4,
   "id": "de3078ac",
   "metadata": {
    "ExecuteTime": {
     "end_time": "2023-05-31T08:32:00.814729Z",
     "start_time": "2023-05-31T08:32:00.801764Z"
    }
   },
   "outputs": [],
   "source": [
    "# 필요없는 컬럼 drop\n",
    "df_train = df_train.drop(['no','fnlwgt','occupation','capital-gain','capital-loss','native-country','education'],axis=1)\n",
    "df_test = df_test.drop(['no','fnlwgt','occupation','capital-gain','capital-loss','native-country','education'],axis=1)"
   ]
  },
  {
   "cell_type": "code",
   "execution_count": 5,
   "id": "3724e0b8",
   "metadata": {
    "ExecuteTime": {
     "end_time": "2023-05-31T08:32:00.830687Z",
     "start_time": "2023-05-31T08:32:00.816724Z"
    }
   },
   "outputs": [],
   "source": [
    "# 나이 표준화\n",
    "df_train['age'] = (df_train['age'] - df_train['age'].mean()) / df_train['age'].std()\n",
    "df_test['age'] = (df_test['age'] - df_test['age'].mean()) / df_test['age'].std()\n",
    "# 주당 노동시간 표준화\n",
    "df_train['hours-per-week'] = (df_train['hours-per-week'] - df_train['hours-per-week'].mean()) / df_train['hours-per-week'].std()\n",
    "df_test['hours-per-week'] = (df_test['hours-per-week'] - df_test['hours-per-week'].mean()) / df_test['hours-per-week'].std()\n",
    "# total_cap 이상치 min-max 스케일링\n",
    "df_train['total_cap'] = (df_train['total_cap']-df_train['total_cap'].min())/(df_train['total_cap'].max()-df_train['total_cap'].min())\n",
    "df_test['total_cap'] = (df_test['total_cap']-df_test['total_cap'].min())/(df_test['total_cap'].max()-df_test['total_cap'].min())"
   ]
  },
  {
   "cell_type": "code",
   "execution_count": 6,
   "id": "fc1461ba",
   "metadata": {
    "ExecuteTime": {
     "end_time": "2023-05-31T08:32:00.877689Z",
     "start_time": "2023-05-31T08:32:00.831683Z"
    }
   },
   "outputs": [],
   "source": [
    "X_train = pd.get_dummies(df_train)\n",
    "X_test = pd.get_dummies(df_test)"
   ]
  },
  {
   "cell_type": "code",
   "execution_count": 7,
   "id": "a53df704",
   "metadata": {
    "ExecuteTime": {
     "end_time": "2023-05-31T08:32:00.909637Z",
     "start_time": "2023-05-31T08:32:00.879660Z"
    }
   },
   "outputs": [
    {
     "data": {
      "text/html": [
       "<div>\n",
       "<style scoped>\n",
       "    .dataframe tbody tr th:only-of-type {\n",
       "        vertical-align: middle;\n",
       "    }\n",
       "\n",
       "    .dataframe tbody tr th {\n",
       "        vertical-align: top;\n",
       "    }\n",
       "\n",
       "    .dataframe thead th {\n",
       "        text-align: right;\n",
       "    }\n",
       "</style>\n",
       "<table border=\"1\" class=\"dataframe\">\n",
       "  <thead>\n",
       "    <tr style=\"text-align: right;\">\n",
       "      <th></th>\n",
       "      <th>age</th>\n",
       "      <th>workclass</th>\n",
       "      <th>education-num</th>\n",
       "      <th>marital-status</th>\n",
       "      <th>relationship</th>\n",
       "      <th>race</th>\n",
       "      <th>sex</th>\n",
       "      <th>hours-per-week</th>\n",
       "      <th>income</th>\n",
       "      <th>total_cap</th>\n",
       "    </tr>\n",
       "  </thead>\n",
       "  <tbody>\n",
       "    <tr>\n",
       "      <th>0</th>\n",
       "      <td>-0.993840</td>\n",
       "      <td>Private</td>\n",
       "      <td>7</td>\n",
       "      <td>Divorced</td>\n",
       "      <td>Not-in-family</td>\n",
       "      <td>White</td>\n",
       "      <td>Male</td>\n",
       "      <td>-0.035685</td>\n",
       "      <td>0</td>\n",
       "      <td>0.041742</td>\n",
       "    </tr>\n",
       "    <tr>\n",
       "      <th>1</th>\n",
       "      <td>0.024799</td>\n",
       "      <td>Private</td>\n",
       "      <td>10</td>\n",
       "      <td>Divorced</td>\n",
       "      <td>Not-in-family</td>\n",
       "      <td>White</td>\n",
       "      <td>Female</td>\n",
       "      <td>1.180580</td>\n",
       "      <td>0</td>\n",
       "      <td>0.025250</td>\n",
       "    </tr>\n",
       "    <tr>\n",
       "      <th>2</th>\n",
       "      <td>-0.266241</td>\n",
       "      <td>Private</td>\n",
       "      <td>13</td>\n",
       "      <td>Never-married</td>\n",
       "      <td>Not-in-family</td>\n",
       "      <td>Asian-Pac-Islander</td>\n",
       "      <td>Female</td>\n",
       "      <td>0.775158</td>\n",
       "      <td>0</td>\n",
       "      <td>0.041742</td>\n",
       "    </tr>\n",
       "    <tr>\n",
       "      <th>3</th>\n",
       "      <td>1.843797</td>\n",
       "      <td>Private</td>\n",
       "      <td>11</td>\n",
       "      <td>Divorced</td>\n",
       "      <td>Not-in-family</td>\n",
       "      <td>White</td>\n",
       "      <td>Female</td>\n",
       "      <td>-0.035685</td>\n",
       "      <td>0</td>\n",
       "      <td>0.041742</td>\n",
       "    </tr>\n",
       "    <tr>\n",
       "      <th>4</th>\n",
       "      <td>-1.066600</td>\n",
       "      <td>Private</td>\n",
       "      <td>10</td>\n",
       "      <td>Married-civ-spouse</td>\n",
       "      <td>Husband</td>\n",
       "      <td>White</td>\n",
       "      <td>Male</td>\n",
       "      <td>2.396845</td>\n",
       "      <td>1</td>\n",
       "      <td>0.041742</td>\n",
       "    </tr>\n",
       "    <tr>\n",
       "      <th>...</th>\n",
       "      <td>...</td>\n",
       "      <td>...</td>\n",
       "      <td>...</td>\n",
       "      <td>...</td>\n",
       "      <td>...</td>\n",
       "      <td>...</td>\n",
       "      <td>...</td>\n",
       "      <td>...</td>\n",
       "      <td>...</td>\n",
       "      <td>...</td>\n",
       "    </tr>\n",
       "    <tr>\n",
       "      <th>29300</th>\n",
       "      <td>-1.357640</td>\n",
       "      <td>Private</td>\n",
       "      <td>9</td>\n",
       "      <td>Never-married</td>\n",
       "      <td>Own-child</td>\n",
       "      <td>Other</td>\n",
       "      <td>Male</td>\n",
       "      <td>-0.035685</td>\n",
       "      <td>0</td>\n",
       "      <td>0.041742</td>\n",
       "    </tr>\n",
       "    <tr>\n",
       "      <th>29301</th>\n",
       "      <td>-1.284880</td>\n",
       "      <td>Private</td>\n",
       "      <td>9</td>\n",
       "      <td>Never-married</td>\n",
       "      <td>Own-child</td>\n",
       "      <td>Black</td>\n",
       "      <td>Male</td>\n",
       "      <td>-0.035685</td>\n",
       "      <td>0</td>\n",
       "      <td>0.041742</td>\n",
       "    </tr>\n",
       "    <tr>\n",
       "      <th>29302</th>\n",
       "      <td>-1.503160</td>\n",
       "      <td>Self-emp-not-inc</td>\n",
       "      <td>6</td>\n",
       "      <td>Never-married</td>\n",
       "      <td>Own-child</td>\n",
       "      <td>White</td>\n",
       "      <td>Male</td>\n",
       "      <td>-0.035685</td>\n",
       "      <td>0</td>\n",
       "      <td>0.041742</td>\n",
       "    </tr>\n",
       "    <tr>\n",
       "      <th>29303</th>\n",
       "      <td>-0.411761</td>\n",
       "      <td>Private</td>\n",
       "      <td>7</td>\n",
       "      <td>Never-married</td>\n",
       "      <td>Not-in-family</td>\n",
       "      <td>White</td>\n",
       "      <td>Male</td>\n",
       "      <td>1.991423</td>\n",
       "      <td>0</td>\n",
       "      <td>0.041742</td>\n",
       "    </tr>\n",
       "    <tr>\n",
       "      <th>29304</th>\n",
       "      <td>1.916557</td>\n",
       "      <td>?</td>\n",
       "      <td>9</td>\n",
       "      <td>Widowed</td>\n",
       "      <td>Not-in-family</td>\n",
       "      <td>White</td>\n",
       "      <td>Female</td>\n",
       "      <td>-0.035685</td>\n",
       "      <td>0</td>\n",
       "      <td>0.041742</td>\n",
       "    </tr>\n",
       "  </tbody>\n",
       "</table>\n",
       "<p>29305 rows × 10 columns</p>\n",
       "</div>"
      ],
      "text/plain": [
       "            age          workclass  education-num       marital-status  \\\n",
       "0     -0.993840            Private              7             Divorced   \n",
       "1      0.024799            Private             10             Divorced   \n",
       "2     -0.266241            Private             13        Never-married   \n",
       "3      1.843797            Private             11             Divorced   \n",
       "4     -1.066600            Private             10   Married-civ-spouse   \n",
       "...         ...                ...            ...                  ...   \n",
       "29300 -1.357640            Private              9        Never-married   \n",
       "29301 -1.284880            Private              9        Never-married   \n",
       "29302 -1.503160   Self-emp-not-inc              6        Never-married   \n",
       "29303 -0.411761            Private              7        Never-married   \n",
       "29304  1.916557                  ?              9              Widowed   \n",
       "\n",
       "         relationship                 race      sex  hours-per-week  income  \\\n",
       "0       Not-in-family                White     Male       -0.035685       0   \n",
       "1       Not-in-family                White   Female        1.180580       0   \n",
       "2       Not-in-family   Asian-Pac-Islander   Female        0.775158       0   \n",
       "3       Not-in-family                White   Female       -0.035685       0   \n",
       "4             Husband                White     Male        2.396845       1   \n",
       "...               ...                  ...      ...             ...     ...   \n",
       "29300       Own-child                Other     Male       -0.035685       0   \n",
       "29301       Own-child                Black     Male       -0.035685       0   \n",
       "29302       Own-child                White     Male       -0.035685       0   \n",
       "29303   Not-in-family                White     Male        1.991423       0   \n",
       "29304   Not-in-family                White   Female       -0.035685       0   \n",
       "\n",
       "       total_cap  \n",
       "0       0.041742  \n",
       "1       0.025250  \n",
       "2       0.041742  \n",
       "3       0.041742  \n",
       "4       0.041742  \n",
       "...          ...  \n",
       "29300   0.041742  \n",
       "29301   0.041742  \n",
       "29302   0.041742  \n",
       "29303   0.041742  \n",
       "29304   0.041742  \n",
       "\n",
       "[29305 rows x 10 columns]"
      ]
     },
     "execution_count": 7,
     "metadata": {},
     "output_type": "execute_result"
    }
   ],
   "source": [
    "df_train"
   ]
  },
  {
   "cell_type": "code",
   "execution_count": 8,
   "id": "3c40e0c4",
   "metadata": {
    "ExecuteTime": {
     "end_time": "2023-05-31T08:32:00.940530Z",
     "start_time": "2023-05-31T08:32:00.910638Z"
    }
   },
   "outputs": [
    {
     "data": {
      "text/html": [
       "<div>\n",
       "<style scoped>\n",
       "    .dataframe tbody tr th:only-of-type {\n",
       "        vertical-align: middle;\n",
       "    }\n",
       "\n",
       "    .dataframe tbody tr th {\n",
       "        vertical-align: top;\n",
       "    }\n",
       "\n",
       "    .dataframe thead th {\n",
       "        text-align: right;\n",
       "    }\n",
       "</style>\n",
       "<table border=\"1\" class=\"dataframe\">\n",
       "  <thead>\n",
       "    <tr style=\"text-align: right;\">\n",
       "      <th></th>\n",
       "      <th>age</th>\n",
       "      <th>education-num</th>\n",
       "      <th>hours-per-week</th>\n",
       "      <th>income</th>\n",
       "      <th>total_cap</th>\n",
       "      <th>workclass_ ?</th>\n",
       "      <th>workclass_ Federal-gov</th>\n",
       "      <th>workclass_ Local-gov</th>\n",
       "      <th>workclass_ Never-worked</th>\n",
       "      <th>workclass_ Private</th>\n",
       "      <th>...</th>\n",
       "      <th>relationship_ Own-child</th>\n",
       "      <th>relationship_ Unmarried</th>\n",
       "      <th>relationship_ Wife</th>\n",
       "      <th>race_ Amer-Indian-Eskimo</th>\n",
       "      <th>race_ Asian-Pac-Islander</th>\n",
       "      <th>race_ Black</th>\n",
       "      <th>race_ Other</th>\n",
       "      <th>race_ White</th>\n",
       "      <th>sex_ Female</th>\n",
       "      <th>sex_ Male</th>\n",
       "    </tr>\n",
       "  </thead>\n",
       "  <tbody>\n",
       "    <tr>\n",
       "      <th>0</th>\n",
       "      <td>-0.993840</td>\n",
       "      <td>7</td>\n",
       "      <td>-0.035685</td>\n",
       "      <td>0</td>\n",
       "      <td>0.041742</td>\n",
       "      <td>0</td>\n",
       "      <td>0</td>\n",
       "      <td>0</td>\n",
       "      <td>0</td>\n",
       "      <td>1</td>\n",
       "      <td>...</td>\n",
       "      <td>0</td>\n",
       "      <td>0</td>\n",
       "      <td>0</td>\n",
       "      <td>0</td>\n",
       "      <td>0</td>\n",
       "      <td>0</td>\n",
       "      <td>0</td>\n",
       "      <td>1</td>\n",
       "      <td>0</td>\n",
       "      <td>1</td>\n",
       "    </tr>\n",
       "    <tr>\n",
       "      <th>1</th>\n",
       "      <td>0.024799</td>\n",
       "      <td>10</td>\n",
       "      <td>1.180580</td>\n",
       "      <td>0</td>\n",
       "      <td>0.025250</td>\n",
       "      <td>0</td>\n",
       "      <td>0</td>\n",
       "      <td>0</td>\n",
       "      <td>0</td>\n",
       "      <td>1</td>\n",
       "      <td>...</td>\n",
       "      <td>0</td>\n",
       "      <td>0</td>\n",
       "      <td>0</td>\n",
       "      <td>0</td>\n",
       "      <td>0</td>\n",
       "      <td>0</td>\n",
       "      <td>0</td>\n",
       "      <td>1</td>\n",
       "      <td>1</td>\n",
       "      <td>0</td>\n",
       "    </tr>\n",
       "    <tr>\n",
       "      <th>2</th>\n",
       "      <td>-0.266241</td>\n",
       "      <td>13</td>\n",
       "      <td>0.775158</td>\n",
       "      <td>0</td>\n",
       "      <td>0.041742</td>\n",
       "      <td>0</td>\n",
       "      <td>0</td>\n",
       "      <td>0</td>\n",
       "      <td>0</td>\n",
       "      <td>1</td>\n",
       "      <td>...</td>\n",
       "      <td>0</td>\n",
       "      <td>0</td>\n",
       "      <td>0</td>\n",
       "      <td>0</td>\n",
       "      <td>1</td>\n",
       "      <td>0</td>\n",
       "      <td>0</td>\n",
       "      <td>0</td>\n",
       "      <td>1</td>\n",
       "      <td>0</td>\n",
       "    </tr>\n",
       "    <tr>\n",
       "      <th>3</th>\n",
       "      <td>1.843797</td>\n",
       "      <td>11</td>\n",
       "      <td>-0.035685</td>\n",
       "      <td>0</td>\n",
       "      <td>0.041742</td>\n",
       "      <td>0</td>\n",
       "      <td>0</td>\n",
       "      <td>0</td>\n",
       "      <td>0</td>\n",
       "      <td>1</td>\n",
       "      <td>...</td>\n",
       "      <td>0</td>\n",
       "      <td>0</td>\n",
       "      <td>0</td>\n",
       "      <td>0</td>\n",
       "      <td>0</td>\n",
       "      <td>0</td>\n",
       "      <td>0</td>\n",
       "      <td>1</td>\n",
       "      <td>1</td>\n",
       "      <td>0</td>\n",
       "    </tr>\n",
       "    <tr>\n",
       "      <th>4</th>\n",
       "      <td>-1.066600</td>\n",
       "      <td>10</td>\n",
       "      <td>2.396845</td>\n",
       "      <td>1</td>\n",
       "      <td>0.041742</td>\n",
       "      <td>0</td>\n",
       "      <td>0</td>\n",
       "      <td>0</td>\n",
       "      <td>0</td>\n",
       "      <td>1</td>\n",
       "      <td>...</td>\n",
       "      <td>0</td>\n",
       "      <td>0</td>\n",
       "      <td>0</td>\n",
       "      <td>0</td>\n",
       "      <td>0</td>\n",
       "      <td>0</td>\n",
       "      <td>0</td>\n",
       "      <td>1</td>\n",
       "      <td>0</td>\n",
       "      <td>1</td>\n",
       "    </tr>\n",
       "    <tr>\n",
       "      <th>...</th>\n",
       "      <td>...</td>\n",
       "      <td>...</td>\n",
       "      <td>...</td>\n",
       "      <td>...</td>\n",
       "      <td>...</td>\n",
       "      <td>...</td>\n",
       "      <td>...</td>\n",
       "      <td>...</td>\n",
       "      <td>...</td>\n",
       "      <td>...</td>\n",
       "      <td>...</td>\n",
       "      <td>...</td>\n",
       "      <td>...</td>\n",
       "      <td>...</td>\n",
       "      <td>...</td>\n",
       "      <td>...</td>\n",
       "      <td>...</td>\n",
       "      <td>...</td>\n",
       "      <td>...</td>\n",
       "      <td>...</td>\n",
       "      <td>...</td>\n",
       "    </tr>\n",
       "    <tr>\n",
       "      <th>29300</th>\n",
       "      <td>-1.357640</td>\n",
       "      <td>9</td>\n",
       "      <td>-0.035685</td>\n",
       "      <td>0</td>\n",
       "      <td>0.041742</td>\n",
       "      <td>0</td>\n",
       "      <td>0</td>\n",
       "      <td>0</td>\n",
       "      <td>0</td>\n",
       "      <td>1</td>\n",
       "      <td>...</td>\n",
       "      <td>1</td>\n",
       "      <td>0</td>\n",
       "      <td>0</td>\n",
       "      <td>0</td>\n",
       "      <td>0</td>\n",
       "      <td>0</td>\n",
       "      <td>1</td>\n",
       "      <td>0</td>\n",
       "      <td>0</td>\n",
       "      <td>1</td>\n",
       "    </tr>\n",
       "    <tr>\n",
       "      <th>29301</th>\n",
       "      <td>-1.284880</td>\n",
       "      <td>9</td>\n",
       "      <td>-0.035685</td>\n",
       "      <td>0</td>\n",
       "      <td>0.041742</td>\n",
       "      <td>0</td>\n",
       "      <td>0</td>\n",
       "      <td>0</td>\n",
       "      <td>0</td>\n",
       "      <td>1</td>\n",
       "      <td>...</td>\n",
       "      <td>1</td>\n",
       "      <td>0</td>\n",
       "      <td>0</td>\n",
       "      <td>0</td>\n",
       "      <td>0</td>\n",
       "      <td>1</td>\n",
       "      <td>0</td>\n",
       "      <td>0</td>\n",
       "      <td>0</td>\n",
       "      <td>1</td>\n",
       "    </tr>\n",
       "    <tr>\n",
       "      <th>29302</th>\n",
       "      <td>-1.503160</td>\n",
       "      <td>6</td>\n",
       "      <td>-0.035685</td>\n",
       "      <td>0</td>\n",
       "      <td>0.041742</td>\n",
       "      <td>0</td>\n",
       "      <td>0</td>\n",
       "      <td>0</td>\n",
       "      <td>0</td>\n",
       "      <td>0</td>\n",
       "      <td>...</td>\n",
       "      <td>1</td>\n",
       "      <td>0</td>\n",
       "      <td>0</td>\n",
       "      <td>0</td>\n",
       "      <td>0</td>\n",
       "      <td>0</td>\n",
       "      <td>0</td>\n",
       "      <td>1</td>\n",
       "      <td>0</td>\n",
       "      <td>1</td>\n",
       "    </tr>\n",
       "    <tr>\n",
       "      <th>29303</th>\n",
       "      <td>-0.411761</td>\n",
       "      <td>7</td>\n",
       "      <td>1.991423</td>\n",
       "      <td>0</td>\n",
       "      <td>0.041742</td>\n",
       "      <td>0</td>\n",
       "      <td>0</td>\n",
       "      <td>0</td>\n",
       "      <td>0</td>\n",
       "      <td>1</td>\n",
       "      <td>...</td>\n",
       "      <td>0</td>\n",
       "      <td>0</td>\n",
       "      <td>0</td>\n",
       "      <td>0</td>\n",
       "      <td>0</td>\n",
       "      <td>0</td>\n",
       "      <td>0</td>\n",
       "      <td>1</td>\n",
       "      <td>0</td>\n",
       "      <td>1</td>\n",
       "    </tr>\n",
       "    <tr>\n",
       "      <th>29304</th>\n",
       "      <td>1.916557</td>\n",
       "      <td>9</td>\n",
       "      <td>-0.035685</td>\n",
       "      <td>0</td>\n",
       "      <td>0.041742</td>\n",
       "      <td>1</td>\n",
       "      <td>0</td>\n",
       "      <td>0</td>\n",
       "      <td>0</td>\n",
       "      <td>0</td>\n",
       "      <td>...</td>\n",
       "      <td>0</td>\n",
       "      <td>0</td>\n",
       "      <td>0</td>\n",
       "      <td>0</td>\n",
       "      <td>0</td>\n",
       "      <td>0</td>\n",
       "      <td>0</td>\n",
       "      <td>1</td>\n",
       "      <td>1</td>\n",
       "      <td>0</td>\n",
       "    </tr>\n",
       "  </tbody>\n",
       "</table>\n",
       "<p>29305 rows × 34 columns</p>\n",
       "</div>"
      ],
      "text/plain": [
       "            age  education-num  hours-per-week  income  total_cap  \\\n",
       "0     -0.993840              7       -0.035685       0   0.041742   \n",
       "1      0.024799             10        1.180580       0   0.025250   \n",
       "2     -0.266241             13        0.775158       0   0.041742   \n",
       "3      1.843797             11       -0.035685       0   0.041742   \n",
       "4     -1.066600             10        2.396845       1   0.041742   \n",
       "...         ...            ...             ...     ...        ...   \n",
       "29300 -1.357640              9       -0.035685       0   0.041742   \n",
       "29301 -1.284880              9       -0.035685       0   0.041742   \n",
       "29302 -1.503160              6       -0.035685       0   0.041742   \n",
       "29303 -0.411761              7        1.991423       0   0.041742   \n",
       "29304  1.916557              9       -0.035685       0   0.041742   \n",
       "\n",
       "       workclass_ ?  workclass_ Federal-gov  workclass_ Local-gov  \\\n",
       "0                 0                       0                     0   \n",
       "1                 0                       0                     0   \n",
       "2                 0                       0                     0   \n",
       "3                 0                       0                     0   \n",
       "4                 0                       0                     0   \n",
       "...             ...                     ...                   ...   \n",
       "29300             0                       0                     0   \n",
       "29301             0                       0                     0   \n",
       "29302             0                       0                     0   \n",
       "29303             0                       0                     0   \n",
       "29304             1                       0                     0   \n",
       "\n",
       "       workclass_ Never-worked  workclass_ Private  ...  \\\n",
       "0                            0                   1  ...   \n",
       "1                            0                   1  ...   \n",
       "2                            0                   1  ...   \n",
       "3                            0                   1  ...   \n",
       "4                            0                   1  ...   \n",
       "...                        ...                 ...  ...   \n",
       "29300                        0                   1  ...   \n",
       "29301                        0                   1  ...   \n",
       "29302                        0                   0  ...   \n",
       "29303                        0                   1  ...   \n",
       "29304                        0                   0  ...   \n",
       "\n",
       "       relationship_ Own-child  relationship_ Unmarried  relationship_ Wife  \\\n",
       "0                            0                        0                   0   \n",
       "1                            0                        0                   0   \n",
       "2                            0                        0                   0   \n",
       "3                            0                        0                   0   \n",
       "4                            0                        0                   0   \n",
       "...                        ...                      ...                 ...   \n",
       "29300                        1                        0                   0   \n",
       "29301                        1                        0                   0   \n",
       "29302                        1                        0                   0   \n",
       "29303                        0                        0                   0   \n",
       "29304                        0                        0                   0   \n",
       "\n",
       "       race_ Amer-Indian-Eskimo  race_ Asian-Pac-Islander  race_ Black  \\\n",
       "0                             0                         0            0   \n",
       "1                             0                         0            0   \n",
       "2                             0                         1            0   \n",
       "3                             0                         0            0   \n",
       "4                             0                         0            0   \n",
       "...                         ...                       ...          ...   \n",
       "29300                         0                         0            0   \n",
       "29301                         0                         0            1   \n",
       "29302                         0                         0            0   \n",
       "29303                         0                         0            0   \n",
       "29304                         0                         0            0   \n",
       "\n",
       "       race_ Other  race_ White  sex_ Female  sex_ Male  \n",
       "0                0            1            0          1  \n",
       "1                0            1            1          0  \n",
       "2                0            0            1          0  \n",
       "3                0            1            1          0  \n",
       "4                0            1            0          1  \n",
       "...            ...          ...          ...        ...  \n",
       "29300            1            0            0          1  \n",
       "29301            0            0            0          1  \n",
       "29302            0            1            0          1  \n",
       "29303            0            1            0          1  \n",
       "29304            0            1            1          0  \n",
       "\n",
       "[29305 rows x 34 columns]"
      ]
     },
     "execution_count": 8,
     "metadata": {},
     "output_type": "execute_result"
    }
   ],
   "source": [
    "X_train"
   ]
  },
  {
   "cell_type": "code",
   "execution_count": 9,
   "id": "c4e423c0",
   "metadata": {
    "ExecuteTime": {
     "end_time": "2023-05-31T08:32:00.955491Z",
     "start_time": "2023-05-31T08:32:00.942523Z"
    }
   },
   "outputs": [],
   "source": [
    "# 정답 데이터 분리\n",
    "y_train = X_train['income']\n",
    "X_train.drop('income',axis=1,inplace=True)"
   ]
  },
  {
   "cell_type": "code",
   "execution_count": 10,
   "id": "bc7226d4",
   "metadata": {
    "ExecuteTime": {
     "end_time": "2023-05-31T08:32:01.350434Z",
     "start_time": "2023-05-31T08:32:00.960475Z"
    }
   },
   "outputs": [],
   "source": [
    "# lightgbm 모델\n",
    "lgbm = LGBMClassifier(random_state=200, n_jobs=-1, reg_alpha=0.9, reg_lambda=0.2, n_estimators=101)\n",
    "lgbm.fit(X_train,y_train)\n",
    "lgbm_pre = lgbm.predict(X_test)\n",
    "# 0.867087527725644"
   ]
  },
  {
   "cell_type": "code",
   "execution_count": 11,
   "id": "f5b3b172",
   "metadata": {
    "ExecuteTime": {
     "end_time": "2023-05-31T08:32:01.366392Z",
     "start_time": "2023-05-31T08:32:01.352430Z"
    }
   },
   "outputs": [],
   "source": [
    "X_train_2 = pd.concat([X_train,X_test])"
   ]
  },
  {
   "cell_type": "code",
   "execution_count": 12,
   "id": "6afcda4e",
   "metadata": {
    "ExecuteTime": {
     "end_time": "2023-05-31T08:32:01.413267Z",
     "start_time": "2023-05-31T08:32:01.368387Z"
    }
   },
   "outputs": [],
   "source": [
    "y_1=y_train.to_numpy()\n",
    "y_t = np.concatenate([y_1, lgbm_pre])\n",
    "y_t = list(y_t)\n",
    "y_train_change=pd.Series(y_t)"
   ]
  },
  {
   "cell_type": "code",
   "execution_count": 13,
   "id": "e8d37a05",
   "metadata": {
    "ExecuteTime": {
     "end_time": "2023-05-31T08:32:01.807216Z",
     "start_time": "2023-05-31T08:32:01.415261Z"
    }
   },
   "outputs": [
    {
     "data": {
      "text/plain": [
       "LGBMClassifier(n_estimators=200, random_state=101, reg_alpha=0.9,\n",
       "               reg_lambda=0.2)"
      ]
     },
     "execution_count": 13,
     "metadata": {},
     "output_type": "execute_result"
    }
   ],
   "source": [
    "### 모델 훈련\n",
    "lgbm.fit(X_train_2,y_train_change)"
   ]
  },
  {
   "cell_type": "code",
   "execution_count": 14,
   "id": "b1a5ce68",
   "metadata": {
    "ExecuteTime": {
     "end_time": "2023-05-31T08:32:01.917921Z",
     "start_time": "2023-05-31T08:32:01.809211Z"
    }
   },
   "outputs": [],
   "source": [
    "# lgb 모델로 예측한 결과\n",
    "pre1 = lgbm.predict(X_test)\n",
    "# kaggle 양식 불러오기\n",
    "rs =  pd.read_csv('./data/kaggle/sample_submission.csv')\n",
    "rs['income'] = pre1 # 내 모델의 예측 결과를 양식에 넣기\n",
    "rs.to_csv('RRRRReal1.csv', index = False)"
   ]
  },
  {
   "cell_type": "code",
   "execution_count": 15,
   "id": "9fdc9fec",
   "metadata": {
    "ExecuteTime": {
     "end_time": "2023-05-31T08:32:04.721441Z",
     "start_time": "2023-05-31T08:32:01.919916Z"
    }
   },
   "outputs": [
    {
     "name": "stdout",
     "output_type": "stream",
     "text": [
      "교차 검증 정확도: [0.87685536 0.88064285 0.90059378 0.9206593  0.94256757]\n",
      "평균 정확도: 0.9042637694879481\n"
     ]
    }
   ],
   "source": [
    "# 위 과정 반복 -> 모델 예측한 결과중 더 좋은 결과를 다시 테스트 데이터의 정답으로 활용 + 트레인 데이터와 다시 합치고 다시 모델 학습\n",
    "y_t = np.concatenate([y_1, pre1])\n",
    "y_t = list(y_t)\n",
    "y_train_change=pd.Series(y_t)\n",
    "\n",
    "lgbm.fit(X_train_2,y_train_change)\n",
    "\n",
    "pre2 = lgbm.predict(X_test)\n",
    "# kaggle 양식 불러오기\n",
    "rs =  pd.read_csv('./data/kaggle/sample_submission.csv')\n",
    "rs['income'] = pre2 # 내 모델의 예측 결과를 양식에 넣기\n",
    "rs.to_csv('RRRRReal2.csv', index = False)\n",
    "\n",
    "scores = cross_val_score(lgbm, X_train_2, y_train_change, cv=5, scoring='accuracy')\n",
    "\n",
    "# 교차 검증 결과 출력\n",
    "print(\"교차 검증 정확도:\", scores)\n",
    "print(\"평균 정확도:\", scores.mean())"
   ]
  },
  {
   "cell_type": "code",
   "execution_count": 16,
   "id": "a85e4dfb",
   "metadata": {
    "ExecuteTime": {
     "end_time": "2023-05-31T08:32:07.561863Z",
     "start_time": "2023-05-31T08:32:04.723436Z"
    }
   },
   "outputs": [
    {
     "name": "stdout",
     "output_type": "stream",
     "text": [
      "교차 검증 정확도: [0.8781861  0.88033576 0.90161753 0.92219492 0.94266994]\n",
      "평균 정확도: 0.9050008492658712\n"
     ]
    }
   ],
   "source": [
    "# 위 과정 반복 -> 모델 예측한 결과중 더 좋은 결과를 다시 테스트 데이터의 정답으로 활용 + 트레인 데이터와 다시 합치고 다시 모델 학습\n",
    "y_t = np.concatenate([y_1, pre2])\n",
    "y_t = list(y_t)\n",
    "y_train_change=pd.Series(y_t)\n",
    "\n",
    "lgbm.fit(X_train_2,y_train_change)\n",
    "\n",
    "pre3 = lgbm.predict(X_test)\n",
    "# kaggle 양식 불러오기\n",
    "rs =  pd.read_csv('./data/kaggle/sample_submission.csv')\n",
    "rs['income'] = pre3 # 내 모델의 예측 결과를 양식에 넣기\n",
    "rs.to_csv('RRRRReal3.csv', index = False)\n",
    "\n",
    "scores = cross_val_score(lgbm, X_train_2, y_train_change, cv=5, scoring='accuracy')\n",
    "\n",
    "# 교차 검증 결과 출력\n",
    "print(\"교차 검증 정확도:\", scores)\n",
    "print(\"평균 정확도:\", scores.mean())"
   ]
  },
  {
   "cell_type": "code",
   "execution_count": 17,
   "id": "e394a147",
   "metadata": {
    "ExecuteTime": {
     "end_time": "2023-05-31T08:32:10.441182Z",
     "start_time": "2023-05-31T08:32:07.563859Z"
    }
   },
   "outputs": [
    {
     "name": "stdout",
     "output_type": "stream",
     "text": [
      "교차 검증 정확도: [0.87675299 0.88084758 0.89987715 0.92260442 0.94400082]\n",
      "평균 정확도: 0.9048165929448558\n"
     ]
    }
   ],
   "source": [
    "# 위 과정 반복 -> 모델 예측한 결과중 더 좋은 결과를 다시 테스트 데이터의 정답으로 활용 + 트레인 데이터와 다시 합치고 다시 모델 학습\n",
    "y_t = np.concatenate([y_1, pre3])\n",
    "y_t = list(y_t)\n",
    "y_train_change=pd.Series(y_t)\n",
    "\n",
    "lgbm.fit(X_train_2,y_train_change)\n",
    "\n",
    "pre4 = lgbm.predict(X_test)\n",
    "# kaggle 양식 불러오기\n",
    "rs =  pd.read_csv('./data/kaggle/sample_submission.csv')\n",
    "rs['income'] = pre4 # 내 모델의 예측 결과를 양식에 넣기\n",
    "rs.to_csv('RRRRReal4.csv', index = False)\n",
    "\n",
    "scores = cross_val_score(lgbm, X_train_2, y_train_change, cv=5, scoring='accuracy')\n",
    "\n",
    "# 교차 검증 결과 출력\n",
    "print(\"교차 검증 정확도:\", scores)\n",
    "print(\"평균 정확도:\", scores.mean())"
   ]
  },
  {
   "cell_type": "code",
   "execution_count": 18,
   "id": "27a62367",
   "metadata": {
    "ExecuteTime": {
     "end_time": "2023-05-31T08:32:13.293572Z",
     "start_time": "2023-05-31T08:32:10.443177Z"
    }
   },
   "outputs": [
    {
     "name": "stdout",
     "output_type": "stream",
     "text": [
      "교차 검증 정확도: [0.87675299 0.87951684 0.90079853 0.92239967 0.94256757]\n",
      "평균 정확도: 0.904407119782286\n"
     ]
    }
   ],
   "source": [
    "# 위 과정 반복 -> 모델 예측한 결과중 더 좋은 결과를 다시 테스트 데이터의 정답으로 활용 + 트레인 데이터와 다시 합치고 다시 모델 학습\n",
    "y_t = np.concatenate([y_1, pre4])\n",
    "y_t = list(y_t)\n",
    "y_train_change=pd.Series(y_t)\n",
    "\n",
    "lgbm.fit(X_train_2,y_train_change)\n",
    "\n",
    "pre5 = lgbm.predict(X_test)\n",
    "# kaggle 양식 불러오기\n",
    "rs =  pd.read_csv('./data/kaggle/sample_submission.csv')\n",
    "rs['income'] = pre5 # 내 모델의 예측 결과를 양식에 넣기\n",
    "rs.to_csv('RRRRReal4.csv', index = False)\n",
    "\n",
    "scores = cross_val_score(lgbm, X_train_2, y_train_change, cv=5, scoring='accuracy')\n",
    "\n",
    "# 교차 검증 결과 출력\n",
    "print(\"교차 검증 정확도:\", scores)\n",
    "print(\"평균 정확도:\", scores.mean())"
   ]
  },
  {
   "cell_type": "code",
   "execution_count": 19,
   "id": "5dba9bf4",
   "metadata": {
    "ExecuteTime": {
     "end_time": "2023-05-31T08:32:16.005337Z",
     "start_time": "2023-05-31T08:32:13.295567Z"
    }
   },
   "outputs": [
    {
     "name": "stdout",
     "output_type": "stream",
     "text": [
      "교차 검증 정확도: [0.87726482 0.88176886 0.90151515 0.9222973  0.94287469]\n",
      "평균 정확도: 0.9051441639296076\n"
     ]
    }
   ],
   "source": [
    "# 위 과정 반복 -> 모델 예측한 결과중 더 좋은 결과를 다시 테스트 데이터의 정답으로 활용 + 트레인 데이터와 다시 합치고 다시 모델 학습\n",
    "y_t = np.concatenate([y_1, pre5])\n",
    "y_t = list(y_t)\n",
    "y_train_change=pd.Series(y_t)\n",
    "\n",
    "lgbm.fit(X_train_2,y_train_change)\n",
    "\n",
    "pre6 = lgbm.predict(X_test)\n",
    "# kaggle 양식 불러오기\n",
    "rs =  pd.read_csv('./data/kaggle/sample_submission.csv')\n",
    "rs['income'] = pre6 # 내 모델의 예측 결과를 양식에 넣기\n",
    "rs.to_csv('RRRRReal6.csv', index = False)\n",
    "\n",
    "scores = cross_val_score(lgbm, X_train_2, y_train_change, cv=5, scoring='accuracy')\n",
    "\n",
    "# 교차 검증 결과 출력\n",
    "print(\"교차 검증 정확도:\", scores)\n",
    "print(\"평균 정확도:\", scores.mean())"
   ]
  },
  {
   "cell_type": "code",
   "execution_count": 20,
   "id": "c33f9028",
   "metadata": {
    "ExecuteTime": {
     "end_time": "2023-05-31T08:32:18.622355Z",
     "start_time": "2023-05-31T08:32:16.007332Z"
    }
   },
   "outputs": [
    {
     "name": "stdout",
     "output_type": "stream",
     "text": [
      "교차 검증 정확도: [0.87634354 0.88033576 0.90161753 0.92199017 0.94348894]\n",
      "평균 정확도: 0.9047551867466905\n"
     ]
    }
   ],
   "source": [
    "# 위 과정 반복 -> 모델 예측한 결과중 더 좋은 결과를 다시 테스트 데이터의 정답으로 활용 + 트레인 데이터와 다시 합치고 다시 모델 학습\n",
    "y_t = np.concatenate([y_1, pre6])\n",
    "y_t = list(y_t)\n",
    "y_train_change=pd.Series(y_t)\n",
    "\n",
    "lgbm.fit(X_train_2,y_train_change)\n",
    "\n",
    "pre7 = lgbm.predict(X_test)\n",
    "# kaggle 양식 불러오기\n",
    "rs =  pd.read_csv('./data/kaggle/sample_submission.csv')\n",
    "rs['income'] = pre7 # 내 모델의 예측 결과를 양식에 넣기\n",
    "rs.to_csv('RRRRReal7.csv', index = False)\n",
    "\n",
    "scores = cross_val_score(lgbm, X_train_2, y_train_change, cv=5, scoring='accuracy')\n",
    "\n",
    "# 교차 검증 결과 출력\n",
    "print(\"교차 검증 정확도:\", scores)\n",
    "print(\"평균 정확도:\", scores.mean())"
   ]
  },
  {
   "cell_type": "code",
   "execution_count": 21,
   "id": "a039bf3d",
   "metadata": {
    "ExecuteTime": {
     "end_time": "2023-05-31T08:32:21.252340Z",
     "start_time": "2023-05-31T08:32:18.624351Z"
    }
   },
   "outputs": [
    {
     "name": "stdout",
     "output_type": "stream",
     "text": [
      "교차 검증 정확도: [0.87675299 0.87941447 0.90038903 0.9210688  0.94420557]\n",
      "평균 정확도: 0.9043661718372539\n"
     ]
    }
   ],
   "source": [
    "# 위 과정 반복 -> 모델 예측한 결과중 더 좋은 결과를 다시 테스트 데이터의 정답으로 활용 + 트레인 데이터와 다시 합치고 다시 모델 학습\n",
    "y_t = np.concatenate([y_1, pre7])\n",
    "y_t = list(y_t)\n",
    "y_train_change=pd.Series(y_t)\n",
    "\n",
    "lgbm.fit(X_train_2,y_train_change)\n",
    "\n",
    "pre8 = lgbm.predict(X_test)\n",
    "# kaggle 양식 불러오기\n",
    "rs =  pd.read_csv('./data/kaggle/sample_submission.csv')\n",
    "rs['income'] = pre8 # 내 모델의 예측 결과를 양식에 넣기\n",
    "rs.to_csv('RRRRReal8.csv', index = False)\n",
    "\n",
    "scores = cross_val_score(lgbm, X_train_2, y_train_change, cv=5, scoring='accuracy')\n",
    "\n",
    "# 교차 검증 결과 출력\n",
    "print(\"교차 검증 정확도:\", scores)\n",
    "print(\"평균 정확도:\", scores.mean())"
   ]
  },
  {
   "cell_type": "code",
   "execution_count": 22,
   "id": "9c592ecc",
   "metadata": {
    "ExecuteTime": {
     "end_time": "2023-05-31T08:32:23.864371Z",
     "start_time": "2023-05-31T08:32:21.255331Z"
    }
   },
   "outputs": [
    {
     "name": "stdout",
     "output_type": "stream",
     "text": [
      "교차 검증 정확도: [0.87716245 0.88094994 0.90069615 0.92076167 0.94369369]\n",
      "평균 정확도: 0.904652782301467\n"
     ]
    }
   ],
   "source": [
    "# 위 과정 반복 -> 모델 예측한 결과중 더 좋은 결과를 다시 테스트 데이터의 정답으로 활용 + 트레인 데이터와 다시 합치고 다시 모델 학습\n",
    "y_t = np.concatenate([y_1, pre8])\n",
    "y_t = list(y_t)\n",
    "y_train_change=pd.Series(y_t)\n",
    "\n",
    "lgbm.fit(X_train_2,y_train_change)\n",
    "\n",
    "pre9 = lgbm.predict(X_test)\n",
    "# kaggle 양식 불러오기\n",
    "rs =  pd.read_csv('./data/kaggle/sample_submission.csv')\n",
    "rs['income'] = pre9 # 내 모델의 예측 결과를 양식에 넣기\n",
    "rs.to_csv('RRRRReal9.csv', index = False)\n",
    "\n",
    "scores = cross_val_score(lgbm, X_train_2, y_train_change, cv=5, scoring='accuracy')\n",
    "\n",
    "# 교차 검증 결과 출력\n",
    "print(\"교차 검증 정확도:\", scores)\n",
    "print(\"평균 정확도:\", scores.mean())"
   ]
  },
  {
   "cell_type": "code",
   "execution_count": 23,
   "id": "44f71003",
   "metadata": {
    "ExecuteTime": {
     "end_time": "2023-05-31T08:32:26.528264Z",
     "start_time": "2023-05-31T08:32:23.866366Z"
    }
   },
   "outputs": [
    {
     "name": "stdout",
     "output_type": "stream",
     "text": [
      "교차 검증 정확도: [0.87716245 0.88115467 0.89936527 0.9218878  0.94963145]\n",
      "평균 정확도: 0.9058403292971826\n"
     ]
    }
   ],
   "source": [
    "# 위 과정 반복 -> 모델 예측한 결과중 더 좋은 결과를 다시 테스트 데이터의 정답으로 활용 + 트레인 데이터와 다시 합치고 다시 모델 학습\n",
    "y_t = np.concatenate([y_1, pre9])\n",
    "y_t = list(y_t)\n",
    "y_train_change=pd.Series(y_t)\n",
    "\n",
    "lgbm.fit(X_train_2,y_train_change)\n",
    "\n",
    "pre10 = lgbm.predict(X_test)\n",
    "# kaggle 양식 불러오기\n",
    "rs =  pd.read_csv('./data/kaggle/sample_submission.csv')\n",
    "rs['income'] = pre10 # 내 모델의 예측 결과를 양식에 넣기\n",
    "rs.to_csv('RRRRReal10.csv', index = False)\n",
    "\n",
    "scores = cross_val_score(lgbm, X_train_2, y_train_change, cv=5, scoring='accuracy')\n",
    "\n",
    "# 교차 검증 결과 출력\n",
    "print(\"교차 검증 정확도:\", scores)\n",
    "print(\"평균 정확도:\", scores.mean())"
   ]
  },
  {
   "cell_type": "code",
   "execution_count": 24,
   "id": "23fce0fc",
   "metadata": {
    "ExecuteTime": {
     "end_time": "2023-05-31T08:32:29.162237Z",
     "start_time": "2023-05-31T08:32:26.530259Z"
    }
   },
   "outputs": [
    {
     "name": "stdout",
     "output_type": "stream",
     "text": [
      "교차 검증 정확도: [0.87716245 0.88115467 0.89936527 0.9218878  0.94963145]\n",
      "평균 정확도: 0.9058403292971826\n"
     ]
    }
   ],
   "source": [
    "# 위 과정 반복 -> 모델 예측한 결과중 더 좋은 결과를 다시 테스트 데이터의 정답으로 활용 + 트레인 데이터와 다시 합치고 다시 모델 학습\n",
    "y_t = np.concatenate([y_1, pre10])\n",
    "y_t = list(y_t)\n",
    "y_train_change=pd.Series(y_t)\n",
    "\n",
    "lgbm.fit(X_train_2,y_train_change)\n",
    "\n",
    "pre11 = lgbm.predict(X_test)\n",
    "# kaggle 양식 불러오기\n",
    "rs =  pd.read_csv('./data/kaggle/sample_submission.csv')\n",
    "rs['income'] = pre11 # 내 모델의 예측 결과를 양식에 넣기\n",
    "rs.to_csv('RRRRReal11.csv', index = False)\n",
    "\n",
    "scores = cross_val_score(lgbm, X_train_2, y_train_change, cv=5, scoring='accuracy')\n",
    "\n",
    "# 교차 검증 결과 출력\n",
    "print(\"교차 검증 정확도:\", scores)\n",
    "print(\"평균 정확도:\", scores.mean())"
   ]
  },
  {
   "cell_type": "code",
   "execution_count": 25,
   "id": "afdd7fdc",
   "metadata": {
    "ExecuteTime": {
     "end_time": "2023-05-31T08:32:31.784242Z",
     "start_time": "2023-05-31T08:32:29.164232Z"
    }
   },
   "outputs": [
    {
     "name": "stdout",
     "output_type": "stream",
     "text": [
      "교차 검증 정확도: [0.87716245 0.88115467 0.89936527 0.9218878  0.94963145]\n",
      "평균 정확도: 0.9058403292971826\n"
     ]
    }
   ],
   "source": [
    "# 위 과정 반복 -> 모델 예측한 결과중 더 좋은 결과를 다시 테스트 데이터의 정답으로 활용 + 트레인 데이터와 다시 합치고 다시 모델 학습\n",
    "y_t = np.concatenate([y_1, pre11])\n",
    "y_t = list(y_t)\n",
    "y_train_change=pd.Series(y_t)\n",
    "\n",
    "lgbm.fit(X_train_2,y_train_change)\n",
    "\n",
    "pre12 = lgbm.predict(X_test)\n",
    "# kaggle 양식 불러오기\n",
    "rs =  pd.read_csv('./data/kaggle/sample_submission.csv')\n",
    "rs['income'] = pre12 # 내 모델의 예측 결과를 양식에 넣기\n",
    "rs.to_csv('RRRRReal12.csv', index = False)\n",
    "\n",
    "scores = cross_val_score(lgbm, X_train_2, y_train_change, cv=5, scoring='accuracy')\n",
    "\n",
    "# 교차 검증 결과 출력\n",
    "print(\"교차 검증 정확도:\", scores)\n",
    "print(\"평균 정확도:\", scores.mean())"
   ]
  },
  {
   "cell_type": "code",
   "execution_count": 26,
   "id": "997595c8",
   "metadata": {
    "ExecuteTime": {
     "end_time": "2023-05-31T08:32:34.432684Z",
     "start_time": "2023-05-31T08:32:31.786237Z"
    }
   },
   "outputs": [
    {
     "name": "stdout",
     "output_type": "stream",
     "text": [
      "교차 검증 정확도: [0.87716245 0.88115467 0.89936527 0.9218878  0.94963145]\n",
      "평균 정확도: 0.9058403292971826\n"
     ]
    }
   ],
   "source": [
    "# 위 과정 반복 -> 모델 예측한 결과중 더 좋은 결과를 다시 테스트 데이터의 정답으로 활용 + 트레인 데이터와 다시 합치고 다시 모델 학습\n",
    "y_t = np.concatenate([y_1, pre12])\n",
    "y_t = list(y_t)\n",
    "y_train_change=pd.Series(y_t)\n",
    "\n",
    "lgbm.fit(X_train_2,y_train_change)\n",
    "\n",
    "pre13 = lgbm.predict(X_test)\n",
    "# kaggle 양식 불러오기\n",
    "rs =  pd.read_csv('./data/kaggle/sample_submission.csv')\n",
    "rs['income'] = pre13 # 내 모델의 예측 결과를 양식에 넣기\n",
    "rs.to_csv('RRRRReal13.csv', index = False)\n",
    "\n",
    "scores = cross_val_score(lgbm, X_train_2, y_train_change, cv=5, scoring='accuracy')\n",
    "\n",
    "# 교차 검증 결과 출력\n",
    "print(\"교차 검증 정확도:\", scores)\n",
    "print(\"평균 정확도:\", scores.mean())"
   ]
  },
  {
   "cell_type": "code",
   "execution_count": null,
   "id": "719b6563",
   "metadata": {},
   "outputs": [],
   "source": []
  },
  {
   "cell_type": "code",
   "execution_count": null,
   "id": "123469f0",
   "metadata": {},
   "outputs": [],
   "source": []
  },
  {
   "cell_type": "code",
   "execution_count": null,
   "id": "a4b94c67",
   "metadata": {},
   "outputs": [],
   "source": []
  },
  {
   "cell_type": "code",
   "execution_count": null,
   "id": "35587e8f",
   "metadata": {},
   "outputs": [],
   "source": []
  },
  {
   "cell_type": "code",
   "execution_count": null,
   "id": "67e8a478",
   "metadata": {},
   "outputs": [],
   "source": []
  },
  {
   "cell_type": "code",
   "execution_count": null,
   "id": "9c14fe98",
   "metadata": {},
   "outputs": [],
   "source": []
  },
  {
   "cell_type": "code",
   "execution_count": null,
   "id": "e4e37ad0",
   "metadata": {},
   "outputs": [],
   "source": []
  },
  {
   "cell_type": "code",
   "execution_count": null,
   "id": "a9481441",
   "metadata": {},
   "outputs": [],
   "source": []
  },
  {
   "cell_type": "code",
   "execution_count": null,
   "id": "2e2a20e3",
   "metadata": {},
   "outputs": [],
   "source": []
  },
  {
   "cell_type": "code",
   "execution_count": null,
   "id": "4edca9b8",
   "metadata": {},
   "outputs": [],
   "source": []
  },
  {
   "cell_type": "code",
   "execution_count": null,
   "id": "a33bd1ef",
   "metadata": {
    "ExecuteTime": {
     "start_time": "2023-05-31T08:31:57.563Z"
    }
   },
   "outputs": [],
   "source": [
    "param = {'learning_rate' : np.arange(0.01,0.1,0.01) , 'max_depth' : range(3,11), 'colsample_bytree' : [0.8],'subsample': [0.3],'n_estimators' : [101]}\n",
    "grid = GridSearchCV(LGBMClassifier(), param, cv=5)\n",
    "grid.fit(X_train,y_train)\n",
    "print(grid.best_params_)\n",
    "print(grid.best_score_)"
   ]
  }
 ],
 "metadata": {
  "kernelspec": {
   "display_name": "Python 3 (ipykernel)",
   "language": "python",
   "name": "python3"
  },
  "language_info": {
   "codemirror_mode": {
    "name": "ipython",
    "version": 3
   },
   "file_extension": ".py",
   "mimetype": "text/x-python",
   "name": "python",
   "nbconvert_exporter": "python",
   "pygments_lexer": "ipython3",
   "version": "3.9.13"
  },
  "toc": {
   "base_numbering": 1,
   "nav_menu": {},
   "number_sections": true,
   "sideBar": true,
   "skip_h1_title": false,
   "title_cell": "Table of Contents",
   "title_sidebar": "Contents",
   "toc_cell": false,
   "toc_position": {},
   "toc_section_display": true,
   "toc_window_display": false
  },
  "varInspector": {
   "cols": {
    "lenName": 16,
    "lenType": 16,
    "lenVar": 40
   },
   "kernels_config": {
    "python": {
     "delete_cmd_postfix": "",
     "delete_cmd_prefix": "del ",
     "library": "var_list.py",
     "varRefreshCmd": "print(var_dic_list())"
    },
    "r": {
     "delete_cmd_postfix": ") ",
     "delete_cmd_prefix": "rm(",
     "library": "var_list.r",
     "varRefreshCmd": "cat(var_dic_list()) "
    }
   },
   "types_to_exclude": [
    "module",
    "function",
    "builtin_function_or_method",
    "instance",
    "_Feature"
   ],
   "window_display": false
  }
 },
 "nbformat": 4,
 "nbformat_minor": 5
}
