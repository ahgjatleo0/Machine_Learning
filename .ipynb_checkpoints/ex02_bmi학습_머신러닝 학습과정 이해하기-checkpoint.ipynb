{
 "cells": [
  {
   "cell_type": "markdown",
   "id": "2238a996",
   "metadata": {},
   "source": [
    "### 문제정의\n",
    "- 머신러닝을 통해서 어떤 문제를 해결할 것인가?\n",
    "- 지도학습 or 비지도학습 or 강화학습\n",
    "- 지도 : 분류 or 회귀\n",
    "\n",
    "- 비만을 판단하는 모델을 만들자\n",
    "- 지도학습 ==> 분류모델 사용"
   ]
  },
  {
   "cell_type": "markdown",
   "id": "41536e46",
   "metadata": {},
   "source": [
    "### 데이터 수집\n",
    "- csv파일로 이루어진 데이터 수집\n",
    "- 500명의 성별, 키, 몸무게, 비만도 등급"
   ]
  },
  {
   "cell_type": "code",
   "execution_count": 1,
   "id": "5ce5e8e6",
   "metadata": {
    "ExecuteTime": {
     "end_time": "2023-05-19T05:40:02.476692Z",
     "start_time": "2023-05-19T05:40:02.464723Z"
    }
   },
   "outputs": [],
   "source": [
    "# warning 없애기\n",
    "import warnings\n",
    "warnings.filterwarnings('ignore')"
   ]
  },
  {
   "cell_type": "code",
   "execution_count": 2,
   "id": "70d1b146",
   "metadata": {
    "ExecuteTime": {
     "end_time": "2023-05-19T05:40:02.995255Z",
     "start_time": "2023-05-19T05:40:02.478686Z"
    }
   },
   "outputs": [],
   "source": [
    "# 판다스 라이브러리 불러와서 csv 파일의 데이터를 bmi 변수에 담아주기\n",
    "import pandas as pd"
   ]
  },
  {
   "cell_type": "code",
   "execution_count": 3,
   "id": "0e4fda89",
   "metadata": {
    "ExecuteTime": {
     "end_time": "2023-05-19T05:40:03.027170Z",
     "start_time": "2023-05-19T05:40:02.996253Z"
    }
   },
   "outputs": [
    {
     "data": {
      "text/html": [
       "<div>\n",
       "<style scoped>\n",
       "    .dataframe tbody tr th:only-of-type {\n",
       "        vertical-align: middle;\n",
       "    }\n",
       "\n",
       "    .dataframe tbody tr th {\n",
       "        vertical-align: top;\n",
       "    }\n",
       "\n",
       "    .dataframe thead th {\n",
       "        text-align: right;\n",
       "    }\n",
       "</style>\n",
       "<table border=\"1\" class=\"dataframe\">\n",
       "  <thead>\n",
       "    <tr style=\"text-align: right;\">\n",
       "      <th></th>\n",
       "      <th>Gender</th>\n",
       "      <th>Height</th>\n",
       "      <th>Weight</th>\n",
       "      <th>Label</th>\n",
       "    </tr>\n",
       "  </thead>\n",
       "  <tbody>\n",
       "    <tr>\n",
       "      <th>0</th>\n",
       "      <td>Male</td>\n",
       "      <td>174</td>\n",
       "      <td>96</td>\n",
       "      <td>Obesity</td>\n",
       "    </tr>\n",
       "    <tr>\n",
       "      <th>1</th>\n",
       "      <td>Male</td>\n",
       "      <td>189</td>\n",
       "      <td>87</td>\n",
       "      <td>Normal</td>\n",
       "    </tr>\n",
       "    <tr>\n",
       "      <th>2</th>\n",
       "      <td>Female</td>\n",
       "      <td>185</td>\n",
       "      <td>110</td>\n",
       "      <td>Obesity</td>\n",
       "    </tr>\n",
       "    <tr>\n",
       "      <th>3</th>\n",
       "      <td>Female</td>\n",
       "      <td>195</td>\n",
       "      <td>104</td>\n",
       "      <td>Overweight</td>\n",
       "    </tr>\n",
       "    <tr>\n",
       "      <th>4</th>\n",
       "      <td>Male</td>\n",
       "      <td>149</td>\n",
       "      <td>61</td>\n",
       "      <td>Overweight</td>\n",
       "    </tr>\n",
       "    <tr>\n",
       "      <th>...</th>\n",
       "      <td>...</td>\n",
       "      <td>...</td>\n",
       "      <td>...</td>\n",
       "      <td>...</td>\n",
       "    </tr>\n",
       "    <tr>\n",
       "      <th>495</th>\n",
       "      <td>Female</td>\n",
       "      <td>150</td>\n",
       "      <td>153</td>\n",
       "      <td>Extreme Obesity</td>\n",
       "    </tr>\n",
       "    <tr>\n",
       "      <th>496</th>\n",
       "      <td>Female</td>\n",
       "      <td>184</td>\n",
       "      <td>121</td>\n",
       "      <td>Obesity</td>\n",
       "    </tr>\n",
       "    <tr>\n",
       "      <th>497</th>\n",
       "      <td>Female</td>\n",
       "      <td>141</td>\n",
       "      <td>136</td>\n",
       "      <td>Extreme Obesity</td>\n",
       "    </tr>\n",
       "    <tr>\n",
       "      <th>498</th>\n",
       "      <td>Male</td>\n",
       "      <td>150</td>\n",
       "      <td>95</td>\n",
       "      <td>Extreme Obesity</td>\n",
       "    </tr>\n",
       "    <tr>\n",
       "      <th>499</th>\n",
       "      <td>Male</td>\n",
       "      <td>173</td>\n",
       "      <td>131</td>\n",
       "      <td>Extreme Obesity</td>\n",
       "    </tr>\n",
       "  </tbody>\n",
       "</table>\n",
       "<p>500 rows × 4 columns</p>\n",
       "</div>"
      ],
      "text/plain": [
       "     Gender  Height  Weight            Label\n",
       "0      Male     174      96          Obesity\n",
       "1      Male     189      87           Normal\n",
       "2    Female     185     110          Obesity\n",
       "3    Female     195     104       Overweight\n",
       "4      Male     149      61       Overweight\n",
       "..      ...     ...     ...              ...\n",
       "495  Female     150     153  Extreme Obesity\n",
       "496  Female     184     121          Obesity\n",
       "497  Female     141     136  Extreme Obesity\n",
       "498    Male     150      95  Extreme Obesity\n",
       "499    Male     173     131  Extreme Obesity\n",
       "\n",
       "[500 rows x 4 columns]"
      ]
     },
     "execution_count": 3,
     "metadata": {},
     "output_type": "execute_result"
    }
   ],
   "source": [
    "bmi = pd.read_csv('data/bmi_500.csv')\n",
    "bmi"
   ]
  },
  {
   "cell_type": "markdown",
   "id": "627b460a",
   "metadata": {},
   "source": [
    "### 데이터 전처리\n",
    "- 결측치 처리 : 비어있는 데이터를 채워주기\n",
    "- 이상치 처리 : 정상적인 범위에서 벗어난 데이터 수정하기"
   ]
  },
  {
   "cell_type": "markdown",
   "id": "b46e5ae4",
   "metadata": {},
   "source": [
    "#### 결측치 확인\n",
    "- 데이터 정보 및 결측치 확인하는 함수 : info()"
   ]
  },
  {
   "cell_type": "code",
   "execution_count": 4,
   "id": "da1d1a6b",
   "metadata": {
    "ExecuteTime": {
     "end_time": "2023-05-19T05:40:03.043128Z",
     "start_time": "2023-05-19T05:40:03.029165Z"
    }
   },
   "outputs": [
    {
     "name": "stdout",
     "output_type": "stream",
     "text": [
      "<class 'pandas.core.frame.DataFrame'>\n",
      "RangeIndex: 500 entries, 0 to 499\n",
      "Data columns (total 4 columns):\n",
      " #   Column  Non-Null Count  Dtype \n",
      "---  ------  --------------  ----- \n",
      " 0   Gender  500 non-null    object\n",
      " 1   Height  500 non-null    int64 \n",
      " 2   Weight  500 non-null    int64 \n",
      " 3   Label   500 non-null    object\n",
      "dtypes: int64(2), object(2)\n",
      "memory usage: 15.8+ KB\n"
     ]
    }
   ],
   "source": [
    "bmi.info()"
   ]
  },
  {
   "cell_type": "markdown",
   "id": "2d2f0cf2",
   "metadata": {
    "ExecuteTime": {
     "end_time": "2023-05-11T01:46:30.560045Z",
     "start_time": "2023-05-11T01:46:30.540408Z"
    }
   },
   "source": [
    "#### 이상치 확인\n",
    "- describe() 함수 : 수치형 데이터만 분석 가능, 기술 통계"
   ]
  },
  {
   "cell_type": "code",
   "execution_count": 5,
   "id": "82cfd343",
   "metadata": {
    "ExecuteTime": {
     "end_time": "2023-05-19T05:40:03.059086Z",
     "start_time": "2023-05-19T05:40:03.044125Z"
    }
   },
   "outputs": [
    {
     "data": {
      "text/html": [
       "<div>\n",
       "<style scoped>\n",
       "    .dataframe tbody tr th:only-of-type {\n",
       "        vertical-align: middle;\n",
       "    }\n",
       "\n",
       "    .dataframe tbody tr th {\n",
       "        vertical-align: top;\n",
       "    }\n",
       "\n",
       "    .dataframe thead th {\n",
       "        text-align: right;\n",
       "    }\n",
       "</style>\n",
       "<table border=\"1\" class=\"dataframe\">\n",
       "  <thead>\n",
       "    <tr style=\"text-align: right;\">\n",
       "      <th></th>\n",
       "      <th>Height</th>\n",
       "      <th>Weight</th>\n",
       "    </tr>\n",
       "  </thead>\n",
       "  <tbody>\n",
       "    <tr>\n",
       "      <th>count</th>\n",
       "      <td>500.000000</td>\n",
       "      <td>500.000000</td>\n",
       "    </tr>\n",
       "    <tr>\n",
       "      <th>mean</th>\n",
       "      <td>169.944000</td>\n",
       "      <td>106.000000</td>\n",
       "    </tr>\n",
       "    <tr>\n",
       "      <th>std</th>\n",
       "      <td>16.375261</td>\n",
       "      <td>32.382607</td>\n",
       "    </tr>\n",
       "    <tr>\n",
       "      <th>min</th>\n",
       "      <td>140.000000</td>\n",
       "      <td>50.000000</td>\n",
       "    </tr>\n",
       "    <tr>\n",
       "      <th>25%</th>\n",
       "      <td>156.000000</td>\n",
       "      <td>80.000000</td>\n",
       "    </tr>\n",
       "    <tr>\n",
       "      <th>50%</th>\n",
       "      <td>170.500000</td>\n",
       "      <td>106.000000</td>\n",
       "    </tr>\n",
       "    <tr>\n",
       "      <th>75%</th>\n",
       "      <td>184.000000</td>\n",
       "      <td>136.000000</td>\n",
       "    </tr>\n",
       "    <tr>\n",
       "      <th>max</th>\n",
       "      <td>199.000000</td>\n",
       "      <td>160.000000</td>\n",
       "    </tr>\n",
       "  </tbody>\n",
       "</table>\n",
       "</div>"
      ],
      "text/plain": [
       "           Height      Weight\n",
       "count  500.000000  500.000000\n",
       "mean   169.944000  106.000000\n",
       "std     16.375261   32.382607\n",
       "min    140.000000   50.000000\n",
       "25%    156.000000   80.000000\n",
       "50%    170.500000  106.000000\n",
       "75%    184.000000  136.000000\n",
       "max    199.000000  160.000000"
      ]
     },
     "execution_count": 5,
     "metadata": {},
     "output_type": "execute_result"
    }
   ],
   "source": [
    "bmi.describe()\n",
    "\n",
    "# count : 데이터의 수\n",
    "# mean : 평균값\n",
    "# std : 표준편차\n",
    "# min : 최소값\n",
    "# 25% : 1분위수\n",
    "# 50% : 중앙값\n",
    "# 75% : 3분위수\n",
    "# max : 최대값\n",
    "\n",
    "# 1. min, max 확인하기\n",
    "# 2. 평균(mean), 중앙값(50%) 확인하기 -> 두 수치가 비슷 : 이상치 X\n",
    "# 3. 평균값과 중앙값의 수치가 비슷하지 않다면 min ~ max까지 5개의 간격을 확인하기\n",
    "#    ==> 각 구간의 데이터가 고르게 분포되어 있는지 확인\n",
    "\n",
    "# bmi 데이터는 거의 다 정상적인 데이터로 판단이 됨"
   ]
  },
  {
   "cell_type": "markdown",
   "id": "cd1c65fa",
   "metadata": {},
   "source": [
    "### 탐색적 데이터 분석(EDA)\n",
    "- 데이터를 자세하게 살펴보자\n",
    "- 비만도별로 데이터가 잘 나뉘어져 있는지 확인"
   ]
  },
  {
   "cell_type": "markdown",
   "id": "88f92cd0",
   "metadata": {},
   "source": [
    "#### 비만도 등급 확인"
   ]
  },
  {
   "cell_type": "code",
   "execution_count": 6,
   "id": "2246a02f",
   "metadata": {
    "ExecuteTime": {
     "end_time": "2023-05-19T05:40:03.075043Z",
     "start_time": "2023-05-19T05:40:03.060083Z"
    }
   },
   "outputs": [
    {
     "data": {
      "text/plain": [
       "array(['Obesity', 'Normal', 'Overweight', 'Extreme Obesity', 'Weak',\n",
       "       'Extremely Weak'], dtype=object)"
      ]
     },
     "execution_count": 6,
     "metadata": {},
     "output_type": "execute_result"
    }
   ],
   "source": [
    "# 중복없이 값을 확인하는 함수 : unique()\n",
    "bmi['Label'].unique()"
   ]
  },
  {
   "cell_type": "markdown",
   "id": "93766b56",
   "metadata": {},
   "source": [
    "#### 비만도가 Normal인 사람들만 추려보기"
   ]
  },
  {
   "cell_type": "code",
   "execution_count": 7,
   "id": "4de57129",
   "metadata": {
    "ExecuteTime": {
     "end_time": "2023-05-19T05:40:03.091000Z",
     "start_time": "2023-05-19T05:40:03.077038Z"
    }
   },
   "outputs": [
    {
     "data": {
      "text/html": [
       "<div>\n",
       "<style scoped>\n",
       "    .dataframe tbody tr th:only-of-type {\n",
       "        vertical-align: middle;\n",
       "    }\n",
       "\n",
       "    .dataframe tbody tr th {\n",
       "        vertical-align: top;\n",
       "    }\n",
       "\n",
       "    .dataframe thead th {\n",
       "        text-align: right;\n",
       "    }\n",
       "</style>\n",
       "<table border=\"1\" class=\"dataframe\">\n",
       "  <thead>\n",
       "    <tr style=\"text-align: right;\">\n",
       "      <th></th>\n",
       "      <th>Gender</th>\n",
       "      <th>Height</th>\n",
       "      <th>Weight</th>\n",
       "      <th>Label</th>\n",
       "    </tr>\n",
       "  </thead>\n",
       "  <tbody>\n",
       "    <tr>\n",
       "      <th>1</th>\n",
       "      <td>Male</td>\n",
       "      <td>189</td>\n",
       "      <td>87</td>\n",
       "      <td>Normal</td>\n",
       "    </tr>\n",
       "    <tr>\n",
       "      <th>10</th>\n",
       "      <td>Male</td>\n",
       "      <td>195</td>\n",
       "      <td>81</td>\n",
       "      <td>Normal</td>\n",
       "    </tr>\n",
       "    <tr>\n",
       "      <th>13</th>\n",
       "      <td>Male</td>\n",
       "      <td>155</td>\n",
       "      <td>51</td>\n",
       "      <td>Normal</td>\n",
       "    </tr>\n",
       "    <tr>\n",
       "      <th>14</th>\n",
       "      <td>Male</td>\n",
       "      <td>191</td>\n",
       "      <td>79</td>\n",
       "      <td>Normal</td>\n",
       "    </tr>\n",
       "    <tr>\n",
       "      <th>24</th>\n",
       "      <td>Female</td>\n",
       "      <td>172</td>\n",
       "      <td>67</td>\n",
       "      <td>Normal</td>\n",
       "    </tr>\n",
       "    <tr>\n",
       "      <th>...</th>\n",
       "      <td>...</td>\n",
       "      <td>...</td>\n",
       "      <td>...</td>\n",
       "      <td>...</td>\n",
       "    </tr>\n",
       "    <tr>\n",
       "      <th>472</th>\n",
       "      <td>Female</td>\n",
       "      <td>178</td>\n",
       "      <td>65</td>\n",
       "      <td>Normal</td>\n",
       "    </tr>\n",
       "    <tr>\n",
       "      <th>477</th>\n",
       "      <td>Male</td>\n",
       "      <td>167</td>\n",
       "      <td>64</td>\n",
       "      <td>Normal</td>\n",
       "    </tr>\n",
       "    <tr>\n",
       "      <th>478</th>\n",
       "      <td>Female</td>\n",
       "      <td>151</td>\n",
       "      <td>55</td>\n",
       "      <td>Normal</td>\n",
       "    </tr>\n",
       "    <tr>\n",
       "      <th>487</th>\n",
       "      <td>Male</td>\n",
       "      <td>187</td>\n",
       "      <td>80</td>\n",
       "      <td>Normal</td>\n",
       "    </tr>\n",
       "    <tr>\n",
       "      <th>490</th>\n",
       "      <td>Female</td>\n",
       "      <td>164</td>\n",
       "      <td>59</td>\n",
       "      <td>Normal</td>\n",
       "    </tr>\n",
       "  </tbody>\n",
       "</table>\n",
       "<p>69 rows × 4 columns</p>\n",
       "</div>"
      ],
      "text/plain": [
       "     Gender  Height  Weight   Label\n",
       "1      Male     189      87  Normal\n",
       "10     Male     195      81  Normal\n",
       "13     Male     155      51  Normal\n",
       "14     Male     191      79  Normal\n",
       "24   Female     172      67  Normal\n",
       "..      ...     ...     ...     ...\n",
       "472  Female     178      65  Normal\n",
       "477    Male     167      64  Normal\n",
       "478  Female     151      55  Normal\n",
       "487    Male     187      80  Normal\n",
       "490  Female     164      59  Normal\n",
       "\n",
       "[69 rows x 4 columns]"
      ]
     },
     "execution_count": 7,
     "metadata": {},
     "output_type": "execute_result"
    }
   ],
   "source": [
    "# 불리언 인덱싱을 사용하여 Normal 등급인 사람만 꺼내요기\n",
    "normal = bmi['Label']== 'Normal'\n",
    "# 산점도를 이용하여 데이터를 표현\n",
    "scatter_data = bmi[normal] # 라벨이 'Normal'인 전체 행에 대한 데이터만 가져오기\n",
    "scatter_data"
   ]
  },
  {
   "cell_type": "markdown",
   "id": "3040f202",
   "metadata": {},
   "source": [
    "#### Normal인 사람들을 그래프로 그리기"
   ]
  },
  {
   "cell_type": "code",
   "execution_count": 8,
   "id": "126e3f60",
   "metadata": {
    "ExecuteTime": {
     "end_time": "2023-05-19T05:40:04.071807Z",
     "start_time": "2023-05-19T05:40:03.092995Z"
    }
   },
   "outputs": [
    {
     "data": {
      "image/png": "[encoded data removed]",
      "text/plain": [
       "<Figure size 640x480 with 1 Axes>"
      ]
     },
     "metadata": {},
     "output_type": "display_data"
    }
   ],
   "source": [
    "import matplotlib.pyplot as plt\n",
    "# plt.scatter(x,y) -> 산점도 차트\n",
    "plt.scatter(scatter_data['Height'], scatter_data['Weight'], color = 'blue', label = 'Normal')\n",
    "plt.legend() # 차트에서 그린 label 출력\n",
    "plt.show()"
   ]
  },
  {
   "cell_type": "markdown",
   "id": "fb8451db",
   "metadata": {},
   "source": [
    "#### 비만도가 'Obesity'인 사람만 추려서 그래프(color-green)로 그려보기"
   ]
  },
  {
   "cell_type": "code",
   "execution_count": 9,
   "id": "b983c01b",
   "metadata": {
    "ExecuteTime": {
     "end_time": "2023-05-19T05:40:04.087242Z",
     "start_time": "2023-05-19T05:40:04.073796Z"
    }
   },
   "outputs": [
    {
     "data": {
      "text/html": [
       "<div>\n",
       "<style scoped>\n",
       "    .dataframe tbody tr th:only-of-type {\n",
       "        vertical-align: middle;\n",
       "    }\n",
       "\n",
       "    .dataframe tbody tr th {\n",
       "        vertical-align: top;\n",
       "    }\n",
       "\n",
       "    .dataframe thead th {\n",
       "        text-align: right;\n",
       "    }\n",
       "</style>\n",
       "<table border=\"1\" class=\"dataframe\">\n",
       "  <thead>\n",
       "    <tr style=\"text-align: right;\">\n",
       "      <th></th>\n",
       "      <th>Gender</th>\n",
       "      <th>Height</th>\n",
       "      <th>Weight</th>\n",
       "      <th>Label</th>\n",
       "    </tr>\n",
       "  </thead>\n",
       "  <tbody>\n",
       "    <tr>\n",
       "      <th>0</th>\n",
       "      <td>Male</td>\n",
       "      <td>174</td>\n",
       "      <td>96</td>\n",
       "      <td>Obesity</td>\n",
       "    </tr>\n",
       "    <tr>\n",
       "      <th>2</th>\n",
       "      <td>Female</td>\n",
       "      <td>185</td>\n",
       "      <td>110</td>\n",
       "      <td>Obesity</td>\n",
       "    </tr>\n",
       "    <tr>\n",
       "      <th>9</th>\n",
       "      <td>Female</td>\n",
       "      <td>169</td>\n",
       "      <td>103</td>\n",
       "      <td>Obesity</td>\n",
       "    </tr>\n",
       "    <tr>\n",
       "      <th>11</th>\n",
       "      <td>Female</td>\n",
       "      <td>159</td>\n",
       "      <td>80</td>\n",
       "      <td>Obesity</td>\n",
       "    </tr>\n",
       "    <tr>\n",
       "      <th>22</th>\n",
       "      <td>Female</td>\n",
       "      <td>169</td>\n",
       "      <td>97</td>\n",
       "      <td>Obesity</td>\n",
       "    </tr>\n",
       "    <tr>\n",
       "      <th>...</th>\n",
       "      <td>...</td>\n",
       "      <td>...</td>\n",
       "      <td>...</td>\n",
       "      <td>...</td>\n",
       "    </tr>\n",
       "    <tr>\n",
       "      <th>483</th>\n",
       "      <td>Male</td>\n",
       "      <td>146</td>\n",
       "      <td>85</td>\n",
       "      <td>Obesity</td>\n",
       "    </tr>\n",
       "    <tr>\n",
       "      <th>484</th>\n",
       "      <td>Female</td>\n",
       "      <td>188</td>\n",
       "      <td>115</td>\n",
       "      <td>Obesity</td>\n",
       "    </tr>\n",
       "    <tr>\n",
       "      <th>485</th>\n",
       "      <td>Male</td>\n",
       "      <td>173</td>\n",
       "      <td>111</td>\n",
       "      <td>Obesity</td>\n",
       "    </tr>\n",
       "    <tr>\n",
       "      <th>488</th>\n",
       "      <td>Male</td>\n",
       "      <td>198</td>\n",
       "      <td>136</td>\n",
       "      <td>Obesity</td>\n",
       "    </tr>\n",
       "    <tr>\n",
       "      <th>496</th>\n",
       "      <td>Female</td>\n",
       "      <td>184</td>\n",
       "      <td>121</td>\n",
       "      <td>Obesity</td>\n",
       "    </tr>\n",
       "  </tbody>\n",
       "</table>\n",
       "<p>130 rows × 4 columns</p>\n",
       "</div>"
      ],
      "text/plain": [
       "     Gender  Height  Weight    Label\n",
       "0      Male     174      96  Obesity\n",
       "2    Female     185     110  Obesity\n",
       "9    Female     169     103  Obesity\n",
       "11   Female     159      80  Obesity\n",
       "22   Female     169      97  Obesity\n",
       "..      ...     ...     ...      ...\n",
       "483    Male     146      85  Obesity\n",
       "484  Female     188     115  Obesity\n",
       "485    Male     173     111  Obesity\n",
       "488    Male     198     136  Obesity\n",
       "496  Female     184     121  Obesity\n",
       "\n",
       "[130 rows x 4 columns]"
      ]
     },
     "execution_count": 9,
     "metadata": {},
     "output_type": "execute_result"
    }
   ],
   "source": [
    "obesity = bmi['Label']== 'Obesity'\n",
    "scatter_data = bmi[obesity]\n",
    "scatter_data"
   ]
  },
  {
   "cell_type": "code",
   "execution_count": 10,
   "id": "94e24be9",
   "metadata": {
    "ExecuteTime": {
     "end_time": "2023-05-19T05:40:04.242855Z",
     "start_time": "2023-05-19T05:40:04.091250Z"
    }
   },
   "outputs": [
    {
     "data": {
      "image/png": "[encoded data removed]",
      "text/plain": [
       "<Figure size 640x480 with 1 Axes>"
      ]
     },
     "metadata": {},
     "output_type": "display_data"
    }
   ],
   "source": [
    "plt.scatter(scatter_data['Height'], scatter_data['Weight'], color = 'green', label = 'Obesity')\n",
    "plt.legend()\n",
    "plt.show()"
   ]
  },
  {
   "cell_type": "markdown",
   "id": "031681bd",
   "metadata": {},
   "source": [
    "#### 함수로 만들어서 그래프 그리기\n",
    "- 반복되는 부분을 함수로 간략화(코드 간략화)"
   ]
  },
  {
   "cell_type": "code",
   "execution_count": 11,
   "id": "05cf34c0",
   "metadata": {
    "ExecuteTime": {
     "end_time": "2023-05-19T05:40:04.257729Z",
     "start_time": "2023-05-19T05:40:04.244763Z"
    }
   },
   "outputs": [],
   "source": [
    "def myScatter(label, color) :\n",
    "    bmi_result = bmi['Label']== label\n",
    "    scatter_data = bmi[bmi_result]\n",
    "    plt.scatter(scatter_data['Height'], scatter_data['Weight'], color = color, label = label)"
   ]
  },
  {
   "cell_type": "markdown",
   "id": "1c7ce232",
   "metadata": {},
   "source": [
    "#### 전체 그래프 그리기"
   ]
  },
  {
   "cell_type": "code",
   "execution_count": 12,
   "id": "6f3aac0b",
   "metadata": {
    "ExecuteTime": {
     "end_time": "2023-05-19T05:40:04.575914Z",
     "start_time": "2023-05-19T05:40:04.259724Z"
    }
   },
   "outputs": [
    {
     "data": {
      "image/png": "[encoded data removed]",
      "text/plain": [
       "<Figure size 1200x800 with 1 Axes>"
      ]
     },
     "metadata": {},
     "output_type": "display_data"
    }
   ],
   "source": [
    "# 그래프 크기 조정\n",
    "plt.figure(figsize=(12,8))\n",
    "# 'Obesity', 'Normal', 'Overweight', 'Extreme Obesity', 'Weak', 'Extremely Weak'\n",
    "myScatter('Obesity', 'black')\n",
    "myScatter('Normal', 'blue')\n",
    "myScatter('Overweight', 'pink')\n",
    "myScatter('Extreme Obesity', 'red')\n",
    "myScatter('Weak', 'green')\n",
    "myScatter('Extremely Weak', 'purple')\n",
    "plt.legend()\n",
    "plt.show()"
   ]
  },
  {
   "cell_type": "code",
   "execution_count": 13,
   "id": "e978aa73",
   "metadata": {
    "ExecuteTime": {
     "end_time": "2023-05-19T05:40:04.591935Z",
     "start_time": "2023-05-19T05:40:04.577899Z"
    }
   },
   "outputs": [
    {
     "data": {
      "text/html": [
       "<div>\n",
       "<style scoped>\n",
       "    .dataframe tbody tr th:only-of-type {\n",
       "        vertical-align: middle;\n",
       "    }\n",
       "\n",
       "    .dataframe tbody tr th {\n",
       "        vertical-align: top;\n",
       "    }\n",
       "\n",
       "    .dataframe thead th {\n",
       "        text-align: right;\n",
       "    }\n",
       "</style>\n",
       "<table border=\"1\" class=\"dataframe\">\n",
       "  <thead>\n",
       "    <tr style=\"text-align: right;\">\n",
       "      <th></th>\n",
       "      <th>Gender</th>\n",
       "      <th>Height</th>\n",
       "      <th>Weight</th>\n",
       "      <th>Label</th>\n",
       "    </tr>\n",
       "  </thead>\n",
       "  <tbody>\n",
       "    <tr>\n",
       "      <th>165</th>\n",
       "      <td>Male</td>\n",
       "      <td>181</td>\n",
       "      <td>78</td>\n",
       "      <td>Normal</td>\n",
       "    </tr>\n",
       "    <tr>\n",
       "      <th>231</th>\n",
       "      <td>Female</td>\n",
       "      <td>153</td>\n",
       "      <td>78</td>\n",
       "      <td>Normal</td>\n",
       "    </tr>\n",
       "    <tr>\n",
       "      <th>234</th>\n",
       "      <td>Male</td>\n",
       "      <td>145</td>\n",
       "      <td>78</td>\n",
       "      <td>Obesity</td>\n",
       "    </tr>\n",
       "  </tbody>\n",
       "</table>\n",
       "</div>"
      ],
      "text/plain": [
       "     Gender  Height  Weight    Label\n",
       "165    Male     181      78   Normal\n",
       "231  Female     153      78   Normal\n",
       "234    Male     145      78  Obesity"
      ]
     },
     "execution_count": 13,
     "metadata": {},
     "output_type": "execute_result"
    }
   ],
   "source": [
    "# 이상치 수정하기\n",
    "bmi.loc[bmi['Weight']==78]"
   ]
  },
  {
   "cell_type": "code",
   "execution_count": 14,
   "id": "dcf459de",
   "metadata": {
    "ExecuteTime": {
     "end_time": "2023-05-19T05:40:04.623205Z",
     "start_time": "2023-05-19T05:40:04.593929Z"
    }
   },
   "outputs": [],
   "source": [
    "# 키가 153이고 몸무게가 78인 사람의 Label을 Normal -> Obesity로 수정\n",
    "bmi.loc[231, 'Label'] = 'Obesity'"
   ]
  },
  {
   "cell_type": "markdown",
   "id": "db5c9741",
   "metadata": {},
   "source": [
    "### 모델 선택 및 하이퍼 파라미터 조정\n",
    "-머신러닝 모델 불러와서 사용하는 단계"
   ]
  },
  {
   "cell_type": "markdown",
   "id": "c5b95554",
   "metadata": {},
   "source": [
    "#### 모델 불러오기\n",
    "- KNN 모델"
   ]
  },
  {
   "cell_type": "code",
   "execution_count": 15,
   "id": "454ad725",
   "metadata": {
    "ExecuteTime": {
     "end_time": "2023-05-19T05:40:05.428357Z",
     "start_time": "2023-05-19T05:40:04.625205Z"
    }
   },
   "outputs": [],
   "source": [
    "from sklearn.neighbors import KNeighborsClassifier"
   ]
  },
  {
   "cell_type": "code",
   "execution_count": 16,
   "id": "0b143b41",
   "metadata": {
    "ExecuteTime": {
     "end_time": "2023-05-19T05:40:05.444465Z",
     "start_time": "2023-05-19T05:40:05.431378Z"
    }
   },
   "outputs": [],
   "source": [
    "# 모델 생성\n",
    "knn_model = KNeighborsClassifier(n_neighbors=4)"
   ]
  },
  {
   "cell_type": "markdown",
   "id": "6f844ccd",
   "metadata": {},
   "source": [
    "#### 문제데이터와 정답데이터로 분리"
   ]
  },
  {
   "cell_type": "code",
   "execution_count": 17,
   "id": "94f7feae",
   "metadata": {
    "ExecuteTime": {
     "end_time": "2023-05-19T05:40:05.475077Z",
     "start_time": "2023-05-19T05:40:05.446461Z"
    }
   },
   "outputs": [
    {
     "data": {
      "text/html": [
       "<div>\n",
       "<style scoped>\n",
       "    .dataframe tbody tr th:only-of-type {\n",
       "        vertical-align: middle;\n",
       "    }\n",
       "\n",
       "    .dataframe tbody tr th {\n",
       "        vertical-align: top;\n",
       "    }\n",
       "\n",
       "    .dataframe thead th {\n",
       "        text-align: right;\n",
       "    }\n",
       "</style>\n",
       "<table border=\"1\" class=\"dataframe\">\n",
       "  <thead>\n",
       "    <tr style=\"text-align: right;\">\n",
       "      <th></th>\n",
       "      <th>Height</th>\n",
       "      <th>Weight</th>\n",
       "    </tr>\n",
       "  </thead>\n",
       "  <tbody>\n",
       "    <tr>\n",
       "      <th>0</th>\n",
       "      <td>174</td>\n",
       "      <td>96</td>\n",
       "    </tr>\n",
       "    <tr>\n",
       "      <th>1</th>\n",
       "      <td>189</td>\n",
       "      <td>87</td>\n",
       "    </tr>\n",
       "    <tr>\n",
       "      <th>2</th>\n",
       "      <td>185</td>\n",
       "      <td>110</td>\n",
       "    </tr>\n",
       "    <tr>\n",
       "      <th>3</th>\n",
       "      <td>195</td>\n",
       "      <td>104</td>\n",
       "    </tr>\n",
       "    <tr>\n",
       "      <th>4</th>\n",
       "      <td>149</td>\n",
       "      <td>61</td>\n",
       "    </tr>\n",
       "    <tr>\n",
       "      <th>...</th>\n",
       "      <td>...</td>\n",
       "      <td>...</td>\n",
       "    </tr>\n",
       "    <tr>\n",
       "      <th>495</th>\n",
       "      <td>150</td>\n",
       "      <td>153</td>\n",
       "    </tr>\n",
       "    <tr>\n",
       "      <th>496</th>\n",
       "      <td>184</td>\n",
       "      <td>121</td>\n",
       "    </tr>\n",
       "    <tr>\n",
       "      <th>497</th>\n",
       "      <td>141</td>\n",
       "      <td>136</td>\n",
       "    </tr>\n",
       "    <tr>\n",
       "      <th>498</th>\n",
       "      <td>150</td>\n",
       "      <td>95</td>\n",
       "    </tr>\n",
       "    <tr>\n",
       "      <th>499</th>\n",
       "      <td>173</td>\n",
       "      <td>131</td>\n",
       "    </tr>\n",
       "  </tbody>\n",
       "</table>\n",
       "<p>500 rows × 2 columns</p>\n",
       "</div>"
      ],
      "text/plain": [
       "     Height  Weight\n",
       "0       174      96\n",
       "1       189      87\n",
       "2       185     110\n",
       "3       195     104\n",
       "4       149      61\n",
       "..      ...     ...\n",
       "495     150     153\n",
       "496     184     121\n",
       "497     141     136\n",
       "498     150      95\n",
       "499     173     131\n",
       "\n",
       "[500 rows x 2 columns]"
      ]
     },
     "metadata": {},
     "output_type": "display_data"
    },
    {
     "data": {
      "text/plain": [
       "0              Obesity\n",
       "1               Normal\n",
       "2              Obesity\n",
       "3           Overweight\n",
       "4           Overweight\n",
       "            ...       \n",
       "495    Extreme Obesity\n",
       "496            Obesity\n",
       "497    Extreme Obesity\n",
       "498    Extreme Obesity\n",
       "499    Extreme Obesity\n",
       "Name: Label, Length: 500, dtype: object"
      ]
     },
     "metadata": {},
     "output_type": "display_data"
    }
   ],
   "source": [
    "# 머신러닝은 수치형 데이터만 학습할 수 있음\n",
    "# 문자형 데이터 - Gender 컬럼은 학습 불가\n",
    "# 키/몸무게 컬럼만 문제 데이터로 \n",
    "\n",
    "# 문제데이터 : Height, Weight\n",
    "X = bmi.loc[:, 'Height':'Weight']\n",
    "display(X)\n",
    "\n",
    "# 정답데이터 : Label\n",
    "Y = bmi.loc[:,'Label']\n",
    "display(Y)"
   ]
  },
  {
   "cell_type": "markdown",
   "id": "30dfbec5",
   "metadata": {},
   "source": [
    "#### 학습을 위해 훈련용(train)과 평가용(test)으로 분리\n",
    "- 훈련 70%, 평가 30%"
   ]
  },
  {
   "cell_type": "code",
   "execution_count": 18,
   "id": "7ea7ca01",
   "metadata": {
    "ExecuteTime": {
     "end_time": "2023-05-19T05:40:05.491122Z",
     "start_time": "2023-05-19T05:40:05.477071Z"
    }
   },
   "outputs": [],
   "source": [
    "X_train = X.iloc[:350, :]\n",
    "X_test = X.iloc[350:, :]\n",
    "Y_train = Y.iloc[:350]\n",
    "Y_test = Y.iloc[350:]"
   ]
  },
  {
   "cell_type": "code",
   "execution_count": 19,
   "id": "b490bec1",
   "metadata": {
    "ExecuteTime": {
     "end_time": "2023-05-19T05:40:05.507091Z",
     "start_time": "2023-05-19T05:40:05.493087Z"
    }
   },
   "outputs": [
    {
     "name": "stdout",
     "output_type": "stream",
     "text": [
      "훈련용 문제 :  (350, 2)\n",
      "테스트용 문제 :  (150, 2)\n",
      "훈련용 답 :  (350,)\n",
      "테스트 답 :  (150,)\n"
     ]
    }
   ],
   "source": [
    "# 데이터 크기 확인 -> shape\n",
    "print('훈련용 문제 : ', X_train.shape)\n",
    "print('테스트용 문제 : ', X_test.shape)\n",
    "print('훈련용 답 : ', Y_train.shape)\n",
    "print('테스트 답 : ', Y_test.shape)"
   ]
  },
  {
   "cell_type": "markdown",
   "id": "ef1fd171",
   "metadata": {},
   "source": [
    "### 모델 학습"
   ]
  },
  {
   "cell_type": "code",
   "execution_count": 20,
   "id": "52effc53",
   "metadata": {
    "ExecuteTime": {
     "end_time": "2023-05-19T05:40:05.523007Z",
     "start_time": "2023-05-19T05:40:05.509046Z"
    }
   },
   "outputs": [
    {
     "data": {
      "text/plain": [
       "KNeighborsClassifier(n_neighbors=4)"
      ]
     },
     "execution_count": 20,
     "metadata": {},
     "output_type": "execute_result"
    }
   ],
   "source": [
    "# fit(문제, 정답)\n",
    "knn_model.fit(X_train, Y_train)"
   ]
  },
  {
   "cell_type": "markdown",
   "id": "8519dfe5",
   "metadata": {},
   "source": [
    "### 모델 평가\n",
    "- 새로운 데이터에 대해서 예측\n",
    "- 모델이 제대로 만들어졌는지 평가"
   ]
  },
  {
   "cell_type": "code",
   "execution_count": 21,
   "id": "84cff766",
   "metadata": {
    "ExecuteTime": {
     "end_time": "2023-05-19T05:40:05.538966Z",
     "start_time": "2023-05-19T05:40:05.525002Z"
    }
   },
   "outputs": [
    {
     "data": {
      "text/plain": [
       "array(['Normal'], dtype=object)"
      ]
     },
     "execution_count": 21,
     "metadata": {},
     "output_type": "execute_result"
    }
   ],
   "source": [
    "pre = knn_model.predict([[178, 78]])\n",
    "pre"
   ]
  },
  {
   "cell_type": "code",
   "execution_count": 22,
   "id": "b034cb52",
   "metadata": {
    "ExecuteTime": {
     "end_time": "2023-05-19T05:40:05.554922Z",
     "start_time": "2023-05-19T05:40:05.540985Z"
    }
   },
   "outputs": [
    {
     "data": {
      "text/plain": [
       "0.8933333333333333"
      ]
     },
     "execution_count": 22,
     "metadata": {},
     "output_type": "execute_result"
    }
   ],
   "source": [
    "# 평가 : 만들어진 모델에 평가 -> 학습에 사용하지 않은 새로운 문제(예측)와 정답(예측과 비교)이 필요\n",
    "# 평가수치 : 몇개를 맞췄는지 확인\n",
    "# score(테스트 문제데이터, 테스트 정답데이터)\n",
    "# 테스트 문제데이터를 학습을 통해 발견한 규칙으로 예측 ==> 예측에 대한 정답(실제 정답은 아님)\n",
    "# 테스트용 정답데이터와 예측된 정답을 비교해서 백분율로 나타낸 값\n",
    "knn_model.score(X_test, Y_test)\n",
    "# 89% : 150개중 134개 맞춤 ==> 정확도(accuracy)"
   ]
  },
  {
   "cell_type": "code",
   "execution_count": 23,
   "id": "3e2d9682",
   "metadata": {
    "ExecuteTime": {
     "end_time": "2023-05-19T05:40:05.586926Z",
     "start_time": "2023-05-19T05:40:05.556918Z"
    }
   },
   "outputs": [
    {
     "data": {
      "text/plain": [
       "0.9542857142857143"
      ]
     },
     "execution_count": 23,
     "metadata": {},
     "output_type": "execute_result"
    }
   ],
   "source": [
    "knn_model.score(X_train, Y_train)\n",
    "# 테스트용 데이터보다 정확도가 높게 나오는 이유(score가 높은 이유)\n",
    "# ==> 이미 규칙을 찾는데 사용된 데이터를 기반으로 모델을 평가했기 떄문에"
   ]
  },
  {
   "cell_type": "markdown",
   "id": "4e7fd9e5",
   "metadata": {},
   "source": [
    "### 하이퍼 파라미터 튜닝하기\n",
    "- KNN 모델의 하이퍼 파라미터(n_neighbors)의 변화에 따라 score 값을 확인\n",
    "- 최적의 하이퍼 파라미터를 찾기 위해서"
   ]
  },
  {
   "cell_type": "code",
   "execution_count": 28,
   "id": "8e9b0cdd",
   "metadata": {
    "ExecuteTime": {
     "end_time": "2023-05-19T05:40:23.833852Z",
     "start_time": "2023-05-19T05:40:23.177364Z"
    }
   },
   "outputs": [
    {
     "name": "stdout",
     "output_type": "stream",
     "text": [
      "30번째 score : 0.8333333333333334\n"
     ]
    }
   ],
   "source": [
    "from sklearn.neighbors import KNeighborsClassifier\n",
    "# 점수를 저장할 list 생성\n",
    "train_acc = []\n",
    "test_acc = []\n",
    "\n",
    "# n_neighbors를 1~30까지 생성\n",
    "for i in range(1, 31) :\n",
    "    # n_neighbors를 변경해가면서 모델을 생성\n",
    "    knn_model = KNeighborsClassifier(n_neighbors = i)\n",
    "    # 생성된 모델에 학습\n",
    "    knn_model.fit(X_train, Y_train)\n",
    "    \n",
    "    # 만들어진 규칙으로 score값 저장\n",
    "    # 과대적합, 과소적합 확인을 위한 데이터로 저장\n",
    "    train_acc.append(knn_model.score(X_train, Y_train))\n",
    "    test_acc.append(knn_model.score(X_test, Y_test))\n",
    "    \n",
    "#print(f\"{i}번째 score : {knn_model.score(X_test, Y_test)}\")"
   ]
  },
  {
   "cell_type": "code",
   "execution_count": 27,
   "id": "51fe68c3",
   "metadata": {
    "ExecuteTime": {
     "end_time": "2023-05-19T05:40:13.130921Z",
     "start_time": "2023-05-19T05:40:12.969043Z"
    }
   },
   "outputs": [
    {
     "data": {
      "image/png": "[encoded data removed]",
      "text/plain": [
       "<Figure size 640x480 with 1 Axes>"
      ]
     },
     "metadata": {},
     "output_type": "display_data"
    }
   ],
   "source": [
    "# 모델 복잡도 - 그래프로 확인하기\n",
    "import matplotlib.pyplot as plt\n",
    "# 선그래프(x,y축 값이 필요)\n",
    "# X축 : n_neighbors = range(1,31)\n",
    "# y축 : 정확도(accuracy)\n",
    "plt.plot(range(1,31), train_acc, label = 'Train')\n",
    "plt.plot(range(1,31), test_acc, label = 'Test')\n",
    "plt.legend()\n",
    "\n",
    "plt.show()"
   ]
  },
  {
   "attachments": {
    "image.png": {
     "image/png": "[encoded data removed]"
    }
   },
   "cell_type": "markdown",
   "id": "794cb0d5",
   "metadata": {},
   "source": [
    "![image.png](attachment:image.png)\n",
    "<br>\n",
    "- 과대적합 : 훈련 데이터에 과하게 학습이 됨(모델이 복잡)  \n",
    "  ✔ test score가 낮고 train score가 높음  \n",
    "<br>  \n",
    "\n",
    "- 과소적합 : 규칙이 너무 없어서 학습이 거의 안됨(모델이 단순)  \n",
    "  ✔ test score가 낮고 train score도 낮음\n",
    "  "
   ]
  }
 ],
 "metadata": {
  "kernelspec": {
   "display_name": "Python 3 (ipykernel)",
   "language": "python",
   "name": "python3"
  },
  "language_info": {
   "codemirror_mode": {
    "name": "ipython",
    "version": 3
   },
   "file_extension": ".py",
   "mimetype": "text/x-python",
   "name": "python",
   "nbconvert_exporter": "python",
   "pygments_lexer": "ipython3",
   "version": "3.9.13"
  },
  "toc": {
   "base_numbering": 1,
   "nav_menu": {},
   "number_sections": true,
   "sideBar": true,
   "skip_h1_title": false,
   "title_cell": "Table of Contents",
   "title_sidebar": "Contents",
   "toc_cell": false,
   "toc_position": {
    "height": "calc(100% - 180px)",
    "left": "10px",
    "top": "150px",
    "width": "384px"
   },
   "toc_section_display": true,
   "toc_window_display": false
  },
  "varInspector": {
   "cols": {
    "lenName": 16,
    "lenType": 16,
    "lenVar": 40
   },
   "kernels_config": {
    "python": {
     "delete_cmd_postfix": "",
     "delete_cmd_prefix": "del ",
     "library": "var_list.py",
     "varRefreshCmd": "print(var_dic_list())"
    },
    "r": {
     "delete_cmd_postfix": ") ",
     "delete_cmd_prefix": "rm(",
     "library": "var_list.r",
     "varRefreshCmd": "cat(var_dic_list()) "
    }
   },
   "types_to_exclude": [
    "module",
    "function",
    "builtin_function_or_method",
    "instance",
    "_Feature"
   ],
   "window_display": false
  }
 },
 "nbformat": 4,
 "nbformat_minor": 5
}
