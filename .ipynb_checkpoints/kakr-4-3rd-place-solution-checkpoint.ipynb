{
 "cells": [
  {
   "cell_type": "code",
   "execution_count": 2,
   "metadata": {
    "ExecuteTime": {
     "end_time": "2023-05-31T14:22:52.290060Z",
     "start_time": "2023-05-31T14:22:51.552611Z"
    },
    "_cell_guid": "b1076dfc-b9ad-4769-8c92-a6c4dae69d19",
    "_uuid": "8f2839f25d086af736a60e9eeb907d3b93b6e0e5",
    "execution": {
     "iopub.execute_input": "2020-11-29T03:19:32.830519Z",
     "iopub.status.busy": "2020-11-29T03:19:32.828849Z",
     "iopub.status.idle": "2020-11-29T03:19:35.178200Z",
     "shell.execute_reply": "2020-11-29T03:19:35.177371Z"
    },
    "papermill": {
     "duration": 2.386398,
     "end_time": "2020-11-29T03:19:35.178344",
     "exception": false,
     "start_time": "2020-11-29T03:19:32.791946",
     "status": "completed"
    },
    "tags": []
   },
   "outputs": [],
   "source": [
    "# Suppress warnings \n",
    "import warnings\n",
    "warnings.filterwarnings('ignore')\n",
    "\n",
    "import os, sys, gc, warnings, random, datetime\n",
    "\n",
    "import pandas as pd\n",
    "import numpy as np\n",
    "\n",
    "from sklearn.preprocessing import LabelEncoder\n",
    "from sklearn.metrics import roc_auc_score, f1_score, precision_recall_curve, accuracy_score\n",
    "from sklearn.model_selection import KFold, StratifiedKFold\n",
    "\n",
    "import lightgbm as lgb\n",
    "import xgboost as xgb\n",
    "\n",
    "from matplotlib import pyplot as plt\n",
    "import seaborn as sns\n",
    "\n",
    "from IPython.display import display\n",
    "\n",
    "pd.options.display.max_rows = 10000\n",
    "pd.options.display.max_columns = 1000\n",
    "pd.options.display.max_colwidth = 1000"
   ]
  },
  {
   "cell_type": "code",
   "execution_count": 3,
   "metadata": {
    "ExecuteTime": {
     "end_time": "2023-05-31T14:22:54.814616Z",
     "start_time": "2023-05-31T14:22:54.804618Z"
    },
    "_cell_guid": "79c7e3d0-c299-4dcb-8224-4455121ee9b0",
    "_uuid": "d629ff2d2480ee46fbb7e2d37f6b5fab8052498a",
    "execution": {
     "iopub.execute_input": "2020-11-29T03:19:35.240529Z",
     "iopub.status.busy": "2020-11-29T03:19:35.239451Z",
     "iopub.status.idle": "2020-11-29T03:19:35.243173Z",
     "shell.execute_reply": "2020-11-29T03:19:35.242389Z"
    },
    "papermill": {
     "duration": 0.036767,
     "end_time": "2020-11-29T03:19:35.243302",
     "exception": false,
     "start_time": "2020-11-29T03:19:35.206535",
     "status": "completed"
    },
    "tags": []
   },
   "outputs": [],
   "source": [
    "def seed_everything(seed=0):\n",
    "    random.seed(seed)\n",
    "    os.environ['PYTHONHASHSEED'] = str(seed)\n",
    "    np.random.seed(seed)\n",
    "    \n",
    "SEED = 42\n",
    "seed_everything(SEED)"
   ]
  },
  {
   "cell_type": "code",
   "execution_count": 4,
   "metadata": {
    "ExecuteTime": {
     "end_time": "2023-05-31T14:23:38.608455Z",
     "start_time": "2023-05-31T14:23:38.598452Z"
    },
    "execution": {
     "iopub.execute_input": "2020-11-29T03:19:35.306395Z",
     "iopub.status.busy": "2020-11-29T03:19:35.305368Z",
     "iopub.status.idle": "2020-11-29T03:19:35.308978Z",
     "shell.execute_reply": "2020-11-29T03:19:35.308338Z"
    },
    "papermill": {
     "duration": 0.039669,
     "end_time": "2020-11-29T03:19:35.309098",
     "exception": false,
     "start_time": "2020-11-29T03:19:35.269429",
     "status": "completed"
    },
    "tags": []
   },
   "outputs": [],
   "source": [
    "def read_data(na_values='?', target='income', drop_cols=['education-num']):\n",
    "    train = pd.read_csv('data/kaggle/train.csv')\n",
    "    train[target] = train[target].map({'<=50K':0, '>50K':1})\n",
    "    y = train.pop(target)\n",
    "    train.drop(drop_cols, axis='columns', inplace=True)\n",
    "    print('train.shape:', train.shape)\n",
    "    display(train.head())\n",
    "    \n",
    "    test = pd.read_csv('data/kaggle/test.csv')\n",
    "    test.drop(drop_cols, axis='columns', inplace=True)\n",
    "    print('test.shape:', test.shape)\n",
    "    display(test.head())\n",
    "    \n",
    "    return train, test, y"
   ]
  },
  {
   "cell_type": "code",
   "execution_count": 5,
   "metadata": {
    "ExecuteTime": {
     "end_time": "2023-05-31T14:23:41.065355Z",
     "start_time": "2023-05-31T14:23:40.904712Z"
    },
    "execution": {
     "iopub.execute_input": "2020-11-29T03:19:35.366351Z",
     "iopub.status.busy": "2020-11-29T03:19:35.365592Z",
     "iopub.status.idle": "2020-11-29T03:19:35.541230Z",
     "shell.execute_reply": "2020-11-29T03:19:35.540498Z"
    },
    "papermill": {
     "duration": 0.206776,
     "end_time": "2020-11-29T03:19:35.541349",
     "exception": false,
     "start_time": "2020-11-29T03:19:35.334573",
     "status": "completed"
    },
    "tags": []
   },
   "outputs": [
    {
     "name": "stdout",
     "output_type": "stream",
     "text": [
      "train.shape: (29305, 14)\n"
     ]
    },
    {
     "data": {
      "text/html": [
       "<div>\n",
       "<style scoped>\n",
       "    .dataframe tbody tr th:only-of-type {\n",
       "        vertical-align: middle;\n",
       "    }\n",
       "\n",
       "    .dataframe tbody tr th {\n",
       "        vertical-align: top;\n",
       "    }\n",
       "\n",
       "    .dataframe thead th {\n",
       "        text-align: right;\n",
       "    }\n",
       "</style>\n",
       "<table border=\"1\" class=\"dataframe\">\n",
       "  <thead>\n",
       "    <tr style=\"text-align: right;\">\n",
       "      <th></th>\n",
       "      <th>no</th>\n",
       "      <th>age</th>\n",
       "      <th>workclass</th>\n",
       "      <th>fnlwgt</th>\n",
       "      <th>education</th>\n",
       "      <th>marital-status</th>\n",
       "      <th>occupation</th>\n",
       "      <th>relationship</th>\n",
       "      <th>race</th>\n",
       "      <th>sex</th>\n",
       "      <th>capital-gain</th>\n",
       "      <th>capital-loss</th>\n",
       "      <th>hours-per-week</th>\n",
       "      <th>native-country</th>\n",
       "    </tr>\n",
       "  </thead>\n",
       "  <tbody>\n",
       "    <tr>\n",
       "      <th>0</th>\n",
       "      <td>1</td>\n",
       "      <td>25</td>\n",
       "      <td>Private</td>\n",
       "      <td>219199</td>\n",
       "      <td>11th</td>\n",
       "      <td>Divorced</td>\n",
       "      <td>Machine-op-inspct</td>\n",
       "      <td>Not-in-family</td>\n",
       "      <td>White</td>\n",
       "      <td>Male</td>\n",
       "      <td>0</td>\n",
       "      <td>0</td>\n",
       "      <td>40</td>\n",
       "      <td>United-States</td>\n",
       "    </tr>\n",
       "    <tr>\n",
       "      <th>1</th>\n",
       "      <td>2</td>\n",
       "      <td>39</td>\n",
       "      <td>Private</td>\n",
       "      <td>52978</td>\n",
       "      <td>Some-college</td>\n",
       "      <td>Divorced</td>\n",
       "      <td>Other-service</td>\n",
       "      <td>Not-in-family</td>\n",
       "      <td>White</td>\n",
       "      <td>Female</td>\n",
       "      <td>0</td>\n",
       "      <td>1721</td>\n",
       "      <td>55</td>\n",
       "      <td>United-States</td>\n",
       "    </tr>\n",
       "    <tr>\n",
       "      <th>2</th>\n",
       "      <td>3</td>\n",
       "      <td>35</td>\n",
       "      <td>Private</td>\n",
       "      <td>196899</td>\n",
       "      <td>Bachelors</td>\n",
       "      <td>Never-married</td>\n",
       "      <td>Handlers-cleaners</td>\n",
       "      <td>Not-in-family</td>\n",
       "      <td>Asian-Pac-Islander</td>\n",
       "      <td>Female</td>\n",
       "      <td>0</td>\n",
       "      <td>0</td>\n",
       "      <td>50</td>\n",
       "      <td>Haiti</td>\n",
       "    </tr>\n",
       "    <tr>\n",
       "      <th>3</th>\n",
       "      <td>4</td>\n",
       "      <td>64</td>\n",
       "      <td>Private</td>\n",
       "      <td>135527</td>\n",
       "      <td>Assoc-voc</td>\n",
       "      <td>Divorced</td>\n",
       "      <td>Tech-support</td>\n",
       "      <td>Not-in-family</td>\n",
       "      <td>White</td>\n",
       "      <td>Female</td>\n",
       "      <td>0</td>\n",
       "      <td>0</td>\n",
       "      <td>40</td>\n",
       "      <td>United-States</td>\n",
       "    </tr>\n",
       "    <tr>\n",
       "      <th>4</th>\n",
       "      <td>5</td>\n",
       "      <td>24</td>\n",
       "      <td>Private</td>\n",
       "      <td>60783</td>\n",
       "      <td>Some-college</td>\n",
       "      <td>Married-civ-spouse</td>\n",
       "      <td>Transport-moving</td>\n",
       "      <td>Husband</td>\n",
       "      <td>White</td>\n",
       "      <td>Male</td>\n",
       "      <td>0</td>\n",
       "      <td>0</td>\n",
       "      <td>70</td>\n",
       "      <td>United-States</td>\n",
       "    </tr>\n",
       "  </tbody>\n",
       "</table>\n",
       "</div>"
      ],
      "text/plain": [
       "   no  age workclass  fnlwgt      education       marital-status  \\\n",
       "0   1   25   Private  219199           11th             Divorced   \n",
       "1   2   39   Private   52978   Some-college             Divorced   \n",
       "2   3   35   Private  196899      Bachelors        Never-married   \n",
       "3   4   64   Private  135527      Assoc-voc             Divorced   \n",
       "4   5   24   Private   60783   Some-college   Married-civ-spouse   \n",
       "\n",
       "           occupation    relationship                 race      sex  \\\n",
       "0   Machine-op-inspct   Not-in-family                White     Male   \n",
       "1       Other-service   Not-in-family                White   Female   \n",
       "2   Handlers-cleaners   Not-in-family   Asian-Pac-Islander   Female   \n",
       "3        Tech-support   Not-in-family                White   Female   \n",
       "4    Transport-moving         Husband                White     Male   \n",
       "\n",
       "   capital-gain  capital-loss  hours-per-week  native-country  \n",
       "0             0             0              40   United-States  \n",
       "1             0          1721              55   United-States  \n",
       "2             0             0              50           Haiti  \n",
       "3             0             0              40   United-States  \n",
       "4             0             0              70   United-States  "
      ]
     },
     "metadata": {},
     "output_type": "display_data"
    },
    {
     "name": "stdout",
     "output_type": "stream",
     "text": [
      "test.shape: (19537, 14)\n"
     ]
    },
    {
     "data": {
      "text/html": [
       "<div>\n",
       "<style scoped>\n",
       "    .dataframe tbody tr th:only-of-type {\n",
       "        vertical-align: middle;\n",
       "    }\n",
       "\n",
       "    .dataframe tbody tr th {\n",
       "        vertical-align: top;\n",
       "    }\n",
       "\n",
       "    .dataframe thead th {\n",
       "        text-align: right;\n",
       "    }\n",
       "</style>\n",
       "<table border=\"1\" class=\"dataframe\">\n",
       "  <thead>\n",
       "    <tr style=\"text-align: right;\">\n",
       "      <th></th>\n",
       "      <th>no</th>\n",
       "      <th>age</th>\n",
       "      <th>workclass</th>\n",
       "      <th>fnlwgt</th>\n",
       "      <th>education</th>\n",
       "      <th>marital-status</th>\n",
       "      <th>occupation</th>\n",
       "      <th>relationship</th>\n",
       "      <th>race</th>\n",
       "      <th>sex</th>\n",
       "      <th>capital-gain</th>\n",
       "      <th>capital-loss</th>\n",
       "      <th>hours-per-week</th>\n",
       "      <th>native-country</th>\n",
       "    </tr>\n",
       "  </thead>\n",
       "  <tbody>\n",
       "    <tr>\n",
       "      <th>0</th>\n",
       "      <td>29306</td>\n",
       "      <td>18</td>\n",
       "      <td>?</td>\n",
       "      <td>245274</td>\n",
       "      <td>Some-college</td>\n",
       "      <td>Never-married</td>\n",
       "      <td>?</td>\n",
       "      <td>Own-child</td>\n",
       "      <td>White</td>\n",
       "      <td>Male</td>\n",
       "      <td>0</td>\n",
       "      <td>0</td>\n",
       "      <td>16</td>\n",
       "      <td>United-States</td>\n",
       "    </tr>\n",
       "    <tr>\n",
       "      <th>1</th>\n",
       "      <td>29307</td>\n",
       "      <td>29</td>\n",
       "      <td>Private</td>\n",
       "      <td>83003</td>\n",
       "      <td>HS-grad</td>\n",
       "      <td>Married-civ-spouse</td>\n",
       "      <td>Other-service</td>\n",
       "      <td>Wife</td>\n",
       "      <td>White</td>\n",
       "      <td>Female</td>\n",
       "      <td>0</td>\n",
       "      <td>0</td>\n",
       "      <td>40</td>\n",
       "      <td>United-States</td>\n",
       "    </tr>\n",
       "    <tr>\n",
       "      <th>2</th>\n",
       "      <td>29308</td>\n",
       "      <td>45</td>\n",
       "      <td>Private</td>\n",
       "      <td>35136</td>\n",
       "      <td>Bachelors</td>\n",
       "      <td>Married-civ-spouse</td>\n",
       "      <td>Tech-support</td>\n",
       "      <td>Husband</td>\n",
       "      <td>Black</td>\n",
       "      <td>Male</td>\n",
       "      <td>0</td>\n",
       "      <td>0</td>\n",
       "      <td>40</td>\n",
       "      <td>United-States</td>\n",
       "    </tr>\n",
       "    <tr>\n",
       "      <th>3</th>\n",
       "      <td>29309</td>\n",
       "      <td>42</td>\n",
       "      <td>Self-emp-not-inc</td>\n",
       "      <td>64631</td>\n",
       "      <td>Bachelors</td>\n",
       "      <td>Married-civ-spouse</td>\n",
       "      <td>Exec-managerial</td>\n",
       "      <td>Husband</td>\n",
       "      <td>White</td>\n",
       "      <td>Male</td>\n",
       "      <td>0</td>\n",
       "      <td>0</td>\n",
       "      <td>40</td>\n",
       "      <td>United-States</td>\n",
       "    </tr>\n",
       "    <tr>\n",
       "      <th>4</th>\n",
       "      <td>29310</td>\n",
       "      <td>41</td>\n",
       "      <td>Private</td>\n",
       "      <td>195821</td>\n",
       "      <td>Doctorate</td>\n",
       "      <td>Married-civ-spouse</td>\n",
       "      <td>Exec-managerial</td>\n",
       "      <td>Wife</td>\n",
       "      <td>White</td>\n",
       "      <td>Female</td>\n",
       "      <td>0</td>\n",
       "      <td>1902</td>\n",
       "      <td>40</td>\n",
       "      <td>United-States</td>\n",
       "    </tr>\n",
       "  </tbody>\n",
       "</table>\n",
       "</div>"
      ],
      "text/plain": [
       "      no  age          workclass  fnlwgt      education       marital-status  \\\n",
       "0  29306   18                  ?  245274   Some-college        Never-married   \n",
       "1  29307   29            Private   83003        HS-grad   Married-civ-spouse   \n",
       "2  29308   45            Private   35136      Bachelors   Married-civ-spouse   \n",
       "3  29309   42   Self-emp-not-inc   64631      Bachelors   Married-civ-spouse   \n",
       "4  29310   41            Private  195821      Doctorate   Married-civ-spouse   \n",
       "\n",
       "         occupation relationship    race      sex  capital-gain  capital-loss  \\\n",
       "0                 ?    Own-child   White     Male             0             0   \n",
       "1     Other-service         Wife   White   Female             0             0   \n",
       "2      Tech-support      Husband   Black     Male             0             0   \n",
       "3   Exec-managerial      Husband   White     Male             0             0   \n",
       "4   Exec-managerial         Wife   White   Female             0          1902   \n",
       "\n",
       "   hours-per-week  native-country  \n",
       "0              16   United-States  \n",
       "1              40   United-States  \n",
       "2              40   United-States  \n",
       "3              40   United-States  \n",
       "4              40   United-States  "
      ]
     },
     "metadata": {},
     "output_type": "display_data"
    }
   ],
   "source": [
    "train, test, y = read_data()"
   ]
  },
  {
   "cell_type": "code",
   "execution_count": 6,
   "metadata": {
    "ExecuteTime": {
     "end_time": "2023-05-31T14:23:44.747646Z",
     "start_time": "2023-05-31T14:23:44.701696Z"
    },
    "execution": {
     "iopub.execute_input": "2020-11-29T03:19:35.626107Z",
     "iopub.status.busy": "2020-11-29T03:19:35.625324Z",
     "iopub.status.idle": "2020-11-29T03:19:35.633661Z",
     "shell.execute_reply": "2020-11-29T03:19:35.632943Z"
    },
    "papermill": {
     "duration": 0.063774,
     "end_time": "2020-11-29T03:19:35.633781",
     "exception": false,
     "start_time": "2020-11-29T03:19:35.570007",
     "status": "completed"
    },
    "tags": []
   },
   "outputs": [
    {
     "data": {
      "text/plain": [
       "no                0\n",
       "age               0\n",
       "workclass         0\n",
       "fnlwgt            0\n",
       "education         0\n",
       "marital-status    0\n",
       "occupation        0\n",
       "relationship      0\n",
       "race              0\n",
       "sex               0\n",
       "capital-gain      0\n",
       "capital-loss      0\n",
       "hours-per-week    0\n",
       "native-country    0\n",
       "dtype: int64"
      ]
     },
     "execution_count": 6,
     "metadata": {},
     "output_type": "execute_result"
    }
   ],
   "source": [
    "train.isna().sum()"
   ]
  },
  {
   "cell_type": "code",
   "execution_count": 7,
   "metadata": {
    "ExecuteTime": {
     "end_time": "2023-05-31T14:23:47.655227Z",
     "start_time": "2023-05-31T14:23:47.613327Z"
    },
    "execution": {
     "iopub.execute_input": "2020-11-29T03:19:35.704378Z",
     "iopub.status.busy": "2020-11-29T03:19:35.703607Z",
     "iopub.status.idle": "2020-11-29T03:19:35.711045Z",
     "shell.execute_reply": "2020-11-29T03:19:35.710215Z"
    },
    "papermill": {
     "duration": 0.048072,
     "end_time": "2020-11-29T03:19:35.711388",
     "exception": false,
     "start_time": "2020-11-29T03:19:35.663316",
     "status": "completed"
    },
    "tags": []
   },
   "outputs": [
    {
     "data": {
      "text/plain": [
       "no                0\n",
       "age               0\n",
       "workclass         0\n",
       "fnlwgt            0\n",
       "education         0\n",
       "marital-status    0\n",
       "occupation        0\n",
       "relationship      0\n",
       "race              0\n",
       "sex               0\n",
       "capital-gain      0\n",
       "capital-loss      0\n",
       "hours-per-week    0\n",
       "native-country    0\n",
       "dtype: int64"
      ]
     },
     "execution_count": 7,
     "metadata": {},
     "output_type": "execute_result"
    }
   ],
   "source": [
    "test.isna().sum()"
   ]
  },
  {
   "cell_type": "code",
   "execution_count": 8,
   "metadata": {
    "ExecuteTime": {
     "end_time": "2023-05-31T14:23:52.419670Z",
     "start_time": "2023-05-31T14:23:52.360846Z"
    },
    "execution": {
     "iopub.execute_input": "2020-11-29T03:19:35.781144Z",
     "iopub.status.busy": "2020-11-29T03:19:35.777990Z",
     "iopub.status.idle": "2020-11-29T03:19:35.887683Z",
     "shell.execute_reply": "2020-11-29T03:19:35.888282Z"
    },
    "papermill": {
     "duration": 0.14702,
     "end_time": "2020-11-29T03:19:35.888442",
     "exception": false,
     "start_time": "2020-11-29T03:19:35.741422",
     "status": "completed"
    },
    "tags": []
   },
   "outputs": [
    {
     "data": {
      "text/html": [
       "<div>\n",
       "<style scoped>\n",
       "    .dataframe tbody tr th:only-of-type {\n",
       "        vertical-align: middle;\n",
       "    }\n",
       "\n",
       "    .dataframe tbody tr th {\n",
       "        vertical-align: top;\n",
       "    }\n",
       "\n",
       "    .dataframe thead th {\n",
       "        text-align: right;\n",
       "    }\n",
       "</style>\n",
       "<table border=\"1\" class=\"dataframe\">\n",
       "  <thead>\n",
       "    <tr style=\"text-align: right;\">\n",
       "      <th></th>\n",
       "      <th>no</th>\n",
       "      <th>age</th>\n",
       "      <th>workclass</th>\n",
       "      <th>fnlwgt</th>\n",
       "      <th>education</th>\n",
       "      <th>marital-status</th>\n",
       "      <th>occupation</th>\n",
       "      <th>relationship</th>\n",
       "      <th>race</th>\n",
       "      <th>sex</th>\n",
       "      <th>capital-gain</th>\n",
       "      <th>capital-loss</th>\n",
       "      <th>hours-per-week</th>\n",
       "      <th>native-country</th>\n",
       "      <th>income</th>\n",
       "    </tr>\n",
       "  </thead>\n",
       "  <tbody>\n",
       "  </tbody>\n",
       "</table>\n",
       "</div>"
      ],
      "text/plain": [
       "Empty DataFrame\n",
       "Columns: [no, age, workclass, fnlwgt, education, marital-status, occupation, relationship, race, sex, capital-gain, capital-loss, hours-per-week, native-country, income]\n",
       "Index: []"
      ]
     },
     "execution_count": 8,
     "metadata": {},
     "output_type": "execute_result"
    }
   ],
   "source": [
    "features = [col for col in train.columns if col != 'id']\n",
    "pd.concat([train,y], axis=1)[train[features].duplicated(keep=False)].sort_values(features)"
   ]
  },
  {
   "cell_type": "code",
   "execution_count": 9,
   "metadata": {
    "ExecuteTime": {
     "end_time": "2023-05-31T14:23:54.325275Z",
     "start_time": "2023-05-31T14:23:54.284385Z"
    },
    "execution": {
     "iopub.execute_input": "2020-11-29T03:19:35.961090Z",
     "iopub.status.busy": "2020-11-29T03:19:35.960299Z",
     "iopub.status.idle": "2020-11-29T03:19:35.986420Z",
     "shell.execute_reply": "2020-11-29T03:19:35.986970Z"
    },
    "papermill": {
     "duration": 0.066882,
     "end_time": "2020-11-29T03:19:35.987133",
     "exception": false,
     "start_time": "2020-11-29T03:19:35.920251",
     "status": "completed"
    },
    "tags": []
   },
   "outputs": [
    {
     "data": {
      "text/html": [
       "<div>\n",
       "<style scoped>\n",
       "    .dataframe tbody tr th:only-of-type {\n",
       "        vertical-align: middle;\n",
       "    }\n",
       "\n",
       "    .dataframe tbody tr th {\n",
       "        vertical-align: top;\n",
       "    }\n",
       "\n",
       "    .dataframe thead th {\n",
       "        text-align: right;\n",
       "    }\n",
       "</style>\n",
       "<table border=\"1\" class=\"dataframe\">\n",
       "  <thead>\n",
       "    <tr style=\"text-align: right;\">\n",
       "      <th></th>\n",
       "      <th>no</th>\n",
       "      <th>age</th>\n",
       "      <th>workclass</th>\n",
       "      <th>fnlwgt</th>\n",
       "      <th>education</th>\n",
       "      <th>marital-status</th>\n",
       "      <th>occupation</th>\n",
       "      <th>relationship</th>\n",
       "      <th>race</th>\n",
       "      <th>sex</th>\n",
       "      <th>capital-gain</th>\n",
       "      <th>capital-loss</th>\n",
       "      <th>hours-per-week</th>\n",
       "      <th>native-country</th>\n",
       "    </tr>\n",
       "  </thead>\n",
       "  <tbody>\n",
       "  </tbody>\n",
       "</table>\n",
       "</div>"
      ],
      "text/plain": [
       "Empty DataFrame\n",
       "Columns: [no, age, workclass, fnlwgt, education, marital-status, occupation, relationship, race, sex, capital-gain, capital-loss, hours-per-week, native-country]\n",
       "Index: []"
      ]
     },
     "execution_count": 9,
     "metadata": {},
     "output_type": "execute_result"
    }
   ],
   "source": [
    "features = [col for col in test.columns if col != 'id']\n",
    "test[test[features].duplicated(keep=False)].sort_values(features)"
   ]
  },
  {
   "cell_type": "code",
   "execution_count": 10,
   "metadata": {
    "ExecuteTime": {
     "end_time": "2023-05-31T14:23:56.794675Z",
     "start_time": "2023-05-31T14:23:56.726851Z"
    },
    "execution": {
     "iopub.execute_input": "2020-11-29T03:19:36.062540Z",
     "iopub.status.busy": "2020-11-29T03:19:36.061801Z",
     "iopub.status.idle": "2020-11-29T03:19:36.164994Z",
     "shell.execute_reply": "2020-11-29T03:19:36.164354Z"
    },
    "papermill": {
     "duration": 0.145871,
     "end_time": "2020-11-29T03:19:36.165113",
     "exception": false,
     "start_time": "2020-11-29T03:19:36.019242",
     "status": "completed"
    },
    "tags": []
   },
   "outputs": [
    {
     "data": {
      "text/html": [
       "<div>\n",
       "<style scoped>\n",
       "    .dataframe tbody tr th:only-of-type {\n",
       "        vertical-align: middle;\n",
       "    }\n",
       "\n",
       "    .dataframe tbody tr th {\n",
       "        vertical-align: top;\n",
       "    }\n",
       "\n",
       "    .dataframe thead th {\n",
       "        text-align: right;\n",
       "    }\n",
       "</style>\n",
       "<table border=\"1\" class=\"dataframe\">\n",
       "  <thead>\n",
       "    <tr style=\"text-align: right;\">\n",
       "      <th></th>\n",
       "      <th>no</th>\n",
       "      <th>age</th>\n",
       "      <th>workclass</th>\n",
       "      <th>fnlwgt</th>\n",
       "      <th>education</th>\n",
       "      <th>marital-status</th>\n",
       "      <th>occupation</th>\n",
       "      <th>relationship</th>\n",
       "      <th>race</th>\n",
       "      <th>sex</th>\n",
       "      <th>capital-gain</th>\n",
       "      <th>capital-loss</th>\n",
       "      <th>hours-per-week</th>\n",
       "      <th>native-country</th>\n",
       "      <th>count</th>\n",
       "      <th>mean</th>\n",
       "    </tr>\n",
       "  </thead>\n",
       "  <tbody>\n",
       "  </tbody>\n",
       "</table>\n",
       "</div>"
      ],
      "text/plain": [
       "Empty DataFrame\n",
       "Columns: [no, age, workclass, fnlwgt, education, marital-status, occupation, relationship, race, sex, capital-gain, capital-loss, hours-per-week, native-country, count, mean]\n",
       "Index: []"
      ]
     },
     "execution_count": 10,
     "metadata": {},
     "output_type": "execute_result"
    }
   ],
   "source": [
    "grouped_trn = pd.concat([train,y], axis=1).groupby(features)['income'].agg(['count','mean'])\n",
    "grouped_trn.head()\n",
    "grouped_trn_dup = grouped_trn[grouped_trn['count']>1].reset_index()\n",
    "grouped_trn_dup"
   ]
  },
  {
   "cell_type": "code",
   "execution_count": 11,
   "metadata": {
    "ExecuteTime": {
     "end_time": "2023-05-31T14:23:59.007843Z",
     "start_time": "2023-05-31T14:23:58.979505Z"
    },
    "execution": {
     "iopub.execute_input": "2020-11-29T03:19:36.247798Z",
     "iopub.status.busy": "2020-11-29T03:19:36.246888Z",
     "iopub.status.idle": "2020-11-29T03:19:36.272371Z",
     "shell.execute_reply": "2020-11-29T03:19:36.272932Z"
    },
    "papermill": {
     "duration": 0.073779,
     "end_time": "2020-11-29T03:19:36.273094",
     "exception": false,
     "start_time": "2020-11-29T03:19:36.199315",
     "status": "completed"
    },
    "tags": []
   },
   "outputs": [
    {
     "data": {
      "text/html": [
       "<div>\n",
       "<style scoped>\n",
       "    .dataframe tbody tr th:only-of-type {\n",
       "        vertical-align: middle;\n",
       "    }\n",
       "\n",
       "    .dataframe tbody tr th {\n",
       "        vertical-align: top;\n",
       "    }\n",
       "\n",
       "    .dataframe thead th {\n",
       "        text-align: right;\n",
       "    }\n",
       "</style>\n",
       "<table border=\"1\" class=\"dataframe\">\n",
       "  <thead>\n",
       "    <tr style=\"text-align: right;\">\n",
       "      <th></th>\n",
       "      <th>no</th>\n",
       "      <th>age</th>\n",
       "      <th>workclass</th>\n",
       "      <th>fnlwgt</th>\n",
       "      <th>education</th>\n",
       "      <th>marital-status</th>\n",
       "      <th>occupation</th>\n",
       "      <th>relationship</th>\n",
       "      <th>race</th>\n",
       "      <th>sex</th>\n",
       "      <th>capital-gain</th>\n",
       "      <th>capital-loss</th>\n",
       "      <th>hours-per-week</th>\n",
       "      <th>native-country</th>\n",
       "      <th>income</th>\n",
       "    </tr>\n",
       "  </thead>\n",
       "  <tbody>\n",
       "  </tbody>\n",
       "</table>\n",
       "</div>"
      ],
      "text/plain": [
       "Empty DataFrame\n",
       "Columns: [no, age, workclass, fnlwgt, education, marital-status, occupation, relationship, race, sex, capital-gain, capital-loss, hours-per-week, native-country, income]\n",
       "Index: []"
      ]
     },
     "execution_count": 11,
     "metadata": {},
     "output_type": "execute_result"
    }
   ],
   "source": [
    "crit = (train['age']==39)&(train['workclass']=='Private')&(train['fnlwgt']==138192)\n",
    "pd.concat([train,y], axis=1)[crit]"
   ]
  },
  {
   "cell_type": "code",
   "execution_count": 12,
   "metadata": {
    "ExecuteTime": {
     "end_time": "2023-05-31T14:24:01.193673Z",
     "start_time": "2023-05-31T14:24:01.148748Z"
    },
    "execution": {
     "iopub.execute_input": "2020-11-29T03:19:36.352466Z",
     "iopub.status.busy": "2020-11-29T03:19:36.348374Z",
     "iopub.status.idle": "2020-11-29T03:19:36.407497Z",
     "shell.execute_reply": "2020-11-29T03:19:36.406926Z"
    },
    "papermill": {
     "duration": 0.100439,
     "end_time": "2020-11-29T03:19:36.407618",
     "exception": false,
     "start_time": "2020-11-29T03:19:36.307179",
     "status": "completed"
    },
    "tags": []
   },
   "outputs": [
    {
     "name": "stdout",
     "output_type": "stream",
     "text": [
      "(29305, 14) (29305,)\n"
     ]
    },
    {
     "data": {
      "text/html": [
       "<div>\n",
       "<style scoped>\n",
       "    .dataframe tbody tr th:only-of-type {\n",
       "        vertical-align: middle;\n",
       "    }\n",
       "\n",
       "    .dataframe tbody tr th {\n",
       "        vertical-align: top;\n",
       "    }\n",
       "\n",
       "    .dataframe thead th {\n",
       "        text-align: right;\n",
       "    }\n",
       "</style>\n",
       "<table border=\"1\" class=\"dataframe\">\n",
       "  <thead>\n",
       "    <tr style=\"text-align: right;\">\n",
       "      <th></th>\n",
       "      <th>no</th>\n",
       "      <th>age</th>\n",
       "      <th>workclass</th>\n",
       "      <th>fnlwgt</th>\n",
       "      <th>education</th>\n",
       "      <th>marital-status</th>\n",
       "      <th>occupation</th>\n",
       "      <th>relationship</th>\n",
       "      <th>race</th>\n",
       "      <th>sex</th>\n",
       "      <th>capital-gain</th>\n",
       "      <th>capital-loss</th>\n",
       "      <th>hours-per-week</th>\n",
       "      <th>native-country</th>\n",
       "    </tr>\n",
       "  </thead>\n",
       "  <tbody>\n",
       "    <tr>\n",
       "      <th>0</th>\n",
       "      <td>1</td>\n",
       "      <td>25</td>\n",
       "      <td>Private</td>\n",
       "      <td>219199</td>\n",
       "      <td>11th</td>\n",
       "      <td>Divorced</td>\n",
       "      <td>Machine-op-inspct</td>\n",
       "      <td>Not-in-family</td>\n",
       "      <td>White</td>\n",
       "      <td>Male</td>\n",
       "      <td>0</td>\n",
       "      <td>0</td>\n",
       "      <td>40</td>\n",
       "      <td>United-States</td>\n",
       "    </tr>\n",
       "    <tr>\n",
       "      <th>1</th>\n",
       "      <td>2</td>\n",
       "      <td>39</td>\n",
       "      <td>Private</td>\n",
       "      <td>52978</td>\n",
       "      <td>Some-college</td>\n",
       "      <td>Divorced</td>\n",
       "      <td>Other-service</td>\n",
       "      <td>Not-in-family</td>\n",
       "      <td>White</td>\n",
       "      <td>Female</td>\n",
       "      <td>0</td>\n",
       "      <td>1721</td>\n",
       "      <td>55</td>\n",
       "      <td>United-States</td>\n",
       "    </tr>\n",
       "    <tr>\n",
       "      <th>2</th>\n",
       "      <td>3</td>\n",
       "      <td>35</td>\n",
       "      <td>Private</td>\n",
       "      <td>196899</td>\n",
       "      <td>Bachelors</td>\n",
       "      <td>Never-married</td>\n",
       "      <td>Handlers-cleaners</td>\n",
       "      <td>Not-in-family</td>\n",
       "      <td>Asian-Pac-Islander</td>\n",
       "      <td>Female</td>\n",
       "      <td>0</td>\n",
       "      <td>0</td>\n",
       "      <td>50</td>\n",
       "      <td>Haiti</td>\n",
       "    </tr>\n",
       "    <tr>\n",
       "      <th>3</th>\n",
       "      <td>4</td>\n",
       "      <td>64</td>\n",
       "      <td>Private</td>\n",
       "      <td>135527</td>\n",
       "      <td>Assoc-voc</td>\n",
       "      <td>Divorced</td>\n",
       "      <td>Tech-support</td>\n",
       "      <td>Not-in-family</td>\n",
       "      <td>White</td>\n",
       "      <td>Female</td>\n",
       "      <td>0</td>\n",
       "      <td>0</td>\n",
       "      <td>40</td>\n",
       "      <td>United-States</td>\n",
       "    </tr>\n",
       "    <tr>\n",
       "      <th>4</th>\n",
       "      <td>5</td>\n",
       "      <td>24</td>\n",
       "      <td>Private</td>\n",
       "      <td>60783</td>\n",
       "      <td>Some-college</td>\n",
       "      <td>Married-civ-spouse</td>\n",
       "      <td>Transport-moving</td>\n",
       "      <td>Husband</td>\n",
       "      <td>White</td>\n",
       "      <td>Male</td>\n",
       "      <td>0</td>\n",
       "      <td>0</td>\n",
       "      <td>70</td>\n",
       "      <td>United-States</td>\n",
       "    </tr>\n",
       "  </tbody>\n",
       "</table>\n",
       "</div>"
      ],
      "text/plain": [
       "   no  age workclass  fnlwgt      education       marital-status  \\\n",
       "0   1   25   Private  219199           11th             Divorced   \n",
       "1   2   39   Private   52978   Some-college             Divorced   \n",
       "2   3   35   Private  196899      Bachelors        Never-married   \n",
       "3   4   64   Private  135527      Assoc-voc             Divorced   \n",
       "4   5   24   Private   60783   Some-college   Married-civ-spouse   \n",
       "\n",
       "           occupation    relationship                 race      sex  \\\n",
       "0   Machine-op-inspct   Not-in-family                White     Male   \n",
       "1       Other-service   Not-in-family                White   Female   \n",
       "2   Handlers-cleaners   Not-in-family   Asian-Pac-Islander   Female   \n",
       "3        Tech-support   Not-in-family                White   Female   \n",
       "4    Transport-moving         Husband                White     Male   \n",
       "\n",
       "   capital-gain  capital-loss  hours-per-week  native-country  \n",
       "0             0             0              40   United-States  \n",
       "1             0          1721              55   United-States  \n",
       "2             0             0              50           Haiti  \n",
       "3             0             0              40   United-States  \n",
       "4             0             0              70   United-States  "
      ]
     },
     "execution_count": 12,
     "metadata": {},
     "output_type": "execute_result"
    }
   ],
   "source": [
    "train_dedup = train.drop_duplicates(features, keep='last')\n",
    "y_dedup = y[train_dedup.index]\n",
    "train_dedup.reset_index(drop=True, inplace=True)\n",
    "y_dedup.reset_index(drop=True, inplace=True)\n",
    "print(train_dedup.shape, y_dedup.shape)\n",
    "train_dedup.head()"
   ]
  },
  {
   "cell_type": "code",
   "execution_count": 13,
   "metadata": {
    "ExecuteTime": {
     "end_time": "2023-05-31T14:24:05.199937Z",
     "start_time": "2023-05-31T14:24:05.164026Z"
    },
    "execution": {
     "iopub.execute_input": "2020-11-29T03:19:36.495035Z",
     "iopub.status.busy": "2020-11-29T03:19:36.485189Z",
     "iopub.status.idle": "2020-11-29T03:19:36.524925Z",
     "shell.execute_reply": "2020-11-29T03:19:36.524285Z"
    },
    "papermill": {
     "duration": 0.082136,
     "end_time": "2020-11-29T03:19:36.525048",
     "exception": false,
     "start_time": "2020-11-29T03:19:36.442912",
     "status": "completed"
    },
    "tags": []
   },
   "outputs": [
    {
     "data": {
      "text/html": [
       "<div>\n",
       "<style scoped>\n",
       "    .dataframe tbody tr th:only-of-type {\n",
       "        vertical-align: middle;\n",
       "    }\n",
       "\n",
       "    .dataframe tbody tr th {\n",
       "        vertical-align: top;\n",
       "    }\n",
       "\n",
       "    .dataframe thead th {\n",
       "        text-align: right;\n",
       "    }\n",
       "</style>\n",
       "<table border=\"1\" class=\"dataframe\">\n",
       "  <thead>\n",
       "    <tr style=\"text-align: right;\">\n",
       "      <th></th>\n",
       "      <th>no</th>\n",
       "      <th>age</th>\n",
       "      <th>workclass</th>\n",
       "      <th>fnlwgt</th>\n",
       "      <th>education</th>\n",
       "      <th>marital-status</th>\n",
       "      <th>occupation</th>\n",
       "      <th>relationship</th>\n",
       "      <th>race</th>\n",
       "      <th>sex</th>\n",
       "      <th>capital-gain</th>\n",
       "      <th>capital-loss</th>\n",
       "      <th>hours-per-week</th>\n",
       "      <th>native-country</th>\n",
       "      <th>income</th>\n",
       "    </tr>\n",
       "  </thead>\n",
       "  <tbody>\n",
       "  </tbody>\n",
       "</table>\n",
       "</div>"
      ],
      "text/plain": [
       "Empty DataFrame\n",
       "Columns: [no, age, workclass, fnlwgt, education, marital-status, occupation, relationship, race, sex, capital-gain, capital-loss, hours-per-week, native-country, income]\n",
       "Index: []"
      ]
     },
     "execution_count": 13,
     "metadata": {},
     "output_type": "execute_result"
    }
   ],
   "source": [
    "crit = (train_dedup['age']==39)&(train_dedup['workclass']=='Private')&(train_dedup['fnlwgt']==138192)\n",
    "pd.concat([train_dedup,y_dedup], axis=1)[crit]"
   ]
  },
  {
   "cell_type": "code",
   "execution_count": 14,
   "metadata": {
    "ExecuteTime": {
     "end_time": "2023-05-31T14:24:07.201338Z",
     "start_time": "2023-05-31T14:24:07.195329Z"
    },
    "execution": {
     "iopub.execute_input": "2020-11-29T03:19:36.607230Z",
     "iopub.status.busy": "2020-11-29T03:19:36.606187Z",
     "iopub.status.idle": "2020-11-29T03:19:36.609364Z",
     "shell.execute_reply": "2020-11-29T03:19:36.608656Z"
    },
    "papermill": {
     "duration": 0.048616,
     "end_time": "2020-11-29T03:19:36.609489",
     "exception": false,
     "start_time": "2020-11-29T03:19:36.560873",
     "status": "completed"
    },
    "tags": []
   },
   "outputs": [],
   "source": [
    "def freq_encode_full(df1, df2, col, normalize=True):\n",
    "    df = pd.concat([df1[col],df2[col]])\n",
    "    vc = df.value_counts(dropna=False, normalize=normalize).to_dict()\n",
    "    nm = col + '_FE_FULL'\n",
    "    df1[nm] = df1[col].map(vc)\n",
    "    df1[nm] = df1[nm].astype('float32')\n",
    "    df2[nm] = df2[col].map(vc)\n",
    "    df2[nm] = df2[nm].astype('float32')\n",
    "    return nm"
   ]
  },
  {
   "cell_type": "code",
   "execution_count": 17,
   "metadata": {
    "ExecuteTime": {
     "end_time": "2023-05-31T14:24:34.246930Z",
     "start_time": "2023-05-31T14:24:34.173935Z"
    },
    "execution": {
     "iopub.execute_input": "2020-11-29T03:19:36.699411Z",
     "iopub.status.busy": "2020-11-29T03:19:36.696223Z",
     "iopub.status.idle": "2020-11-29T03:19:36.849260Z",
     "shell.execute_reply": "2020-11-29T03:19:36.848445Z"
    },
    "papermill": {
     "duration": 0.203506,
     "end_time": "2020-11-29T03:19:36.849381",
     "exception": false,
     "start_time": "2020-11-29T03:19:36.645875",
     "status": "completed"
    },
    "tags": []
   },
   "outputs": [],
   "source": [
    "for df in [train_dedup,test]:\n",
    "    df['workclass_occupation'] = df['workclass'] + '#' + df['occupation']\n",
    "    df['workclass_education'] = df['workclass'] + '#' + df['education']\n",
    "    df['occupation_education'] = df['occupation'] + '#' + df['education']\n",
    "    df['marital_status_relationship'] = df['marital-status'] + '#' + df['relationship']\n",
    "    df['race_sex'] = df['race'] + '#' + df['sex']\n",
    "    #df['native_country_race'] = df['native_country'] + '#' + df['race']\n",
    "    #df['workclass_na'] = df['workclass'].isna().astype(int)\n",
    "    #df['occupation_na'] = df['occupation'].isna().astype(int)\n",
    "    #df['native_country_na'] = df['native_country'].isna().astype(int)\n",
    "    #df['na_cnt'] = df.isna().sum(axis=1)\n",
    "    df['capital_margin'] = df['capital-gain'] - df['capital-loss']\n",
    "    df['capital_total'] = df['capital-gain'] + df['capital-loss']\n",
    "    df['capital_margin_flag'] = np.nan\n",
    "    df.loc[df['capital_margin']==0, 'capital_margin_flag'] = 'zero'\n",
    "    df.loc[df['capital_margin']>0, 'capital_margin_flag'] = 'positive'\n",
    "    df.loc[df['capital_margin']<0, 'capital_margin_flag'] = 'negative'\n",
    "    #df['fnlwgt_log'] = np.log1p(df['fnlwgt'])"
   ]
  },
  {
   "cell_type": "code",
   "execution_count": 15,
   "metadata": {
    "execution": {
     "iopub.execute_input": "2020-11-29T03:19:36.932968Z",
     "iopub.status.busy": "2020-11-29T03:19:36.932190Z",
     "iopub.status.idle": "2020-11-29T03:19:37.717512Z",
     "shell.execute_reply": "2020-11-29T03:19:37.718118Z"
    },
    "papermill": {
     "duration": 0.832473,
     "end_time": "2020-11-29T03:19:37.718272",
     "exception": false,
     "start_time": "2020-11-29T03:19:36.885799",
     "status": "completed"
    },
    "tags": []
   },
   "outputs": [
    {
     "name": "stdout",
     "output_type": "stream",
     "text": [
      "categorical feature: ['workclass', 'education', 'marital_status', 'occupation', 'relationship', 'race', 'sex', 'capital_gain', 'capital_loss', 'hours_per_week', 'native_country', 'workclass_occupation', 'workclass_education', 'occupation_education', 'marital_status_relationship', 'race_sex', 'capital_margin', 'capital_total', 'capital_margin_flag']\n"
     ]
    }
   ],
   "source": [
    "cate_cols = []\n",
    "# LABEL ENCODING\n",
    "for col in train_dedup.columns:\n",
    "    if (train_dedup[col].dtype.name == 'object' or test[col].dtype.name == 'object' \\\n",
    "        or train_dedup[col].nunique() < 300) and col != 'age':\n",
    "        cate_cols.append(col)\n",
    "        le = LabelEncoder()\n",
    "        le.fit(list(train_dedup[col].values) + list(test[col].values))\n",
    "        train_dedup[col] = le.transform(list(train_dedup[col].values))\n",
    "        test[col] = le.transform(list(test[col].values))\n",
    "        \n",
    "print('categorical feature:', cate_cols)"
   ]
  },
  {
   "cell_type": "code",
   "execution_count": 16,
   "metadata": {
    "execution": {
     "iopub.execute_input": "2020-11-29T03:19:37.799614Z",
     "iopub.status.busy": "2020-11-29T03:19:37.798860Z",
     "iopub.status.idle": "2020-11-29T03:19:37.891857Z",
     "shell.execute_reply": "2020-11-29T03:19:37.891191Z"
    },
    "papermill": {
     "duration": 0.136217,
     "end_time": "2020-11-29T03:19:37.892000",
     "exception": false,
     "start_time": "2020-11-29T03:19:37.755783",
     "status": "completed"
    },
    "tags": []
   },
   "outputs": [],
   "source": [
    "for col in [col for col in cate_cols if col not in ['capital_gain','capital_loss','race']]:\n",
    "    freq_encode_full(train_dedup, test, col)"
   ]
  },
  {
   "cell_type": "code",
   "execution_count": 17,
   "metadata": {
    "execution": {
     "iopub.execute_input": "2020-11-29T03:19:37.976010Z",
     "iopub.status.busy": "2020-11-29T03:19:37.974921Z",
     "iopub.status.idle": "2020-11-29T03:19:37.980098Z",
     "shell.execute_reply": "2020-11-29T03:19:37.979340Z"
    },
    "papermill": {
     "duration": 0.050138,
     "end_time": "2020-11-29T03:19:37.980221",
     "exception": false,
     "start_time": "2020-11-29T03:19:37.930083",
     "status": "completed"
    },
    "tags": []
   },
   "outputs": [
    {
     "data": {
      "text/plain": [
       "['age',\n",
       " 'workclass',\n",
       " 'fnlwgt',\n",
       " 'education',\n",
       " 'marital_status',\n",
       " 'occupation',\n",
       " 'relationship',\n",
       " 'race',\n",
       " 'sex',\n",
       " 'capital_gain',\n",
       " 'capital_loss',\n",
       " 'hours_per_week',\n",
       " 'native_country',\n",
       " 'workclass_occupation',\n",
       " 'workclass_education',\n",
       " 'occupation_education',\n",
       " 'marital_status_relationship',\n",
       " 'race_sex',\n",
       " 'capital_margin',\n",
       " 'capital_total',\n",
       " 'capital_margin_flag',\n",
       " 'workclass_FE_FULL',\n",
       " 'education_FE_FULL',\n",
       " 'marital_status_FE_FULL',\n",
       " 'occupation_FE_FULL',\n",
       " 'relationship_FE_FULL',\n",
       " 'sex_FE_FULL',\n",
       " 'hours_per_week_FE_FULL',\n",
       " 'native_country_FE_FULL',\n",
       " 'workclass_occupation_FE_FULL',\n",
       " 'workclass_education_FE_FULL',\n",
       " 'occupation_education_FE_FULL',\n",
       " 'marital_status_relationship_FE_FULL',\n",
       " 'race_sex_FE_FULL',\n",
       " 'capital_margin_FE_FULL',\n",
       " 'capital_total_FE_FULL',\n",
       " 'capital_margin_flag_FE_FULL']"
      ]
     },
     "execution_count": 17,
     "metadata": {},
     "output_type": "execute_result"
    }
   ],
   "source": [
    "remove_features = ['id','income']\n",
    "features = [col for col in list(train_dedup) if col not in remove_features]\n",
    "features"
   ]
  },
  {
   "cell_type": "code",
   "execution_count": 18,
   "metadata": {
    "execution": {
     "iopub.execute_input": "2020-11-29T03:19:38.070430Z",
     "iopub.status.busy": "2020-11-29T03:19:38.065214Z",
     "iopub.status.idle": "2020-11-29T03:19:38.079494Z",
     "shell.execute_reply": "2020-11-29T03:19:38.078855Z"
    },
    "papermill": {
     "duration": 0.061324,
     "end_time": "2020-11-29T03:19:38.079612",
     "exception": false,
     "start_time": "2020-11-29T03:19:38.018288",
     "status": "completed"
    },
    "tags": []
   },
   "outputs": [],
   "source": [
    "def make_cat_prediction(train, y, test, features, categorical_features=None, model_params=None, folds=5):\n",
    "    skf = StratifiedKFold(n_splits=folds, random_state=SEED, shuffle=True)\n",
    "    \n",
    "    x_train = train[features]\n",
    "    x_test = test[features]\n",
    "\n",
    "    y_preds = np.zeros(x_test.shape[0])\n",
    "    y_oof = np.zeros(x_train.shape[0])\n",
    "    score = 0\n",
    "\n",
    "    feature_importance = pd.DataFrame()\n",
    "    feature_importance['feature'] = features\n",
    "\n",
    "    for fold, (tr_idx, val_idx) in enumerate(skf.split(x_train, y)):\n",
    "        print(f'Fold: {fold+1}')\n",
    "\n",
    "        x_tr, x_val = x_train.loc[tr_idx, features], x_train.loc[val_idx, features]\n",
    "        y_tr, y_val = y[tr_idx], y[val_idx]\n",
    "\n",
    "        print(x_tr.shape, x_val.shape)\n",
    "        \n",
    "        clf = CatBoostClassifier(**model_params)\n",
    "        clf.fit(x_tr, y_tr, eval_set=(x_val, y_val),\n",
    "                cat_features=categorical_features,\n",
    "                use_best_model=True,\n",
    "                verbose=True)\n",
    "\n",
    "        feature_importance[f'fold_{fold+1}'] = clf.feature_importances_\n",
    "\n",
    "        best_iteration = clf.best_iteration_\n",
    "        y_pred_val = clf.predict_proba(x_val)[:,1]\n",
    "\n",
    "        y_oof[val_idx] = y_pred_val\n",
    "        print(f\"Fold {fold + 1} | F1 Score: {f1_score(y_val, np.round(y_pred_val), average='micro')}\")\n",
    "\n",
    "        score += f1_score(y_val, np.round(y_pred_val), average='micro') / folds\n",
    "        y_preds += clf.predict_proba(x_test)[:,1] / folds\n",
    "\n",
    "        del x_tr, x_val, y_tr, y_val\n",
    "        gc.collect()\n",
    "\n",
    "    print(f\"\\nMean F1 score = {score}\")\n",
    "    print(f\"OOF F1 score = {f1_score(y, np.round(y_oof), average='micro')}\")\n",
    "    \n",
    "    return y_oof, y_preds, feature_importance"
   ]
  },
  {
   "cell_type": "code",
   "execution_count": 19,
   "metadata": {
    "execution": {
     "iopub.execute_input": "2020-11-29T03:19:38.178142Z",
     "iopub.status.busy": "2020-11-29T03:19:38.177162Z",
     "iopub.status.idle": "2020-11-29T03:19:38.180406Z",
     "shell.execute_reply": "2020-11-29T03:19:38.179842Z"
    },
    "papermill": {
     "duration": 0.063064,
     "end_time": "2020-11-29T03:19:38.180536",
     "exception": false,
     "start_time": "2020-11-29T03:19:38.117472",
     "status": "completed"
    },
    "tags": []
   },
   "outputs": [],
   "source": [
    "def make_lgb_prediction(train, y, test, features, categorical_features='auto', model_params=None, folds=5):\n",
    "    def lgb_f1_score(y_hat, data):\n",
    "        y_true = data.get_label()\n",
    "        y_hat = np.round(y_hat) \n",
    "        return 'f1', f1_score(y_true, y_hat, average='binary'), True\n",
    "    \n",
    "    skf = StratifiedKFold(n_splits=folds, random_state=SEED, shuffle=True)\n",
    "    \n",
    "    x_train = train[features]\n",
    "    x_test = test[features]\n",
    "\n",
    "    y_preds = np.zeros(x_test.shape[0])\n",
    "    y_oof = np.zeros(x_train.shape[0])\n",
    "    score = 0\n",
    "\n",
    "    feature_importance = pd.DataFrame()\n",
    "    feature_importance['feature'] = features\n",
    "\n",
    "    for fold, (tr_idx, val_idx) in enumerate(skf.split(x_train, y)):\n",
    "        print(f'Fold: {fold+1}')\n",
    "\n",
    "        x_tr, x_val = x_train.loc[tr_idx, features], x_train.loc[val_idx, features]\n",
    "        y_tr, y_val = y[tr_idx], y[val_idx]\n",
    "\n",
    "        print(x_tr.shape, x_val.shape)\n",
    "\n",
    "        dtrain = lgb.Dataset(x_tr, label=y_tr)\n",
    "        dvalid = lgb.Dataset(x_val, label=y_val)\n",
    "\n",
    "        clf = lgb.train(\n",
    "            model_params,\n",
    "            dtrain,\n",
    "            valid_sets=[dtrain, dvalid],\n",
    "            categorical_feature=categorical_features,\n",
    "            verbose_eval=200,\n",
    "            early_stopping_rounds=100,\n",
    "            feval=lgb_f1_score\n",
    "        )\n",
    "\n",
    "        feature_importance[f'fold_{fold+1}'] = clf.feature_importance()\n",
    "\n",
    "        y_pred_val = clf.predict(x_val)\n",
    "\n",
    "        y_oof[val_idx] = y_pred_val\n",
    "        print(f\"Fold {fold + 1} | F1 Score: {f1_score(y_val, np.round(y_pred_val), average='micro')}\")\n",
    "\n",
    "        score += f1_score(y_val, np.round(y_pred_val), average='micro') / folds\n",
    "        y_preds += clf.predict(x_test) / folds\n",
    "\n",
    "        del x_tr, x_val, y_tr, y_val\n",
    "        gc.collect()\n",
    "\n",
    "    print(f\"\\nMean F1 score = {score}\")\n",
    "    print(f\"OOF F1 score = {f1_score(y, np.round(y_oof), average='micro')}\")\n",
    "    \n",
    "    return y_oof, y_preds, feature_importance"
   ]
  },
  {
   "cell_type": "code",
   "execution_count": 20,
   "metadata": {
    "execution": {
     "iopub.execute_input": "2020-11-29T03:19:38.279973Z",
     "iopub.status.busy": "2020-11-29T03:19:38.278697Z",
     "iopub.status.idle": "2020-11-29T03:19:38.282396Z",
     "shell.execute_reply": "2020-11-29T03:19:38.281791Z"
    },
    "papermill": {
     "duration": 0.06321,
     "end_time": "2020-11-29T03:19:38.282512",
     "exception": false,
     "start_time": "2020-11-29T03:19:38.219302",
     "status": "completed"
    },
    "tags": []
   },
   "outputs": [],
   "source": [
    "def make_xgb_prediction(train, y, test, features, model_params=None, folds=5):\n",
    "    def xgb_f1_score(y_hat, data):\n",
    "        y_true = data.get_label()\n",
    "        y_hat = np.round(y_hat) \n",
    "        return 'f1', 1-f1_score(y_true, y_hat, average='micro')\n",
    "    \n",
    "    skf = StratifiedKFold(n_splits=folds, random_state=SEED, shuffle=True)\n",
    "    \n",
    "    x_train = train[features]\n",
    "    x_test = test[features]\n",
    "\n",
    "    y_preds = np.zeros(x_test.shape[0])\n",
    "    y_oof = np.zeros(x_train.shape[0])\n",
    "    score = 0\n",
    "\n",
    "    feature_importance = pd.DataFrame()\n",
    "    feature_importance['feature'] = features\n",
    "\n",
    "    for fold, (tr_idx, val_idx) in enumerate(skf.split(x_train, y)):\n",
    "        print(f'Fold: {fold+1}')\n",
    "\n",
    "        x_tr, x_val = x_train.loc[tr_idx, features], x_train.loc[val_idx, features]\n",
    "        y_tr, y_val = y[tr_idx], y[val_idx]\n",
    "\n",
    "        print(x_tr.shape, x_val.shape)\n",
    "\n",
    "        dtrain = xgb.DMatrix(x_tr, label=y_tr)\n",
    "        dvalid = xgb.DMatrix(x_val, label=y_val)\n",
    "\n",
    "        clf = xgb.train(\n",
    "            model_params,\n",
    "            dtrain,\n",
    "            num_boost_round=10000, \n",
    "            evals=[(dtrain, 'train'), (dvalid, 'valid')],\n",
    "            verbose_eval=200,\n",
    "            early_stopping_rounds=100,\n",
    "            feval=xgb_f1_score\n",
    "        )\n",
    "\n",
    "        #feature_importance[f'fold_{fold+1}'] = clf.get_score()\n",
    "\n",
    "        y_pred_val = clf.predict(dvalid)\n",
    "\n",
    "        y_oof[val_idx] = y_pred_val\n",
    "        print(f\"Fold {fold + 1} | F1 Score: {f1_score(y_val, np.round(y_pred_val), average='micro')}\")\n",
    "\n",
    "        score += f1_score(y_val, np.round(y_pred_val), average='micro') / folds\n",
    "        y_preds += clf.predict(xgb.DMatrix(x_test)) / folds\n",
    "\n",
    "        del x_tr, x_val, y_tr, y_val\n",
    "        gc.collect()\n",
    "\n",
    "    print(f\"\\nMean F1 score = {score}\")\n",
    "    print(f\"OOF F1 score = {f1_score(y, np.round(y_oof), average='micro')}\")\n",
    "    \n",
    "    return y_oof, y_preds, feature_importance"
   ]
  },
  {
   "cell_type": "code",
   "execution_count": 21,
   "metadata": {
    "execution": {
     "iopub.execute_input": "2020-11-29T03:19:38.366773Z",
     "iopub.status.busy": "2020-11-29T03:19:38.365798Z",
     "iopub.status.idle": "2020-11-29T03:19:38.369151Z",
     "shell.execute_reply": "2020-11-29T03:19:38.368376Z"
    },
    "papermill": {
     "duration": 0.048265,
     "end_time": "2020-11-29T03:19:38.369273",
     "exception": false,
     "start_time": "2020-11-29T03:19:38.321008",
     "status": "completed"
    },
    "tags": []
   },
   "outputs": [],
   "source": [
    "# catboost model params\n",
    "cat_params = {\n",
    "    'n_estimators': 10000,\n",
    "    'learning_rate': 0.07,\n",
    "    #'eval_metric': 'TotalF1', # 'TotalF1'\n",
    "    'eval_metric': 'F1',\n",
    "    #'eval_metric': 'Logloss',\n",
    "    'loss_function': 'Logloss',\n",
    "    'random_seed': SEED,\n",
    "    'metric_period': 100,\n",
    "    'od_wait': 100,\n",
    "    #'task_type': 'GPU',\n",
    "    'depth': 6,\n",
    "    #'bootstrap_type': 'Bayesian',\n",
    "    'rsm': 0.8,\n",
    "    #'colsample_bylevel': 0.7,\n",
    "}"
   ]
  },
  {
   "cell_type": "code",
   "execution_count": 22,
   "metadata": {
    "execution": {
     "iopub.execute_input": "2020-11-29T03:19:38.454834Z",
     "iopub.status.busy": "2020-11-29T03:19:38.453559Z",
     "iopub.status.idle": "2020-11-29T03:21:30.809067Z",
     "shell.execute_reply": "2020-11-29T03:21:30.808315Z"
    },
    "papermill": {
     "duration": 112.401228,
     "end_time": "2020-11-29T03:21:30.809198",
     "exception": false,
     "start_time": "2020-11-29T03:19:38.407970",
     "status": "completed"
    },
    "tags": []
   },
   "outputs": [
    {
     "name": "stdout",
     "output_type": "stream",
     "text": [
      "Fold: 1\n",
      "(20824, 37) (5206, 37)\n"
     ]
    },
    {
     "name": "stderr",
     "output_type": "stream",
     "text": [
      "Warning: Overfitting detector is active, thus evaluation metric is calculated on every iteration. 'metric_period' is ignored for evaluation metric.\n"
     ]
    },
    {
     "name": "stdout",
     "output_type": "stream",
     "text": [
      "0:\tlearn: 0.6258236\ttest: 0.6338999\tbest: 0.6338999 (0)\ttotal: 131ms\tremaining: 21m 47s\n",
      "100:\tlearn: 0.7140000\ttest: 0.7137150\tbest: 0.7146028 (92)\ttotal: 6.22s\tremaining: 10m 10s\n",
      "200:\tlearn: 0.7336541\ttest: 0.7238512\tbest: 0.7256792 (190)\ttotal: 12.9s\tremaining: 10m 28s\n",
      "300:\tlearn: 0.7476108\ttest: 0.7221980\tbest: 0.7259194 (237)\ttotal: 19s\tremaining: 10m 12s\n",
      "Stopped by overfitting detector  (100 iterations wait)\n",
      "\n",
      "bestTest = 0.7259194396\n",
      "bestIteration = 237\n",
      "\n",
      "Shrink model to first 238 iterations.\n",
      "Fold 1 | F1 Score: 0.8797541298501729\n",
      "Fold: 2\n",
      "(20824, 37) (5206, 37)\n"
     ]
    },
    {
     "name": "stderr",
     "output_type": "stream",
     "text": [
      "Warning: Overfitting detector is active, thus evaluation metric is calculated on every iteration. 'metric_period' is ignored for evaluation metric.\n"
     ]
    },
    {
     "name": "stdout",
     "output_type": "stream",
     "text": [
      "0:\tlearn: 0.6241860\ttest: 0.6138798\tbest: 0.6138798 (0)\ttotal: 64.4ms\tremaining: 10m 44s\n",
      "100:\tlearn: 0.7151260\ttest: 0.7059859\tbest: 0.7078553 (87)\ttotal: 6.36s\tremaining: 10m 23s\n",
      "200:\tlearn: 0.7335890\ttest: 0.7075306\tbest: 0.7120419 (154)\ttotal: 12.6s\tremaining: 10m 15s\n",
      "Stopped by overfitting detector  (100 iterations wait)\n",
      "\n",
      "bestTest = 0.7120418848\n",
      "bestIteration = 154\n",
      "\n",
      "Shrink model to first 155 iterations.\n",
      "Fold 2 | F1 Score: 0.8732232039953899\n",
      "Fold: 3\n",
      "(20824, 37) (5206, 37)\n"
     ]
    },
    {
     "name": "stderr",
     "output_type": "stream",
     "text": [
      "Warning: Overfitting detector is active, thus evaluation metric is calculated on every iteration. 'metric_period' is ignored for evaluation metric.\n"
     ]
    },
    {
     "name": "stdout",
     "output_type": "stream",
     "text": [
      "0:\tlearn: 0.6231109\ttest: 0.6231618\tbest: 0.6231618 (0)\ttotal: 61.7ms\tremaining: 10m 17s\n",
      "100:\tlearn: 0.7173239\ttest: 0.7112861\tbest: 0.7128452 (97)\ttotal: 6.38s\tremaining: 10m 24s\n",
      "200:\tlearn: 0.7402229\ttest: 0.7183038\tbest: 0.7186823 (182)\ttotal: 12.7s\tremaining: 10m 16s\n",
      "300:\tlearn: 0.7519861\ttest: 0.7208602\tbest: 0.7208602 (285)\ttotal: 19.2s\tremaining: 10m 17s\n",
      "Stopped by overfitting detector  (100 iterations wait)\n",
      "\n",
      "bestTest = 0.7208602151\n",
      "bestIteration = 285\n",
      "\n",
      "Shrink model to first 286 iterations.\n",
      "Fold 3 | F1 Score: 0.8753361505954668\n",
      "Fold: 4\n",
      "(20824, 37) (5206, 37)\n"
     ]
    },
    {
     "name": "stderr",
     "output_type": "stream",
     "text": [
      "Warning: Overfitting detector is active, thus evaluation metric is calculated on every iteration. 'metric_period' is ignored for evaluation metric.\n"
     ]
    },
    {
     "name": "stdout",
     "output_type": "stream",
     "text": [
      "0:\tlearn: 0.6285120\ttest: 0.6047170\tbest: 0.6047170 (0)\ttotal: 56.9ms\tremaining: 9m 29s\n",
      "100:\tlearn: 0.7181015\ttest: 0.7090272\tbest: 0.7090272 (100)\ttotal: 6.28s\tremaining: 10m 15s\n",
      "200:\tlearn: 0.7369794\ttest: 0.7195492\tbest: 0.7198612 (190)\ttotal: 12.2s\tremaining: 9m 55s\n",
      "300:\tlearn: 0.7493232\ttest: 0.7260982\tbest: 0.7283685 (290)\ttotal: 18.9s\tremaining: 10m 9s\n",
      "400:\tlearn: 0.7584640\ttest: 0.7263339\tbest: 0.7292294 (336)\ttotal: 25.7s\tremaining: 10m 14s\n",
      "Stopped by overfitting detector  (100 iterations wait)\n",
      "\n",
      "bestTest = 0.7292294447\n",
      "bestIteration = 336\n",
      "\n",
      "Shrink model to first 337 iterations.\n",
      "Fold 4 | F1 Score: 0.8791778716865155\n",
      "Fold: 5\n",
      "(20824, 37) (5206, 37)\n"
     ]
    },
    {
     "name": "stderr",
     "output_type": "stream",
     "text": [
      "Warning: Overfitting detector is active, thus evaluation metric is calculated on every iteration. 'metric_period' is ignored for evaluation metric.\n"
     ]
    },
    {
     "name": "stdout",
     "output_type": "stream",
     "text": [
      "0:\tlearn: 0.6213953\ttest: 0.6395187\tbest: 0.6395187 (0)\ttotal: 61.5ms\tremaining: 10m 15s\n",
      "100:\tlearn: 0.7158105\ttest: 0.7108326\tbest: 0.7108326 (100)\ttotal: 6.3s\tremaining: 10m 17s\n",
      "200:\tlearn: 0.7346626\ttest: 0.7212389\tbest: 0.7224436 (180)\ttotal: 12.4s\tremaining: 10m 2s\n",
      "300:\tlearn: 0.7520157\ttest: 0.7215134\tbest: 0.7238179 (204)\ttotal: 18.9s\tremaining: 10m 10s\n",
      "Stopped by overfitting detector  (100 iterations wait)\n",
      "\n",
      "bestTest = 0.7238179408\n",
      "bestIteration = 204\n",
      "\n",
      "Shrink model to first 205 iterations.\n",
      "Fold 5 | F1 Score: 0.8799462159047253\n",
      "\n",
      "Mean F1 score = 0.877487514406454\n",
      "OOF F1 score = 0.8774875144064541\n"
     ]
    }
   ],
   "source": [
    "y_oof_cat, y_preds_cat, fi_cat = make_cat_prediction(train_dedup, y_dedup, test, features, \\\n",
    "                                                     categorical_features=cate_cols, model_params=cat_params)"
   ]
  },
  {
   "cell_type": "code",
   "execution_count": 23,
   "metadata": {
    "execution": {
     "iopub.execute_input": "2020-11-29T03:21:30.923353Z",
     "iopub.status.busy": "2020-11-29T03:21:30.922258Z",
     "iopub.status.idle": "2020-11-29T03:21:30.925957Z",
     "shell.execute_reply": "2020-11-29T03:21:30.925236Z"
    },
    "papermill": {
     "duration": 0.063961,
     "end_time": "2020-11-29T03:21:30.926084",
     "exception": false,
     "start_time": "2020-11-29T03:21:30.862123",
     "status": "completed"
    },
    "tags": []
   },
   "outputs": [],
   "source": [
    "# lgb model params\n",
    "lgb_params = {\n",
    "    'objective': 'binary',\n",
    "    'boosting_type': 'gbdt',\n",
    "    'learning_rate': 0.05,\n",
    "    'num_leaves': 63,\n",
    "    'max_depth': -1,\n",
    "    'max_bin': 255,\n",
    "    'min_data_in_leaf': 40,\n",
    "    'feature_fraction': 0.8,\n",
    "    'bagging_fraction': 0.8,\n",
    "    'bagging_freq': 1,\n",
    "    'n_estimators': 10000,\n",
    "    'early_stopping_rounds': 100, \n",
    "    'seed': SEED,\n",
    "    'verbose': -1,\n",
    "    'n_jobs': -1,    \n",
    "} "
   ]
  },
  {
   "cell_type": "code",
   "execution_count": 24,
   "metadata": {
    "execution": {
     "iopub.execute_input": "2020-11-29T03:21:31.044714Z",
     "iopub.status.busy": "2020-11-29T03:21:31.043925Z",
     "iopub.status.idle": "2020-11-29T03:21:59.734420Z",
     "shell.execute_reply": "2020-11-29T03:21:59.735591Z"
    },
    "papermill": {
     "duration": 28.756413,
     "end_time": "2020-11-29T03:21:59.735831",
     "exception": false,
     "start_time": "2020-11-29T03:21:30.979418",
     "status": "completed"
    },
    "tags": []
   },
   "outputs": [
    {
     "name": "stdout",
     "output_type": "stream",
     "text": [
      "Fold: 1\n",
      "(20824, 37) (5206, 37)\n",
      "Training until validation scores don't improve for 100 rounds\n",
      "[200]\ttraining's binary_logloss: 0.191258\ttraining's f1: 0.824571\tvalid_1's binary_logloss: 0.278734\tvalid_1's f1: 0.722056\n",
      "Early stopping, best iteration is:\n",
      "[110]\ttraining's binary_logloss: 0.226197\ttraining's f1: 0.774698\tvalid_1's binary_logloss: 0.276755\tvalid_1's f1: 0.723974\n",
      "Fold 1 | F1 Score: 0.8772570111409912\n",
      "Fold: 2\n",
      "(20824, 37) (5206, 37)\n",
      "Training until validation scores don't improve for 100 rounds\n",
      "[200]\ttraining's binary_logloss: 0.189721\ttraining's f1: 0.824448\tvalid_1's binary_logloss: 0.283718\tvalid_1's f1: 0.706339\n",
      "Early stopping, best iteration is:\n",
      "[149]\ttraining's binary_logloss: 0.207675\ttraining's f1: 0.79851\tvalid_1's binary_logloss: 0.28091\tvalid_1's f1: 0.710594\n",
      "Fold 2 | F1 Score: 0.8709181713407607\n",
      "Fold: 3\n",
      "(20824, 37) (5206, 37)\n",
      "Training until validation scores don't improve for 100 rounds\n",
      "[200]\ttraining's binary_logloss: 0.189693\ttraining's f1: 0.823542\tvalid_1's binary_logloss: 0.283085\tvalid_1's f1: 0.717862\n",
      "Early stopping, best iteration is:\n",
      "[108]\ttraining's binary_logloss: 0.22564\ttraining's f1: 0.773666\tvalid_1's binary_logloss: 0.282098\tvalid_1's f1: 0.712387\n",
      "Fold 3 | F1 Score: 0.8711102573953131\n",
      "Fold: 4\n",
      "(20824, 37) (5206, 37)\n",
      "Training until validation scores don't improve for 100 rounds\n",
      "[200]\ttraining's binary_logloss: 0.190215\ttraining's f1: 0.826844\tvalid_1's binary_logloss: 0.281039\tvalid_1's f1: 0.718803\n",
      "Early stopping, best iteration is:\n",
      "[142]\ttraining's binary_logloss: 0.211205\ttraining's f1: 0.795918\tvalid_1's binary_logloss: 0.278442\tvalid_1's f1: 0.71891\n",
      "Fold 4 | F1 Score: 0.8732232039953899\n",
      "Fold: 5\n",
      "(20824, 37) (5206, 37)\n",
      "Training until validation scores don't improve for 100 rounds\n",
      "Early stopping, best iteration is:\n",
      "[94]\ttraining's binary_logloss: 0.234679\ttraining's f1: 0.766303\tvalid_1's binary_logloss: 0.27193\tvalid_1's f1: 0.716222\n",
      "Fold 5 | F1 Score: 0.8753361505954668\n",
      "\n",
      "Mean F1 score = 0.8735689588935844\n",
      "OOF F1 score = 0.8735689588935843\n"
     ]
    }
   ],
   "source": [
    "y_oof_lgb, y_preds_lgb, fi_lgb = make_lgb_prediction(train_dedup, y_dedup, test, features, \\\n",
    "                                                     model_params=lgb_params)"
   ]
  },
  {
   "cell_type": "code",
   "execution_count": 25,
   "metadata": {
    "execution": {
     "iopub.execute_input": "2020-11-29T03:21:59.902384Z",
     "iopub.status.busy": "2020-11-29T03:21:59.901397Z",
     "iopub.status.idle": "2020-11-29T03:21:59.904822Z",
     "shell.execute_reply": "2020-11-29T03:21:59.905546Z"
    },
    "papermill": {
     "duration": 0.075775,
     "end_time": "2020-11-29T03:21:59.905724",
     "exception": false,
     "start_time": "2020-11-29T03:21:59.829949",
     "status": "completed"
    },
    "tags": []
   },
   "outputs": [],
   "source": [
    "# xgb model params\n",
    "xgb_params = {\n",
    "    'objective': 'binary:logistic',\n",
    "    'learning_rate': 0.1,\n",
    "    'max_depth': 6,\n",
    "    #'colsample_bytree': 0.8,\n",
    "    'subsample': 0.8,\n",
    "    'disable_default_eval_metric': 1,\n",
    "    #'eval_metric': 'logloss',\n",
    "    'seed': SEED,\n",
    "} "
   ]
  },
  {
   "cell_type": "code",
   "execution_count": 26,
   "metadata": {
    "execution": {
     "iopub.execute_input": "2020-11-29T03:22:00.040800Z",
     "iopub.status.busy": "2020-11-29T03:22:00.039678Z",
     "iopub.status.idle": "2020-11-29T03:22:22.110105Z",
     "shell.execute_reply": "2020-11-29T03:22:22.111302Z"
    },
    "papermill": {
     "duration": 22.145747,
     "end_time": "2020-11-29T03:22:22.111499",
     "exception": false,
     "start_time": "2020-11-29T03:21:59.965752",
     "status": "completed"
    },
    "tags": []
   },
   "outputs": [
    {
     "name": "stdout",
     "output_type": "stream",
     "text": [
      "Fold: 1\n",
      "(20824, 37) (5206, 37)\n",
      "[0]\ttrain-f1:0.24212\tvalid-f1:0.24222\n",
      "Multiple eval metrics have been passed: 'valid-f1' will be used for early stopping.\n",
      "\n",
      "Will train until valid-f1 hasn't improved in 100 rounds.\n",
      "Stopping. Best iteration:\n",
      "[0]\ttrain-f1:0.24212\tvalid-f1:0.24222\n",
      "\n",
      "Fold 1 | F1 Score: 0.8784095274683058\n",
      "Fold: 2\n",
      "(20824, 37) (5206, 37)\n",
      "[0]\ttrain-f1:0.24212\tvalid-f1:0.24222\n",
      "Multiple eval metrics have been passed: 'valid-f1' will be used for early stopping.\n",
      "\n",
      "Will train until valid-f1 hasn't improved in 100 rounds.\n",
      "Stopping. Best iteration:\n",
      "[0]\ttrain-f1:0.24212\tvalid-f1:0.24222\n",
      "\n",
      "Fold 2 | F1 Score: 0.8693814829043411\n",
      "Fold: 3\n",
      "(20824, 37) (5206, 37)\n",
      "[0]\ttrain-f1:0.24212\tvalid-f1:0.24222\n",
      "Multiple eval metrics have been passed: 'valid-f1' will be used for early stopping.\n",
      "\n",
      "Will train until valid-f1 hasn't improved in 100 rounds.\n",
      "Stopping. Best iteration:\n",
      "[0]\ttrain-f1:0.24212\tvalid-f1:0.24222\n",
      "\n",
      "Fold 3 | F1 Score: 0.8728390318862851\n",
      "Fold: 4\n",
      "(20824, 37) (5206, 37)\n",
      "[0]\ttrain-f1:0.24217\tvalid-f1:0.24203\n",
      "Multiple eval metrics have been passed: 'valid-f1' will be used for early stopping.\n",
      "\n",
      "Will train until valid-f1 hasn't improved in 100 rounds.\n",
      "Stopping. Best iteration:\n",
      "[0]\ttrain-f1:0.24217\tvalid-f1:0.24203\n",
      "\n",
      "Fold 4 | F1 Score: 0.8741836342681522\n",
      "Fold: 5\n",
      "(20824, 37) (5206, 37)\n",
      "[0]\ttrain-f1:0.24217\tvalid-f1:0.24203\n",
      "Multiple eval metrics have been passed: 'valid-f1' will be used for early stopping.\n",
      "\n",
      "Will train until valid-f1 hasn't improved in 100 rounds.\n",
      "Stopping. Best iteration:\n",
      "[0]\ttrain-f1:0.24217\tvalid-f1:0.24203\n",
      "\n",
      "Fold 5 | F1 Score: 0.8749519784863619\n",
      "\n",
      "Mean F1 score = 0.8739531310026892\n",
      "OOF F1 score = 0.8739531310026892\n"
     ]
    }
   ],
   "source": [
    "y_oof_xgb, y_preds_xgb, fi_xgb = make_xgb_prediction(train_dedup, y_dedup, test, features, \\\n",
    "                                                     model_params=xgb_params)"
   ]
  },
  {
   "cell_type": "code",
   "execution_count": 27,
   "metadata": {
    "execution": {
     "iopub.execute_input": "2020-11-29T03:22:22.287984Z",
     "iopub.status.busy": "2020-11-29T03:22:22.286827Z",
     "iopub.status.idle": "2020-11-29T03:22:22.291240Z",
     "shell.execute_reply": "2020-11-29T03:22:22.290456Z"
    },
    "papermill": {
     "duration": 0.096539,
     "end_time": "2020-11-29T03:22:22.291415",
     "exception": false,
     "start_time": "2020-11-29T03:22:22.194876",
     "status": "completed"
    },
    "tags": []
   },
   "outputs": [],
   "source": [
    "cat_weight = 0.4\n",
    "lgb_weight = 0.4\n",
    "xgb_weight = 0.2\n",
    "\n",
    "y_oof = cat_weight*y_oof_cat + lgb_weight*y_oof_lgb + xgb_weight*y_oof_xgb\n",
    "y_preds = cat_weight*y_preds_cat + lgb_weight*y_preds_lgb + xgb_weight*y_preds_xgb"
   ]
  },
  {
   "cell_type": "code",
   "execution_count": 28,
   "metadata": {
    "execution": {
     "iopub.execute_input": "2020-11-29T03:22:22.454456Z",
     "iopub.status.busy": "2020-11-29T03:22:22.453697Z",
     "iopub.status.idle": "2020-11-29T03:22:22.468788Z",
     "shell.execute_reply": "2020-11-29T03:22:22.469610Z"
    },
    "papermill": {
     "duration": 0.091873,
     "end_time": "2020-11-29T03:22:22.469868",
     "exception": false,
     "start_time": "2020-11-29T03:22:22.377995",
     "status": "completed"
    },
    "tags": []
   },
   "outputs": [
    {
     "name": "stdout",
     "output_type": "stream",
     "text": [
      "val_score: 0.8765655013446023\n"
     ]
    }
   ],
   "source": [
    "val_thres = 0.5\n",
    "val_score = f1_score(y_dedup, np.where(y_oof>val_thres, 1, 0), average='micro')\n",
    "\n",
    "print('val_score:', val_score)"
   ]
  },
  {
   "cell_type": "code",
   "execution_count": 29,
   "metadata": {
    "execution": {
     "iopub.execute_input": "2020-11-29T03:22:22.623164Z",
     "iopub.status.busy": "2020-11-29T03:22:22.622084Z",
     "iopub.status.idle": "2020-11-29T03:22:22.634961Z",
     "shell.execute_reply": "2020-11-29T03:22:22.634325Z"
    },
    "papermill": {
     "duration": 0.092823,
     "end_time": "2020-11-29T03:22:22.635081",
     "exception": false,
     "start_time": "2020-11-29T03:22:22.542258",
     "status": "completed"
    },
    "tags": []
   },
   "outputs": [
    {
     "data": {
      "text/html": [
       "<div>\n",
       "<style scoped>\n",
       "    .dataframe tbody tr th:only-of-type {\n",
       "        vertical-align: middle;\n",
       "    }\n",
       "\n",
       "    .dataframe tbody tr th {\n",
       "        vertical-align: top;\n",
       "    }\n",
       "\n",
       "    .dataframe thead th {\n",
       "        text-align: right;\n",
       "    }\n",
       "</style>\n",
       "<table border=\"1\" class=\"dataframe\">\n",
       "  <thead>\n",
       "    <tr style=\"text-align: right;\">\n",
       "      <th></th>\n",
       "      <th>id</th>\n",
       "      <th>prediction</th>\n",
       "    </tr>\n",
       "  </thead>\n",
       "  <tbody>\n",
       "    <tr>\n",
       "      <th>0</th>\n",
       "      <td>0</td>\n",
       "      <td>0</td>\n",
       "    </tr>\n",
       "    <tr>\n",
       "      <th>1</th>\n",
       "      <td>1</td>\n",
       "      <td>1</td>\n",
       "    </tr>\n",
       "    <tr>\n",
       "      <th>2</th>\n",
       "      <td>2</td>\n",
       "      <td>0</td>\n",
       "    </tr>\n",
       "    <tr>\n",
       "      <th>3</th>\n",
       "      <td>3</td>\n",
       "      <td>1</td>\n",
       "    </tr>\n",
       "    <tr>\n",
       "      <th>4</th>\n",
       "      <td>4</td>\n",
       "      <td>1</td>\n",
       "    </tr>\n",
       "  </tbody>\n",
       "</table>\n",
       "</div>"
      ],
      "text/plain": [
       "   id  prediction\n",
       "0   0           0\n",
       "1   1           1\n",
       "2   2           0\n",
       "3   3           1\n",
       "4   4           1"
      ]
     },
     "execution_count": 29,
     "metadata": {},
     "output_type": "execute_result"
    }
   ],
   "source": [
    "submission = pd.read_csv('/kaggle/input/kakr-4th-competition/sample_submission.csv')\n",
    "submission.prediction = np.where(y_preds > val_thres, 1, 0)\n",
    "submission.head()"
   ]
  },
  {
   "cell_type": "code",
   "execution_count": 30,
   "metadata": {
    "execution": {
     "iopub.execute_input": "2020-11-29T03:22:22.787006Z",
     "iopub.status.busy": "2020-11-29T03:22:22.786082Z",
     "iopub.status.idle": "2020-11-29T03:22:22.790758Z",
     "shell.execute_reply": "2020-11-29T03:22:22.790102Z"
    },
    "papermill": {
     "duration": 0.084341,
     "end_time": "2020-11-29T03:22:22.790887",
     "exception": false,
     "start_time": "2020-11-29T03:22:22.706546",
     "status": "completed"
    },
    "tags": []
   },
   "outputs": [
    {
     "data": {
      "text/plain": [
       "0    5238\n",
       "1    1274\n",
       "Name: prediction, dtype: int64"
      ]
     },
     "execution_count": 30,
     "metadata": {},
     "output_type": "execute_result"
    }
   ],
   "source": [
    "submission.prediction.value_counts()"
   ]
  },
  {
   "cell_type": "code",
   "execution_count": 31,
   "metadata": {
    "execution": {
     "iopub.execute_input": "2020-11-29T03:22:22.943098Z",
     "iopub.status.busy": "2020-11-29T03:22:22.942052Z",
     "iopub.status.idle": "2020-11-29T03:22:23.215604Z",
     "shell.execute_reply": "2020-11-29T03:22:23.214864Z"
    },
    "papermill": {
     "duration": 0.351634,
     "end_time": "2020-11-29T03:22:23.215775",
     "exception": false,
     "start_time": "2020-11-29T03:22:22.864141",
     "status": "completed"
    },
    "tags": []
   },
   "outputs": [],
   "source": [
    "submission.to_csv('submission.csv', index=False)"
   ]
  },
  {
   "cell_type": "code",
   "execution_count": null,
   "metadata": {
    "papermill": {
     "duration": 0.071802,
     "end_time": "2020-11-29T03:22:23.359575",
     "exception": false,
     "start_time": "2020-11-29T03:22:23.287773",
     "status": "completed"
    },
    "tags": []
   },
   "outputs": [],
   "source": []
  }
 ],
 "metadata": {
  "kernelspec": {
   "display_name": "Python 3 (ipykernel)",
   "language": "python",
   "name": "python3"
  },
  "language_info": {
   "codemirror_mode": {
    "name": "ipython",
    "version": 3
   },
   "file_extension": ".py",
   "mimetype": "text/x-python",
   "name": "python",
   "nbconvert_exporter": "python",
   "pygments_lexer": "ipython3",
   "version": "3.9.13"
  },
  "papermill": {
   "duration": 175.814615,
   "end_time": "2020-11-29T03:22:23.539778",
   "environment_variables": {},
   "exception": null,
   "input_path": "__notebook__.ipynb",
   "output_path": "__notebook__.ipynb",
   "parameters": {},
   "start_time": "2020-11-29T03:19:27.725163",
   "version": "2.1.0"
  },
  "toc": {
   "base_numbering": 1,
   "nav_menu": {},
   "number_sections": true,
   "sideBar": true,
   "skip_h1_title": false,
   "title_cell": "Table of Contents",
   "title_sidebar": "Contents",
   "toc_cell": false,
   "toc_position": {},
   "toc_section_display": true,
   "toc_window_display": false
  },
  "varInspector": {
   "cols": {
    "lenName": 16,
    "lenType": 16,
    "lenVar": 40
   },
   "kernels_config": {
    "python": {
     "delete_cmd_postfix": "",
     "delete_cmd_prefix": "del ",
     "library": "var_list.py",
     "varRefreshCmd": "print(var_dic_list())"
    },
    "r": {
     "delete_cmd_postfix": ") ",
     "delete_cmd_prefix": "rm(",
     "library": "var_list.r",
     "varRefreshCmd": "cat(var_dic_list()) "
    }
   },
   "types_to_exclude": [
    "module",
    "function",
    "builtin_function_or_method",
    "instance",
    "_Feature"
   ],
   "window_display": false
  }
 },
 "nbformat": 4,
 "nbformat_minor": 4
}
